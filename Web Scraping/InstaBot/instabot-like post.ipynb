{
 "cells": [
  {
   "cell_type": "code",
   "execution_count": 48,
   "metadata": {},
   "outputs": [],
   "source": [
    "# Login to instagram\n",
    "def loginToInsta(userName,password):\n",
    "    try:\n",
    "        driver.get('https://www.instagram.com/accounts/login/')\n",
    "        uname=wait.until(EC.presence_of_element_located((By.NAME,'username'))).send_keys(userName)\n",
    "        pwdBtn=wait.until(EC.presence_of_element_located((By.NAME,'password'))).send_keys(password)\n",
    "        sbBtn=wait.until(EC.presence_of_element_located((By.CSS_SELECTOR,'button[type=\"submit\"]'))).submit()\n",
    "    except TimeoutException:\n",
    "        print(\"Something went wrong\")\n",
    "\n",
    "\n",
    "def notification():\n",
    "    try:\n",
    "        notNowBtn=wait.until(EC.presence_of_element_located((By.CSS_SELECTOR,'._a9--._a9_1'))).click()\n",
    "    except:\n",
    "        print('No Alert now')\n",
    "        \n",
    "        \n",
    "def enter_in_searchbox(string):\n",
    "    searchBtn=wait.until(EC.presence_of_all_elements_located((By.CSS_SELECTOR,'._ab8w._ab94._ab99._ab9f._ab9m._ab9p._abcj._abcm')))\n",
    "    searchBtn[1].click()\n",
    "    search_box=wait.until(EC.presence_of_element_located((By.CSS_SELECTOR,'input[placeholder]')))\n",
    "    search_box.send_keys(string)\n",
    "    \n",
    "def select_searchbox_text():\n",
    "    search_box=wait.until(EC.presence_of_element_located((By.CSS_SELECTOR,'input[placeholder]')))\n",
    "    search_box.send_keys(Keys.RETURN);\n",
    "    search_box.send_keys(Keys.RETURN);\n",
    "def like_post(post):\n",
    "    post.click()\n",
    "    time.sleep(5)\n",
    "    try:\n",
    "        like_btn=wait.until(EC.presence_of_all_elements_located((By.CSS_SELECTOR,'svg[aria-label=\"Like\"]')))[1].click()\n",
    "    except:\n",
    "        print('Like Btn does not exists')\n",
    "    #     svg[aria-label='Close']\n",
    "    time.sleep(5)\n",
    "    try:\n",
    "        cross_btn=wait.until(EC.presence_of_element_located((By.CSS_SELECTOR,'svg[aria-label=\"Close\"]'))).click()\n",
    "    except:\n",
    "        print('Cross btn does not exists')\n",
    "\n",
    "def dislike_post(post):\n",
    "    post.click()\n",
    "    time.sleep(5)\n",
    "    try:\n",
    "        unlike_btn=wait.until(EC.presence_of_all_elements_located((By.CSS_SELECTOR,'svg[aria-label=\"Unlike\"]')))[0].click()\n",
    "    except:\n",
    "        print('unlike Btn does not exists')\n",
    "    #     svg[aria-label='Close']\n",
    "    time.sleep(5)\n",
    "    try:\n",
    "        cross_btn=wait.until(EC.presence_of_element_located((By.CSS_SELECTOR,'svg[aria-label=\"Close\"]'))).click()\n",
    "    except:\n",
    "        print('Cross btn does not exists')\n",
    "        \n",
    "def get_all_posts():\n",
    "    all_posts=wait.until(EC.presence_of_all_elements_located((By.CSS_SELECTOR,'._aabd._aa8k._aanf')))\n",
    "    return all_posts\n",
    "\n",
    "def like_posts():\n",
    "    all_posts=get_all_posts()\n",
    "    for i in all_posts:\n",
    "#         print(i)\n",
    "        time.sleep(5)\n",
    "        like_post(i)\n",
    "    \n",
    "def dislike_posts():\n",
    "    all_posts=get_all_posts()\n",
    "    for i in all_posts:\n",
    "#         print(i)\n",
    "        time.sleep(5)\n",
    "        dislike_post(i)"
   ]
  },
  {
   "cell_type": "code",
   "execution_count": 49,
   "metadata": {},
   "outputs": [
    {
     "name": "stderr",
     "output_type": "stream",
     "text": [
      "/home/ankit/anaconda3/lib/python3.7/site-packages/ipykernel_launcher.py:12: DeprecationWarning: executable_path has been deprecated, please pass in a Service object\n",
      "  if sys.path[0] == '':\n"
     ]
    },
    {
     "name": "stdout",
     "output_type": "stream",
     "text": [
      "No Alert now\n"
     ]
    }
   ],
   "source": [
    "# Start will be from here\n",
    "\n",
    "from selenium import webdriver\n",
    "from selenium.webdriver.common.by import By\n",
    "from selenium.webdriver.support.ui import WebDriverWait\n",
    "from selenium.webdriver.support import expected_conditions as EC\n",
    "from selenium.webdriver.support.select import Select\n",
    "import time\n",
    "from selenium.webdriver.common.keys import Keys\n",
    "from selenium.common.exceptions import TimeoutException\n",
    "\n",
    "driver=webdriver.Chrome(executable_path='/usr/bin/chromedriver')\n",
    "wait=WebDriverWait(driver,10)\n",
    "driver.maximize_window()\n",
    "\n",
    "loginToInsta('_testcode_','ankit919811411920')\n",
    "time.sleep(20)\n",
    "notification()\n",
    "enter_in_searchbox('_testcode1_')\n",
    "time.sleep(5)\n",
    "select_searchbox_text()\n",
    "time.sleep(20)\n",
    "dislike_posts()"
   ]
  }
 ],
 "metadata": {
  "kernelspec": {
   "display_name": "Python 3",
   "language": "python",
   "name": "python3"
  },
  "language_info": {
   "codemirror_mode": {
    "name": "ipython",
    "version": 3
   },
   "file_extension": ".py",
   "mimetype": "text/x-python",
   "name": "python",
   "nbconvert_exporter": "python",
   "pygments_lexer": "ipython3",
   "version": "3.7.6"
  }
 },
 "nbformat": 4,
 "nbformat_minor": 4
}
