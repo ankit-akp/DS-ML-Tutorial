{
 "cells": [
  {
   "cell_type": "markdown",
   "metadata": {},
   "source": [
    "# Login to Instagram"
   ]
  },
  {
   "cell_type": "code",
   "execution_count": 11,
   "metadata": {},
   "outputs": [],
   "source": [
    "# Login to instagram\n",
    "def loginToInsta(userName,password):\n",
    "    try:\n",
    "        driver.get('https://www.instagram.com/accounts/login/')\n",
    "        uname=wait.until(EC.presence_of_element_located((By.NAME,'username'))).send_keys(userName)\n",
    "        pwdBtn=wait.until(EC.presence_of_element_located((By.NAME,'password'))).send_keys(password)\n",
    "        sbBtn=wait.until(EC.presence_of_element_located((By.CSS_SELECTOR,'button[type=\"submit\"]'))).submit()\n",
    "    except TimeoutException:\n",
    "        print(\"Something went wrong\")\n",
    "        return\n",
    "        \n",
    "# Close notification alert if comes \n",
    "def notification():\n",
    "    try:\n",
    "        notNowBtn=wait.until(EC.presence_of_element_located((By.CSS_SELECTOR,'._a9--._a9_1'))).click()\n",
    "    except:\n",
    "        print('No Alert now')\n",
    "        \n",
    "def sendMessageTo(uname,msg,cnt=1):\n",
    "    enter_in_searchbox(uname)\n",
    "    time.sleep(5)\n",
    "    select_searchbox_text()\n",
    "    time.sleep(15)\n",
    "#     ._acan._acap._acat\n",
    "#     friends=wait.until(EC.presence_of_all_elements_located((By.XPATH,'//div[@class=\"_abm4\"]/a/div/div[2]/div[1]/div/div/div/div')))\n",
    "# print(friends)\n",
    "#     for i in friends:\n",
    "#         print(i.text)\n",
    "#         if i.text==uname:\n",
    "#             driver.execute_script('arguments[0].click()',i)\n",
    "#             break\n",
    "    try:\n",
    "        go_to_msg_btn=wait.until(EC.presence_of_all_elements_located((By.CSS_SELECTOR,'._acan._acap._acat')))[1].click()\n",
    "        time.sleep(15)\n",
    "        notification()\n",
    "    except:\n",
    "        print(\"Not a Friend\")\n",
    "        return\n",
    "    \n",
    "    msgBtn=wait.until(EC.presence_of_element_located((By.CSS_SELECTOR,'._ab8w._ab94._ab99._ab9f._ab9m._ab9o._abbh._abcm textarea')))\n",
    "    \n",
    "    for i in range(cnt):\n",
    "        msgBtn.send_keys(msg)\n",
    "        msgBtn.send_keys(Keys.RETURN);\n",
    "        time.sleep(5)\n",
    "        \n",
    "        \n",
    "def enter_in_searchbox(string):\n",
    "    searchBtn=wait.until(EC.presence_of_all_elements_located((By.CSS_SELECTOR,'._ab8w._ab94._ab99._ab9f._ab9m._ab9p._abcj._abcm')))\n",
    "    searchBtn[1].click()\n",
    "    search_box=wait.until(EC.presence_of_element_located((By.CSS_SELECTOR,'input[placeholder]')))\n",
    "    search_box.send_keys(string)\n",
    "    \n",
    "def select_searchbox_text():\n",
    "    search_box=wait.until(EC.presence_of_element_located((By.CSS_SELECTOR,'input[placeholder]')))\n",
    "    search_box.send_keys(Keys.RETURN);\n",
    "    search_box.send_keys(Keys.RETURN);"
   ]
  },
  {
   "cell_type": "code",
   "execution_count": 13,
   "metadata": {},
   "outputs": [
    {
     "name": "stderr",
     "output_type": "stream",
     "text": [
      "/home/ankit/anaconda3/lib/python3.7/site-packages/ipykernel_launcher.py:10: DeprecationWarning: executable_path has been deprecated, please pass in a Service object\n",
      "  # Remove the CWD from sys.path while we load stuff.\n"
     ]
    },
    {
     "name": "stdout",
     "output_type": "stream",
     "text": [
      "No Alert now\n"
     ]
    }
   ],
   "source": [
    "from selenium import webdriver\n",
    "from selenium.webdriver.common.by import By\n",
    "from selenium.webdriver.support.ui import WebDriverWait\n",
    "from selenium.webdriver.support import expected_conditions as EC\n",
    "from selenium.webdriver.support.select import Select\n",
    "import time\n",
    "from selenium.webdriver.common.keys import Keys\n",
    "from selenium.common.exceptions import TimeoutException\n",
    "\n",
    "driver=webdriver.Chrome(executable_path='/usr/bin/chromedriver')\n",
    "wait=WebDriverWait(driver,20)\n",
    "driver.maximize_window()\n",
    "\n",
    "loginToInsta('send_insta_handle','password')\n",
    "time.sleep(20)\n",
    "notification()\n",
    "sendMessageTo('receiver_insta_handle','Message')\n",
    "\n",
    "# Login with your username and password\n",
    "# In sendMessageTo(receiverName,message,count[optional])"
   ]
  },
  {
   "cell_type": "code",
   "execution_count": 59,
   "metadata": {},
   "outputs": [],
   "source": []
  },
  {
   "cell_type": "code",
   "execution_count": 60,
   "metadata": {},
   "outputs": [],
   "source": []
  }
 ],
 "metadata": {
  "kernelspec": {
   "display_name": "Python 3",
   "language": "python",
   "name": "python3"
  },
  "language_info": {
   "codemirror_mode": {
    "name": "ipython",
    "version": 3
   },
   "file_extension": ".py",
   "mimetype": "text/x-python",
   "name": "python",
   "nbconvert_exporter": "python",
   "pygments_lexer": "ipython3",
   "version": "3.7.6"
  }
 },
 "nbformat": 4,
 "nbformat_minor": 4
}
