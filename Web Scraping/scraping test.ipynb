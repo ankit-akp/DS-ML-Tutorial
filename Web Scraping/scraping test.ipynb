{
 "cells": [
  {
   "cell_type": "code",
   "execution_count": 7,
   "metadata": {},
   "outputs": [
    {
     "name": "stderr",
     "output_type": "stream",
     "text": [
      "/home/ankit/anaconda3/lib/python3.7/site-packages/ipykernel_launcher.py:3: DeprecationWarning: executable_path has been deprecated, please pass in a Service object\n",
      "  This is separate from the ipykernel package so we can avoid doing imports until\n"
     ]
    },
    {
     "name": "stdout",
     "output_type": "stream",
     "text": [
      "<selenium.webdriver.chrome.webdriver.WebDriver (session=\"256dc79ee9a0233cfc2f3b26f187bdb3\")>\n"
     ]
    }
   ],
   "source": [
    "from selenium import webdriver\n",
    "from selenium.webdriver.common.by import By\n",
    "driver=webdriver.Chrome(executable_path='/usr/bin/chromedriver')\n",
    "print(driver)"
   ]
  },
  {
   "cell_type": "code",
   "execution_count": 8,
   "metadata": {},
   "outputs": [],
   "source": [
    "driver.get('https://www.google.com/search?q=food')"
   ]
  },
  {
   "cell_type": "code",
   "execution_count": 21,
   "metadata": {},
   "outputs": [
    {
     "name": "stdout",
     "output_type": "stream",
     "text": [
      "Food - Wikipedia\n",
      "https://en.wikipedia.org/wiki/Food\n",
      "---------------------------------\n",
      "food | Definition & Nutrition - Britannica\n",
      "https://www.britannica.com/topic/food\n",
      "---------------------------------\n",
      "Food and Agriculture Organization of the United Nations\n",
      "https://www.fao.org/home/en\n",
      "---------------------------------\n",
      "#food hashtag on Instagram • Photos and Videos\n",
      "https://www.instagram.com/explore/tags/food/?hl=en\n",
      "---------------------------------\n",
      "FOOD | English meaning - Cambridge Dictionary\n",
      "https://dictionary.cambridge.org/dictionary/english/food\n",
      "---------------------------------\n",
      "Food | FDA\n",
      "https://www.fda.gov/food\n",
      "---------------------------------\n",
      "Food Definition & Meaning | Dictionary.com\n",
      "https://www.dictionary.com/browse/food\n",
      "---------------------------------\n",
      "Food Definition & Meaning - Merriam-Webster\n",
      "https://www.merriam-webster.com/dictionary/food\n",
      "---------------------------------\n",
      "UN World Food Programme (WFP)\n",
      "https://www.wfp.org/\n",
      "---------------------------------\n"
     ]
    }
   ],
   "source": [
    "driver.find_element(By.ID,'search')\n",
    "# print(driver)\n",
    "elms=driver.find_elements(By.CSS_SELECTOR,'.UK95Uc .yuRUbf a')\n",
    "# elma=driver.find_elements(By.CSS_SELECTOR,'.UK95Uc .yuRUbf')\n",
    "# # print(elms)\n",
    "# for i in elms:\n",
    "#     print(i.text)\n",
    "\n",
    "for i in elms:\n",
    "    text=i.find_element(By.TAG_NAME,'h3').text\n",
    "    url=i.get_attribute('href')\n",
    "    print(text)\n",
    "    print(url)\n",
    "    print('---------------------------------')\n",
    "# print(elms.find_element(By.TAG_NAME,'h3').text)\n",
    "# print(elms.get_attribute('href'))"
   ]
  },
  {
   "cell_type": "code",
   "execution_count": 2,
   "metadata": {},
   "outputs": [],
   "source": [
    "from selenium import webdriver\n",
    "from selenium.webdriver.common.by import By\n",
    "from selenium.webdriver.support.ui import WebDriverWait\n",
    "from selenium.webdriver.support import expected_conditions as EC\n",
    "from selenium.webdriver.support.select import Select\n",
    "import time\n",
    "from selenium.webdriver.common.keys import Keys\n",
    "import selenium.common.exceptions\n"
   ]
  },
  {
   "cell_type": "code",
   "execution_count": 25,
   "metadata": {},
   "outputs": [
    {
     "name": "stdout",
     "output_type": "stream",
     "text": [
      "https://en.wikipedia.org/wiki/Food\n",
      "<span class=\"dyjrff qzEoUe\" role=\"text\"> › wiki › Food</span>\n",
      "None\n",
      "https://www.fao.org/home/en\n",
      "<span class=\"dyjrff qzEoUe\" role=\"text\"> › home</span>\n",
      "None\n",
      "https://www.britannica.com/topic/food\n",
      "<span class=\"dyjrff qzEoUe\" role=\"text\"> › ... › Food</span>\n",
      "None\n",
      "https://www.instagram.com/explore/tags/food/?hl=en\n",
      "<span class=\"dyjrff qzEoUe\" role=\"text\"> › explore › tags › food</span>\n",
      "None\n",
      "https://www.fda.gov/food\n",
      "<span class=\"dyjrff qzEoUe\" role=\"text\"> › food</span>\n",
      "None\n",
      "https://dictionary.cambridge.org/dictionary/english/food\n",
      "<span class=\"dyjrff qzEoUe\" role=\"text\"> › dictionary › food</span>\n",
      "None\n",
      "https://www.nationalgeographic.org/article/food/\n",
      "<span class=\"dyjrff qzEoUe\" role=\"text\"> › article › food</span>\n",
      "None\n",
      "https://www.dictionary.com/browse/food\n",
      "<span class=\"dyjrff qzEoUe\" role=\"text\"> › browse › food</span>\n",
      "None\n"
     ]
    }
   ],
   "source": [
    "driver = webdriver.Chrome()\n",
    "driver.minimize_window()\n",
    "\n",
    "# def googleSearc(query):\n",
    "    \n",
    "    \n",
    "#     data = []\n",
    "\n",
    "#     css_identifier_result = \".tF2Cxc\"\n",
    "#     css_identifier_title = \"h3\"\n",
    "#     css_identifier_link = \".yuRUbf a\"\n",
    "#     css_identifier_text = \".VwiC3b\"\n",
    "#     div1=driver.find_elements(By.XPATH,'//div[@jscontroller=\"SC7lYd\"]/div/div[1]')\n",
    "#     div2ndLast=driver.find_elements(By.XPATH,'//div[@jscontroller=\"SC7lYd\"]/div/div[last()-1]')\n",
    "\n",
    "#     print(len(div1))\n",
    "#     print(len(div2ndLast))\n",
    "#     results = driver.find_elements(By.CSS_SELECTOR, css_identifier_result)\n",
    "#     for result in results:\n",
    "#         title = result.find_element(By.CSS_SELECTOR, css_identifier_title)\n",
    "#         url = result.find_element(By.CSS_SELECTOR, css_identifier_link)\n",
    "#         try:\n",
    "#             text = result.find_element(By.CSS_SELECTOR, css_identifier_text)\n",
    "#         except: \n",
    "#             text = None\n",
    "#         data.append({\n",
    "#             'title': title.text, \n",
    "#             'url': url.get_attribute('href'), \n",
    "#             'text': '' if text is None else text.text\n",
    "#         })\n",
    "\n",
    "#     return jsonify({\"results\":data})\n",
    "#     # return query\n",
    "driver.get(f'https://www.google.com/search?q=food')\n",
    "div=driver.find_elements(By.XPATH,'//div[@jscontroller=\"SC7lYd\"]/div')\n",
    "# print(div)\n",
    "# Z26q7c UK95Uc VGXe8\n",
    "for elm in div:\n",
    "    print(elm.find_element(By.XPATH,'div[1]/div/a').get_attribute('href'))\n",
    "    print(print(elm.find_element(By.CSS_SELECTOR,'div span').get_attribute('outerHTML')))\n",
    "# print(div[0].find_element(By.XPATH,'div[1]/div/a').get_attribute('outerHTML'))"
   ]
  }
 ],
 "metadata": {
  "kernelspec": {
   "display_name": "Python 3",
   "language": "python",
   "name": "python3"
  },
  "language_info": {
   "codemirror_mode": {
    "name": "ipython",
    "version": 3
   },
   "file_extension": ".py",
   "mimetype": "text/x-python",
   "name": "python",
   "nbconvert_exporter": "python",
   "pygments_lexer": "ipython3",
   "version": "3.7.6"
  }
 },
 "nbformat": 4,
 "nbformat_minor": 4
}
