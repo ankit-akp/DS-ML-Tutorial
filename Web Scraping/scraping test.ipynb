{
 "cells": [
  {
   "cell_type": "code",
   "execution_count": 7,
   "metadata": {},
   "outputs": [
    {
     "name": "stderr",
     "output_type": "stream",
     "text": [
      "/home/ankit/anaconda3/lib/python3.7/site-packages/ipykernel_launcher.py:3: DeprecationWarning: executable_path has been deprecated, please pass in a Service object\n",
      "  This is separate from the ipykernel package so we can avoid doing imports until\n"
     ]
    },
    {
     "name": "stdout",
     "output_type": "stream",
     "text": [
      "<selenium.webdriver.chrome.webdriver.WebDriver (session=\"256dc79ee9a0233cfc2f3b26f187bdb3\")>\n"
     ]
    }
   ],
   "source": [
    "from selenium import webdriver\n",
    "from selenium.webdriver.common.by import By\n",
    "driver=webdriver.Chrome(executable_path='/usr/bin/chromedriver')\n",
    "print(driver)"
   ]
  },
  {
   "cell_type": "code",
   "execution_count": 8,
   "metadata": {},
   "outputs": [],
   "source": [
    "driver.get('https://www.google.com/search?q=food')"
   ]
  },
  {
   "cell_type": "code",
   "execution_count": 21,
   "metadata": {},
   "outputs": [
    {
     "name": "stdout",
     "output_type": "stream",
     "text": [
      "Food - Wikipedia\n",
      "https://en.wikipedia.org/wiki/Food\n",
      "---------------------------------\n",
      "food | Definition & Nutrition - Britannica\n",
      "https://www.britannica.com/topic/food\n",
      "---------------------------------\n",
      "Food and Agriculture Organization of the United Nations\n",
      "https://www.fao.org/home/en\n",
      "---------------------------------\n",
      "#food hashtag on Instagram • Photos and Videos\n",
      "https://www.instagram.com/explore/tags/food/?hl=en\n",
      "---------------------------------\n",
      "FOOD | English meaning - Cambridge Dictionary\n",
      "https://dictionary.cambridge.org/dictionary/english/food\n",
      "---------------------------------\n",
      "Food | FDA\n",
      "https://www.fda.gov/food\n",
      "---------------------------------\n",
      "Food Definition & Meaning | Dictionary.com\n",
      "https://www.dictionary.com/browse/food\n",
      "---------------------------------\n",
      "Food Definition & Meaning - Merriam-Webster\n",
      "https://www.merriam-webster.com/dictionary/food\n",
      "---------------------------------\n",
      "UN World Food Programme (WFP)\n",
      "https://www.wfp.org/\n",
      "---------------------------------\n"
     ]
    }
   ],
   "source": [
    "driver.find_element(By.ID,'search')\n",
    "# print(driver)\n",
    "elms=driver.find_elements(By.CSS_SELECTOR,'.UK95Uc .yuRUbf a')\n",
    "# elma=driver.find_elements(By.CSS_SELECTOR,'.UK95Uc .yuRUbf')\n",
    "# # print(elms)\n",
    "# for i in elms:\n",
    "#     print(i.text)\n",
    "\n",
    "for i in elms:\n",
    "    text=i.find_element(By.TAG_NAME,'h3').text\n",
    "    url=i.get_attribute('href')\n",
    "    print(text)\n",
    "    print(url)\n",
    "    print('---------------------------------')\n",
    "# print(elms.find_element(By.TAG_NAME,'h3').text)\n",
    "# print(elms.get_attribute('href'))"
   ]
  }
 ],
 "metadata": {
  "kernelspec": {
   "display_name": "Python 3",
   "language": "python",
   "name": "python3"
  },
  "language_info": {
   "codemirror_mode": {
    "name": "ipython",
    "version": 3
   },
   "file_extension": ".py",
   "mimetype": "text/x-python",
   "name": "python",
   "nbconvert_exporter": "python",
   "pygments_lexer": "ipython3",
   "version": "3.7.6"
  }
 },
 "nbformat": 4,
 "nbformat_minor": 4
}
