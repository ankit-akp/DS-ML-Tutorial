{
 "cells": [
  {
   "cell_type": "code",
   "execution_count": 23,
   "metadata": {},
   "outputs": [],
   "source": [
    "html = '<!DOCTYPE html>\\\n",
    "<html>\\\n",
    "<head>\\\n",
    "<title>Testing Web Page</title>\\\n",
    "</head>\\\n",
    "<body>\\\n",
    "<h1> Web Scraping </h1>\\\n",
    "<p id=\"first_para\">\\\n",
    "Let\\'s start learning\\\n",
    "<b>\\\n",
    "Web Scraping\\\n",
    "</b>\\\n",
    "</p>\\\n",
    "<p class=\"abc\" id=\"second_para\">\\\n",
    "You have to read more about beautifulsoup <a href=\"https://www.crummy.com/software/BeautifulSoup/bs4/doc/\">here</a>\\\n",
    "</p>\\\n",
    "<p class=\"abc\">\\\n",
    "<a href=\"https://www.codingninjas.com/\">Coding Ninjas</a>\\\n",
    "</p>\\\n",
    "</body>\\\n",
    "</html>'\n"
   ]
  },
  {
   "cell_type": "code",
   "execution_count": 5,
   "metadata": {},
   "outputs": [],
   "source": [
    "from bs4 import BeautifulSoup\n"
   ]
  },
  {
   "cell_type": "code",
   "execution_count": 24,
   "metadata": {},
   "outputs": [
    {
     "name": "stdout",
     "output_type": "stream",
     "text": [
      "<class 'bs4.BeautifulSoup'>\n",
      "<!DOCTYPE html>\n",
      "<html><head><title>Testing Web Page</title></head><body><h1> Web Scraping </h1><p id=\"first_para\">Let's start learning<b>Web Scraping</b></p><p class=\"abc\" id=\"second_para\">You have to read more about beautifulsoup <a href=\"https://www.crummy.com/software/BeautifulSoup/bs4/doc/\">here</a></p><p class=\"abc\"><a href=\"https://www.codingninjas.com/\">Coding Ninjas</a></p></body></html>\n"
     ]
    }
   ],
   "source": [
    "# how to parse content\n",
    "\n",
    "# data=data=BeautifulSoup(content,parser)\n",
    "# content is of type string and parser is the name of parser\n",
    "\n",
    "data=BeautifulSoup(html,'html.parser')\n",
    "print(type(data))\n",
    "print(data)"
   ]
  },
  {
   "cell_type": "code",
   "execution_count": 26,
   "metadata": {},
   "outputs": [
    {
     "name": "stdout",
     "output_type": "stream",
     "text": [
      "<!DOCTYPE html>\n",
      "<html>\n",
      " <head>\n",
      "  <title>\n",
      "   Testing Web Page\n",
      "  </title>\n",
      " </head>\n",
      " <body>\n",
      "  <h1>\n",
      "   Web Scraping\n",
      "  </h1>\n",
      "  <p id=\"first_para\">\n",
      "   Let's start learning\n",
      "   <b>\n",
      "    Web Scraping\n",
      "   </b>\n",
      "  </p>\n",
      "  <p class=\"abc\" id=\"second_para\">\n",
      "   You have to read more about beautifulsoup\n",
      "   <a href=\"https://www.crummy.com/software/BeautifulSoup/bs4/doc/\">\n",
      "    here\n",
      "   </a>\n",
      "  </p>\n",
      "  <p class=\"abc\">\n",
      "   <a href=\"https://www.codingninjas.com/\">\n",
      "    Coding Ninjas\n",
      "   </a>\n",
      "  </p>\n",
      " </body>\n",
      "</html>\n"
     ]
    }
   ],
   "source": [
    "# Show data in formatted way\n",
    "print(data.prettify())"
   ]
  },
  {
   "cell_type": "code",
   "execution_count": 30,
   "metadata": {},
   "outputs": [
    {
     "name": "stdout",
     "output_type": "stream",
     "text": [
      "<head><title>Testing Web Page</title></head>\n",
      "<title>Testing Web Page</title>\n",
      "<p id=\"first_para\">Let's start learning<b>Web Scraping</b></p>\n",
      "None\n"
     ]
    }
   ],
   "source": [
    "# Get any element's first occurrence\n",
    "# data.elementName\n",
    "\n",
    "print(data.head)\n",
    "print(data.title)\n",
    "print(data.p)\n",
    "\n",
    "# If element is not present then it will not return anything\n",
    "# and there will be no error\n",
    "\n",
    "print(data.h2)"
   ]
  },
  {
   "cell_type": "code",
   "execution_count": 36,
   "metadata": {},
   "outputs": [
    {
     "name": "stdout",
     "output_type": "stream",
     "text": [
      "title\n",
      "Testing Web Page\n",
      "Testing Web Page\n",
      "{'id': 'first_para'}\n"
     ]
    }
   ],
   "source": [
    "# Some more attributes\n",
    "print(data.title.name) # Name of element\n",
    "print(data.title.string) # content of element\n",
    "print(data.head.string) # How?\n",
    "print(data.p.attrs) # To get attributes of element"
   ]
  },
  {
   "cell_type": "code",
   "execution_count": 37,
   "metadata": {},
   "outputs": [
    {
     "name": "stdout",
     "output_type": "stream",
     "text": [
      "{'id': 'first_para'}\n",
      "first_para\n",
      "first_para\n"
     ]
    }
   ],
   "source": [
    "# how to get value of attribute\n",
    "print(data.p.attrs)\n",
    "\n",
    "print(data.p.get('id'))\n",
    "print(data.p['id'])"
   ]
  },
  {
   "cell_type": "code",
   "execution_count": 38,
   "metadata": {},
   "outputs": [
    {
     "ename": "KeyError",
     "evalue": "'class'",
     "output_type": "error",
     "traceback": [
      "\u001b[0;31m---------------------------------------------------------------------------\u001b[0m",
      "\u001b[0;31mKeyError\u001b[0m                                  Traceback (most recent call last)",
      "\u001b[0;32m<ipython-input-38-8855f14dc1de>\u001b[0m in \u001b[0;36m<module>\u001b[0;34m\u001b[0m\n\u001b[0;32m----> 1\u001b[0;31m \u001b[0mprint\u001b[0m\u001b[0;34m(\u001b[0m\u001b[0mdata\u001b[0m\u001b[0;34m.\u001b[0m\u001b[0mp\u001b[0m\u001b[0;34m[\u001b[0m\u001b[0;34m'class'\u001b[0m\u001b[0;34m]\u001b[0m\u001b[0;34m)\u001b[0m\u001b[0;34m\u001b[0m\u001b[0;34m\u001b[0m\u001b[0m\n\u001b[0m",
      "\u001b[0;32m~/anaconda3/lib/python3.7/site-packages/bs4/element.py\u001b[0m in \u001b[0;36m__getitem__\u001b[0;34m(self, key)\u001b[0m\n\u001b[1;32m   1319\u001b[0m         \"\"\"tag[key] returns the value of the 'key' attribute for the Tag,\n\u001b[1;32m   1320\u001b[0m         and throws an exception if it's not there.\"\"\"\n\u001b[0;32m-> 1321\u001b[0;31m         \u001b[0;32mreturn\u001b[0m \u001b[0mself\u001b[0m\u001b[0;34m.\u001b[0m\u001b[0mattrs\u001b[0m\u001b[0;34m[\u001b[0m\u001b[0mkey\u001b[0m\u001b[0;34m]\u001b[0m\u001b[0;34m\u001b[0m\u001b[0;34m\u001b[0m\u001b[0m\n\u001b[0m\u001b[1;32m   1322\u001b[0m \u001b[0;34m\u001b[0m\u001b[0m\n\u001b[1;32m   1323\u001b[0m     \u001b[0;32mdef\u001b[0m \u001b[0m__iter__\u001b[0m\u001b[0;34m(\u001b[0m\u001b[0mself\u001b[0m\u001b[0;34m)\u001b[0m\u001b[0;34m:\u001b[0m\u001b[0;34m\u001b[0m\u001b[0;34m\u001b[0m\u001b[0m\n",
      "\u001b[0;31mKeyError\u001b[0m: 'class'"
     ]
    }
   ],
   "source": [
    "print(data.p['class'])"
   ]
  },
  {
   "cell_type": "code",
   "execution_count": 39,
   "metadata": {},
   "outputs": [
    {
     "name": "stdout",
     "output_type": "stream",
     "text": [
      "None\n"
     ]
    }
   ],
   "source": [
    "print(data.p.get('class'))"
   ]
  },
  {
   "cell_type": "code",
   "execution_count": 40,
   "metadata": {},
   "outputs": [
    {
     "name": "stdout",
     "output_type": "stream",
     "text": [
      "Testing Web Page Web Scraping Let's start learningWeb ScrapingYou have to read more about beautifulsoup hereCoding Ninjas\n"
     ]
    }
   ],
   "source": [
    "# how to get all text\n",
    "\n",
    "print(data.get_text())"
   ]
  },
  {
   "cell_type": "code",
   "execution_count": 44,
   "metadata": {},
   "outputs": [
    {
     "name": "stdout",
     "output_type": "stream",
     "text": [
      "Testing Web Page\n",
      "Testing Web Page\n"
     ]
    }
   ],
   "source": [
    "print(data.title.get_text())\n",
    "print(data.head.get_text())"
   ]
  },
  {
   "cell_type": "code",
   "execution_count": 46,
   "metadata": {},
   "outputs": [
    {
     "name": "stdout",
     "output_type": "stream",
     "text": [
      "<p id=\"first_para\">Let's start learning<b>Web Scraping</b></p>\n",
      "<class 'bs4.element.Tag'>\n",
      "None\n"
     ]
    }
   ],
   "source": [
    "# data.find() returns first occurence of element\n",
    "print(data.find('p'))\n",
    "print(type(data.find('p')))\n",
    "\n",
    "# If element is not present then it returns nothing\n",
    "print(data.find('h2'))"
   ]
  },
  {
   "cell_type": "code",
   "execution_count": 48,
   "metadata": {},
   "outputs": [
    {
     "name": "stdout",
     "output_type": "stream",
     "text": [
      "<p id=\"first_para\">Let's start learning<b>Web Scraping</b></p>\n",
      "<p class=\"abc\" id=\"second_para\">You have to read more about beautifulsoup <a href=\"https://www.crummy.com/software/BeautifulSoup/bs4/doc/\">here</a></p>\n",
      "<p class=\"abc\"><a href=\"https://www.codingninjas.com/\">Coding Ninjas</a></p>\n"
     ]
    }
   ],
   "source": [
    "# data.find_all() finds all occurence of specific tag\n",
    "# we can pass string, list, True, Using id, Using class, Using CSS selector\n",
    "# in find_all() and find()\n",
    "\n",
    "# In find() we get only first occurence\n",
    "# In find_all() we get all occurences\n",
    "li=data.find_all('p')\n",
    "\n",
    "for i in li:\n",
    "    print(i)"
   ]
  },
  {
   "cell_type": "code",
   "execution_count": 50,
   "metadata": {},
   "outputs": [
    {
     "name": "stdout",
     "output_type": "stream",
     "text": [
      "[<p id=\"first_para\">Let's start learning<b>Web Scraping</b></p>, <p class=\"abc\" id=\"second_para\">You have to read more about beautifulsoup <a href=\"https://www.crummy.com/software/BeautifulSoup/bs4/doc/\">here</a></p>, <a href=\"https://www.crummy.com/software/BeautifulSoup/bs4/doc/\">here</a>, <p class=\"abc\"><a href=\"https://www.codingninjas.com/\">Coding Ninjas</a></p>, <a href=\"https://www.codingninjas.com/\">Coding Ninjas</a>]\n"
     ]
    }
   ],
   "source": [
    "print(data.find_all(['p','a']))"
   ]
  },
  {
   "cell_type": "code",
   "execution_count": 51,
   "metadata": {},
   "outputs": [
    {
     "name": "stdout",
     "output_type": "stream",
     "text": [
      "<p id=\"first_para\">Let's start learning<b>Web Scraping</b></p>\n"
     ]
    }
   ],
   "source": [
    "print(data.find(['p','a']))"
   ]
  },
  {
   "cell_type": "code",
   "execution_count": 52,
   "metadata": {},
   "outputs": [
    {
     "name": "stdout",
     "output_type": "stream",
     "text": [
      "[<html><head><title>Testing Web Page</title></head><body><h1> Web Scraping </h1><p id=\"first_para\">Let's start learning<b>Web Scraping</b></p><p class=\"abc\" id=\"second_para\">You have to read more about beautifulsoup <a href=\"https://www.crummy.com/software/BeautifulSoup/bs4/doc/\">here</a></p><p class=\"abc\"><a href=\"https://www.codingninjas.com/\">Coding Ninjas</a></p></body></html>, <head><title>Testing Web Page</title></head>, <title>Testing Web Page</title>, <body><h1> Web Scraping </h1><p id=\"first_para\">Let's start learning<b>Web Scraping</b></p><p class=\"abc\" id=\"second_para\">You have to read more about beautifulsoup <a href=\"https://www.crummy.com/software/BeautifulSoup/bs4/doc/\">here</a></p><p class=\"abc\"><a href=\"https://www.codingninjas.com/\">Coding Ninjas</a></p></body>, <h1> Web Scraping </h1>, <p id=\"first_para\">Let's start learning<b>Web Scraping</b></p>, <b>Web Scraping</b>, <p class=\"abc\" id=\"second_para\">You have to read more about beautifulsoup <a href=\"https://www.crummy.com/software/BeautifulSoup/bs4/doc/\">here</a></p>, <a href=\"https://www.crummy.com/software/BeautifulSoup/bs4/doc/\">here</a>, <p class=\"abc\"><a href=\"https://www.codingninjas.com/\">Coding Ninjas</a></p>, <a href=\"https://www.codingninjas.com/\">Coding Ninjas</a>]\n"
     ]
    }
   ],
   "source": [
    "# print all tags\n",
    "print(data.find_all(True))"
   ]
  },
  {
   "cell_type": "code",
   "execution_count": 54,
   "metadata": {},
   "outputs": [
    {
     "name": "stdout",
     "output_type": "stream",
     "text": [
      "<p id=\"first_para\">Let's start learning<b>Web Scraping</b></p>\n",
      "[<p id=\"first_para\">Let's start learning<b>Web Scraping</b></p>]\n"
     ]
    }
   ],
   "source": [
    "# find tag by id\n",
    "print(data.find(id='first_para'))\n",
    "\n",
    "print(data.find_all(id='first_para'))"
   ]
  },
  {
   "cell_type": "code",
   "execution_count": 56,
   "metadata": {},
   "outputs": [
    {
     "name": "stdout",
     "output_type": "stream",
     "text": [
      "<p class=\"abc\" id=\"second_para\">You have to read more about beautifulsoup <a href=\"https://www.crummy.com/software/BeautifulSoup/bs4/doc/\">here</a></p>\n",
      "[<p class=\"abc\" id=\"second_para\">You have to read more about beautifulsoup <a href=\"https://www.crummy.com/software/BeautifulSoup/bs4/doc/\">here</a></p>, <p class=\"abc\"><a href=\"https://www.codingninjas.com/\">Coding Ninjas</a></p>]\n"
     ]
    }
   ],
   "source": [
    "# Find tags by className\n",
    "print(data.find(class_='abc'))\n",
    "print(data.find_all(class_='abc'))"
   ]
  },
  {
   "cell_type": "code",
   "execution_count": 60,
   "metadata": {},
   "outputs": [
    {
     "name": "stdout",
     "output_type": "stream",
     "text": [
      "[<p class=\"abc\" id=\"second_para\">You have to read more about beautifulsoup <a href=\"https://www.crummy.com/software/BeautifulSoup/bs4/doc/\">here</a></p>, <p class=\"abc\"><a href=\"https://www.codingninjas.com/\">Coding Ninjas</a></p>]\n",
      "[<p class=\"abc\" id=\"second_para\">You have to read more about beautifulsoup <a href=\"https://www.crummy.com/software/BeautifulSoup/bs4/doc/\">here</a></p>]\n",
      "[<a href=\"https://www.crummy.com/software/BeautifulSoup/bs4/doc/\">here</a>, <a href=\"https://www.codingninjas.com/\">Coding Ninjas</a>]\n"
     ]
    }
   ],
   "source": [
    "# Find elements by CSS Selector\n",
    "\n",
    "# Beautiful Soup provides the .select() method which is \n",
    "# used to run a CSS selector against a parsed document \n",
    "# and return all the matching elements. \n",
    "\n",
    "print(data.select('p.abc'))\n",
    "print(data.select('p.abc#second_para'))\n",
    "print(data.select('p a'))"
   ]
  },
  {
   "cell_type": "code",
   "execution_count": 62,
   "metadata": {},
   "outputs": [
    {
     "name": "stdout",
     "output_type": "stream",
     "text": [
      "<!DOCTYPE html>\n",
      "<html>\n",
      " <head>\n",
      "  <title>\n",
      "   Testing Web Page\n",
      "  </title>\n",
      " </head>\n",
      " <body>\n",
      "  <h1>\n",
      "   Web Scraping\n",
      "  </h1>\n",
      "  <p id=\"first_para\">\n",
      "   Let's start learning\n",
      "   <b>\n",
      "    Web Scraping\n",
      "   </b>\n",
      "  </p>\n",
      "  <p class=\"abc\" id=\"second_para\">\n",
      "   You have to read more about beautifulsoup\n",
      "   <a href=\"https://www.crummy.com/software/BeautifulSoup/bs4/doc/\">\n",
      "    here\n",
      "   </a>\n",
      "  </p>\n",
      "  <p class=\"abc\">\n",
      "   <a href=\"https://www.codingninjas.com/\">\n",
      "    Coding Ninjas\n",
      "   </a>\n",
      "  </p>\n",
      " </body>\n",
      "</html>\n"
     ]
    }
   ],
   "source": [
    "# Traversing parse tree\n",
    "\n",
    "print(data.prettify())"
   ]
  },
  {
   "cell_type": "code",
   "execution_count": 63,
   "metadata": {},
   "outputs": [
    {
     "name": "stdout",
     "output_type": "stream",
     "text": [
      "<title>Testing Web Page</title>\n"
     ]
    }
   ],
   "source": [
    "# data.element1.element2.....\n",
    "print(data.head.title)"
   ]
  },
  {
   "cell_type": "code",
   "execution_count": 66,
   "metadata": {},
   "outputs": [
    {
     "name": "stdout",
     "output_type": "stream",
     "text": [
      "None\n",
      "None\n",
      "Coding Ninjas\n",
      "[<p id=\"first_para\">Let's start learning<b>Web Scraping</b></p>, <p class=\"abc\" id=\"second_para\">You have to read more about beautifulsoup <a href=\"https://www.crummy.com/software/BeautifulSoup/bs4/doc/\">here</a></p>, <p class=\"abc\"><a href=\"https://www.codingninjas.com/\">Coding Ninjas</a></p>]\n"
     ]
    }
   ],
   "source": [
    "# data.element.string -> This is used when element has only one child\n",
    "# for multiple children it returns none\n",
    "li=data.select('p')\n",
    "for i in li:\n",
    "    print(i.string)\n",
    "print(li)"
   ]
  },
  {
   "cell_type": "code",
   "execution_count": 68,
   "metadata": {},
   "outputs": [
    {
     "name": "stdout",
     "output_type": "stream",
     "text": [
      "[\"Let's start learning\", 'Web Scraping']\n",
      "['You have to read more about beautifulsoup ', 'here']\n",
      "['Coding Ninjas']\n"
     ]
    }
   ],
   "source": [
    "# data.elemet.strings -> This works fine with multiple strings\n",
    "# To show result we need to wrap output of data.element.strings\n",
    "# into list()\n",
    "li=data.select('p')\n",
    "for i in li:\n",
    "    print(list(i.strings))"
   ]
  },
  {
   "cell_type": "code",
   "execution_count": 70,
   "metadata": {},
   "outputs": [
    {
     "name": "stdout",
     "output_type": "stream",
     "text": [
      "[\"Let's start learning\", 'Web Scraping']\n",
      "['You have to read more about beautifulsoup', 'here']\n",
      "['Coding Ninjas']\n"
     ]
    }
   ],
   "source": [
    "# print strings with removed whitespaces\n",
    "# Removes extra space from start and end\n",
    "li=data.select('p')\n",
    "for i in li:\n",
    "    print(list(i.stripped_strings))"
   ]
  },
  {
   "cell_type": "code",
   "execution_count": 72,
   "metadata": {},
   "outputs": [
    {
     "name": "stdout",
     "output_type": "stream",
     "text": [
      "2\n",
      "[<head><title>Testing Web Page</title></head>, <body><h1> Web Scraping </h1><p id=\"first_para\">Let's start learning<b>Web Scraping</b></p><p class=\"abc\" id=\"second_para\">You have to read more about beautifulsoup <a href=\"https://www.crummy.com/software/BeautifulSoup/bs4/doc/\">here</a></p><p class=\"abc\"><a href=\"https://www.codingninjas.com/\">Coding Ninjas</a></p></body>]\n"
     ]
    }
   ],
   "source": [
    "# List of childrens\n",
    "li=data.html.contents\n",
    "print(len(li))\n",
    "print(li)"
   ]
  },
  {
   "cell_type": "code",
   "execution_count": 73,
   "metadata": {},
   "outputs": [
    {
     "name": "stdout",
     "output_type": "stream",
     "text": [
      "<list_iterator object at 0x7f19aa5e6f90>\n",
      "<head><title>Testing Web Page</title></head>\n",
      "<body><h1> Web Scraping </h1><p id=\"first_para\">Let's start learning<b>Web Scraping</b></p><p class=\"abc\" id=\"second_para\">You have to read more about beautifulsoup <a href=\"https://www.crummy.com/software/BeautifulSoup/bs4/doc/\">here</a></p><p class=\"abc\"><a href=\"https://www.codingninjas.com/\">Coding Ninjas</a></p></body>\n"
     ]
    }
   ],
   "source": [
    "# data.element.children gives the iterator of children\n",
    "\n",
    "l=data.html.children\n",
    "print(l)\n",
    "\n",
    "for i in l:\n",
    "    print(i)"
   ]
  },
  {
   "cell_type": "code",
   "execution_count": 74,
   "metadata": {},
   "outputs": [
    {
     "name": "stdout",
     "output_type": "stream",
     "text": [
      "<head><title>Testing Web Page</title></head>\n",
      "<title>Testing Web Page</title>\n",
      "Testing Web Page\n",
      "<body><h1> Web Scraping </h1><p id=\"first_para\">Let's start learning<b>Web Scraping</b></p><p class=\"abc\" id=\"second_para\">You have to read more about beautifulsoup <a href=\"https://www.crummy.com/software/BeautifulSoup/bs4/doc/\">here</a></p><p class=\"abc\"><a href=\"https://www.codingninjas.com/\">Coding Ninjas</a></p></body>\n",
      "<h1> Web Scraping </h1>\n",
      " Web Scraping \n",
      "<p id=\"first_para\">Let's start learning<b>Web Scraping</b></p>\n",
      "Let's start learning\n",
      "<b>Web Scraping</b>\n",
      "Web Scraping\n",
      "<p class=\"abc\" id=\"second_para\">You have to read more about beautifulsoup <a href=\"https://www.crummy.com/software/BeautifulSoup/bs4/doc/\">here</a></p>\n",
      "You have to read more about beautifulsoup \n",
      "<a href=\"https://www.crummy.com/software/BeautifulSoup/bs4/doc/\">here</a>\n",
      "here\n",
      "<p class=\"abc\"><a href=\"https://www.codingninjas.com/\">Coding Ninjas</a></p>\n",
      "<a href=\"https://www.codingninjas.com/\">Coding Ninjas</a>\n",
      "Coding Ninjas\n"
     ]
    }
   ],
   "source": [
    "# data.element.descendants returns everything below me\n",
    "\n",
    "l=data.html.descendants\n",
    "for i in l:\n",
    "    print(i)"
   ]
  },
  {
   "cell_type": "code",
   "execution_count": 75,
   "metadata": {},
   "outputs": [
    {
     "name": "stdout",
     "output_type": "stream",
     "text": [
      "<!DOCTYPE html>\n",
      "<html>\n",
      " <head>\n",
      "  <title>\n",
      "   Testing Web Page\n",
      "  </title>\n",
      " </head>\n",
      " <body>\n",
      "  <h1>\n",
      "   Web Scraping\n",
      "  </h1>\n",
      "  <p id=\"first_para\">\n",
      "   Let's start learning\n",
      "   <b>\n",
      "    Web Scraping\n",
      "   </b>\n",
      "  </p>\n",
      "  <p class=\"abc\" id=\"second_para\">\n",
      "   You have to read more about beautifulsoup\n",
      "   <a href=\"https://www.crummy.com/software/BeautifulSoup/bs4/doc/\">\n",
      "    here\n",
      "   </a>\n",
      "  </p>\n",
      "  <p class=\"abc\">\n",
      "   <a href=\"https://www.codingninjas.com/\">\n",
      "    Coding Ninjas\n",
      "   </a>\n",
      "  </p>\n",
      " </body>\n",
      "</html>\n"
     ]
    }
   ],
   "source": [
    "print(data.prettify())"
   ]
  },
  {
   "cell_type": "code",
   "execution_count": null,
   "metadata": {},
   "outputs": [],
   "source": []
  },
  {
   "cell_type": "code",
   "execution_count": 84,
   "metadata": {},
   "outputs": [
    {
     "name": "stdout",
     "output_type": "stream",
     "text": [
      "[<p id=\"first_para\">Let's start learning<b>Web Scraping</b></p>]\n",
      "---------------\n",
      "<body><h1> Web Scraping </h1><p id=\"first_para\">Let's start learning<b>Web Scraping</b></p><p class=\"abc\" id=\"second_para\">You have to read more about beautifulsoup <a href=\"https://www.crummy.com/software/BeautifulSoup/bs4/doc/\">here</a></p><p class=\"abc\"><a href=\"https://www.codingninjas.com/\">Coding Ninjas</a></p></body>\n",
      "---------------\n",
      "<body><h1> Web Scraping </h1><p id=\"first_para\">Let's start learning<b>Web Scraping</b></p><p class=\"abc\" id=\"second_para\">You have to read more about beautifulsoup <a href=\"https://www.crummy.com/software/BeautifulSoup/bs4/doc/\">here</a></p><p class=\"abc\"><a href=\"https://www.codingninjas.com/\">Coding Ninjas</a></p></body>\n",
      "<html><head><title>Testing Web Page</title></head><body><h1> Web Scraping </h1><p id=\"first_para\">Let's start learning<b>Web Scraping</b></p><p class=\"abc\" id=\"second_para\">You have to read more about beautifulsoup <a href=\"https://www.crummy.com/software/BeautifulSoup/bs4/doc/\">here</a></p><p class=\"abc\"><a href=\"https://www.codingninjas.com/\">Coding Ninjas</a></p></body></html>\n",
      "<!DOCTYPE html>\n",
      "<html><head><title>Testing Web Page</title></head><body><h1> Web Scraping </h1><p id=\"first_para\">Let's start learning<b>Web Scraping</b></p><p class=\"abc\" id=\"second_para\">You have to read more about beautifulsoup <a href=\"https://www.crummy.com/software/BeautifulSoup/bs4/doc/\">here</a></p><p class=\"abc\"><a href=\"https://www.codingninjas.com/\">Coding Ninjas</a></p></body></html>\n"
     ]
    }
   ],
   "source": [
    "# .parent , .parents\n",
    "elm=data.select('p#first_para')\n",
    "print(elm)\n",
    "print('---------------')\n",
    "print(elm[0].parent)\n",
    "print('---------------')\n",
    "for i in elm[0].parents:\n",
    "    print(i)"
   ]
  },
  {
   "cell_type": "code",
   "execution_count": null,
   "metadata": {},
   "outputs": [],
   "source": [
    "# .next_sibling and .previous_sibling"
   ]
  },
  {
   "cell_type": "code",
   "execution_count": 85,
   "metadata": {},
   "outputs": [],
   "source": [
    "# .next_siblings and .previous_siblings"
   ]
  },
  {
   "cell_type": "code",
   "execution_count": 86,
   "metadata": {},
   "outputs": [],
   "source": [
    "# next_element and .previous_element"
   ]
  },
  {
   "cell_type": "code",
   "execution_count": 87,
   "metadata": {},
   "outputs": [],
   "source": [
    "# .next_elements and .previous_elements"
   ]
  },
  {
   "cell_type": "code",
   "execution_count": null,
   "metadata": {},
   "outputs": [],
   "source": []
  }
 ],
 "metadata": {
  "kernelspec": {
   "display_name": "Python 3",
   "language": "python",
   "name": "python3"
  },
  "language_info": {
   "codemirror_mode": {
    "name": "ipython",
    "version": 3
   },
   "file_extension": ".py",
   "mimetype": "text/x-python",
   "name": "python",
   "nbconvert_exporter": "python",
   "pygments_lexer": "ipython3",
   "version": "3.7.6"
  }
 },
 "nbformat": 4,
 "nbformat_minor": 4
}
