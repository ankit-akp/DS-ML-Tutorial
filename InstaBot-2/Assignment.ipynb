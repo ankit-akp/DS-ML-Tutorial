{
 "cells": [
  {
   "cell_type": "code",
   "execution_count": 100,
   "metadata": {},
   "outputs": [],
   "source": [
    "user='Username'\n",
    "pwd = 'Password'"
   ]
  },
  {
   "cell_type": "code",
   "execution_count": 76,
   "metadata": {},
   "outputs": [
    {
     "name": "stderr",
     "output_type": "stream",
     "text": [
      "/home/ankit/anaconda3/lib/python3.7/site-packages/ipykernel_launcher.py:15: DeprecationWarning: executable_path has been deprecated, please pass in a Service object\n",
      "  from ipykernel import kernelapp as app\n"
     ]
    }
   ],
   "source": [
    "from selenium import webdriver\n",
    "from selenium.webdriver.common.by import By\n",
    "from selenium.webdriver.support.ui import WebDriverWait\n",
    "from selenium.webdriver.support import expected_conditions as EC\n",
    "from selenium.webdriver.support.select import Select\n",
    "import time\n",
    "from selenium.webdriver.common.keys import Keys\n",
    "from selenium.common.exceptions import TimeoutException\n",
    "import matplotlib.pyplot as plt\n",
    "import pandas as pd\n",
    "import numpy as np\n",
    "from bs4 import BeautifulSoup\n",
    "import requests as req\n",
    "\n",
    "driver=webdriver.Chrome(executable_path='/usr/bin/chromedriver')\n",
    "wait=WebDriverWait(driver,20)\n",
    "driver.maximize_window()"
   ]
  },
  {
   "cell_type": "code",
   "execution_count": 10,
   "metadata": {},
   "outputs": [],
   "source": [
    "# Functions\n",
    "def loginToInsta(userName,password):\n",
    "    try:\n",
    "        driver.get('https://www.instagram.com/accounts/login/')\n",
    "        uname=wait.until(EC.presence_of_element_located((By.NAME,'username'))).send_keys(userName)\n",
    "        pwdBtn=wait.until(EC.presence_of_element_located((By.NAME,'password'))).send_keys(password)\n",
    "        sbBtn=wait.until(EC.presence_of_element_located((By.CSS_SELECTOR,'button[type=\"submit\"]'))).submit()\n",
    "    except TimeoutException:\n",
    "        print(\"Something went wrong\")\n",
    "        return\n",
    "    \n",
    "def enter_in_searchbox(string):\n",
    "    searchBtn=wait.until(EC.presence_of_all_elements_located((By.CSS_SELECTOR,'._ab8w._ab94._ab99._ab9f._ab9m._ab9p._abcj._abcm')))\n",
    "    searchBtn[1].click()\n",
    "    search_box=wait.until(EC.presence_of_element_located((By.CSS_SELECTOR,'input[placeholder]')))\n",
    "    search_box.send_keys(string)\n",
    "\n",
    "def go_to_end_of_results():\n",
    "    currentHeight=driver.execute_script('return document.getElementsByClassName(\"xocp1fn\")[0].scrollHeight;')\n",
    "    while True:\n",
    "        driver.execute_script('document.getElementsByClassName(\"xocp1fn\")[0].scrollTo(0,arguments[0])',currentHeight)\n",
    "        time.sleep(3)\n",
    "        newHeight=driver.execute_script('return document.getElementsByClassName(\"xocp1fn\")[0].scrollHeight;')\n",
    "\n",
    "        if newHeight==currentHeight:\n",
    "            break\n",
    "        currentHeight=newHeight\n",
    "\n",
    "def getHandlesForQuery(query):\n",
    "    enter_in_searchbox(query)\n",
    "    time.sleep(2)\n",
    "    handles=[]\n",
    "    go_to_end_of_results()\n",
    "    \n",
    "    data=wait.until(EC.presence_of_all_elements_located((By.CSS_SELECTOR,'._aacl._aaco._aacw._aacx._aad6')))\n",
    "    for i in data:\n",
    "        if i.text=='' or i.text[0]=='#':\n",
    "            continue       \n",
    "        handles.append(i.text)\n",
    "    return handles"
   ]
  },
  {
   "cell_type": "code",
   "execution_count": 77,
   "metadata": {},
   "outputs": [],
   "source": [
    "loginToInsta(user,pwd)"
   ]
  },
  {
   "cell_type": "markdown",
   "metadata": {},
   "source": [
    "# Problem 1\n",
    "\n",
    "## your friend has followed a lot of different food bloggers, he needs to analyse the habits of these bloggers.\n",
    "\n",
    "### 1. From the list of instagram handles you obtained when you searched ‘food’ in previous project. Open the first 10 handles and find the top 5 which have the highest number of followers"
   ]
  },
  {
   "cell_type": "code",
   "execution_count": 11,
   "metadata": {},
   "outputs": [],
   "source": [
    "handles=getHandlesForQuery('food')"
   ]
  },
  {
   "cell_type": "code",
   "execution_count": 12,
   "metadata": {},
   "outputs": [
    {
     "name": "stdout",
     "output_type": "stream",
     "text": [
      "51\n"
     ]
    }
   ],
   "source": [
    "print(len(handles))"
   ]
  },
  {
   "cell_type": "code",
   "execution_count": 13,
   "metadata": {},
   "outputs": [],
   "source": [
    "base='https://www.instagram.com/'"
   ]
  },
  {
   "cell_type": "code",
   "execution_count": 37,
   "metadata": {},
   "outputs": [
    {
     "name": "stdout",
     "output_type": "stream",
     "text": [
      "https://www.instagram.com/foodtalkindia\n",
      "https://www.instagram.com/dilsefoodie\n",
      "https://www.instagram.com/delhi_streets_food\n",
      "https://www.instagram.com/tasty.foodrecipes\n",
      "https://www.instagram.com/foodiee_says\n",
      "https://www.instagram.com/foodish_fun\n",
      "https://www.instagram.com/food\n",
      "https://www.instagram.com/fun2ooshfood\n",
      "https://www.instagram.com/dharti.ka.bhoj\n",
      "https://www.instagram.com/delhigastronauts\n",
      "https://www.instagram.com/thelosthungrykid\n",
      "https://www.instagram.com/delhifoodgrammer\n",
      "https://www.instagram.com/food.insania\n",
      "https://www.instagram.com/food_architect_\n",
      "https://www.instagram.com/food_mad101\n",
      "https://www.instagram.com/sugarcoatedsins_\n",
      "https://www.instagram.com/delhi_food_shaukeen\n",
      "https://www.instagram.com/food_introdictionary\n",
      "https://www.instagram.com/chamber_of_food\n",
      "https://www.instagram.com/food_mood_photography\n",
      "https://www.instagram.com/dillifoodexpress\n",
      "https://www.instagram.com/food.bhakts\n",
      "https://www.instagram.com/food_gambler\n",
      "https://www.instagram.com/food_flooooodddd\n",
      "https://www.instagram.com/swaadtales\n",
      "https://www.instagram.com/thatfoodstory\n",
      "https://www.instagram.com/foodgotwings\n",
      "https://www.instagram.com/Food\n",
      "https://www.instagram.com/foodclaww\n",
      "https://www.instagram.com/thefood_orgasm\n",
      "https://www.instagram.com/foodfactory_27\n",
      "https://www.instagram.com/foodthatmeltshearts\n",
      "https://www.instagram.com/food._.cravingss\n",
      "https://www.instagram.com/foodculture.inn\n",
      "https://www.instagram.com/imtoocheesyforyou\n",
      "https://www.instagram.com/food_is_lobe\n",
      "https://www.instagram.com/food.ieboss\n",
      "https://www.instagram.com/myyyfoodiekismat\n",
      "https://www.instagram.com/foodieexplore\n",
      "https://www.instagram.com/silly_food_tales\n",
      "https://www.instagram.com/foodie_himanshi\n",
      "https://www.instagram.com/big.time.food\n",
      "https://www.instagram.com/nibbanadelhi\n",
      "https://www.instagram.com/food_o_holiccc\n",
      "https://www.instagram.com/foodiesafarii\n",
      "https://www.instagram.com/food__junction\n",
      "https://www.instagram.com/foodie.karan\n",
      "https://www.instagram.com/delhifoodmaniac\n",
      "https://www.instagram.com/food.o.holic\n"
     ]
    }
   ],
   "source": [
    "handleUrls={}\n",
    "for i in handles:\n",
    "#     print(len(i.split()))\n",
    "    if len(i.split())>1:\n",
    "        continue\n",
    "    url=base+i\n",
    "    handleUrls[i]=base+i\n",
    "    print(url)"
   ]
  },
  {
   "cell_type": "code",
   "execution_count": 60,
   "metadata": {},
   "outputs": [],
   "source": [
    "def Count_Followers(user_Handle_link):\n",
    "    driver.get(user_Handle_link)\n",
    "    time.sleep(2)\n",
    "    try:\n",
    "        data = wait.until(EC.presence_of_all_elements_located((By.CSS_SELECTOR,'._ac2a')))[1]\n",
    "    except:\n",
    "        print(user_Handle_link)\n",
    "    Follower_count = BeautifulSoup(data.get_attribute('outerHTML'),'html.parser').span['title']\n",
    "    Follower_count=int(Follower_count.replace(',',''))\n",
    "    return Follower_count"
   ]
  },
  {
   "cell_type": "code",
   "execution_count": 67,
   "metadata": {},
   "outputs": [],
   "source": [
    "Followers_of_user = {}\n",
    "for user_Id,Link in handleUrls.items():\n",
    "    follower = Count_Followers(Link)\n",
    "    Followers_of_user[user_Id]=follower"
   ]
  },
  {
   "cell_type": "code",
   "execution_count": 68,
   "metadata": {},
   "outputs": [
    {
     "name": "stdout",
     "output_type": "stream",
     "text": [
      "dilsefoodie ---> 1052375 Followers\n",
      "foodtalkindia ---> 308960 Followers\n",
      "food ---> 182689 Followers\n",
      "Food ---> 182688 Followers\n",
      "foodiesafarii ---> 129000 Followers\n"
     ]
    }
   ],
   "source": [
    "Top_5_handle=[]\n",
    "Top_5_followed_user={}\n",
    "for i in sorted(Followers_of_user.items(), key=lambda kv: kv[1],reverse=True)[:5]:\n",
    "    print(i[0],'--->',i[1],'Followers')\n",
    "    Top_5_followed_user[i[0]]=i[1]\n",
    "    Top_5_handle.append(i[0])"
   ]
  },
  {
   "cell_type": "code",
   "execution_count": 69,
   "metadata": {},
   "outputs": [
    {
     "data": {
      "image/png": "[encoded data removed]",
      "text/plain": [
       "<Figure size 720x720 with 1 Axes>"
      ]
     },
     "metadata": {},
     "output_type": "display_data"
    }
   ],
   "source": [
    "count = list(Top_5_followed_user.values())\n",
    "userId = list(Top_5_followed_user.keys())\n",
    "\n",
    "plt.figure(figsize=(10,10))\n",
    "plt.pie(count,labels=userId,autopct=\"%.2f%%\",counterclock=False,startangle=110)\n",
    "plt.title('Top 5 user which have the highest number of followers ',fontsize=20, color='green',alpha=0.8)\n",
    "plt.show()"
   ]
  },
  {
   "cell_type": "markdown",
   "metadata": {},
   "source": [
    "## 2. Now Find the number of posts these handles have done in the previous 3 days."
   ]
  },
  {
   "cell_type": "code",
   "execution_count": 71,
   "metadata": {},
   "outputs": [
    {
     "name": "stdout",
     "output_type": "stream",
     "text": [
      "['dilsefoodie', 'foodtalkindia', 'food', 'Food', 'foodiesafarii']\n"
     ]
    }
   ],
   "source": [
    "print(Top_5_handle)"
   ]
  },
  {
   "cell_type": "code",
   "execution_count": 83,
   "metadata": {},
   "outputs": [],
   "source": [
    "from datetime import datetime, timedelta\n",
    "def Number_of_Post(user_url,No_of_Days):\n",
    "        \n",
    "    driver.get(user_url)\n",
    "    time.sleep(2)\n",
    "    First_Post = wait.until(EC.presence_of_element_located((By.XPATH,'//div[@class=\"_ac7v _aang\"]/div[1]')))\n",
    "    First_Post.click()\n",
    "    no_of_post=0\n",
    "    while True:\n",
    "\n",
    "        time_of_post = wait.until(EC.presence_of_element_located((By.XPATH,'//time[@class=\"_aaqe\"]'))).get_attribute('datetime')\n",
    "        date_of_post = datetime.strptime(time_of_post[0:19], \"%Y-%m-%dT%H:%M:%S\")\n",
    "        if (datetime.now() - date_of_post).days > No_of_Days :\n",
    "            break\n",
    "        else :\n",
    "            no_of_post += 1\n",
    "\n",
    "        Next_post = wait.until(EC.presence_of_element_located((By.XPATH,'//div[@class=\" _aaqg _aaqh\"]/button')))\n",
    "        Next_post.click()\n",
    "        time.sleep(2)\n",
    "\n",
    "    driver.back()\n",
    "    return no_of_post"
   ]
  },
  {
   "cell_type": "code",
   "execution_count": 86,
   "metadata": {},
   "outputs": [
    {
     "name": "stdout",
     "output_type": "stream",
     "text": [
      "dilsefoodie -----> 3 Posts\n",
      "foodtalkindia -----> 4 Posts\n",
      "food -----> 2 Posts\n",
      "Food -----> 2 Posts\n",
      "foodiesafarii -----> 0 Posts\n"
     ]
    }
   ],
   "source": [
    "no_of_post_per_user = {}\n",
    "for Id in Top_5_handle:\n",
    "    user_url = handleUrls[Id]\n",
    "    Post_count = Number_of_Post(user_url,3)\n",
    "    no_of_post_per_user[Id] = Post_count\n",
    "    \n",
    "# print the user id and number of post have done by user in 3 days\n",
    "for ID,Count in no_of_post_per_user.items():\n",
    "    print(ID,'----->',Count,'Posts')"
   ]
  },
  {
   "cell_type": "code",
   "execution_count": 87,
   "metadata": {},
   "outputs": [
    {
     "data": {
      "image/png": "[encoded data removed]",
      "text/plain": [
       "<Figure size 432x288 with 1 Axes>"
      ]
     },
     "metadata": {
      "needs_background": "light"
     },
     "output_type": "display_data"
    }
   ],
   "source": [
    "x = no_of_post_per_user.keys()\n",
    "y = no_of_post_per_user.values()\n",
    "\n",
    "plt.bar(x,y,color='g',alpha=0.7)\n",
    "plt.ylabel(\"No. of posts in the previous 3 days\",size=12)\n",
    "plt.xlabel(\"Instagram handles\",size=12)\n",
    "plt.xticks(rotation = 45)\n",
    "plt.title('Most Followed user vs Number of recent posts ',fontsize=20, color='green',alpha=0.8)\n",
    "plt.grid()\n",
    "plt.show()\n",
    "\n"
   ]
  },
  {
   "cell_type": "markdown",
   "metadata": {},
   "source": [
    "# Problem 2 :\n",
    "\n",
    "## Your friend also needs a list of hashtags that he should use in his posts.\n",
    "\n",
    "### 1. Open the 5 handles you obtained in the last question, and scrape the content of the first 10 posts of each handle."
   ]
  },
  {
   "cell_type": "code",
   "execution_count": 88,
   "metadata": {},
   "outputs": [
    {
     "name": "stdout",
     "output_type": "stream",
     "text": [
      "dilsefoodie ---> ['#dilsefoodie', '#dilsecouple', '#ambala', '#dilsefoodie', '#dilsebaby', '#dilsecouple', '#dilsefoodie', '#dilsecouple', '#northindianfood', '#dilsefoodie', '#dilsecouple', '#paranthe', '#dilsefoodie', '#dilsecouple', '#tandoori', '#meat', '#dilsefoodie', '#dilsecouple', '#ambala', '#dilsefoodie', '#dilsefoodie', '#food', '#rasgulla', '#dilsefoodie', '#dilsecouple', '#candy', '#dilsefoodie', '#dilsecouple', '#amritsar', '#breakfast', '#dilsefoodie', '#food', '#sewa']\n",
      "\n",
      "foodtalkindia ---> ['#homegrown', '#artisanal', '#chocolate', '#organic', '#fruitbased', '#foodtalkindia', '#food', '#foodies', '#foodgasm', '#foodiesofindia', '#foodblogger', '#delicious', '#yummy', '#instafood', '#discover', '#fifa', '#beer', '#sports', '#fifa2022', '#worldcup', '#instabeer', '#foodtball', '#foodtalkindia', '#food', '#foodies', '#foodgasm', '#foodiesofindia', '#foodblogger', '#delicious', '#yummy', '#instafood', '#discover', '#NewInTown', '#bandra', '#lalocamaria', '#spanish', '#mediterranean', '#cuisine', '#mumbai', '#food', '#foodtalkindia', '#foodtalk', '#fti', '#food', '#foodie', '#foodies', '#foodgram', '#foodgasm', '#foodiesofindia', '#foodblogger', '#foodfeed', '#delicious', '#yummy', '#instagood', '#instafood', '#instagram', '#discover', '#delhi', '#karolbagh', '#streetfood', '#food', '#foodtalkindia', '#foodtalk', '#fti', '#food', '#foodie', '#foodies', '#foodgram', '#foodgasm', '#foodiesofindia', '#foodblogger', '#foodfeed', '#delicious', '#yummy', '#instagood', '#instafood', '#instagram', '#discover', '#coffee', '#caffeinne', '#recipe', '#winter', '#season', '#chilly', '#foodtalkindia', '#foodtalk', '#fti', '#food', '#foodie', '#foodies', '#foodgram', '#foodgasm', '#foodiesofindia', '#foodblogger', '#foodfeed', '#delicious', '#yummy', '#instagood', '#instafood', '#instagram', '#discover', '#NewInTown', '#gin', '#drygin', '#german', '#knuthansen', '#germangin', '#foodtalkindia', '#foodtalk', '#fti', '#food', '#foodie', '#foodies', '#foodgram', '#foodgasm', '#foodiesofindia', '#foodblogger', '#foodfeed', '#delicious', '#yummy', '#instagood', '#instafood', '#instagram', '#discover', '#delhi', '#restaurants', '#openair', '#dining', '#services', '#foodtalkindia', '#foodtalk', '#fti', '#food', '#foodie', '#foodies', '#foodgram', '#foodgasm', '#foodiesofindia', '#foodblogger', '#foodfeed', '#delicious', '#yummy', '#instagood', '#instafood', '#instagram', '#discover', '#delhi', '#mumbai', '#newmenus', '#roundup', '#foodtalkindia', '#foodtalk', '#fti', '#food', '#foodie', '#foodies', '#foodgram', '#foodgasm', '#foodiesofindia', '#foodblogger', '#foodfeed', '#delicious', '#yummy', '#instagood', '#instafood', '#instagram', '#discover', '#NewInTown', '#burosu', '#ramenbowls', '#ramenbar', '#panasian', '#soulfood', '#restaurant', '#foodtalkindia', '#foodtalk', '#fti', '#food', '#foodie', '#foodies', '#foodgram', '#foodgasm', '#foodiesofindia', '#foodblogger', '#foodfeed', '#delicious', '#yummy', '#instagood', '#instafood', '#instagram', '#discover', '#drink', '#cocktail', '#hod', '#negroni', '#sbagliato', '#prosecco', '#stunning', '#recipe', '#trending', '#foodtalkindia', '#foodtalk', '#fti', '#food', '#foodie', '#foodies', '#foodgram', '#foodgasm', '#foodiesofindia', '#foodblogger', '#foodfeed', '#delicious', '#yummy', '#instagood', '#instafood', '#instagram', '#discover']\n",
      "\n",
      "food ---> ['#foodnews', '#foodscene', '#hotdogs', '#tampa', '#foodnews', '#foodscene', '#italianfood', '#truffle', '#pasta', '#newyorkcity', '#foodnews', '#ghostkitchens', '#djkhaled', '#crunchwrap', '#crunchwrapsupreme', '#tacos', '#cheetos', '#tacobell', '#foodnews', '#ramen', '#brunch', '#japanese', '#manhattan', '#harlem', '#brooklyn', '#lowereastside', '#baconeggan', '#baconeggandcheese', '#ThePerfectMimosa', '#brunch', '#champaign', '#orangejuice', '#foodnews', '#salt', '#truffle', '#truff', '#sacue', '#pies', '#baking', '#foodie', '#spookyseason', '#halloween', '#happyhalloween', '#foodie', '#foodhack', '#foodhacks', '#lunch', '#meltedcheese', '#mozzarella', '#pizza', '#cheese', '#westchesterfood', '#westchesterfoodie', '#heresmyfood', '#freshmozz', '#mozz']\n",
      "\n",
      "Food ---> ['#foodnews', '#foodscene', '#hotdogs', '#tampa', '#foodnews', '#foodscene', '#italianfood', '#truffle', '#pasta', '#newyorkcity', '#foodnews', '#ghostkitchens', '#djkhaled', '#crunchwrap', '#crunchwrapsupreme', '#tacos', '#cheetos', '#tacobell', '#foodnews', '#ramen', '#brunch', '#japanese', '#manhattan', '#harlem', '#brooklyn', '#lowereastside', '#baconeggan', '#baconeggandcheese', '#ThePerfectMimosa', '#brunch', '#champaign', '#orangejuice', '#foodnews', '#salt', '#truffle', '#truff', '#sacue', '#pies', '#baking', '#foodie', '#spookyseason', '#halloween', '#happyhalloween', '#foodie', '#foodhack', '#foodhacks', '#lunch', '#meltedcheese', '#mozzarella', '#pizza', '#cheese', '#westchesterfood', '#westchesterfoodie', '#heresmyfood', '#freshmozz', '#mozz']\n",
      "\n",
      "foodiesafarii ---> ['#funnyreels', '#comedyreels', '#relatablememes', '#trendingreels', '#bornoninstagram', '#trendingnow', '#trainfun', '#indianrailways', '#bestfriends', '#funnyreels', '#comedyreels', '#relatable', '#iphone12', '#iphoneography', '#reelvideo', '#instagramreels', '#funvideo', '#youtube', '#millionsubscribers', '#silverplaybutton', '#milestone', '#reelvideo', '#instagramreels', '#explore', '#eeeeeats', '#sweetooth', '#desserts', '#gulabjamun', '#moongdalhalwa', '#dessertlover', '#sweets', '#mithai', '#foodvideos', '#reelvideo', '#instagramreels', '#explore', '#jalebi', '#desserts', '#sweetooth', '#mithai', '#indiansweets', '#jalebilove', '#foodvideos', '#foodreels', '#eeeats', '#streetfood', '#delhistreetfood', '#instagramreels', '#reelvideo', '#fries', '#frieslover', '#potatoes', '#sogood', '#eeeats', '#streetfood', '#delhistreetfood', '#reelsinstagram', '#reelvideo', '#foodreels', '#foodvideos', '#rannofkutch', '#rannutsav', '#tentcity', '#kutchdiaries', '#kutch', '#gujrat', '#incredibleindia', '#travelgram', '#travel', '#explorepage', '#rannutsav2022', '#rannkerang', '#rannkikahaaniya', '#travelblogger', '#foodblogger', '#chai', '#chailover', '#tea', '#tealover', '#chailove', '#pahad', '#mountains', '#rishikesh', '#travel', '#explore', '#foodreels', '#travelreels', '#instagramreels', '#reelvideo', '#rannofkutch', '#rannutsav', '#tentcity', '#kutchdiaries', '#kutch', '#gujrat', '#incredibleindia', '#travelgram', '#travel', '#travelreels', '#explorepage', '#rannutsav2022', '#rannkerang', '#rannkikahaaniya', '#manchurian', '#noodles', '#streetfood', '#delhistreetfood', '#sogood', '#eeeats', '#explore', '#foodvideos', '#eeeats', '#instagramreels', '#reelvideo']\n",
      "\n"
     ]
    }
   ],
   "source": [
    "def content_of_post(user_url,No_of_post):\n",
    "        \n",
    "    Text_list = []\n",
    "    driver.get(user_url)\n",
    "    time.sleep(2)\n",
    "    First_Post = wait.until(EC.presence_of_element_located((By.XPATH,'//div[@class=\"_ac7v _aang\"]/div[1]')))\n",
    "    First_Post.click()\n",
    "    no_of_post=0\n",
    "    while True:\n",
    "\n",
    "        HTML = wait.until(EC.presence_of_element_located((By.CLASS_NAME,'_a9zs')))\n",
    "        Texts = BeautifulSoup(HTML.get_attribute('innerHTML'),'html.parser').find_all('a')\n",
    "        \n",
    "        # get the text\n",
    "        for text in Texts:\n",
    "            text=text.text\n",
    "            if text[0]!='@':\n",
    "                Text_list.append(text)\n",
    "        no_of_post += 1\n",
    "        if No_of_post==no_of_post:\n",
    "            break\n",
    "\n",
    "        Next_post = wait.until(EC.presence_of_element_located((By.XPATH,'//div[@class=\" _aaqg _aaqh\"]/button')))\n",
    "        Next_post.click()\n",
    "        time.sleep(2)\n",
    "\n",
    "    driver.back()\n",
    "    return Text_list\n",
    "\n",
    "# extract all the list of text of top 5 user which I get in previous qes and store them in list for further requirments\n",
    "words_of_5_user = []\n",
    "for Id in Top_5_handle:\n",
    "    user_url = handleUrls[Id]\n",
    "    text_list = content_of_post(user_url,10)\n",
    "    words_of_5_user.extend(text_list)\n",
    "    print(Id,'--->',text_list)\n",
    "    print()"
   ]
  },
  {
   "cell_type": "markdown",
   "metadata": {},
   "source": [
    "## 2.Prepare a list of all words used in all the scraped posts and calculate the frequency of each word."
   ]
  },
  {
   "cell_type": "code",
   "execution_count": 89,
   "metadata": {},
   "outputs": [
    {
     "data": {
      "text/plain": [
       "{'#dilsefoodie': 11,\n",
       " '#dilsecouple': 8,\n",
       " '#ambala': 2,\n",
       " '#dilsebaby': 1,\n",
       " '#northindianfood': 1,\n",
       " '#paranthe': 1,\n",
       " '#tandoori': 1,\n",
       " '#meat': 1,\n",
       " '#food': 14,\n",
       " '#rasgulla': 1,\n",
       " '#candy': 1,\n",
       " '#amritsar': 1,\n",
       " '#breakfast': 1,\n",
       " '#sewa': 1,\n",
       " '#homegrown': 1,\n",
       " '#artisanal': 1,\n",
       " '#chocolate': 1,\n",
       " '#organic': 1,\n",
       " '#fruitbased': 1,\n",
       " '#foodtalkindia': 10,\n",
       " '#foodies': 10,\n",
       " '#foodgasm': 10,\n",
       " '#foodiesofindia': 10,\n",
       " '#foodblogger': 11,\n",
       " '#delicious': 10,\n",
       " '#yummy': 10,\n",
       " '#instafood': 10,\n",
       " '#discover': 10,\n",
       " '#fifa': 1,\n",
       " '#beer': 1,\n",
       " '#sports': 1,\n",
       " '#fifa2022': 1,\n",
       " '#worldcup': 1,\n",
       " '#instabeer': 1,\n",
       " '#foodtball': 1,\n",
       " '#NewInTown': 3,\n",
       " '#bandra': 1,\n",
       " '#lalocamaria': 1,\n",
       " '#spanish': 1,\n",
       " '#mediterranean': 1,\n",
       " '#cuisine': 1,\n",
       " '#mumbai': 2,\n",
       " '#foodtalk': 8,\n",
       " '#fti': 8,\n",
       " '#foodie': 12,\n",
       " '#foodgram': 8,\n",
       " '#foodfeed': 8,\n",
       " '#instagood': 8,\n",
       " '#instagram': 8,\n",
       " '#delhi': 3,\n",
       " '#karolbagh': 1,\n",
       " '#streetfood': 4,\n",
       " '#coffee': 1,\n",
       " '#caffeinne': 1,\n",
       " '#recipe': 2,\n",
       " '#winter': 1,\n",
       " '#season': 1,\n",
       " '#chilly': 1,\n",
       " '#gin': 1,\n",
       " '#drygin': 1,\n",
       " '#german': 1,\n",
       " '#knuthansen': 1,\n",
       " '#germangin': 1,\n",
       " '#restaurants': 1,\n",
       " '#openair': 1,\n",
       " '#dining': 1,\n",
       " '#services': 1,\n",
       " '#newmenus': 1,\n",
       " '#roundup': 1,\n",
       " '#burosu': 1,\n",
       " '#ramenbowls': 1,\n",
       " '#ramenbar': 1,\n",
       " '#panasian': 1,\n",
       " '#soulfood': 1,\n",
       " '#restaurant': 1,\n",
       " '#drink': 1,\n",
       " '#cocktail': 1,\n",
       " '#hod': 1,\n",
       " '#negroni': 1,\n",
       " '#sbagliato': 1,\n",
       " '#prosecco': 1,\n",
       " '#stunning': 1,\n",
       " '#trending': 1,\n",
       " '#foodnews': 10,\n",
       " '#foodscene': 4,\n",
       " '#hotdogs': 2,\n",
       " '#tampa': 2,\n",
       " '#italianfood': 2,\n",
       " '#truffle': 4,\n",
       " '#pasta': 2,\n",
       " '#newyorkcity': 2,\n",
       " '#ghostkitchens': 2,\n",
       " '#djkhaled': 2,\n",
       " '#crunchwrap': 2,\n",
       " '#crunchwrapsupreme': 2,\n",
       " '#tacos': 2,\n",
       " '#cheetos': 2,\n",
       " '#tacobell': 2,\n",
       " '#ramen': 2,\n",
       " '#brunch': 4,\n",
       " '#japanese': 2,\n",
       " '#manhattan': 2,\n",
       " '#harlem': 2,\n",
       " '#brooklyn': 2,\n",
       " '#lowereastside': 2,\n",
       " '#baconeggan': 2,\n",
       " '#baconeggandcheese': 2,\n",
       " '#ThePerfectMimosa': 2,\n",
       " '#champaign': 2,\n",
       " '#orangejuice': 2,\n",
       " '#salt': 2,\n",
       " '#truff': 2,\n",
       " '#sacue': 2,\n",
       " '#pies': 2,\n",
       " '#baking': 2,\n",
       " '#spookyseason': 2,\n",
       " '#halloween': 2,\n",
       " '#happyhalloween': 2,\n",
       " '#foodhack': 2,\n",
       " '#foodhacks': 2,\n",
       " '#lunch': 2,\n",
       " '#meltedcheese': 2,\n",
       " '#mozzarella': 2,\n",
       " '#pizza': 2,\n",
       " '#cheese': 2,\n",
       " '#westchesterfood': 2,\n",
       " '#westchesterfoodie': 2,\n",
       " '#heresmyfood': 2,\n",
       " '#freshmozz': 2,\n",
       " '#mozz': 2,\n",
       " '#funnyreels': 2,\n",
       " '#comedyreels': 2,\n",
       " '#relatablememes': 1,\n",
       " '#trendingreels': 1,\n",
       " '#bornoninstagram': 1,\n",
       " '#trendingnow': 1,\n",
       " '#trainfun': 1,\n",
       " '#indianrailways': 1,\n",
       " '#bestfriends': 1,\n",
       " '#relatable': 1,\n",
       " '#iphone12': 1,\n",
       " '#iphoneography': 1,\n",
       " '#reelvideo': 7,\n",
       " '#instagramreels': 6,\n",
       " '#funvideo': 1,\n",
       " '#youtube': 1,\n",
       " '#millionsubscribers': 1,\n",
       " '#silverplaybutton': 1,\n",
       " '#milestone': 1,\n",
       " '#explore': 4,\n",
       " '#eeeeeats': 1,\n",
       " '#sweetooth': 2,\n",
       " '#desserts': 2,\n",
       " '#gulabjamun': 1,\n",
       " '#moongdalhalwa': 1,\n",
       " '#dessertlover': 1,\n",
       " '#sweets': 1,\n",
       " '#mithai': 2,\n",
       " '#foodvideos': 4,\n",
       " '#jalebi': 1,\n",
       " '#indiansweets': 1,\n",
       " '#jalebilove': 1,\n",
       " '#foodreels': 3,\n",
       " '#eeeats': 4,\n",
       " '#delhistreetfood': 3,\n",
       " '#fries': 1,\n",
       " '#frieslover': 1,\n",
       " '#potatoes': 1,\n",
       " '#sogood': 2,\n",
       " '#reelsinstagram': 1,\n",
       " '#rannofkutch': 2,\n",
       " '#rannutsav': 2,\n",
       " '#tentcity': 2,\n",
       " '#kutchdiaries': 2,\n",
       " '#kutch': 2,\n",
       " '#gujrat': 2,\n",
       " '#incredibleindia': 2,\n",
       " '#travelgram': 2,\n",
       " '#travel': 3,\n",
       " '#explorepage': 2,\n",
       " '#rannutsav2022': 2,\n",
       " '#rannkerang': 2,\n",
       " '#rannkikahaaniya': 2,\n",
       " '#travelblogger': 1,\n",
       " '#chai': 1,\n",
       " '#chailover': 1,\n",
       " '#tea': 1,\n",
       " '#tealover': 1,\n",
       " '#chailove': 1,\n",
       " '#pahad': 1,\n",
       " '#mountains': 1,\n",
       " '#rishikesh': 1,\n",
       " '#travelreels': 2,\n",
       " '#manchurian': 1,\n",
       " '#noodles': 1}"
      ]
     },
     "execution_count": 89,
     "metadata": {},
     "output_type": "execute_result"
    }
   ],
   "source": [
    "def get_word_frequency(List_of_words):\n",
    "    dct = {}\n",
    "    words_list = []\n",
    "    for word in List_of_words:\n",
    "        dct[word] = dct.get(word,0) + 1\n",
    "    return dct\n",
    "\n",
    "# calling the function\n",
    "word_freq_dict = get_word_frequency(words_of_5_user)\n",
    "word_freq_dict"
   ]
  },
  {
   "cell_type": "markdown",
   "metadata": {},
   "source": [
    "## 3.Create a csv file with two columns : the word and its frequency"
   ]
  },
  {
   "cell_type": "code",
   "execution_count": 90,
   "metadata": {},
   "outputs": [
    {
     "data": {
      "text/html": [
       "<div>\n",
       "<style scoped>\n",
       "    .dataframe tbody tr th:only-of-type {\n",
       "        vertical-align: middle;\n",
       "    }\n",
       "\n",
       "    .dataframe tbody tr th {\n",
       "        vertical-align: top;\n",
       "    }\n",
       "\n",
       "    .dataframe thead th {\n",
       "        text-align: right;\n",
       "    }\n",
       "</style>\n",
       "<table border=\"1\" class=\"dataframe\">\n",
       "  <thead>\n",
       "    <tr style=\"text-align: right;\">\n",
       "      <th></th>\n",
       "      <th>Word</th>\n",
       "      <th>Frequency</th>\n",
       "    </tr>\n",
       "  </thead>\n",
       "  <tbody>\n",
       "    <tr>\n",
       "      <th>0</th>\n",
       "      <td>#dilsefoodie</td>\n",
       "      <td>11</td>\n",
       "    </tr>\n",
       "    <tr>\n",
       "      <th>1</th>\n",
       "      <td>#dilsecouple</td>\n",
       "      <td>8</td>\n",
       "    </tr>\n",
       "    <tr>\n",
       "      <th>2</th>\n",
       "      <td>#ambala</td>\n",
       "      <td>2</td>\n",
       "    </tr>\n",
       "    <tr>\n",
       "      <th>3</th>\n",
       "      <td>#dilsebaby</td>\n",
       "      <td>1</td>\n",
       "    </tr>\n",
       "    <tr>\n",
       "      <th>4</th>\n",
       "      <td>#northindianfood</td>\n",
       "      <td>1</td>\n",
       "    </tr>\n",
       "    <tr>\n",
       "      <th>5</th>\n",
       "      <td>#paranthe</td>\n",
       "      <td>1</td>\n",
       "    </tr>\n",
       "    <tr>\n",
       "      <th>6</th>\n",
       "      <td>#tandoori</td>\n",
       "      <td>1</td>\n",
       "    </tr>\n",
       "    <tr>\n",
       "      <th>7</th>\n",
       "      <td>#meat</td>\n",
       "      <td>1</td>\n",
       "    </tr>\n",
       "    <tr>\n",
       "      <th>8</th>\n",
       "      <td>#food</td>\n",
       "      <td>14</td>\n",
       "    </tr>\n",
       "    <tr>\n",
       "      <th>9</th>\n",
       "      <td>#rasgulla</td>\n",
       "      <td>1</td>\n",
       "    </tr>\n",
       "  </tbody>\n",
       "</table>\n",
       "</div>"
      ],
      "text/plain": [
       "               Word  Frequency\n",
       "0      #dilsefoodie         11\n",
       "1      #dilsecouple          8\n",
       "2           #ambala          2\n",
       "3        #dilsebaby          1\n",
       "4  #northindianfood          1\n",
       "5         #paranthe          1\n",
       "6         #tandoori          1\n",
       "7             #meat          1\n",
       "8             #food         14\n",
       "9         #rasgulla          1"
      ]
     },
     "execution_count": 90,
     "metadata": {},
     "output_type": "execute_result"
    }
   ],
   "source": [
    "words = [ key for key,value in word_freq_dict.items()]\n",
    "word_frequency = [ value for key,value in word_freq_dict.items()]\n",
    "\n",
    "# Create a csv file with two columns : the word and its frequency\n",
    "columns = {\"Word\":words,\"Frequency\":word_frequency}\n",
    "\n",
    "# Create the pandas dataframe \n",
    "df = pd.DataFrame(columns)\n",
    "\n",
    "#using .to_csv pandas function to convert dataframe to csv without Index values\n",
    "df.to_csv('words_frequency.csv',index=False)\n",
    "\n",
    "# Printing the Top 10 Row of the table\n",
    "df.head(10)"
   ]
  },
  {
   "cell_type": "markdown",
   "metadata": {},
   "source": [
    "## 4. Now, find the hashtags that were most popular among these bloggers"
   ]
  },
  {
   "cell_type": "code",
   "execution_count": 91,
   "metadata": {},
   "outputs": [
    {
     "name": "stdout",
     "output_type": "stream",
     "text": [
      "#food --> 14 Hashtags\n",
      "#foodie --> 12 Hashtags\n",
      "#foodblogger --> 11 Hashtags\n",
      "#dilsefoodie --> 11 Hashtags\n",
      "#yummy --> 10 Hashtags\n",
      "#instafood --> 10 Hashtags\n",
      "#foodtalkindia --> 10 Hashtags\n",
      "#foodnews --> 10 Hashtags\n",
      "#foodiesofindia --> 10 Hashtags\n",
      "#foodies --> 10 Hashtags\n",
      "#foodgasm --> 10 Hashtags\n",
      "#discover --> 10 Hashtags\n",
      "#delicious --> 10 Hashtags\n",
      "#instagram --> 8 Hashtags\n",
      "#instagood --> 8 Hashtags\n",
      "#fti --> 8 Hashtags\n",
      "#foodtalk --> 8 Hashtags\n",
      "#foodgram --> 8 Hashtags\n",
      "#foodfeed --> 8 Hashtags\n",
      "#dilsecouple --> 8 Hashtags\n",
      "#reelvideo --> 7 Hashtags\n",
      "#instagramreels --> 6 Hashtags\n",
      "#truffle --> 4 Hashtags\n",
      "#streetfood --> 4 Hashtags\n",
      "#foodvideos --> 4 Hashtags\n",
      "#foodscene --> 4 Hashtags\n",
      "#explore --> 4 Hashtags\n",
      "#eeeats --> 4 Hashtags\n",
      "#brunch --> 4 Hashtags\n",
      "#travel --> 3 Hashtags\n",
      "#foodreels --> 3 Hashtags\n",
      "#delhistreetfood --> 3 Hashtags\n",
      "#delhi --> 3 Hashtags\n",
      "#NewInTown --> 3 Hashtags\n",
      "#westchesterfoodie --> 2 Hashtags\n",
      "#westchesterfood --> 2 Hashtags\n",
      "#truff --> 2 Hashtags\n",
      "#travelreels --> 2 Hashtags\n",
      "#travelgram --> 2 Hashtags\n",
      "#tentcity --> 2 Hashtags\n",
      "#tampa --> 2 Hashtags\n",
      "#tacos --> 2 Hashtags\n",
      "#tacobell --> 2 Hashtags\n",
      "#sweetooth --> 2 Hashtags\n",
      "#spookyseason --> 2 Hashtags\n",
      "#sogood --> 2 Hashtags\n",
      "#salt --> 2 Hashtags\n",
      "#sacue --> 2 Hashtags\n",
      "#recipe --> 2 Hashtags\n",
      "#rannutsav2022 --> 2 Hashtags\n",
      "#rannutsav --> 2 Hashtags\n",
      "#rannofkutch --> 2 Hashtags\n",
      "#rannkikahaaniya --> 2 Hashtags\n",
      "#rannkerang --> 2 Hashtags\n",
      "#ramen --> 2 Hashtags\n",
      "#pizza --> 2 Hashtags\n",
      "#pies --> 2 Hashtags\n",
      "#pasta --> 2 Hashtags\n",
      "#orangejuice --> 2 Hashtags\n",
      "#newyorkcity --> 2 Hashtags\n",
      "#mumbai --> 2 Hashtags\n",
      "#mozzarella --> 2 Hashtags\n",
      "#mozz --> 2 Hashtags\n",
      "#mithai --> 2 Hashtags\n",
      "#meltedcheese --> 2 Hashtags\n",
      "#manhattan --> 2 Hashtags\n",
      "#lunch --> 2 Hashtags\n",
      "#lowereastside --> 2 Hashtags\n",
      "#kutchdiaries --> 2 Hashtags\n",
      "#kutch --> 2 Hashtags\n",
      "#japanese --> 2 Hashtags\n",
      "#italianfood --> 2 Hashtags\n",
      "#incredibleindia --> 2 Hashtags\n",
      "#hotdogs --> 2 Hashtags\n",
      "#heresmyfood --> 2 Hashtags\n",
      "#harlem --> 2 Hashtags\n",
      "#happyhalloween --> 2 Hashtags\n",
      "#halloween --> 2 Hashtags\n",
      "#gujrat --> 2 Hashtags\n",
      "#ghostkitchens --> 2 Hashtags\n",
      "#funnyreels --> 2 Hashtags\n",
      "#freshmozz --> 2 Hashtags\n",
      "#foodhacks --> 2 Hashtags\n",
      "#foodhack --> 2 Hashtags\n",
      "#explorepage --> 2 Hashtags\n",
      "#djkhaled --> 2 Hashtags\n",
      "#desserts --> 2 Hashtags\n",
      "#crunchwrapsupreme --> 2 Hashtags\n",
      "#crunchwrap --> 2 Hashtags\n",
      "#comedyreels --> 2 Hashtags\n",
      "#cheetos --> 2 Hashtags\n",
      "#cheese --> 2 Hashtags\n",
      "#champaign --> 2 Hashtags\n",
      "#brooklyn --> 2 Hashtags\n",
      "#baking --> 2 Hashtags\n",
      "#baconeggandcheese --> 2 Hashtags\n",
      "#baconeggan --> 2 Hashtags\n",
      "#ambala --> 2 Hashtags\n",
      "#ThePerfectMimosa --> 2 Hashtags\n",
      "#youtube --> 1 Hashtags\n",
      "#worldcup --> 1 Hashtags\n",
      "#winter --> 1 Hashtags\n",
      "#trendingreels --> 1 Hashtags\n",
      "#trendingnow --> 1 Hashtags\n",
      "#trending --> 1 Hashtags\n",
      "#travelblogger --> 1 Hashtags\n",
      "#trainfun --> 1 Hashtags\n",
      "#tealover --> 1 Hashtags\n",
      "#tea --> 1 Hashtags\n",
      "#tandoori --> 1 Hashtags\n",
      "#sweets --> 1 Hashtags\n",
      "#stunning --> 1 Hashtags\n",
      "#sports --> 1 Hashtags\n",
      "#spanish --> 1 Hashtags\n",
      "#soulfood --> 1 Hashtags\n",
      "#silverplaybutton --> 1 Hashtags\n",
      "#sewa --> 1 Hashtags\n",
      "#services --> 1 Hashtags\n",
      "#season --> 1 Hashtags\n",
      "#sbagliato --> 1 Hashtags\n",
      "#roundup --> 1 Hashtags\n",
      "#rishikesh --> 1 Hashtags\n",
      "#restaurants --> 1 Hashtags\n",
      "#restaurant --> 1 Hashtags\n",
      "#relatablememes --> 1 Hashtags\n",
      "#relatable --> 1 Hashtags\n",
      "#reelsinstagram --> 1 Hashtags\n",
      "#rasgulla --> 1 Hashtags\n",
      "#ramenbowls --> 1 Hashtags\n",
      "#ramenbar --> 1 Hashtags\n",
      "#prosecco --> 1 Hashtags\n",
      "#potatoes --> 1 Hashtags\n",
      "#paranthe --> 1 Hashtags\n",
      "#panasian --> 1 Hashtags\n",
      "#pahad --> 1 Hashtags\n",
      "#organic --> 1 Hashtags\n",
      "#openair --> 1 Hashtags\n",
      "#northindianfood --> 1 Hashtags\n",
      "#noodles --> 1 Hashtags\n",
      "#newmenus --> 1 Hashtags\n",
      "#negroni --> 1 Hashtags\n",
      "#mountains --> 1 Hashtags\n",
      "#moongdalhalwa --> 1 Hashtags\n",
      "#millionsubscribers --> 1 Hashtags\n",
      "#milestone --> 1 Hashtags\n",
      "#mediterranean --> 1 Hashtags\n",
      "#meat --> 1 Hashtags\n",
      "#manchurian --> 1 Hashtags\n",
      "#lalocamaria --> 1 Hashtags\n",
      "#knuthansen --> 1 Hashtags\n",
      "#karolbagh --> 1 Hashtags\n",
      "#jalebilove --> 1 Hashtags\n",
      "#jalebi --> 1 Hashtags\n",
      "#iphoneography --> 1 Hashtags\n",
      "#iphone12 --> 1 Hashtags\n",
      "#instabeer --> 1 Hashtags\n",
      "#indiansweets --> 1 Hashtags\n",
      "#indianrailways --> 1 Hashtags\n",
      "#homegrown --> 1 Hashtags\n",
      "#hod --> 1 Hashtags\n",
      "#gulabjamun --> 1 Hashtags\n",
      "#gin --> 1 Hashtags\n",
      "#germangin --> 1 Hashtags\n",
      "#german --> 1 Hashtags\n",
      "#funvideo --> 1 Hashtags\n",
      "#fruitbased --> 1 Hashtags\n",
      "#frieslover --> 1 Hashtags\n",
      "#fries --> 1 Hashtags\n",
      "#foodtball --> 1 Hashtags\n",
      "#fifa2022 --> 1 Hashtags\n",
      "#fifa --> 1 Hashtags\n",
      "#eeeeeats --> 1 Hashtags\n",
      "#drygin --> 1 Hashtags\n",
      "#drink --> 1 Hashtags\n",
      "#dining --> 1 Hashtags\n",
      "#dilsebaby --> 1 Hashtags\n",
      "#dessertlover --> 1 Hashtags\n",
      "#cuisine --> 1 Hashtags\n",
      "#coffee --> 1 Hashtags\n",
      "#cocktail --> 1 Hashtags\n",
      "#chocolate --> 1 Hashtags\n",
      "#chilly --> 1 Hashtags\n",
      "#chailover --> 1 Hashtags\n",
      "#chailove --> 1 Hashtags\n",
      "#chai --> 1 Hashtags\n",
      "#candy --> 1 Hashtags\n",
      "#caffeinne --> 1 Hashtags\n",
      "#burosu --> 1 Hashtags\n",
      "#breakfast --> 1 Hashtags\n",
      "#bornoninstagram --> 1 Hashtags\n",
      "#bestfriends --> 1 Hashtags\n",
      "#beer --> 1 Hashtags\n",
      "#bandra --> 1 Hashtags\n",
      "#artisanal --> 1 Hashtags\n",
      "#amritsar --> 1 Hashtags\n"
     ]
    }
   ],
   "source": [
    "def sort_by_value(Dict):\n",
    "    sorted_data = [[value,key] for key,value in Dict.items()]\n",
    "    sorted_data.sort(reverse=True)\n",
    "    return sorted_data\n",
    "\n",
    "# Now, find the hashtags that were most popular among these bloggers\n",
    "hastag_with_frequency = sort_by_value(word_freq_dict)\n",
    "\n",
    "# top hashtags\n",
    "for i in hastag_with_frequency:\n",
    "    print(i[1],'-->',i[0],'Hashtags')"
   ]
  },
  {
   "cell_type": "markdown",
   "metadata": {},
   "source": [
    "## 5.Plot a Pie Chart of the top 5 hashtags obtained and the number of times they were used by these bloggers in the scraped posts."
   ]
  },
  {
   "cell_type": "code",
   "execution_count": 92,
   "metadata": {},
   "outputs": [
    {
     "data": {
      "image/png": "[encoded data removed]",
      "text/plain": [
       "<Figure size 432x288 with 1 Axes>"
      ]
     },
     "metadata": {},
     "output_type": "display_data"
    }
   ],
   "source": [
    "# Plot a Pie Chart of the top 5 hashtags obtained and the number of times they were used by these bloggers in the scraped posts.\n",
    "top_five_hastags = [ i[1] for i in hastag_with_frequency[:5]]\n",
    "hastag_counts = [ i[0] for i in hastag_with_frequency[:5]]\n",
    "\n",
    "# Pie graph to get the idea of which hashtag has been used for most of the time.\n",
    "plt.pie(hastag_counts,labels=top_five_hastags,autopct=\"%.2f\")\n",
    "plt.show()\n"
   ]
  },
  {
   "cell_type": "markdown",
   "metadata": {},
   "source": [
    "## Probem 3 :\n",
    "\n",
    "## You need to also calculate average followers : likes ratio for the obtained handles. Followers : Likes ratio is calculated as follows:\n",
    "\n",
    "## 1. Find out the likes of the top 10 posts of the 5 handles obtained earlier."
   ]
  },
  {
   "cell_type": "code",
   "execution_count": 96,
   "metadata": {},
   "outputs": [
    {
     "name": "stdout",
     "output_type": "stream",
     "text": [
      "---------------------------------\n",
      "Total Likes for 10 Posts\n",
      "---------------------------------\n",
      "dilsefoodie ---> 234738\n",
      "\n",
      "foodtalkindia ---> 6215\n",
      "\n",
      "food ---> 1100\n",
      "\n",
      "Food ---> 1100\n",
      "\n",
      "foodiesafarii ---> 16588\n",
      "\n"
     ]
    }
   ],
   "source": [
    "def Likes_of_post(user_url,No_of_post):\n",
    "        \n",
    "    Totel_Likes = 0\n",
    "    driver.get(user_url)\n",
    "    time.sleep(2)\n",
    "    First_Post = wait.until(EC.presence_of_element_located((By.XPATH,'//div[@class=\"_ac7v _aang\"]/div[1]')))\n",
    "    First_Post.click()\n",
    "    no_of_post=0\n",
    "    while True:\n",
    "\n",
    "        HTML = wait.until(EC.presence_of_element_located((By.XPATH,'//section[@class=\"_ae5m _ae5n _ae5o\"]')))\n",
    "        try:\n",
    "            Likes = BeautifulSoup(HTML.get_attribute('innerHTML'),'html.parser').find_all('span')[-1]\n",
    "            Likes = int(Likes.text.replace(',',''))\n",
    "        except:\n",
    "            Likes=0\n",
    "        Totel_Likes+=Likes\n",
    "        no_of_post += 1\n",
    "        if No_of_post==no_of_post:\n",
    "            break\n",
    "        try:\n",
    "            Next_post = wait.until(EC.presence_of_element_located((By.XPATH,'//div[@class=\" _aaqg _aaqh\"]/button')))\n",
    "            Next_post.click()\n",
    "        except:\n",
    "            break\n",
    "        time.sleep(2)\n",
    "\n",
    "    driver.back()\n",
    "    return Totel_Likes\n",
    "\n",
    "\n",
    "# iterate over top 5 user handle and put profile link in function\n",
    "print(\"---------------------------------\")\n",
    "print(\"Total Likes for 10 Posts\")\n",
    "print(\"---------------------------------\")\n",
    "Total_likes_of_user = {}\n",
    "for Id in Top_5_handle:\n",
    "    user_url = handleUrls[Id]\n",
    "    Total_Likes = Likes_of_post(user_url,10)\n",
    "    Total_likes_of_user[Id]=Total_Likes\n",
    "    print(Id,'--->',Total_Likes)\n",
    "    print()"
   ]
  },
  {
   "cell_type": "markdown",
   "metadata": {},
   "source": [
    "## 2.Calculate the average likes for a handle."
   ]
  },
  {
   "cell_type": "code",
   "execution_count": 97,
   "metadata": {},
   "outputs": [
    {
     "name": "stdout",
     "output_type": "stream",
     "text": [
      "---------------------------------\n",
      "Average Likes\n",
      "---------------------------------\n",
      "dilsefoodie ----> 23474\n",
      "foodtalkindia ----> 622\n",
      "food ----> 110\n",
      "Food ----> 110\n",
      "foodiesafarii ----> 1659\n"
     ]
    }
   ],
   "source": [
    "def get_avg_likes(Total_Likes,Number_of_Post):\n",
    "    avg_likes = Total_Likes / Number_of_Post\n",
    "    return avg_likes\n",
    "\n",
    "# calculating avarge likes for 5 handles for 10 posts and store the result in list\n",
    "print(\"---------------------------------\")\n",
    "print(\"Average Likes\")\n",
    "print(\"---------------------------------\")\n",
    "average_likes_dict={}\n",
    "for Id,Total_Likes in Total_likes_of_user.items():\n",
    "    avg_likes = get_avg_likes(Total_Likes,10)\n",
    "    average_likes_dict[Id]=avg_likes\n",
    "    print(Id,'---->',format(avg_likes,'.0f'))"
   ]
  },
  {
   "cell_type": "markdown",
   "metadata": {},
   "source": [
    "## 3.Divide the average likes obtained from the number of followers of the handle to get the average followers:like ratio of each handle."
   ]
  },
  {
   "cell_type": "code",
   "execution_count": 98,
   "metadata": {},
   "outputs": [
    {
     "name": "stdout",
     "output_type": "stream",
     "text": [
      "---------------------------------\n",
      "Ratio Avg Followers : Avg Likes\n",
      "---------------------------------\n",
      "dilsefoodie ----> 44 : 23473\n",
      "foodtalkindia ----> 497 : 621\n",
      "food ----> 1660 : 110\n",
      "Food ----> 1660 : 110\n",
      "foodiesafarii ----> 77 : 1658\n"
     ]
    }
   ],
   "source": [
    "print(\"---------------------------------\")\n",
    "print(\"Ratio Avg Followers : Avg Likes\")\n",
    "print(\"---------------------------------\")\n",
    "avg_followers = {}\n",
    "for ID in Top_5_handle:\n",
    "    avg_followers_count = int(Top_5_followed_user[ID]/average_likes_dict[ID])\n",
    "    avg_followers[ID]=avg_followers_count\n",
    "    print(ID,'---->',avg_followers_count,':',int(average_likes_dict[ID]))"
   ]
  },
  {
   "cell_type": "markdown",
   "metadata": {},
   "source": [
    "## 4.Create a bar graph to depict the above obtained information."
   ]
  },
  {
   "cell_type": "code",
   "execution_count": 99,
   "metadata": {},
   "outputs": [
    {
     "data": {
      "image/png": "[encoded data removed]",
      "text/plain": [
       "<Figure size 432x288 with 1 Axes>"
      ]
     },
     "metadata": {
      "needs_background": "light"
     },
     "output_type": "display_data"
    }
   ],
   "source": [
    "username = list(average_likes_dict.keys())\n",
    "avg_like = list(average_likes_dict.values())\n",
    "\n",
    "plt.bar(username,avg_like,color='g',alpha=0.6)\n",
    "plt.ylabel(\"Average Likes\",size=15)\n",
    "plt.xlabel(\"Handle's Name\",size=15)\n",
    "plt.xticks(rotation = 45)\n",
    "plt.title('Average like for each handle ',fontsize=20, color='green',alpha=0.8)\n",
    "plt.grid()\n",
    "plt.show()"
   ]
  },
  {
   "cell_type": "code",
   "execution_count": null,
   "metadata": {},
   "outputs": [],
   "source": []
  }
 ],
 "metadata": {
  "kernelspec": {
   "display_name": "Python 3",
   "language": "python",
   "name": "python3"
  },
  "language_info": {
   "codemirror_mode": {
    "name": "ipython",
    "version": 3
   },
   "file_extension": ".py",
   "mimetype": "text/x-python",
   "name": "python",
   "nbconvert_exporter": "python",
   "pygments_lexer": "ipython3",
   "version": "3.7.6"
  }
 },
 "nbformat": 4,
 "nbformat_minor": 4
}
