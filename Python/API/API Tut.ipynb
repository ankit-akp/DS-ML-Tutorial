{
 "cells": [
  {
   "cell_type": "code",
   "execution_count": 1,
   "metadata": {},
   "outputs": [],
   "source": [
    "# To make HTTP requests in python, we can use several HTTP libraries like:\n",
    "# httplib, urllib, requests"
   ]
  },
  {
   "cell_type": "code",
   "execution_count": 2,
   "metadata": {},
   "outputs": [],
   "source": [
    "# Import Requests\n",
    "import requests"
   ]
  },
  {
   "cell_type": "code",
   "execution_count": 8,
   "metadata": {},
   "outputs": [
    {
     "name": "stdout",
     "output_type": "stream",
     "text": [
      "200\n",
      "None\n",
      "https://codingninjas.in/api/v3/courses\n",
      "{'Date': 'Fri, 21 Oct 2022 09:42:51 GMT', 'Content-Type': 'application/json', 'Transfer-Encoding': 'chunked', 'Connection': 'keep-alive', 'Server': 'nginx', 'X-Frame-Options': 'SAMEORIGIN', 'X-XSS-Protection': '1; mode=block', 'X-Content-Type-Options': 'nosniff', 'Access-Control-Allow-Origin': '*', 'Access-Control-Allow-Methods': 'POST, GET, PATCH, PUT, DELETE, OPTIONS', 'Access-Control-Allow-Headers': 'Access-Control-Allow-Headers, Origin,Accept, X-Requested-With, Content-Type, Access-Control-Request-Method, Access-Control-Request-Headers, Authorization', 'Access-Control-Max-Age': '1728000', 'Vary': 'Accept-Encoding', 'Content-Encoding': 'gzip', 'ETag': 'W/\"18c368d73c1d04b2850eea668106010b\"', 'Cache-Control': 'max-age=0, private, must-revalidate', 'X-Request-Id': '451383d8-c0cc-4560-9d01-fa13e3f35b62', 'X-Runtime': '0.007189', 'Strict-Transport-Security': 'max-age=31536000; includeSubDomains;'}\n",
      "<class 'requests.structures.CaseInsensitiveDict'>\n",
      "{\"data\":{\"courses\":[{\"id\":1,\"title\":\"C++ \\u0026 Data Structures\",\"online_title\":\"onlline-c-plus-plus-course\",\"offline_title\":\"classroom-c-plus-plus-course\",\"name\":\"C++ Foundation with Data Structures\",\"level\":\"Foundation Courses\",\"brief_intro\":\"Brief Intro\",\"preview_image_url\":\"https://files.codingninjas.in/0000000000001176.png\",\"available_online\":true,\"available_offline\":false,\"is_career_track\":false,\"course_group_id\":1,\"classroom_icon_url\":\"https://files.codingninjas.in/0000000000003771.png\"},{\"id\":45,\"title\":\"Premium Android Course\",\"online_title\":\"premium-android-app-development-course\",\"offline_title\":\"\",\"name\":\"Premium Android App Development\",\"level\":\"Foundation Courses\",\"brief_intro\":\"\",\"preview_image_url\":\"\",\"available_online\":true,\"available_offline\":false,\"is_career_track\":false,\"course_group_id\":7,\"classroom_icon_url\":\"https://files.codingninjas.in/0000000000003765.png\"},{\"id\":40,\"title\":\"Data structures and Algorithms [C++/Java/Python]\",\"online_title\":\"premium-foundation-course\",\"offline_title\":\"\",\"name\":\"Premium Data structures and Algorithms [C++/Java/Python]\",\"level\":\"Foundation Courses\",\"brief_intro\":\"\",\"preview_image_url\":\"\",\"available_online\":true,\"available_offline\":false,\"is_career_track\":false,\"course_group_id\":7,\"classroom_icon_url\":\"https://files.codingninjas.in/0000000000003765.png\"},{\"id\":44,\"title\":\"Premium Machine Learning Course\",\"online_title\":\"premium-machine-learning-course\",\"offline_title\":\"\",\"name\":\"Premium Machine Learning Course\",\"level\":\"Foundation Courses\",\"brief_intro\":\"\",\"preview_image_url\":\"\",\"available_online\":true,\"available_offline\":false,\"is_career_track\":false,\"course_group_id\":7,\"classroom_icon_url\":\"https://files.codingninjas.in/0000000000003765.png\"},{\"id\":43,\"title\":\"Premium Data Science Course\",\"online_title\":\"premium-data-science-course\",\"offline_title\":\"\",\"name\":\"Premium Data Science Course\",\"level\":\"Foundation Courses\",\"brief_intro\":\"\",\"preview_image_url\":\"\",\"available_online\":true,\"available_offline\":false,\"is_career_track\":false,\"course_group_id\":7,\"classroom_icon_url\":\"https://files.codingninjas.com/data-science-11645.png\"},{\"id\":34,\"title\":\"Front End (React)\",\"online_title\":\"online-web-dev-with-react\",\"offline_title\":\"\",\"name\":\"Advanced  Front-End Web Development with React\",\"level\":\"Development Courses\",\"brief_intro\":\"Advanced  Front-End Web Development with React\",\"preview_image_url\":\"https://ninjasfiles.s3.amazonaws.com/0000000000001179.png\",\"available_online\":true,\"available_offline\":false,\"is_career_track\":false,\"course_group_id\":2,\"classroom_icon_url\":\"https://files.codingninjas.in/0000000000003769.png\"},{\"id\":16,\"title\":\"Competitive Programmer\",\"online_title\":\"online-competitive-programming-track\",\"offline_title\":\"\",\"name\":\"Ninja Competitive Programmer Track\",\"level\":\"Career Tracks\",\"brief_intro\":\"Competitive Track\",\"preview_image_url\":\"https://files.codingninjas.in/0000000000001177.png\",\"available_online\":true,\"available_offline\":false,\"is_career_track\":true,\"course_group_id\":3,\"classroom_icon_url\":\"https://files.codingninjas.com/competitive-programming-11703.svg\"},{\"id\":41,\"title\":\"Premium Competitive Course\",\"online_title\":\"premium-competitive-course\",\"offline_title\":\"\",\"name\":\"Premium Competitive Programming Course\",\"level\":\"Foundation Courses\",\"brief_intro\":\"\",\"preview_image_url\":\"\",\"available_online\":true,\"available_offline\":false,\"is_career_track\":false,\"course_group_id\":7,\"classroom_icon_url\":\"https://files.codingninjas.in/0000000000003765.png\"},{\"id\":42,\"title\":\"Premium Web Dev Course\",\"online_title\":\"premium-full-stack-web-development-course\",\"offline_title\":\"\",\"name\":\"Premium Full Stack Web Development\",\"level\":\"Foundation Courses\",\"brief_intro\":\"\",\"preview_image_url\":\"\",\"available_online\":true,\"available_offline\":false,\"is_career_track\":false,\"course_group_id\":7,\"classroom_icon_url\":\"https://files.codingninjas.in/0000000000003765.png\"},{\"id\":73,\"title\":\"System Design Course\",\"online_title\":\"system-design-course\",\"offline_title\":\"\",\"name\":\"System Design Course\",\"level\":\"Foundation Courses\",\"brief_intro\":\"Brief Intro\",\"preview_image_url\":\"https://ninjasfiles.s3.amazonaws.com/0000000000001178.png\",\"available_online\":true,\"available_offline\":false,\"is_career_track\":false,\"course_group_id\":1,\"classroom_icon_url\":\"https://files.codingninjas.com/system-design-icon-11401.svg\"},{\"id\":6,\"title\":\"Machine Learning\",\"online_title\":\"online-machine-learning-course\",\"offline_title\":\"classroom-machine-learning-course\",\"name\":\"Machine Learning \\u0026 Deep Learning Course\",\"level\":\"Advanced Courses\",\"brief_intro\":\"Machine learning engineers build, implement, and maintain machine learning systems in technology products.\",\"preview_image_url\":\"https://ninjasfiles.s3.amazonaws.com/0000000000001181.png\",\"available_online\":true,\"available_offline\":false,\"is_career_track\":false,\"course_group_id\":2,\"classroom_icon_url\":\"https://files.codingninjas.in/0000000000003766.png\"},{\"id\":2,\"title\":\"Java \\u0026 Data Structures\",\"online_title\":\"online-java-course\",\"offline_title\":\"classroom-java-course\",\"name\":\"JAVA Foundation with Data Structures\",\"level\":\"Foundation Courses\",\"brief_intro\":\"Brief Intro\",\"preview_image_url\":\"https://ninjasfiles.s3.amazonaws.com/0000000000001255.png\",\"available_online\":true,\"available_offline\":false,\"is_career_track\":false,\"course_group_id\":1,\"classroom_icon_url\":\"https://files.codingninjas.in/0000000000003772.png\"},{\"id\":12,\"title\":\"Web Dev (Full Stack)\",\"online_title\":\"online-full-stack-node-js-web-dev-course\",\"offline_title\":\"\",\"name\":\"Full Stack Web Development\",\"level\":\"Development Courses\",\"brief_intro\":\"Web Development\",\"preview_image_url\":\"https://ninjasfiles.s3.amazonaws.com/0000000000001179.png\",\"available_online\":true,\"available_offline\":false,\"is_career_track\":false,\"course_group_id\":2,\"classroom_icon_url\":\"https://files.codingninjas.in/0000000000003764.png\"},{\"id\":35,\"title\":\"Android Developer\",\"online_title\":\"online-android-development-career-track\",\"offline_title\":\"\",\"name\":\"Ninja Android Developer Career Track \",\"level\":\"Career Tracks\",\"brief_intro\":\"beginner to pro Android Developer!\",\"preview_image_url\":\"https://ninjasfiles.s3.amazonaws.com/0000000000001175.png\",\"available_online\":true,\"available_offline\":false,\"is_career_track\":true,\"course_group_id\":3,\"classroom_icon_url\":\"https://files.codingninjas.in/0000000000003774.png\"},{\"id\":4,\"title\":\"Interview Preparation\",\"online_title\":\"online-interview-preparation\",\"offline_title\":\"classroom-interview-preparation\",\"name\":\"Interview Preparation Course\",\"level\":\"Advanced Courses\",\"brief_intro\":\"Brief Intro\",\"preview_image_url\":\"https://ninjasfiles.s3.amazonaws.com/0000000000001178.png\",\"available_online\":true,\"available_offline\":false,\"is_career_track\":false,\"course_group_id\":1,\"classroom_icon_url\":\"https://files.codingninjas.in/0000000000003765.png\"},{\"id\":36,\"title\":\"Python \\u0026 Web Dev (MERN)\",\"online_title\":\"ninja-web-developer-career-track-mern-stack\",\"offline_title\":\"\",\"name\":\"Ninja  Web Developer Career Track - NodeJS \\u0026 ReactJs\",\"level\":\"Career Tracks\",\"brief_intro\":\"Programming foundation + MERN Stack Web Development complete Career Track\",\"preview_image_url\":\"https://ninjasfiles.s3.amazonaws.com/0000000000001179.png\",\"available_online\":true,\"available_offline\":false,\"is_career_track\":true,\"course_group_id\":3,\"classroom_icon_url\":\"https://files.codingninjas.in/0000000000003777.png\"},{\"id\":66,\"title\":\"Grokking the Operating Systems Interview\",\"online_title\":\"operating-system\",\"offline_title\":\"\",\"name\":\"Grokking the Operating Systems Interview\",\"level\":\"Foundation Courses\",\"brief_intro\":\"Brief Intro\",\"preview_image_url\":\"https://ninjasfiles.s3.amazonaws.com/0000000000001178.png\",\"available_online\":true,\"available_offline\":false,\"is_career_track\":false,\"course_group_id\":1,\"classroom_icon_url\":\"https://files.codingninjas.in/ubuntu-brands-10404.png\"},{\"id\":13,\"title\":\"Data Science\",\"online_title\":\"online-data-science-course\",\"offline_title\":\"\",\"name\":\"Data Science \\u0026 Machine Learning Complete\",\"level\":\"Advanced Courses\",\"brief_intro\":\"Brief Intro\",\"preview_image_url\":\"https://ninjasfiles.s3.amazonaws.com/0000000000001371.png\",\"available_online\":true,\"available_offline\":false,\"is_career_track\":false,\"course_group_id\":2,\"classroom_icon_url\":\"https://files.codingninjas.in/0000000000003763.png\"},{\"id\":17,\"title\":\"C++ \\u0026 Web Dev (Node.js)\",\"online_title\":\"web-developer-career-track\",\"offline_title\":\"\",\"name\":\"Ninja  Web Developer Career Track - NodeJS\",\"level\":\"Career Tracks\",\"brief_intro\":\"Programming foundation + Full Stack Web Development Career Track\",\"preview_image_url\":\"https://ninjasfiles.s3.amazonaws.com/0000000000001179.png\",\"available_online\":true,\"available_offline\":false,\"is_career_track\":true,\"course_group_id\":3,\"classroom_icon_url\":\"https://files.codingninjas.in/0000000000003777.png\"},{\"id\":10,\"title\":\"Competitive Programming\",\"online_title\":\"online-competitive-programming-course\",\"offline_title\":\"\",\"name\":\"Competitive Programming Course\",\"level\":\"Advanced Courses\",\"brief_intro\":\"Eminence\",\"preview_image_url\":\"https://ninjasfiles.s3.amazonaws.com/0000000000001177.png\",\"available_online\":true,\"available_offline\":false,\"is_career_track\":false,\"course_group_id\":1,\"classroom_icon_url\":\"https://files.codingninjas.in/0000000000003762.png\"},{\"id\":33,\"title\":\"Android (Kotlin)\",\"online_title\":\"online-android-Development-kotlin\",\"offline_title\":\"\",\"name\":\"Android Development with Kotlin\",\"level\":\"Development Courses\",\"brief_intro\":\"Android Development Kotlin\",\"preview_image_url\":\"https://ninjasfiles.s3.amazonaws.com/0000000000001175.png\",\"available_online\":true,\"available_offline\":false,\"is_career_track\":false,\"course_group_id\":2,\"classroom_icon_url\":\"https://files.codingninjas.in/0000000000003761.png\"},{\"id\":18,\"title\":\"Data Scientist\",\"online_title\":\"data-Scientist-career-track\",\"offline_title\":\"\",\"name\":\"Ninja Data Scientist Career Track\",\"level\":\"Career Tracks\",\"brief_intro\":\"Programming foundation + Data Science with ML career track\",\"preview_image_url\":\"https://ninjasfiles.s3.amazonaws.com/0000000000001371.png\",\"available_online\":true,\"available_offline\":false,\"is_career_track\":true,\"course_group_id\":3,\"classroom_icon_url\":\"https://files.codingninjas.in/0000000000003778.png\"},{\"id\":11,\"title\":\"Python \\u0026 Data Structures\",\"online_title\":\"online-python-course\",\"offline_title\":\"offline-python-course\",\"name\":\"Python Foundation with Data Structures\",\"level\":\"Foundation Courses\",\"brief_intro\":\"Python Foundation\",\"preview_image_url\":\"https://ninjasfiles.s3.amazonaws.com/0000000000001282.png\",\"available_online\":true,\"available_offline\":false,\"is_career_track\":false,\"course_group_id\":1,\"classroom_icon_url\":\"https://files.codingninjas.in/0000000000003773.png\"},{\"id\":21,\"title\":\"Aptitude Preparation\",\"online_title\":\"online-aptitude-preparation\",\"offline_title\":\"\",\"name\":\"Aptitude Preparation Course\",\"level\":\"Foundation Courses\",\"brief_intro\":\"Brief Intro\",\"preview_image_url\":\"https://ninjasfiles.s3.amazonaws.com/0000000000001178.png\",\"available_online\":true,\"available_offline\":false,\"is_career_track\":false,\"course_group_id\":1,\"classroom_icon_url\":\"https://files.codingninjas.in/0000000000003770.png\"},{\"id\":19,\"title\":\"Machine Learning\",\"online_title\":\"machine-learning-engineer-career-track\",\"offline_title\":\"\",\"name\":\"Ninja Machine Learning Engineer Career Track\",\"level\":\"Career Tracks\",\"brief_intro\":\"Programming foundation + Machine Learning career track\",\"preview_image_url\":\"https://ninjasfiles.s3.amazonaws.com/0000000000001181.png\",\"available_online\":true,\"available_offline\":false,\"is_career_track\":true,\"course_group_id\":3,\"classroom_icon_url\":\"https://files.codingninjas.in/0000000000003776.png\"}],\"course_groups\":[{\"id\":1,\"name\":\"Foundation, Algorithmic \\u0026 Advanced\",\"order\":1,\"course_ids\":[1,73,2,4,66,10,11,21],\"json_data\":{\"color\":\"#FFEBC2\",\"image_link\":\"https://ninjasfiles.s3.amazonaws.com/0000000000003821.png\",\"text_color\":\"#AC933C\",\"short_description\":\"Foundation courses are designed such that \\u003cstrong\\u003eno prerequisites are required.\\u003c/strong\\u003e Data Structures(DS) and Algorithms(algo.) parts build on the basics to give you a \\u003cstrong\\u003esolid programming foundation\\u003c/strong\\u003e. Competitive is where you start to \\u003cstrong\\u003epush the boundaries!\\u003c/strong\\u003e\",\"mobile_short_description\":\"Foundation courses are designed such that \\u003cspan\\u003eno prerequisites are required.\\u003c/span\\u003e\"},\"is_independent\":false},{\"id\":2,\"name\":\"Data \\u0026 Development\",\"order\":2,\"course_ids\":[34,6,12,13,33],\"json_data\":{\"color\":\"#80D4B1\",\"image_link\":\"https://files.codingninjas.in/0000000000003846.svg\",\"text_color\":\"#257D68\",\"short_description\":\"Data courses dwell in the state of the art algorithms and require good knowledge of programming fundamentals. Web development courses use modern JavaScript to build powerful and fast applications from the ground up. \\u003cstrong\\u003eNo prior development experience needed\\u003c/strong\\u003e\",\"mobile_short_description\":\"Data courses dwell in the state of the art algorithms and require good knowledge of programming fundamentals. Web development courses use modern JavaScript to build powerful and fast applications from the ground up. \\u003cspan\\u003eNo prior development experience needed\\u003c/span\\u003e\"},\"is_independent\":false},{\"id\":3,\"name\":\"Career Track\",\"order\":3,\"course_ids\":[16,35,36,17,18,19],\"json_data\":{\"color\":\"#C898FF\",\"image_link\":\"https://files.codingninjas.in/0000000000003845.svg\",\"text_color\":\"#603CAC\",\"short_description\":\"These are courses that take you from \\u003cstrong\\u003ezero to hero\\u003c/strong\\u003e. Each track is designed specifically to cater to a particular goal you can choose and \\u003cstrong\\u003ecovers everything you need to learn and assumes no prior knowledge.\\u003c/strong\\u003e\",\"mobile_short_description\":\"Each track is designed specifically to cater to a particular goal you can choose and \\u003cspan\\u003ecovers everything you need to learn and assumes no prior knowledge.\\u003c/span\\u003e\"},\"is_independent\":true},{\"id\":7,\"name\":\"Premium Course\",\"order\":null,\"course_ids\":[45,40,44,43,41,42],\"json_data\":null,\"is_independent\":true}]},\"message\":\"Courses\",\"status\":200,\"error\":null,\"disabled\":false,\"update\":false,\"external_rating\":null}\n"
     ]
    }
   ],
   "source": [
    "# Make a get request and print status code, encoding, text, url and headers\n",
    "response=requests.get('https://codingninjas.in/api/v3/courses')\n",
    "print(response.status_code)\n",
    "print(response.encoding)\n",
    "print(response.url)\n",
    "print(response.headers)\n",
    "print(type(response.headers))\n",
    "print(response.text)"
   ]
  },
  {
   "cell_type": "code",
   "execution_count": 9,
   "metadata": {},
   "outputs": [],
   "source": [
    "# Header keys in JSON response after API call, are case insensitive."
   ]
  },
  {
   "cell_type": "code",
   "execution_count": 10,
   "metadata": {},
   "outputs": [],
   "source": [
    "# In JSON format key is always a string"
   ]
  },
  {
   "cell_type": "code",
   "execution_count": 14,
   "metadata": {},
   "outputs": [
    {
     "name": "stdout",
     "output_type": "stream",
     "text": [
      "<class 'dict'>\n",
      "{'student': 'Mohit'}\n",
      "Mohit\n"
     ]
    }
   ],
   "source": [
    "# How to convert json data to python data\n",
    "import json\n",
    "json_data='{\"student\":\"Mohit\"}'\n",
    "python_data=json.loads(json_data)\n",
    "\n",
    "print(type(python_data))\n",
    "print(python_data)\n",
    "print(python_data['student'])\\\n",
    "\n",
    "# Array in JSON is converted to list, tuple in python\n",
    "# Object in JSON is converted to dictionary in Python\n",
    "# Number in JSON is converted to interger, float in python\n",
    "# String in JSON is converted to str in python\n",
    "# Null in JSON is converted to None in python"
   ]
  },
  {
   "cell_type": "code",
   "execution_count": 15,
   "metadata": {},
   "outputs": [
    {
     "name": "stdout",
     "output_type": "stream",
     "text": [
      "<class 'dict'>\n",
      "{'data': {'courses': [{'id': 1, 'title': 'C++ & Data Structures', 'online_title': 'onlline-c-plus-plus-course', 'offline_title': 'classroom-c-plus-plus-course', 'name': 'C++ Foundation with Data Structures', 'level': 'Foundation Courses', 'brief_intro': 'Brief Intro', 'preview_image_url': 'https://files.codingninjas.in/0000000000001176.png', 'available_online': True, 'available_offline': False, 'is_career_track': False, 'course_group_id': 1, 'classroom_icon_url': 'https://files.codingninjas.in/0000000000003771.png'}, {'id': 45, 'title': 'Premium Android Course', 'online_title': 'premium-android-app-development-course', 'offline_title': '', 'name': 'Premium Android App Development', 'level': 'Foundation Courses', 'brief_intro': '', 'preview_image_url': '', 'available_online': True, 'available_offline': False, 'is_career_track': False, 'course_group_id': 7, 'classroom_icon_url': 'https://files.codingninjas.in/0000000000003765.png'}, {'id': 40, 'title': 'Data structures and Algorithms [C++/Java/Python]', 'online_title': 'premium-foundation-course', 'offline_title': '', 'name': 'Premium Data structures and Algorithms [C++/Java/Python]', 'level': 'Foundation Courses', 'brief_intro': '', 'preview_image_url': '', 'available_online': True, 'available_offline': False, 'is_career_track': False, 'course_group_id': 7, 'classroom_icon_url': 'https://files.codingninjas.in/0000000000003765.png'}, {'id': 44, 'title': 'Premium Machine Learning Course', 'online_title': 'premium-machine-learning-course', 'offline_title': '', 'name': 'Premium Machine Learning Course', 'level': 'Foundation Courses', 'brief_intro': '', 'preview_image_url': '', 'available_online': True, 'available_offline': False, 'is_career_track': False, 'course_group_id': 7, 'classroom_icon_url': 'https://files.codingninjas.in/0000000000003765.png'}, {'id': 43, 'title': 'Premium Data Science Course', 'online_title': 'premium-data-science-course', 'offline_title': '', 'name': 'Premium Data Science Course', 'level': 'Foundation Courses', 'brief_intro': '', 'preview_image_url': '', 'available_online': True, 'available_offline': False, 'is_career_track': False, 'course_group_id': 7, 'classroom_icon_url': 'https://files.codingninjas.com/data-science-11645.png'}, {'id': 34, 'title': 'Front End (React)', 'online_title': 'online-web-dev-with-react', 'offline_title': '', 'name': 'Advanced  Front-End Web Development with React', 'level': 'Development Courses', 'brief_intro': 'Advanced  Front-End Web Development with React', 'preview_image_url': 'https://ninjasfiles.s3.amazonaws.com/0000000000001179.png', 'available_online': True, 'available_offline': False, 'is_career_track': False, 'course_group_id': 2, 'classroom_icon_url': 'https://files.codingninjas.in/0000000000003769.png'}, {'id': 16, 'title': 'Competitive Programmer', 'online_title': 'online-competitive-programming-track', 'offline_title': '', 'name': 'Ninja Competitive Programmer Track', 'level': 'Career Tracks', 'brief_intro': 'Competitive Track', 'preview_image_url': 'https://files.codingninjas.in/0000000000001177.png', 'available_online': True, 'available_offline': False, 'is_career_track': True, 'course_group_id': 3, 'classroom_icon_url': 'https://files.codingninjas.com/competitive-programming-11703.svg'}, {'id': 41, 'title': 'Premium Competitive Course', 'online_title': 'premium-competitive-course', 'offline_title': '', 'name': 'Premium Competitive Programming Course', 'level': 'Foundation Courses', 'brief_intro': '', 'preview_image_url': '', 'available_online': True, 'available_offline': False, 'is_career_track': False, 'course_group_id': 7, 'classroom_icon_url': 'https://files.codingninjas.in/0000000000003765.png'}, {'id': 42, 'title': 'Premium Web Dev Course', 'online_title': 'premium-full-stack-web-development-course', 'offline_title': '', 'name': 'Premium Full Stack Web Development', 'level': 'Foundation Courses', 'brief_intro': '', 'preview_image_url': '', 'available_online': True, 'available_offline': False, 'is_career_track': False, 'course_group_id': 7, 'classroom_icon_url': 'https://files.codingninjas.in/0000000000003765.png'}, {'id': 73, 'title': 'System Design Course', 'online_title': 'system-design-course', 'offline_title': '', 'name': 'System Design Course', 'level': 'Foundation Courses', 'brief_intro': 'Brief Intro', 'preview_image_url': 'https://ninjasfiles.s3.amazonaws.com/0000000000001178.png', 'available_online': True, 'available_offline': False, 'is_career_track': False, 'course_group_id': 1, 'classroom_icon_url': 'https://files.codingninjas.com/system-design-icon-11401.svg'}, {'id': 6, 'title': 'Machine Learning', 'online_title': 'online-machine-learning-course', 'offline_title': 'classroom-machine-learning-course', 'name': 'Machine Learning & Deep Learning Course', 'level': 'Advanced Courses', 'brief_intro': 'Machine learning engineers build, implement, and maintain machine learning systems in technology products.', 'preview_image_url': 'https://ninjasfiles.s3.amazonaws.com/0000000000001181.png', 'available_online': True, 'available_offline': False, 'is_career_track': False, 'course_group_id': 2, 'classroom_icon_url': 'https://files.codingninjas.in/0000000000003766.png'}, {'id': 2, 'title': 'Java & Data Structures', 'online_title': 'online-java-course', 'offline_title': 'classroom-java-course', 'name': 'JAVA Foundation with Data Structures', 'level': 'Foundation Courses', 'brief_intro': 'Brief Intro', 'preview_image_url': 'https://ninjasfiles.s3.amazonaws.com/0000000000001255.png', 'available_online': True, 'available_offline': False, 'is_career_track': False, 'course_group_id': 1, 'classroom_icon_url': 'https://files.codingninjas.in/0000000000003772.png'}, {'id': 12, 'title': 'Web Dev (Full Stack)', 'online_title': 'online-full-stack-node-js-web-dev-course', 'offline_title': '', 'name': 'Full Stack Web Development', 'level': 'Development Courses', 'brief_intro': 'Web Development', 'preview_image_url': 'https://ninjasfiles.s3.amazonaws.com/0000000000001179.png', 'available_online': True, 'available_offline': False, 'is_career_track': False, 'course_group_id': 2, 'classroom_icon_url': 'https://files.codingninjas.in/0000000000003764.png'}, {'id': 35, 'title': 'Android Developer', 'online_title': 'online-android-development-career-track', 'offline_title': '', 'name': 'Ninja Android Developer Career Track ', 'level': 'Career Tracks', 'brief_intro': 'beginner to pro Android Developer!', 'preview_image_url': 'https://ninjasfiles.s3.amazonaws.com/0000000000001175.png', 'available_online': True, 'available_offline': False, 'is_career_track': True, 'course_group_id': 3, 'classroom_icon_url': 'https://files.codingninjas.in/0000000000003774.png'}, {'id': 4, 'title': 'Interview Preparation', 'online_title': 'online-interview-preparation', 'offline_title': 'classroom-interview-preparation', 'name': 'Interview Preparation Course', 'level': 'Advanced Courses', 'brief_intro': 'Brief Intro', 'preview_image_url': 'https://ninjasfiles.s3.amazonaws.com/0000000000001178.png', 'available_online': True, 'available_offline': False, 'is_career_track': False, 'course_group_id': 1, 'classroom_icon_url': 'https://files.codingninjas.in/0000000000003765.png'}, {'id': 36, 'title': 'Python & Web Dev (MERN)', 'online_title': 'ninja-web-developer-career-track-mern-stack', 'offline_title': '', 'name': 'Ninja  Web Developer Career Track - NodeJS & ReactJs', 'level': 'Career Tracks', 'brief_intro': 'Programming foundation + MERN Stack Web Development complete Career Track', 'preview_image_url': 'https://ninjasfiles.s3.amazonaws.com/0000000000001179.png', 'available_online': True, 'available_offline': False, 'is_career_track': True, 'course_group_id': 3, 'classroom_icon_url': 'https://files.codingninjas.in/0000000000003777.png'}, {'id': 66, 'title': 'Grokking the Operating Systems Interview', 'online_title': 'operating-system', 'offline_title': '', 'name': 'Grokking the Operating Systems Interview', 'level': 'Foundation Courses', 'brief_intro': 'Brief Intro', 'preview_image_url': 'https://ninjasfiles.s3.amazonaws.com/0000000000001178.png', 'available_online': True, 'available_offline': False, 'is_career_track': False, 'course_group_id': 1, 'classroom_icon_url': 'https://files.codingninjas.in/ubuntu-brands-10404.png'}, {'id': 13, 'title': 'Data Science', 'online_title': 'online-data-science-course', 'offline_title': '', 'name': 'Data Science & Machine Learning Complete', 'level': 'Advanced Courses', 'brief_intro': 'Brief Intro', 'preview_image_url': 'https://ninjasfiles.s3.amazonaws.com/0000000000001371.png', 'available_online': True, 'available_offline': False, 'is_career_track': False, 'course_group_id': 2, 'classroom_icon_url': 'https://files.codingninjas.in/0000000000003763.png'}, {'id': 17, 'title': 'C++ & Web Dev (Node.js)', 'online_title': 'web-developer-career-track', 'offline_title': '', 'name': 'Ninja  Web Developer Career Track - NodeJS', 'level': 'Career Tracks', 'brief_intro': 'Programming foundation + Full Stack Web Development Career Track', 'preview_image_url': 'https://ninjasfiles.s3.amazonaws.com/0000000000001179.png', 'available_online': True, 'available_offline': False, 'is_career_track': True, 'course_group_id': 3, 'classroom_icon_url': 'https://files.codingninjas.in/0000000000003777.png'}, {'id': 10, 'title': 'Competitive Programming', 'online_title': 'online-competitive-programming-course', 'offline_title': '', 'name': 'Competitive Programming Course', 'level': 'Advanced Courses', 'brief_intro': 'Eminence', 'preview_image_url': 'https://ninjasfiles.s3.amazonaws.com/0000000000001177.png', 'available_online': True, 'available_offline': False, 'is_career_track': False, 'course_group_id': 1, 'classroom_icon_url': 'https://files.codingninjas.in/0000000000003762.png'}, {'id': 33, 'title': 'Android (Kotlin)', 'online_title': 'online-android-Development-kotlin', 'offline_title': '', 'name': 'Android Development with Kotlin', 'level': 'Development Courses', 'brief_intro': 'Android Development Kotlin', 'preview_image_url': 'https://ninjasfiles.s3.amazonaws.com/0000000000001175.png', 'available_online': True, 'available_offline': False, 'is_career_track': False, 'course_group_id': 2, 'classroom_icon_url': 'https://files.codingninjas.in/0000000000003761.png'}, {'id': 18, 'title': 'Data Scientist', 'online_title': 'data-Scientist-career-track', 'offline_title': '', 'name': 'Ninja Data Scientist Career Track', 'level': 'Career Tracks', 'brief_intro': 'Programming foundation + Data Science with ML career track', 'preview_image_url': 'https://ninjasfiles.s3.amazonaws.com/0000000000001371.png', 'available_online': True, 'available_offline': False, 'is_career_track': True, 'course_group_id': 3, 'classroom_icon_url': 'https://files.codingninjas.in/0000000000003778.png'}, {'id': 11, 'title': 'Python & Data Structures', 'online_title': 'online-python-course', 'offline_title': 'offline-python-course', 'name': 'Python Foundation with Data Structures', 'level': 'Foundation Courses', 'brief_intro': 'Python Foundation', 'preview_image_url': 'https://ninjasfiles.s3.amazonaws.com/0000000000001282.png', 'available_online': True, 'available_offline': False, 'is_career_track': False, 'course_group_id': 1, 'classroom_icon_url': 'https://files.codingninjas.in/0000000000003773.png'}, {'id': 21, 'title': 'Aptitude Preparation', 'online_title': 'online-aptitude-preparation', 'offline_title': '', 'name': 'Aptitude Preparation Course', 'level': 'Foundation Courses', 'brief_intro': 'Brief Intro', 'preview_image_url': 'https://ninjasfiles.s3.amazonaws.com/0000000000001178.png', 'available_online': True, 'available_offline': False, 'is_career_track': False, 'course_group_id': 1, 'classroom_icon_url': 'https://files.codingninjas.in/0000000000003770.png'}, {'id': 19, 'title': 'Machine Learning', 'online_title': 'machine-learning-engineer-career-track', 'offline_title': '', 'name': 'Ninja Machine Learning Engineer Career Track', 'level': 'Career Tracks', 'brief_intro': 'Programming foundation + Machine Learning career track', 'preview_image_url': 'https://ninjasfiles.s3.amazonaws.com/0000000000001181.png', 'available_online': True, 'available_offline': False, 'is_career_track': True, 'course_group_id': 3, 'classroom_icon_url': 'https://files.codingninjas.in/0000000000003776.png'}], 'course_groups': [{'id': 1, 'name': 'Foundation, Algorithmic & Advanced', 'order': 1, 'course_ids': [1, 73, 2, 4, 66, 10, 11, 21], 'json_data': {'color': '#FFEBC2', 'image_link': 'https://ninjasfiles.s3.amazonaws.com/0000000000003821.png', 'text_color': '#AC933C', 'short_description': 'Foundation courses are designed such that\\xa0<strong>no prerequisites are required.</strong>\\xa0Data Structures(DS) and Algorithms(algo.) parts build on the basics to give you a\\xa0<strong>solid programming foundation</strong>.\\xa0Competitive is where you start to\\xa0<strong>push the boundaries!</strong>', 'mobile_short_description': 'Foundation courses are designed such that\\xa0<span>no prerequisites are required.</span>'}, 'is_independent': False}, {'id': 2, 'name': 'Data & Development', 'order': 2, 'course_ids': [34, 6, 12, 13, 33], 'json_data': {'color': '#80D4B1', 'image_link': 'https://files.codingninjas.in/0000000000003846.svg', 'text_color': '#257D68', 'short_description': 'Data courses dwell in the state of the art algorithms and require good knowledge of programming fundamentals. Web development courses use modern JavaScript to build powerful and fast applications from the ground up.\\xa0<strong>No prior development experience needed</strong>', 'mobile_short_description': 'Data courses dwell in the state of the art algorithms and require good knowledge of programming fundamentals. Web development courses use modern JavaScript to build powerful and fast applications from the ground up.\\xa0<span>No prior development experience needed</span>'}, 'is_independent': False}, {'id': 3, 'name': 'Career Track', 'order': 3, 'course_ids': [16, 35, 36, 17, 18, 19], 'json_data': {'color': '#C898FF', 'image_link': 'https://files.codingninjas.in/0000000000003845.svg', 'text_color': '#603CAC', 'short_description': 'These are courses that take you from\\xa0<strong>zero to hero</strong>. Each track is designed specifically to cater to a particular goal you can choose and\\xa0<strong>covers everything you need to learn and assumes no prior knowledge.</strong>', 'mobile_short_description': 'Each track is designed specifically to cater to a particular goal you can choose and\\xa0<span>covers everything you need to learn and assumes no prior knowledge.</span>'}, 'is_independent': True}, {'id': 7, 'name': 'Premium Course', 'order': None, 'course_ids': [45, 40, 44, 43, 41, 42], 'json_data': None, 'is_independent': True}]}, 'message': 'Courses', 'status': 200, 'error': None, 'disabled': False, 'update': False, 'external_rating': None}\n"
     ]
    }
   ],
   "source": [
    "import json\n",
    "response=requests.get('https://codingninjas.in/api/v3/courses')\n",
    "data=json.loads(response.text)\n",
    "print(type(data))\n",
    "print(data)"
   ]
  },
  {
   "cell_type": "code",
   "execution_count": 19,
   "metadata": {},
   "outputs": [
    {
     "name": "stdout",
     "output_type": "stream",
     "text": [
      "C++ & Data Structures\n",
      "Premium Android Course\n",
      "Data structures and Algorithms [C++/Java/Python]\n",
      "Premium Machine Learning Course\n",
      "Premium Data Science Course\n",
      "Front End (React)\n",
      "Competitive Programmer\n",
      "Premium Competitive Course\n",
      "Premium Web Dev Course\n",
      "System Design Course\n",
      "Machine Learning\n",
      "Java & Data Structures\n",
      "Web Dev (Full Stack)\n",
      "Android Developer\n",
      "Interview Preparation\n",
      "Python & Web Dev (MERN)\n",
      "Grokking the Operating Systems Interview\n",
      "Data Science\n",
      "C++ & Web Dev (Node.js)\n",
      "Competitive Programming\n",
      "Android (Kotlin)\n",
      "Data Scientist\n",
      "Python & Data Structures\n",
      "Aptitude Preparation\n",
      "Machine Learning\n"
     ]
    }
   ],
   "source": [
    "# print all courses\n",
    "courses=data['data']['courses']\n",
    "for i in courses:\n",
    "    print(i['title'])"
   ]
  },
  {
   "cell_type": "code",
   "execution_count": 23,
   "metadata": {},
   "outputs": [
    {
     "name": "stdout",
     "output_type": "stream",
     "text": [
      "<class 'dict'>\n",
      "C++ & Data Structures\n",
      "Premium Android Course\n",
      "Data structures and Algorithms [C++/Java/Python]\n",
      "Premium Machine Learning Course\n",
      "Premium Data Science Course\n",
      "Front End (React)\n",
      "Competitive Programmer\n",
      "Premium Competitive Course\n",
      "Premium Web Dev Course\n",
      "System Design Course\n",
      "Machine Learning\n",
      "Java & Data Structures\n",
      "Web Dev (Full Stack)\n",
      "Android Developer\n",
      "Interview Preparation\n",
      "Python & Web Dev (MERN)\n",
      "Grokking the Operating Systems Interview\n",
      "Data Science\n",
      "C++ & Web Dev (Node.js)\n",
      "Competitive Programming\n",
      "Android (Kotlin)\n",
      "Data Scientist\n",
      "Python & Data Structures\n",
      "Aptitude Preparation\n",
      "Machine Learning\n"
     ]
    }
   ],
   "source": [
    "response=requests.get('https://codingninjas.in/api/v3/courses')\n",
    "data=response.json() # This will work same as json.loads() but if data is not a json type then it will fail.\n",
    "# json() is provided by requests library\n",
    "print(type(data))\n",
    "# print(data)\n",
    "courses=data['data']['courses']\n",
    "for i in courses:\n",
    "    print(i['title'])"
   ]
  },
  {
   "cell_type": "code",
   "execution_count": 31,
   "metadata": {},
   "outputs": [
    {
     "name": "stdout",
     "output_type": "stream",
     "text": [
      "{'meta': {'name': 'openaq-api', 'license': 'CC BY 4.0d', 'website': 'api.openaq.org', 'page': 1, 'limit': 1, 'found': 3}, 'results': [{'country': 'AE', 'name': 'Abu Dhabi', 'city': 'Abu Dhabi', 'count': 185878, 'locations': 1}]}\n",
      "https://api.openaq.org/v1/cities?country=AE&limit=1\n"
     ]
    }
   ],
   "source": [
    "# Passing parameters\n",
    "\n",
    "res=requests.get('https://api.openaq.org/v1/cities',params={\"country\":\"AE\",\"limit\":1})\n",
    "print(res.json())\n",
    "print(res.url)\n",
    "# Parameters is passed to argument params in form of key-value pair"
   ]
  },
  {
   "cell_type": "code",
   "execution_count": 35,
   "metadata": {},
   "outputs": [
    {
     "name": "stdout",
     "output_type": "stream",
     "text": [
      "403\n"
     ]
    }
   ],
   "source": [
    "a=requests.get('https://api.nasa.gov/planetary/apod')\n",
    "print(a.status_code)"
   ]
  },
  {
   "cell_type": "code",
   "execution_count": 37,
   "metadata": {},
   "outputs": [
    {
     "name": "stdout",
     "output_type": "stream",
     "text": [
      "200\n",
      "https://api.nasa.gov/planetary/apod?api_key=DEMO_KEY\n"
     ]
    }
   ],
   "source": [
    "a=requests.get('https://api.nasa.gov/planetary/apod',params={\"api_key\":\"DEMO_KEY\"})\n",
    "print(a.status_code)\n",
    "print(a.url)"
   ]
  },
  {
   "cell_type": "code",
   "execution_count": 38,
   "metadata": {},
   "outputs": [
    {
     "name": "stdout",
     "output_type": "stream",
     "text": [
      "<Response [200]>\n",
      "{\n",
      "  \"args\": {}, \n",
      "  \"data\": \"\", \n",
      "  \"files\": {}, \n",
      "  \"form\": {}, \n",
      "  \"headers\": {\n",
      "    \"Accept\": \"*/*\", \n",
      "    \"Accept-Encoding\": \"gzip, deflate\", \n",
      "    \"Content-Length\": \"0\", \n",
      "    \"Host\": \"httpbin.org\", \n",
      "    \"User-Agent\": \"python-requests/2.22.0\", \n",
      "    \"X-Amzn-Trace-Id\": \"Root=1-6352e4a0-2c47f9957915115f31d6488f\"\n",
      "  }, \n",
      "  \"json\": null, \n",
      "  \"origin\": \"157.37.191.51\", \n",
      "  \"url\": \"http://httpbin.org/post\"\n",
      "}\n",
      "\n"
     ]
    }
   ],
   "source": [
    "# How to make post request in python\n",
    "res=requests.post('http://httpbin.org/post')\n",
    "print(res)\n",
    "print(res.text)"
   ]
  },
  {
   "cell_type": "code",
   "execution_count": 39,
   "metadata": {},
   "outputs": [
    {
     "name": "stdout",
     "output_type": "stream",
     "text": [
      "<Response [200]>\n",
      "{\n",
      "  \"args\": {}, \n",
      "  \"data\": \"\", \n",
      "  \"files\": {}, \n",
      "  \"form\": {\n",
      "    \"key1\": \"val1\", \n",
      "    \"key2\": \"val2\"\n",
      "  }, \n",
      "  \"headers\": {\n",
      "    \"Accept\": \"*/*\", \n",
      "    \"Accept-Encoding\": \"gzip, deflate\", \n",
      "    \"Content-Length\": \"19\", \n",
      "    \"Content-Type\": \"application/x-www-form-urlencoded\", \n",
      "    \"Host\": \"httpbin.org\", \n",
      "    \"User-Agent\": \"python-requests/2.22.0\", \n",
      "    \"X-Amzn-Trace-Id\": \"Root=1-6352e503-6761e96131c0a4d86fb98bf5\"\n",
      "  }, \n",
      "  \"json\": null, \n",
      "  \"origin\": \"157.37.191.51\", \n",
      "  \"url\": \"http://httpbin.org/post\"\n",
      "}\n",
      "\n"
     ]
    }
   ],
   "source": [
    "res=requests.post('http://httpbin.org/post',data={'key1':'val1','key2':'val2'})\n",
    "print(res)\n",
    "print(res.text)\n",
    "# In post request we need to give data in form of key-value pair to data argument"
   ]
  },
  {
   "cell_type": "code",
   "execution_count": 40,
   "metadata": {},
   "outputs": [
    {
     "name": "stdout",
     "output_type": "stream",
     "text": [
      "<Response [200]>\n",
      "{\n",
      "  \"args\": {}, \n",
      "  \"data\": \"\", \n",
      "  \"files\": {}, \n",
      "  \"form\": {\n",
      "    \"key1\": [\n",
      "      \"val1\", \n",
      "      \"val3\"\n",
      "    ], \n",
      "    \"key2\": \"val2\"\n",
      "  }, \n",
      "  \"headers\": {\n",
      "    \"Accept\": \"*/*\", \n",
      "    \"Accept-Encoding\": \"gzip, deflate\", \n",
      "    \"Content-Length\": \"29\", \n",
      "    \"Content-Type\": \"application/x-www-form-urlencoded\", \n",
      "    \"Host\": \"httpbin.org\", \n",
      "    \"User-Agent\": \"python-requests/2.22.0\", \n",
      "    \"X-Amzn-Trace-Id\": \"Root=1-6352e55c-59e80e8a556e2fd772f1d6df\"\n",
      "  }, \n",
      "  \"json\": null, \n",
      "  \"origin\": \"157.37.191.51\", \n",
      "  \"url\": \"http://httpbin.org/post\"\n",
      "}\n",
      "\n"
     ]
    }
   ],
   "source": [
    "res=requests.post('http://httpbin.org/post',data={'key1':['val1','val3'],'key2':'val2'})\n",
    "print(res)\n",
    "print(res.text)"
   ]
  },
  {
   "cell_type": "code",
   "execution_count": null,
   "metadata": {},
   "outputs": [],
   "source": []
  },
  {
   "cell_type": "markdown",
   "metadata": {},
   "source": [
    "FREE API\n",
    "1. https://docs.openaq.org/reference/averages_v2_get_v2_averages_get  "
   ]
  }
 ],
 "metadata": {
  "kernelspec": {
   "display_name": "Python 3",
   "language": "python",
   "name": "python3"
  },
  "language_info": {
   "codemirror_mode": {
    "name": "ipython",
    "version": 3
   },
   "file_extension": ".py",
   "mimetype": "text/x-python",
   "name": "python",
   "nbconvert_exporter": "python",
   "pygments_lexer": "ipython3",
   "version": "3.7.6"
  }
 },
 "nbformat": 4,
 "nbformat_minor": 4
}
