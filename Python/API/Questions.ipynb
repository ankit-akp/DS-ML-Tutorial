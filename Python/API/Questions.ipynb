{
 "cells": [
  {
   "cell_type": "markdown",
   "metadata": {},
   "source": [
    "# Content Type\n",
    "Print the content-type received after making a get request to url = https://codingninjas.in/api/v3/events  \n",
    "Note : content-type can be found in header information of response object.  "
   ]
  },
  {
   "cell_type": "code",
   "execution_count": 1,
   "metadata": {},
   "outputs": [
    {
     "name": "stdout",
     "output_type": "stream",
     "text": [
      "application/json\n"
     ]
    }
   ],
   "source": [
    "import requests\n",
    "\n",
    "response=requests.get('https://codingninjas.in/api/v3/events')\n",
    "\n",
    "headers_data=response.headers\n",
    "print(headers_data['content-type'])"
   ]
  },
  {
   "cell_type": "markdown",
   "metadata": {},
   "source": [
    "# Hound Sub Breed\n",
    "Print all sub-breeds of hound by making a get request to given URL.  \n",
    "URL : https://dog.ceo/api/breeds/list/all  \n",
    "Print name of sub-breeds in different lines.  "
   ]
  },
  {
   "cell_type": "code",
   "execution_count": 2,
   "metadata": {},
   "outputs": [
    {
     "name": "stdout",
     "output_type": "stream",
     "text": [
      "afghan\n",
      "basset\n",
      "blood\n",
      "english\n",
      "ibizan\n",
      "plott\n",
      "walker\n"
     ]
    }
   ],
   "source": [
    "import requests as req\n",
    "\n",
    "response=req.get('https://dog.ceo/api/breeds/list/all')\n",
    "data=response.json()\n",
    "for i in data['message']['hound']:\n",
    "    print(i)"
   ]
  },
  {
   "cell_type": "markdown",
   "metadata": {},
   "source": [
    "# Poodle Sub Breed Counts\n",
    "Print the count of total sub-breeds of poodle from this URL : https://dog.ceo/api/breeds/list/all/."
   ]
  },
  {
   "cell_type": "code",
   "execution_count": 4,
   "metadata": {},
   "outputs": [
    {
     "name": "stdout",
     "output_type": "stream",
     "text": [
      "4\n"
     ]
    }
   ],
   "source": [
    "import requests as req\n",
    "\n",
    "response=req.get('https://dog.ceo/api/breeds/list/all')\n",
    "data=response.json()\n",
    "subbreeds=data['message']['poodle']\n",
    "print(len(subbreeds))"
   ]
  },
  {
   "cell_type": "markdown",
   "metadata": {},
   "source": [
    "# CN Online Courses\n",
    "Print name of all online courses offered by Coding Ninjas. You can fetch the data using their open API :\n",
    "https://api.codingninjas.com/api/v3/courses ."
   ]
  },
  {
   "cell_type": "code",
   "execution_count": 11,
   "metadata": {},
   "outputs": [
    {
     "name": "stdout",
     "output_type": "stream",
     "text": [
      "C++ Foundation with Data Structures\n",
      "Premium Android App Development\n",
      "Premium Data structures and Algorithms [C++/Java/Python]\n",
      "Premium Machine Learning Course\n",
      "Premium Data Science Course\n",
      "Advanced  Front-End Web Development with React\n",
      "Ninja Competitive Programmer Track\n",
      "Premium Competitive Programming Course\n",
      "Premium Full Stack Web Development\n",
      "System Design Course\n",
      "Machine Learning & Deep Learning Course\n",
      "JAVA Foundation with Data Structures\n",
      "Full Stack Web Development\n",
      "Ninja Android Developer Career Track \n",
      "Interview Preparation Course\n",
      "Ninja  Web Developer Career Track - NodeJS & ReactJs\n",
      "Grokking the Operating Systems Interview\n",
      "Data Science & Machine Learning Complete\n",
      "Ninja  Web Developer Career Track - NodeJS\n",
      "Competitive Programming Course\n",
      "Android Development with Kotlin\n",
      "Ninja Data Scientist Career Track\n",
      "Python Foundation with Data Structures\n",
      "Aptitude Preparation Course\n",
      "Ninja Machine Learning Engineer Career Track\n"
     ]
    }
   ],
   "source": [
    "import requests as req\n",
    "res=req.get('https://api.codingninjas.com/api/v3/courses')\n",
    "data=res.json()\n",
    "courses=data['data']['courses']\n",
    "# print(courses)\n",
    "\n",
    "for i in courses:\n",
    "    print(i['name'])"
   ]
  },
  {
   "cell_type": "markdown",
   "metadata": {},
   "source": [
    "# Workshop Events\n",
    "Print description of first event from Coding Ninjas Events API\n",
    "If ther are no events in this API, then print \"No Events !\"\n",
    "Data can be fetched from this URL :\n",
    "https://api.codingninjas.com/api/v3/events?event_category=ALL_EVENTS&event_sub_category=All%20Time%20Favorites&tag_list=&offset=0&_ga=2.138195317.491946765.1666084414-1965896378.1657388315"
   ]
  },
  {
   "cell_type": "code",
   "execution_count": 14,
   "metadata": {},
   "outputs": [
    {
     "name": "stdout",
     "output_type": "stream",
     "text": [
      "Ready to solve fun, challenging problems?\n"
     ]
    }
   ],
   "source": [
    "import requests as req\n",
    "\n",
    "res=req.get('https://api.codingninjas.com/api/v3/events?event_category=ALL_EVENTS&event_sub_category=All%20Time%20Favorites&tag_list=&offset=0&_ga=2.138195317.491946765.1666084414-1965896378.1657388315')\n",
    "data=res.json()\n",
    "events=data['data']['events']\n",
    "if len(events)==0:\n",
    "    print('No Events !')\n",
    "else:\n",
    "    print(events[0]['short_desc'])"
   ]
  },
  {
   "cell_type": "markdown",
   "metadata": {},
   "source": [
    "# Title of Course\n",
    "Print the title of course with id=19.  \n",
    "URL : http://api.codingninjas.com/api/v3/courses  "
   ]
  },
  {
   "cell_type": "code",
   "execution_count": 19,
   "metadata": {},
   "outputs": [
    {
     "name": "stdout",
     "output_type": "stream",
     "text": [
      "Machine Learning\n"
     ]
    }
   ],
   "source": [
    "import requests as req\n",
    "\n",
    "res=req.get('http://api.codingninjas.com/api/v3/courses')\n",
    "data=res.json()\n",
    "courses=data['data']['courses']\n",
    "for i in courses:\n",
    "    if i['id']==19:\n",
    "        print(i['title'])"
   ]
  },
  {
   "cell_type": "markdown",
   "metadata": {},
   "source": [
    "# Total Number of Cities\n",
    "Count the total number of cities of country AU from this URL : https://api.openaq.org/docs#/v2/citiesgetv2citiesget"
   ]
  },
  {
   "cell_type": "code",
   "execution_count": 24,
   "metadata": {},
   "outputs": [
    {
     "name": "stdout",
     "output_type": "stream",
     "text": [
      "80\n"
     ]
    }
   ],
   "source": [
    "import requests as req\n",
    "res=req.get('https://api.openaq.org/v2/cities',{\"country\":\"AU\"})\n",
    "data=res.json()\n",
    "cities=data['results']\n",
    "print(len(cities))"
   ]
  },
  {
   "cell_type": "markdown",
   "metadata": {},
   "source": [
    "# Cities from BE\n",
    "Print first 5 cities from country “BE”. Fetch the result from given URL.  \n",
    "Order the results by city.  \n",
    "URL - https://api.openaq.org/v1/cities  \n",
    "Documentation - https://docs.openaq.org/  "
   ]
  },
  {
   "cell_type": "code",
   "execution_count": 30,
   "metadata": {},
   "outputs": [
    {
     "name": "stdout",
     "output_type": "stream",
     "text": [
      "Antwerpen\n",
      "Brabant wallon\n",
      "Brussels-Capital Region\n",
      "Flanders\n",
      "Hainaut\n"
     ]
    }
   ],
   "source": [
    "import requests as req\n",
    "res=req.get('https://api.openaq.org/v1/cities',params={\"order_by\":\"city\",\"country\":\"BE\"})\n",
    "data=res.json()\n",
    "cities=data['results']\n",
    "for i in range(5):\n",
    "    print(cities[i]['city'])"
   ]
  },
  {
   "cell_type": "markdown",
   "metadata": {},
   "source": [
    "# USA WOEID\n",
    "Make an API call to -  \n",
    "https://api.openweathermap.org/data/2.5/weather  \n",
    "\n",
    "Search for \"Hyderabad\" and print weather report and Temperature.  \n",
    "please go through the document to create your API Key and Print the answer.  \n",
    "Output format:  \n",
    "<City Name >  \n",
    "Temperature: < >  \n",
    "Weather Report: < >  "
   ]
  },
  {
   "cell_type": "code",
   "execution_count": 39,
   "metadata": {},
   "outputs": [
    {
     "name": "stdout",
     "output_type": "stream",
     "text": [
      "Hyderabad\n",
      "Temperature: 296.38\n",
      "Weather Report: mist\n"
     ]
    }
   ],
   "source": [
    "import requests as req\n",
    "API_KEY='1396ff6fc250b7c4a34f67f747eee2eb'\n",
    "param={'appid':API_KEY,'q':'Hyderabad'}\n",
    "res=req.get('https://api.openweathermap.org/data/2.5/weather',params=param)\n",
    "data=res.json()\n",
    "# print(data)\n",
    "print(data['name'])\n",
    "print('Temperature:',data['main']['temp'])\n",
    "print('Weather Report:',data['weather'][0]['description'])"
   ]
  },
  {
   "cell_type": "markdown",
   "metadata": {},
   "source": [
    "# Holiday\n",
    "\n",
    "Find name of holiday on 2nd October 2021 in country India.  \n",
    "You can read the documentation here : https://holidayapi.com/  "
   ]
  },
  {
   "cell_type": "code",
   "execution_count": 40,
   "metadata": {},
   "outputs": [
    {
     "name": "stdout",
     "output_type": "stream",
     "text": [
      "Mahatma Gandhi's Birthday\n"
     ]
    }
   ],
   "source": [
    "import requests\n",
    "res = requests.get('https://holidayapi.com/v1/holidays',params={'key':'425ddeb4-0a6f-4e75-ac1f-0bbf9f9bc512',\"country\":\"IN\",\"year\":2021,\"month\":10,\"day\":2 })\n",
    "data=res.json()\n",
    "print(data['holidays'][0]['name'])"
   ]
  }
 ],
 "metadata": {
  "kernelspec": {
   "display_name": "Python 3",
   "language": "python",
   "name": "python3"
  },
  "language_info": {
   "codemirror_mode": {
    "name": "ipython",
    "version": 3
   },
   "file_extension": ".py",
   "mimetype": "text/x-python",
   "name": "python",
   "nbconvert_exporter": "python",
   "pygments_lexer": "ipython3",
   "version": "3.7.6"
  }
 },
 "nbformat": 4,
 "nbformat_minor": 4
}
