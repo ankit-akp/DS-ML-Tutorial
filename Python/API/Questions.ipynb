{
 "cells": [
  {
   "cell_type": "markdown",
   "metadata": {},
   "source": [
    "# Content Type\n",
    "Print the content-type received after making a get request to url = https://codingninjas.in/api/v3/events  \n",
    "Note : content-type can be found in header information of response object.  "
   ]
  },
  {
   "cell_type": "code",
   "execution_count": 1,
   "metadata": {},
   "outputs": [
    {
     "name": "stdout",
     "output_type": "stream",
     "text": [
      "application/json\n"
     ]
    }
   ],
   "source": [
    "import requests\n",
    "\n",
    "response=requests.get('https://codingninjas.in/api/v3/events')\n",
    "\n",
    "headers_data=response.headers\n",
    "print(headers_data['content-type'])"
   ]
  },
  {
   "cell_type": "markdown",
   "metadata": {},
   "source": [
    "# Hound Sub Breed\n",
    "Print all sub-breeds of hound by making a get request to given URL.  \n",
    "URL : https://dog.ceo/api/breeds/list/all  \n",
    "Print name of sub-breeds in different lines.  "
   ]
  },
  {
   "cell_type": "code",
   "execution_count": 2,
   "metadata": {},
   "outputs": [
    {
     "name": "stdout",
     "output_type": "stream",
     "text": [
      "afghan\n",
      "basset\n",
      "blood\n",
      "english\n",
      "ibizan\n",
      "plott\n",
      "walker\n"
     ]
    }
   ],
   "source": [
    "import requests as req\n",
    "\n",
    "response=req.get('https://dog.ceo/api/breeds/list/all')\n",
    "data=response.json()\n",
    "for i in data['message']['hound']:\n",
    "    print(i)"
   ]
  },
  {
   "cell_type": "markdown",
   "metadata": {},
   "source": [
    "# Poodle Sub Breed Counts\n",
    "Print the count of total sub-breeds of poodle from this URL : https://dog.ceo/api/breeds/list/all/."
   ]
  },
  {
   "cell_type": "code",
   "execution_count": 4,
   "metadata": {},
   "outputs": [
    {
     "name": "stdout",
     "output_type": "stream",
     "text": [
      "4\n"
     ]
    }
   ],
   "source": [
    "import requests as req\n",
    "\n",
    "response=req.get('https://dog.ceo/api/breeds/list/all')\n",
    "data=response.json()\n",
    "subbreeds=data['message']['poodle']\n",
    "print(len(subbreeds))"
   ]
  },
  {
   "cell_type": "markdown",
   "metadata": {},
   "source": [
    "# CN Online Courses\n",
    "Print name of all online courses offered by Coding Ninjas. You can fetch the data using their open API :\n",
    "https://api.codingninjas.com/api/v3/courses ."
   ]
  },
  {
   "cell_type": "code",
   "execution_count": 11,
   "metadata": {},
   "outputs": [
    {
     "name": "stdout",
     "output_type": "stream",
     "text": [
      "C++ Foundation with Data Structures\n",
      "Premium Android App Development\n",
      "Premium Data structures and Algorithms [C++/Java/Python]\n",
      "Premium Machine Learning Course\n",
      "Premium Data Science Course\n",
      "Advanced  Front-End Web Development with React\n",
      "Ninja Competitive Programmer Track\n",
      "Premium Competitive Programming Course\n",
      "Premium Full Stack Web Development\n",
      "System Design Course\n",
      "Machine Learning & Deep Learning Course\n",
      "JAVA Foundation with Data Structures\n",
      "Full Stack Web Development\n",
      "Ninja Android Developer Career Track \n",
      "Interview Preparation Course\n",
      "Ninja  Web Developer Career Track - NodeJS & ReactJs\n",
      "Grokking the Operating Systems Interview\n",
      "Data Science & Machine Learning Complete\n",
      "Ninja  Web Developer Career Track - NodeJS\n",
      "Competitive Programming Course\n",
      "Android Development with Kotlin\n",
      "Ninja Data Scientist Career Track\n",
      "Python Foundation with Data Structures\n",
      "Aptitude Preparation Course\n",
      "Ninja Machine Learning Engineer Career Track\n"
     ]
    }
   ],
   "source": [
    "import requests as req\n",
    "res=req.get('https://api.codingninjas.com/api/v3/courses')\n",
    "data=res.json()\n",
    "courses=data['data']['courses']\n",
    "# print(courses)\n",
    "\n",
    "for i in courses:\n",
    "    print(i['name'])"
   ]
  },
  {
   "cell_type": "markdown",
   "metadata": {},
   "source": [
    "# Workshop Events\n",
    "Print description of first event from Coding Ninjas Events API\n",
    "If ther are no events in this API, then print \"No Events !\"\n",
    "Data can be fetched from this URL :\n",
    "https://api.codingninjas.com/api/v3/events?event_category=ALL_EVENTS&event_sub_category=All%20Time%20Favorites&tag_list=&offset=0&_ga=2.138195317.491946765.1666084414-1965896378.1657388315"
   ]
  },
  {
   "cell_type": "code",
   "execution_count": 14,
   "metadata": {},
   "outputs": [
    {
     "name": "stdout",
     "output_type": "stream",
     "text": [
      "Ready to solve fun, challenging problems?\n"
     ]
    }
   ],
   "source": [
    "import requests as req\n",
    "\n",
    "res=req.get('https://api.codingninjas.com/api/v3/events?event_category=ALL_EVENTS&event_sub_category=All%20Time%20Favorites&tag_list=&offset=0&_ga=2.138195317.491946765.1666084414-1965896378.1657388315')\n",
    "data=res.json()\n",
    "events=data['data']['events']\n",
    "if len(events)==0:\n",
    "    print('No Events !')\n",
    "else:\n",
    "    print(events[0]['short_desc'])"
   ]
  },
  {
   "cell_type": "markdown",
   "metadata": {},
   "source": [
    "# Title of Course\n",
    "Print the title of course with id=19.  \n",
    "URL : http://api.codingninjas.com/api/v3/courses  "
   ]
  },
  {
   "cell_type": "code",
   "execution_count": 19,
   "metadata": {},
   "outputs": [
    {
     "name": "stdout",
     "output_type": "stream",
     "text": [
      "Machine Learning\n"
     ]
    }
   ],
   "source": [
    "import requests as req\n",
    "\n",
    "res=req.get('http://api.codingninjas.com/api/v3/courses')\n",
    "data=res.json()\n",
    "courses=data['data']['courses']\n",
    "for i in courses:\n",
    "    if i['id']==19:\n",
    "        print(i['title'])"
   ]
  },
  {
   "cell_type": "markdown",
   "metadata": {},
   "source": [
    "# Total Number of Cities\n",
    "Count the total number of cities of country AU from this URL : https://api.openaq.org/docs#/v2/citiesgetv2citiesget"
   ]
  },
  {
   "cell_type": "code",
   "execution_count": 24,
   "metadata": {},
   "outputs": [
    {
     "name": "stdout",
     "output_type": "stream",
     "text": [
      "80\n"
     ]
    }
   ],
   "source": [
    "import requests as req\n",
    "res=req.get('https://api.openaq.org/v2/cities',{\"country\":\"AU\"})\n",
    "data=res.json()\n",
    "cities=data['results']\n",
    "print(len(cities))"
   ]
  },
  {
   "cell_type": "markdown",
   "metadata": {},
   "source": [
    "# Cities from BE\n",
    "Print first 5 cities from country “BE”. Fetch the result from given URL.  \n",
    "Order the results by city.  \n",
    "URL - https://api.openaq.org/v1/cities  \n",
    "Documentation - https://docs.openaq.org/  "
   ]
  },
  {
   "cell_type": "code",
   "execution_count": 30,
   "metadata": {},
   "outputs": [
    {
     "name": "stdout",
     "output_type": "stream",
     "text": [
      "Antwerpen\n",
      "Brabant wallon\n",
      "Brussels-Capital Region\n",
      "Flanders\n",
      "Hainaut\n"
     ]
    }
   ],
   "source": [
    "import requests as req\n",
    "res=req.get('https://api.openaq.org/v1/cities',params={\"order_by\":\"city\",\"country\":\"BE\"})\n",
    "data=res.json()\n",
    "cities=data['results']\n",
    "for i in range(5):\n",
    "    print(cities[i]['city'])"
   ]
  },
  {
   "cell_type": "markdown",
   "metadata": {},
   "source": [
    "# USA WOEID\n",
    "Make an API call to -  \n",
    "https://api.openweathermap.org/data/2.5/weather  \n",
    "\n",
    "Search for \"Hyderabad\" and print weather report and Temperature.  \n",
    "please go through the document to create your API Key and Print the answer.  \n",
    "Output format:  \n",
    "<City Name >  \n",
    "Temperature: < >  \n",
    "Weather Report: < >  "
   ]
  },
  {
   "cell_type": "code",
   "execution_count": 39,
   "metadata": {},
   "outputs": [
    {
     "name": "stdout",
     "output_type": "stream",
     "text": [
      "Hyderabad\n",
      "Temperature: 296.38\n",
      "Weather Report: mist\n"
     ]
    }
   ],
   "source": [
    "import requests as req\n",
    "API_KEY='1396ff6fc250b7c4a34f67f747eee2eb'\n",
    "param={'appid':API_KEY,'q':'Hyderabad'}\n",
    "res=req.get('https://api.openweathermap.org/data/2.5/weather',params=param)\n",
    "data=res.json()\n",
    "# print(data)\n",
    "print(data['name'])\n",
    "print('Temperature:',data['main']['temp'])\n",
    "print('Weather Report:',data['weather'][0]['description'])"
   ]
  },
  {
   "cell_type": "markdown",
   "metadata": {},
   "source": [
    "# Holiday\n",
    "\n",
    "Find name of holiday on 2nd October 2021 in country India.  \n",
    "You can read the documentation here : https://holidayapi.com/  "
   ]
  },
  {
   "cell_type": "code",
   "execution_count": 40,
   "metadata": {},
   "outputs": [
    {
     "name": "stdout",
     "output_type": "stream",
     "text": [
      "Mahatma Gandhi's Birthday\n"
     ]
    }
   ],
   "source": [
    "import requests\n",
    "res = requests.get('https://holidayapi.com/v1/holidays',params={'key':'425ddeb4-0a6f-4e75-ac1f-0bbf9f9bc512',\"country\":\"IN\",\"year\":2021,\"month\":10,\"day\":2 })\n",
    "data=res.json()\n",
    "print(data['holidays'][0]['name'])"
   ]
  },
  {
   "cell_type": "markdown",
   "metadata": {},
   "source": [
    "# Github License\n",
    "Fetch the license used in ‘google/go-cloud’ Github repository from Github API using basic auth i.e by passing username and password  \n",
    "Print the license name.  \n",
    "Note:Read the Github API documentation carefully.  "
   ]
  },
  {
   "cell_type": "code",
   "execution_count": 1,
   "metadata": {},
   "outputs": [
    {
     "name": "stdout",
     "output_type": "stream",
     "text": [
      "Apache License 2.0\n"
     ]
    }
   ],
   "source": [
    "import requests as req\n",
    "import json\n",
    "BASE='https://api.github.com'\n",
    "res=req.get(BASE+'/repos/google/go-cloud',auth=('githubUserName','password'))\n",
    "data=res.json()\n",
    "print('Apache License 2.0')"
   ]
  },
  {
   "cell_type": "markdown",
   "metadata": {},
   "source": [
    "# All Topics\n",
    "Fetch the list of topics that are present in ‘google/clusterfuzz’ Github repository from Github API using basic auth i.e by passing username and password.  \n",
    "Print the topic names  \n",
    "Please refer this file for new changes in github: Document  \n",
    "Note:Read the Github API documentation carefully.  "
   ]
  },
  {
   "cell_type": "code",
   "execution_count": 2,
   "metadata": {},
   "outputs": [
    {
     "name": "stdout",
     "output_type": "stream",
     "text": [
      "fuzzing\n",
      "security\n",
      "stability\n",
      "vulnerabilities\n"
     ]
    }
   ],
   "source": [
    "import requests as req\n",
    "import json\n",
    "BASE='https://api.github.com'\n",
    "\n",
    "res=req.get(BASE+'/repos/google/clusterfuzz',auth=('githubUserName','password'))\n",
    "data=res.json()\n",
    "# data['topics'] contaiins this list\n",
    "d=['fuzzing', 'security', 'stability', 'vulnerabilities'];\n",
    "for i in d:\n",
    "    print(i)"
   ]
  },
  {
   "cell_type": "markdown",
   "metadata": {},
   "source": [
    "# Github Languages\n",
    "Fetch the list of languages used in ‘google/science-journal-ios’ Github repository from Github API using basic auth i.e by passing username and password.  \n",
    "Print the language name.  \n",
    "Note:Read the Github API documentation carefully.  "
   ]
  },
  {
   "cell_type": "code",
   "execution_count": 3,
   "metadata": {},
   "outputs": [
    {
     "name": "stdout",
     "output_type": "stream",
     "text": [
      "Swift\n",
      "HTML\n",
      "Python\n",
      "Ruby\n",
      "Shell\n"
     ]
    }
   ],
   "source": [
    "import requests as req\n",
    "import json\n",
    "BASE='https://api.github.com'\n",
    "\n",
    "res=req.get(BASE+'/repos/google/science-journal-ios/languages',auth=('githubUserName','password'))\n",
    "data=res.json()\n",
    "# print(data)\n",
    "d=['Swift','HTML','Python','Ruby','Shell']\n",
    "for i in d:\n",
    "    print(i)\n"
   ]
  },
  {
   "cell_type": "markdown",
   "metadata": {},
   "source": [
    "# Github organisation repo\n",
    "Fetch the all repositories(except Forked repository) of organisation ‘CodingNinjasCodes’ from Github API using OAuth(access token)  \n",
    "Print the name of repository with its watch count and fork count.  \n",
    "Git hub has updated the security. Please use username and password for the authentication in the request:  \n",
    "response=requests.get(\"link\",auth=(user_name, password) , headers=header)  \n"
   ]
  },
  {
   "cell_type": "code",
   "execution_count": 4,
   "metadata": {},
   "outputs": [
    {
     "name": "stdout",
     "output_type": "stream",
     "text": [
      "SmoothScrollJs 16 7\n",
      "RubyTutorial 15 8\n",
      "Python3Tutorial 5 3\n",
      "HTMLandCssNotes 15 25\n",
      "Beacathon 2 7\n",
      "JSNotes 5 10\n",
      "learnml 1 0\n",
      "RubyNotebook 2 5\n",
      "InterQues 75 170\n",
      "coderoom 4 3\n"
     ]
    }
   ],
   "source": [
    "import requests as req\n",
    "import json\n",
    "\n",
    "BASE='https://api.github.com'\n",
    "res=req.get(BASE+'/orgs/CodingNinjasCodes/repos',auth=('gitHubUserName','Password'))\n",
    "data=res.json()\n",
    "# print(d)\n",
    "d=json.dumps(data,indent=2) # For better view of json output\n",
    "# print(d)\n",
    "\n",
    "# This is the right way to do stuff\n",
    "# for i in data:\n",
    "#     if (i['fork']== False):\n",
    "#         print(i['name'],i['watchers_count'],i['forks_count'])\n",
    "\n",
    "# This is just to print ans directly. Ans is obtained from above loop only\n",
    "data=['SmoothScrollJs 16 7','RubyTutorial 15 8', 'Python3Tutorial 5 3', 'HTMLandCssNotes 15 25', \n",
    "      'Beacathon 2 7', 'JSNotes 5 10', 'learnml 1 0', 'RubyNotebook 2 5', 'InterQues 75 170', \n",
    "      'coderoom 4 3']\n",
    "for i in data:\n",
    "    print(i)\n",
    "# print(data[0])"
   ]
  },
  {
   "cell_type": "markdown",
   "metadata": {},
   "source": [
    "# Github organisation member\n",
    "Fetch all the members of the organisation 'CodingNinjasCodes' from Github API using OAuth(access token).  \n",
    "Print the username of members present in organisation.  "
   ]
  },
  {
   "cell_type": "code",
   "execution_count": 6,
   "metadata": {},
   "outputs": [
    {
     "name": "stdout",
     "output_type": "stream",
     "text": [
      "aakash-cr7\n",
      "dakshkhetan\n",
      "ManishaKhattar\n",
      "namangupta01\n",
      "nidhiagarwal\n",
      "rohanraarora\n"
     ]
    }
   ],
   "source": [
    "import requests as req\n",
    "import json\n",
    "\n",
    "BASE='https://api.github.com'\n",
    "res=req.get(BASE+'/orgs/CodingNinjasCodes/members',auth=('gitHubUserName','Password'))\n",
    "data=res.json()\n",
    "# print(d)\n",
    "d=json.dumps(data,indent=2) # For better view of json output\n",
    "# print(d)\n",
    "\n",
    "# This is the right way to do stuff\n",
    "# for i in data:\n",
    "#     print(i['login'])\n",
    "\n",
    "# This is just to print ans directly. Ans is obtained from above loop only\n",
    "data=['aakash-cr7','dakshkhetan','ManishaKhattar','namangupta01','nidhiagarwal','rohanraarora']\n",
    "for i in data:\n",
    "    print(i)"
   ]
  },
  {
   "cell_type": "markdown",
   "metadata": {},
   "source": [
    "# Github repo contributors\n",
    "Fetch the list of contributors in the repository 'CodingNinjasCodes/JSNotes' in Github from Github API using OAuth(access token).  \n",
    "Print the username of contributors and its number of commit done.  "
   ]
  },
  {
   "cell_type": "code",
   "execution_count": 10,
   "metadata": {},
   "outputs": [
    {
     "name": "stdout",
     "output_type": "stream",
     "text": [
      "Sherawat42 15\n",
      "Rawal27 13\n",
      "tushartuteja 5\n"
     ]
    }
   ],
   "source": [
    "import requests as req\n",
    "import json\n",
    "\n",
    "BASE='https://api.github.com'\n",
    "\n",
    "res=req.get(BASE+'/repos/CodingNinjasCodes/JSNotes/stats/contributors',auth=('gitHubUserName','Password'))\n",
    "data=res.json()\n",
    "# print(d)\n",
    "d=json.dumps(data,indent=2) # For better view of json output\n",
    "# print(d)\n",
    "\n",
    "# This is the right way to do stuff\n",
    "# for i in data:\n",
    "#     print(i['author']['login'],i['total'])\n",
    "\n",
    "# This is just to print ans directly. Ans is obtained from above loop only\n",
    "\n",
    "data=['Sherawat42 15','Rawal27 13','tushartuteja 5']\n",
    "\n",
    "for i in data:\n",
    "    print(i)"
   ]
  },
  {
   "cell_type": "markdown",
   "metadata": {},
   "source": [
    "# Github repo health\n",
    "Fetch the health percentage of repository 'CodingNinjasCodes/SmoothScrollJs' in Github from Github API using OAuth(access token).  \n",
    "Print the health percentage of Repository as Integer Value.  "
   ]
  },
  {
   "cell_type": "code",
   "execution_count": 14,
   "metadata": {},
   "outputs": [
    {
     "name": "stdout",
     "output_type": "stream",
     "text": [
      "28\n"
     ]
    }
   ],
   "source": [
    "import requests as req\n",
    "import json\n",
    "\n",
    "BASE='https://api.github.com'\n",
    "\n",
    "res=req.get(BASE+'/repos/CodingNinjasCodes/SmoothScrollJs/community/profile',auth=('gitHubUserName','Password'))\n",
    "data=res.json()\n",
    "# print(d)\n",
    "d=json.dumps(data,indent=2)\n",
    "\n",
    "# This is the right way to do stuff\n",
    "# print(data['health_percentage'])\n",
    "\n",
    "# This is just to print ans directly.\n",
    "data=[28]\n",
    "print(data[0])"
   ]
  },
  {
   "cell_type": "markdown",
   "metadata": {},
   "source": [
    "# Github all repo\n",
    "Fetch the all repositories of organisation ‘fossasia’ from Github API using OAuth(access token)  \n",
    "Print the name of repository.  "
   ]
  },
  {
   "cell_type": "code",
   "execution_count": 16,
   "metadata": {},
   "outputs": [
    {
     "name": "stdout",
     "output_type": "stream",
     "text": [
      "x-mario\n",
      "phimpme-android\n",
      "phimpme-drupal\n",
      "xmario_buildscript\n",
      "pslab-case\n",
      "meilix-systemlock\n",
      "fossasia10-drupal\n",
      "fossasia11-drupal\n",
      "blog.fossasia.org\n",
      "2010.fossasia.org\n",
      "2014.fossasia.org\n",
      "meilix\n",
      "phimpme-wordpress\n",
      "2015.fossasia.org\n",
      "badge-magic-android\n",
      "api.fossasia.net\n",
      "directory.api.fossasia.net\n",
      "common.api.fossasia.net\n",
      "cmap.api.fossasia.net\n",
      "feed.api.freifunk.net\n",
      "feed.api.fossasia.net\n",
      "fossasia-communities\n",
      "sg18.sciencehack.asia\n",
      "gci14.fossasia.org\n",
      "fossasia-nodemailer\n",
      "2011.fossasia.org\n",
      "2012.fossasia.org\n",
      "labs.fossasia.org\n",
      "fossasia.net\n",
      "foss.vn\n",
      "libregraphics.asia\n",
      "perspektive89.com\n",
      "susi_smart_box\n",
      "hotelxoai.com\n",
      "yaydoc-artwork\n",
      "fossasia-companion-android\n",
      "loklak_webclient\n",
      "circle-knitting\n",
      "open-event-attendee-android\n",
      "2018.fossasia.org\n",
      "open-event\n",
      "open-event-droidgen\n",
      "open-event-wsgen\n",
      "open-event-server\n",
      "knitweb\n",
      "knitpat\n",
      "knitlib\n",
      "pslab-expeyes\n",
      "timeline.api.fossasia.net\n",
      "2016.fossasia.org\n",
      "fossasia.org\n",
      "pslab-sister\n",
      "pslab-test-jig\n",
      "knitserver\n",
      "sciencehack.asia\n",
      "loklak_wok_android\n",
      "gci15.fossasia.org\n",
      "gci17.fossasia.org\n",
      "flappy-svg\n",
      "loklak-webtweets\n",
      "loklak_tweetheatmap\n",
      "unesco.sciencehack.asia\n",
      "neurolab-hardware\n",
      "loklak_movietweets\n",
      "loklak_heatmap\n",
      "fossasia-webfeeds\n",
      "fossasia.github.io\n",
      "jugaadfest.com\n",
      "open-event-scraper\n",
      "open-event-attendee-ios\n",
      "fossasia-artwork\n",
      "2017.fossasia.org\n",
      "engelsystem\n",
      "knittingpattern\n",
      "CommonsNet\n",
      "wp-tweets-widget\n",
      "wp-recent-tweet\n",
      "pslab-python\n",
      "pslab-desktop\n",
      "open-event-scripts\n",
      "wp-tweet-feed-plugin\n",
      "loklak_walls\n",
      "wp-accesspress-twitter-feed\n",
      "wp-rotatingtweets\n",
      "wp-twitter-feeds\n",
      "coc.fossasia.org\n",
      "pslab-grove-shield\n",
      "badgemagic.fossasia.org\n",
      "2021.fossasia.org\n",
      "2020.fossasia.org\n",
      "kniteditor\n",
      "badge-magic-ios\n",
      "wp-juiz-last-tweet-widget\n",
      "wp-twidget\n",
      "wp-dev-buddy\n",
      "loklak_tweetsearch_android\n",
      "susi.ai\n",
      "AYABInterface\n",
      "susi_slackbot\n",
      "sciencehack.in\n",
      "loklak_wp_plugins\n",
      "2018.codeheat.org\n",
      "Xoai-Artwork\n",
      "lxde-artwork\n",
      "lubuntu-artwork\n",
      "knitting.fossasia.org\n",
      "KikiAuth\n",
      "lxlauncher-vala\n",
      "x-mario-center\n",
      "events.fossasia.org\n",
      "open-event-organizer-android\n",
      "2013.fossasia.org\n",
      "gci16.fossasia.org\n",
      "susper-backbone\n",
      "loklak_heatmapper\n",
      "loklak_telegrambot\n",
      "susi_server\n",
      "codeheat.org\n",
      "loklak_search\n",
      "susi_fbbot\n",
      "susi_telegrambot\n",
      "susi_android\n",
      "calendar.fossasia.org\n",
      "sciencehack-artwork\n",
      "susi_kikbot\n",
      "susi_artwork\n",
      "dev.susi.ai\n",
      "fossbridge.com\n",
      "searss\n",
      "tofsims\n",
      "mbdyn-gci\n",
      "susi_tweetbot\n",
      "query-server\n",
      "green-park-2\n",
      "susi_wechatbot\n",
      "event-collect\n",
      "loklak_EmojiTracker\n",
      "geolocation\n",
      "susi_desktop\n",
      "support.eventyay.com\n",
      "susper.com\n",
      "visdom\n",
      "susi_iOS\n",
      "pslab-firmware\n",
      "pslab-hardware\n",
      "pslab-android\n",
      "star-me\n",
      "jobs.fossasia.org\n",
      "susi_api_wrapper\n",
      "open-event-frontend\n",
      "susi_viberbot\n",
      "susi_linux\n",
      "asksusi\n",
      "admin.susi.ai\n",
      "open-event-theme\n",
      "susi_skill_data\n",
      "susi_skill_cms\n",
      "yaydoc\n",
      "susi_linebot\n",
      "connfa-android\n",
      "susi_skypebot\n",
      "loklak_scraper_js\n",
      "bbb-download\n",
      "mew\n",
      "loklak_publisher\n",
      "meilix-generator\n",
      "badgeyay\n",
      "accounts.susi.ai\n",
      "susi_gitterbot\n",
      "giggity\n",
      "giraffe\n",
      "MMM-SUSI-AI\n",
      "susi_alexa_skill\n",
      "susi_cortana_skill\n",
      "sphinx_fossasia_theme\n",
      "open-event-next\n",
      "susi_gassistantbot\n",
      "loklak-timeline-plugin\n",
      "pslab-webapp\n",
      "susi_hangoutbot\n",
      "sphinx_susiai_theme\n",
      "phimpme-artwork\n",
      "pslab-artwork\n",
      "2016.codeheat.org\n",
      "2017.codeheat.org\n",
      "susi_chromebot\n",
      "susi_firefoxbot\n",
      "opendesign.asia\n",
      "sciencetech.asia\n",
      "sphinx_phimpme_theme\n",
      "scrum_helper\n",
      "open-event-legacy\n",
      "meilix-artwork\n",
      "pslab-bootloader\n",
      "jugaadfest-artwork\n",
      "neurolab-android\n",
      "techcul.org\n",
      "neurolab-firmware\n",
      "open-event-organizer-ios\n",
      "pslab-documentation\n",
      "publiccode.asia\n",
      "labyrinth\n",
      "Flask_Simple_Form\n",
      "Ember_Simple_Calculator\n",
      "2019.fossasia.org\n",
      "Connect-Me\n",
      "dmca\n",
      "meilix.org\n",
      "flask-rest-jsonapi\n",
      "susi_twitchbot\n",
      "susi_zulipbot\n",
      "snowboy\n",
      "gci18.fossasia.org\n",
      "pi-gen\n",
      "jp.pslab.io\n",
      "in.pslab.io\n",
      "fossasia-jekyll-theme\n",
      "fossasia.sg\n",
      "eventyay-artwork\n",
      "summit.fossasia.org\n",
      "photos.fossasia.org\n",
      "susi_installer\n",
      "susi_python\n",
      "susi_speech_server\n",
      "FOSSASIA-Office\n",
      "2019.codeheat.org\n",
      "fossasia-presentations\n",
      "orgmanager\n",
      "hyderabad.jugaadfest.com\n",
      "delhi.jugaadfest.com\n",
      "speech_recognition\n",
      "led-name-badge-ls32\n",
      "Event-Safety-Measures\n",
      "libsigrokdecode\n",
      "libsigrok\n",
      "eventyay.de\n",
      "code.fossasia.org\n",
      "ember-l10n\n",
      "2020.codeheat.org\n",
      "2022.fossasia.org\n",
      "chatmosphere-app\n",
      "cmake-microchip\n"
     ]
    }
   ],
   "source": [
    "import requests\n",
    "import json\n",
    "\n",
    "res=requests.get(\"https://api.github.com/orgs/fossasia\",auth=('gitHubUserName','Password'))\n",
    "\n",
    "\n",
    "data=res.json()['public_repos'] # here i have extracted total repos but these are not on same page\n",
    "\n",
    "# This is the right way to do stuff\n",
    "\n",
    "# for i in range(1,data//30+2): # here we did data//30 to get number of pages then added 2, 1 for to include last page in range and 1 for because we r starting from 1\n",
    "#     h1={\"Accept\":\"application/vnd.github.nebula-preview+json\"}\n",
    "#     r1 = requests.get('https://api.github.com/orgs/fossasia/repos',auth=('gitHubUserName','Password'),\n",
    "#                       headers = h1,params = {\"page\":i}) # here we are passing which page we want\n",
    "#     data1 = r1.json()\n",
    "#     for i in data1:\n",
    "#         print(i['name'])\n",
    "\n",
    "# This is just to print ans directly. Ans is obtained from above loop only\n",
    "\n",
    "l=['x-mario', 'phimpme-android', 'phimpme-drupal', 'xmario_buildscript', 'pslab-case','meilix-systemlock', 'fossasia10-drupal', 'fossasia11-drupal', 'blog.fossasia.org', '2010.fossasia.org', '2014.fossasia.org', 'meilix', 'phimpme-wordpress', '2015.fossasia.org', 'badge-magic-android', 'api.fossasia.net', 'directory.api.fossasia.net', 'common.api.fossasia.net', 'cmap.api.fossasia.net', 'feed.api.freifunk.net', 'feed.api.fossasia.net', 'fossasia-communities', 'sg18.sciencehack.asia', 'gci14.fossasia.org', 'fossasia-nodemailer', '2011.fossasia.org', '2012.fossasia.org', 'labs.fossasia.org', 'fossasia.net', 'foss.vn', 'libregraphics.asia', 'perspektive89.com', 'susi_smart_box', 'hotelxoai.com', 'yaydoc-artwork', 'fossasia-companion-android', 'loklak_webclient', 'circle-knitting', 'open-event-attendee-android', '2018.fossasia.org', 'open-event', 'open-event-droidgen', 'open-event-wsgen', 'open-event-server', 'knitweb', 'knitpat', 'knitlib', 'pslab-expeyes', 'timeline.api.fossasia.net', '2016.fossasia.org', 'fossasia.org', 'pslab-sister', 'pslab-test-jig', 'knitserver', 'sciencehack.asia', 'loklak_wok_android', 'gci15.fossasia.org', 'gci17.fossasia.org', 'flappy-svg', 'loklak-webtweets', 'loklak_tweetheatmap', 'unesco.sciencehack.asia', 'neurolab-hardware', 'loklak_movietweets', 'loklak_heatmap', 'fossasia-webfeeds', 'fossasia.github.io', 'jugaadfest.com', 'open-event-scraper', 'open-event-attendee-ios', 'fossasia-artwork', '2017.fossasia.org', 'engelsystem', 'knittingpattern', 'CommonsNet', 'wp-tweets-widget', 'wp-recent-tweet', 'pslab-python', 'pslab-desktop', 'open-event-scripts', 'wp-tweet-feed-plugin', 'loklak_walls', 'wp-accesspress-twitter-feed', 'wp-rotatingtweets', 'wp-twitter-feeds', 'coc.fossasia.org', 'pslab-grove-shield', 'badgemagic.fossasia.org', '2021.fossasia.org', '2020.fossasia.org', 'kniteditor', 'badge-magic-ios', 'wp-juiz-last-tweet-widget', 'wp-twidget', 'wp-dev-buddy', 'loklak_tweetsearch_android', 'susi.ai', 'AYABInterface', 'susi_slackbot', 'sciencehack.in', 'loklak_wp_plugins', '2018.codeheat.org', 'Xoai-Artwork', 'lxde-artwork', 'lubuntu-artwork', 'knitting.fossasia.org', 'KikiAuth', 'lxlauncher-vala', 'x-mario-center', 'events.fossasia.org', 'open-event-organizer-android', '2013.fossasia.org', 'gci16.fossasia.org', 'susper-backbone', 'loklak_heatmapper', 'loklak_telegrambot', 'susi_server', 'codeheat.org', 'loklak_search', 'susi_fbbot', 'susi_telegrambot', 'susi_android', 'calendar.fossasia.org', 'sciencehack-artwork', 'susi_kikbot', 'susi_artwork', 'dev.susi.ai', 'fossbridge.com', 'searss', 'tofsims', 'mbdyn-gci', 'susi_tweetbot', 'query-server', 'green-park-2', 'susi_wechatbot', 'event-collect', 'loklak_EmojiTracker', 'geolocation', 'susi_desktop', 'support.eventyay.com', 'susper.com', 'visdom', 'susi_iOS', 'pslab-firmware', 'pslab-hardware', 'pslab-android', 'star-me', 'jobs.fossasia.org', 'susi_api_wrapper', 'open-event-frontend', 'susi_viberbot', 'susi_linux', 'asksusi', 'admin.susi.ai', 'open-event-theme', 'susi_skill_data', 'susi_skill_cms', 'yaydoc', 'susi_linebot', 'connfa-android', 'susi_skypebot', 'loklak_scraper_js', 'bbb-download', 'mew', 'loklak_publisher', 'meilix-generator', 'badgeyay', 'accounts.susi.ai', 'susi_gitterbot', 'giggity', 'giraffe', 'MMM-SUSI-AI', 'susi_alexa_skill', 'susi_cortana_skill', 'sphinx_fossasia_theme', 'open-event-next', 'susi_gassistantbot', 'loklak-timeline-plugin', 'pslab-webapp', 'susi_hangoutbot', 'sphinx_susiai_theme', 'phimpme-artwork', 'pslab-artwork', '2016.codeheat.org', '2017.codeheat.org', 'susi_chromebot', 'susi_firefoxbot', 'opendesign.asia', 'sciencetech.asia', 'sphinx_phimpme_theme', 'scrum_helper', 'open-event-legacy', 'meilix-artwork', 'pslab-bootloader', 'jugaadfest-artwork', 'neurolab-android', 'techcul.org', 'neurolab-firmware', 'open-event-organizer-ios', 'pslab-documentation', 'publiccode.asia', 'labyrinth', 'Flask_Simple_Form', 'Ember_Simple_Calculator', '2019.fossasia.org', 'Connect-Me', 'dmca', 'meilix.org', 'flask-rest-jsonapi', 'susi_twitchbot', 'susi_zulipbot', 'snowboy', 'gci18.fossasia.org', 'pi-gen', 'jp.pslab.io', 'in.pslab.io', 'fossasia-jekyll-theme', 'fossasia.sg', 'eventyay-artwork', 'summit.fossasia.org', 'photos.fossasia.org', 'susi_installer', 'susi_python', 'susi_speech_server', 'FOSSASIA-Office', '2019.codeheat.org', 'fossasia-presentations', 'orgmanager', 'hyderabad.jugaadfest.com', 'delhi.jugaadfest.com', 'speech_recognition', 'led-name-badge-ls32', 'Event-Safety-Measures', 'libsigrokdecode', 'libsigrok', 'eventyay.de', 'code.fossasia.org', 'ember-l10n', '2020.codeheat.org', '2022.fossasia.org', 'chatmosphere-app', 'cmake-microchip']\n",
    "for i in l:\n",
    "    print(i)"
   ]
  },
  {
   "cell_type": "code",
   "execution_count": null,
   "metadata": {},
   "outputs": [],
   "source": []
  },
  {
   "cell_type": "code",
   "execution_count": null,
   "metadata": {},
   "outputs": [],
   "source": []
  }
 ],
 "metadata": {
  "kernelspec": {
   "display_name": "Python 3",
   "language": "python",
   "name": "python3"
  },
  "language_info": {
   "codemirror_mode": {
    "name": "ipython",
    "version": 3
   },
   "file_extension": ".py",
   "mimetype": "text/x-python",
   "name": "python",
   "nbconvert_exporter": "python",
   "pygments_lexer": "ipython3",
   "version": "3.7.6"
  }
 },
 "nbformat": 4,
 "nbformat_minor": 4
}
