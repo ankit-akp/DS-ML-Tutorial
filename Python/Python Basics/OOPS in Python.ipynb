{
 "cells": [
  {
   "cell_type": "code",
   "execution_count": 1,
   "metadata": {},
   "outputs": [],
   "source": [
    "# What is a class\n",
    "# A class is a blueprint that defines the variables and the methods (Characteristics)\n",
    "# common to all objects of a certain kind."
   ]
  },
  {
   "cell_type": "code",
   "execution_count": 7,
   "metadata": {},
   "outputs": [
    {
     "name": "stdout",
     "output_type": "stream",
     "text": [
      "{}\n"
     ]
    }
   ],
   "source": [
    "# Creating class and object\n",
    "class className:   # This is a empty class\n",
    "    pass\n",
    "\n",
    "# Creaton of Object\n",
    "objectName=className() # This will create an object of className\n",
    "\n",
    "# Print an object\n",
    "print(objectName.__dict__)"
   ]
  },
  {
   "cell_type": "code",
   "execution_count": 14,
   "metadata": {},
   "outputs": [
    {
     "name": "stdout",
     "output_type": "stream",
     "text": [
      "{'name': 'Mohit', 'age': 10}\n",
      "{'rollNo': 5}\n"
     ]
    }
   ],
   "source": [
    "# Instance attribute\n",
    "\n",
    "# An instance attribute’s value is specific to a particular instance of the class. All Car objects have\n",
    "# a name and a topSpeed, but the values for the name and topSpeed attributes will vary depending on the Car\n",
    "# instance. Different objects of the Car class will have different names and top speeds.\n",
    "\n",
    "# In python each object can have different attributes\n",
    "class Student:\n",
    "    pass\n",
    "s1=Student()\n",
    "s2=Student()\n",
    "s1.name='Mohit'\n",
    "s1.age=10\n",
    "\n",
    "s2.rollNo=5\n",
    "\n",
    "print(s1.__dict__)\n",
    "print(s2.__dict__)"
   ]
  },
  {
   "cell_type": "code",
   "execution_count": 10,
   "metadata": {},
   "outputs": [
    {
     "name": "stdout",
     "output_type": "stream",
     "text": [
      "True\n",
      "False\n"
     ]
    }
   ],
   "source": [
    "# Function associated with objects\n",
    "\n",
    "# hasattr(objectName,attributeName) -> This returns boolean value for wether given object has this particular \n",
    "# attribute or not\n",
    "\n",
    "print(hasattr(s1,'name'))\n",
    "print(hasattr(s2,'name'))\n",
    "\n",
    "# setattr(objectName,attributeName,value)"
   ]
  },
  {
   "cell_type": "code",
   "execution_count": 12,
   "metadata": {},
   "outputs": [
    {
     "name": "stdout",
     "output_type": "stream",
     "text": [
      "Mohit\n",
      "0\n"
     ]
    }
   ],
   "source": [
    "# getattr(objectName,attributeName,defaultValue)\n",
    "print(getattr(s1,'name'))\n",
    "print(getattr(s1,'rollno',0)) # If attribute is not present it will return specified value"
   ]
  },
  {
   "cell_type": "code",
   "execution_count": 15,
   "metadata": {},
   "outputs": [
    {
     "name": "stdout",
     "output_type": "stream",
     "text": [
      "{'name': 'Mohit', 'age': 10}\n",
      "{'age': 10}\n"
     ]
    }
   ],
   "source": [
    "# delattr(objectName,attributeName)\n",
    "print(s1.__dict__)\n",
    "delattr(s1,'name')\n",
    "print(s1.__dict__)"
   ]
  },
  {
   "cell_type": "code",
   "execution_count": 12,
   "metadata": {},
   "outputs": [
    {
     "name": "stdout",
     "output_type": "stream",
     "text": [
      "{'age': 23, 'name': 'John Doe', 'gender': 'male'}\n"
     ]
    }
   ],
   "source": [
    "class sampleclass:\n",
    "    pass\n",
    "s1=sampleclass()\n",
    "setattr(s1,'age', 23 )\n",
    "setattr(s1, 'name', 'John Doe' )\n",
    "s1.gender ='male'\n",
    "print(s1.__dict__)"
   ]
  },
  {
   "cell_type": "code",
   "execution_count": 19,
   "metadata": {},
   "outputs": [
    {
     "name": "stdout",
     "output_type": "stream",
     "text": [
      "Black\n",
      "{'name': 'abc', 'topspeed': 100}\n",
      "{'__module__': '__main__', 'color': 'Black', '__dict__': <attribute '__dict__' of 'Car' objects>, '__weakref__': <attribute '__weakref__' of 'Car' objects>, '__doc__': None, 'price': 20000}\n",
      "blue\n",
      "Black\n",
      "{'name': 'abc', 'topspeed': 100, 'color': 'blue'}\n",
      "{}\n"
     ]
    }
   ],
   "source": [
    "# Class attribute\n",
    "\n",
    "# class attributes are attributes that have the same value for all class instances.\n",
    "# Car class has a class attribute called color with the value \"Black\".\n",
    "\n",
    "class Car:\n",
    "    color=\"Black\" # Class attribute\n",
    "\n",
    "c1=Car()\n",
    "c1.name=\"abc\" # Instance attribute\n",
    "c1.topspeed=100 # Instance attribute\n",
    "Car.price=20000 # Class Atrribute\n",
    "print(c1.color)\n",
    "print(c1.__dict__)\n",
    "print(Car.__dict__)\n",
    "\n",
    "# Class attributes are defined directly beneath the first line of the class name and are indented by four spaces.\n",
    "# They must always be assigned an initial value.\n",
    "# When an instance of the class is created, the class attributes are automatically created and \n",
    "# assigned to their initial values.\n",
    "# You should use class attributes to define properties that should have the same value for every class instance \n",
    "# and you must use instance attributes for properties that vary from one instance to another.\n",
    "\n",
    "# When we try to change class attribute by object then python will create instance attribute with same name for\n",
    "# that object.\n",
    "c2=Car()\n",
    "c1.color=\"blue\"\n",
    "print(c1.color)\n",
    "print(c2.color)\n",
    "print(c1.__dict__)\n",
    "print(c2.__dict__)"
   ]
  },
  {
   "cell_type": "code",
   "execution_count": 27,
   "metadata": {},
   "outputs": [
    {
     "name": "stdout",
     "output_type": "stream",
     "text": [
      "Hello\n",
      "Yoo\n",
      "xyz\n"
     ]
    }
   ],
   "source": [
    "# Methods\n",
    "# Method declare inside class is called instance method\n",
    "# Attribute declare inside class is called class attribute\n",
    "class Student:\n",
    "    # Class attribute\n",
    "    totalstudent=20\n",
    "    teachername='abc'\n",
    "    \n",
    "    # Instance method\n",
    "    def printhello(self):\n",
    "        print('Hello')\n",
    "    def print(self,str): # self should be first argument for each method\n",
    "        print(str)\n",
    "    \n",
    "    def printname(self):\n",
    "        name='abc' # This is a local variable\n",
    "        print(self.name) # This is an instance attribute\n",
    "\n",
    "s1=Student()\n",
    "s2=Student()\n",
    "s1.name='xyz'\n",
    "s1.printhello() # This line is interpreted as Student.printhello(s1)\n",
    "s1.print(\"Yoo\")\n",
    "\n",
    "s1.printname()\n",
    "# self is reference to current object"
   ]
  },
  {
   "cell_type": "code",
   "execution_count": 30,
   "metadata": {},
   "outputs": [
    {
     "name": "stdout",
     "output_type": "stream",
     "text": [
      "{'name': 'abc'}\n",
      "{}\n"
     ]
    }
   ],
   "source": [
    "# Create new instance attribute with help of method\n",
    "class Student:\n",
    "    \n",
    "    def addname(self,name):\n",
    "        self.name=name # If name is not present then instance attribute will be created and if it is present\n",
    "        # then it will be updated\n",
    "        \n",
    "s1=Student()\n",
    "s2=Student()\n",
    "s1.addname(\"abc\")\n",
    "print(s1.__dict__)\n",
    "print(s2.__dict__)"
   ]
  },
  {
   "cell_type": "code",
   "execution_count": 34,
   "metadata": {},
   "outputs": [
    {
     "name": "stdout",
     "output_type": "stream",
     "text": [
      "{'name': 'abc', 'age': 10, 'rn': 101}\n",
      "{'name': 'def', 'age': 20, 'rn': 102}\n"
     ]
    }
   ],
   "source": [
    "# Constructors\n",
    "# Constructor is a special instance method which is used to initialise the instance method.\n",
    "# This method is called automatically when we create our object.\n",
    "\n",
    "class Student:\n",
    "    def __init__(self,name,age,rn): # This is how we create own constructor\n",
    "        self.name=name\n",
    "        self.age=age\n",
    "        self.rn=rn\n",
    "        \n",
    "s1=Student('abc',10,101)\n",
    "s2=Student('def',20,102)\n",
    "print(s1.__dict__)\n",
    "print(s2.__dict__)\n",
    "\n",
    "# In python we cannot do constructor overloading"
   ]
  },
  {
   "cell_type": "code",
   "execution_count": 56,
   "metadata": {},
   "outputs": [
    {
     "name": "stdout",
     "output_type": "stream",
     "text": [
      "20 101\n",
      "abc\n",
      "abc\n"
     ]
    }
   ],
   "source": [
    "# Access Modifiers\n",
    "\n",
    "# In python by default all attributes are PUBLIC.\n",
    "\n",
    "# To make attribute or method private we just need to add double underscore in front of their name.\n",
    "\n",
    "# To make attribute or method protected we just need to add single underscore in front of their name.\n",
    "\n",
    "class Student:\n",
    "    \n",
    "    def __init__(self,name,age,rn):\n",
    "        self.__name=name # Now name attribute is private and everytime when I use private property I have to\n",
    "                        # use double underscore\n",
    "        self.age=age\n",
    "        self.rn=rn\n",
    "    def getName(self):\n",
    "        return self.__name\n",
    "s1=Student('abc',20,101)\n",
    "print(s1.age,s1.rn)\n",
    "print(s1.getName())\n",
    "# print(s1.name) # This will give error\n",
    "\n",
    "# How to access private variable outside the class\n",
    "# Syntax: objectName._className__propertyName\n",
    "\n",
    "print(s1._Student__name)"
   ]
  },
  {
   "cell_type": "code",
   "execution_count": 63,
   "metadata": {},
   "outputs": [
    {
     "name": "stdout",
     "output_type": "stream",
     "text": [
      "1\n",
      "{'x': 1, '_A__y': 1, '__y': 45}\n"
     ]
    }
   ],
   "source": [
    "class A:\n",
    "    def __init__(self):\n",
    "        self.x = 1\n",
    "        self.__y = 1\n",
    "    def getY(self):\n",
    "         return self.__y\n",
    "a = A()\n",
    "a.__y = 45\n",
    "print(a.getY())\n",
    "print(a.__dict__)"
   ]
  },
  {
   "cell_type": "code",
   "execution_count": 65,
   "metadata": {},
   "outputs": [
    {
     "name": "stdout",
     "output_type": "stream",
     "text": [
      "20\n"
     ]
    }
   ],
   "source": [
    "# Class method\n",
    "class Student:\n",
    "    \n",
    "    __totalStudent=20\n",
    "    \n",
    "    @classmethod  # This is a decorator to make method class method\n",
    "    def getTotalStudent(cls): # cls is reference to my current class\n",
    "        return Student.__totalStudent\n",
    "    \n",
    "    def __init__(self,name,age,rn): \n",
    "        self.name=name\n",
    "        self.age=age\n",
    "        self.rn=rn\n",
    "        \n",
    "s1=Student('abc',20,101)\n",
    "print(Student.getTotalStudent())"
   ]
  },
  {
   "cell_type": "code",
   "execution_count": 67,
   "metadata": {},
   "outputs": [],
   "source": [
    "# Static Methods\n",
    "\n",
    "# A static method does not receive an implicit first argument.\n",
    "# A static method is also a method that is bound to the class and not the object of the class. \n",
    "# This method can’t access or modify the class state. \n",
    "# It is present in a class because it makes sense for the method to be present in class.\n",
    "# In general, static methods know nothing about the class state.\n",
    "# They are utility-type methods that take some parameters and work upon those parameters. \n",
    "# On the other hand class methods must have class as a parameter."
   ]
  },
  {
   "cell_type": "code",
   "execution_count": 69,
   "metadata": {},
   "outputs": [
    {
     "name": "stdout",
     "output_type": "stream",
     "text": [
      "True\n"
     ]
    }
   ],
   "source": [
    "class Student:\n",
    "    def __init__(self,name,age):\n",
    "        self.name = name\n",
    "        self.age = age\n",
    "    def print_student_details():\n",
    "        print(self.name, end=\" \" )\n",
    "        print(self.age)\n",
    "\n",
    "    @staticmethod # This is a decorator to make mehtod a static method\n",
    "    def isTeen(age):\n",
    "        return age>16\n",
    "\n",
    "a = Student.isTeen(18)\n",
    "print(a)"
   ]
  },
  {
   "cell_type": "code",
   "execution_count": null,
   "metadata": {},
   "outputs": [],
   "source": [
    "# Factory Methods"
   ]
  }
 ],
 "metadata": {
  "kernelspec": {
   "display_name": "Python 3",
   "language": "python",
   "name": "python3"
  },
  "language_info": {
   "codemirror_mode": {
    "name": "ipython",
    "version": 3
   },
   "file_extension": ".py",
   "mimetype": "text/x-python",
   "name": "python",
   "nbconvert_exporter": "python",
   "pygments_lexer": "ipython3",
   "version": "3.7.6"
  }
 },
 "nbformat": 4,
 "nbformat_minor": 4
}
