{
 "cells": [
  {
   "cell_type": "code",
   "execution_count": 14,
   "metadata": {},
   "outputs": [
    {
     "name": "stdout",
     "output_type": "stream",
     "text": [
      "<class 'dict'>\n",
      "{'a': 1, 'b': 2, 10: 'xyz'}\n",
      "3\n"
     ]
    }
   ],
   "source": [
    "# How to create a dictionary\n",
    "a={}\n",
    "print(type(a))\n",
    "d={'a':1,'b':2,10:'xyz'}\n",
    "print(d)\n",
    "print(len(d))"
   ]
  },
  {
   "cell_type": "code",
   "execution_count": 16,
   "metadata": {},
   "outputs": [
    {
     "name": "stdout",
     "output_type": "stream",
     "text": [
      "{'a': 1, 'b': 2, 10: 'xyz'}\n"
     ]
    }
   ],
   "source": [
    "# How to create a copy of a dictionary\n",
    "b=d.copy()\n",
    "print(b)"
   ]
  },
  {
   "cell_type": "code",
   "execution_count": 17,
   "metadata": {},
   "outputs": [
    {
     "name": "stdout",
     "output_type": "stream",
     "text": [
      "{'a': 1, 100: 'abcd'}\n"
     ]
    }
   ],
   "source": [
    "a=dict([('a',1),(100,'abcd')])\n",
    "print(a)"
   ]
  },
  {
   "cell_type": "code",
   "execution_count": 21,
   "metadata": {},
   "outputs": [
    {
     "name": "stdout",
     "output_type": "stream",
     "text": [
      "{'a': None, 'b': None, 10: None}\n",
      "{'a': 2, 'b': 2, 10: 2}\n"
     ]
    }
   ],
   "source": [
    "# Create a dictionary by using keys\n",
    "a=dict.fromkeys(['a','b',10])\n",
    "print(a)\n",
    "# Set default values of given keys\n",
    "a=dict.fromkeys(['a','b',10],2)\n",
    "print(a)\n",
    "\n",
    "# Dictionaries are mutable"
   ]
  },
  {
   "cell_type": "code",
   "execution_count": 22,
   "metadata": {},
   "outputs": [],
   "source": [
    "# Accessing and looping a dictionary"
   ]
  },
  {
   "cell_type": "code",
   "execution_count": 24,
   "metadata": {},
   "outputs": [
    {
     "name": "stdout",
     "output_type": "stream",
     "text": [
      "2\n",
      "[1, 2]\n"
     ]
    }
   ],
   "source": [
    "a={1:2,'list':[1,2],'dict':{'str':10}}\n",
    "# Accessing element: dictName[key]\n",
    "# If key does not exist it will give error\n",
    "print(a[1])\n",
    "# dictName.get(key)\n",
    "# In this if key exists it will gives its value and if it does not exist it give none\n",
    "print(a.get('list'))"
   ]
  },
  {
   "cell_type": "code",
   "execution_count": 25,
   "metadata": {},
   "outputs": [
    {
     "name": "stdout",
     "output_type": "stream",
     "text": [
      "0\n"
     ]
    }
   ],
   "source": [
    "# Return 0 if key is not present\n",
    "print(a.get('ab',0))"
   ]
  },
  {
   "cell_type": "code",
   "execution_count": 28,
   "metadata": {},
   "outputs": [
    {
     "name": "stdout",
     "output_type": "stream",
     "text": [
      "dict_keys([1, 'list', 'dict'])\n",
      "dict_values([2, [1, 2], {'str': 10}])\n",
      "dict_items([(1, 2), ('list', [1, 2]), ('dict', {'str': 10})])\n"
     ]
    }
   ],
   "source": [
    "# Get all the keys\n",
    "print(a.keys())\n",
    "\n",
    "# Get all the values\n",
    "print(a.values())\n",
    "\n",
    "# Get key value pairs\n",
    "print(a.items())"
   ]
  },
  {
   "cell_type": "code",
   "execution_count": 31,
   "metadata": {},
   "outputs": [
    {
     "name": "stdout",
     "output_type": "stream",
     "text": [
      "1 2\n",
      "list [1, 2]\n",
      "dict {'str': 10}\n"
     ]
    }
   ],
   "source": [
    "# Looping\n",
    "for i in a:\n",
    "    print(i,a[i]) # This will print keys in a dictionary"
   ]
  },
  {
   "cell_type": "code",
   "execution_count": 34,
   "metadata": {},
   "outputs": [
    {
     "name": "stdout",
     "output_type": "stream",
     "text": [
      "True\n",
      "False\n"
     ]
    }
   ],
   "source": [
    "# Check key exits or not\n",
    "print('list' in a)\n",
    "print('li' in a)\n",
    "# This is not for values\n",
    "# The 'in' operator iterates only through the keys of the dictionary."
   ]
  },
  {
   "cell_type": "code",
   "execution_count": 35,
   "metadata": {},
   "outputs": [],
   "source": [
    "# Adding or Removing data in a dictionary"
   ]
  },
  {
   "cell_type": "code",
   "execution_count": 38,
   "metadata": {},
   "outputs": [
    {
     "name": "stdout",
     "output_type": "stream",
     "text": [
      "{1: 10, 'list': [1, 2], 'dict': {'str': 10}, 'tuple': (1, 2, 4), 'li': [3, 4, 5]}\n",
      "{1: 10, 'list': [1, 2], 'dict': {'str': 10}, 'tuple': (1, 2, 4), 'li': [3, 4, 5]}\n"
     ]
    }
   ],
   "source": [
    "a['tuple']=(1,2,4)\n",
    "print(a)\n",
    "b={1:10,'li':[3,4,5]}\n",
    "a.update(b) # If keys of b exists in a then it will change the value in a and if it does not exists then \n",
    "# it will add key value pair in a\n",
    "print(a)"
   ]
  },
  {
   "cell_type": "code",
   "execution_count": 39,
   "metadata": {},
   "outputs": [
    {
     "name": "stdout",
     "output_type": "stream",
     "text": [
      "{1: 10, 'list': [1, 2], 'dict': {'str': 10}, 'li': [3, 4, 5]}\n"
     ]
    }
   ],
   "source": [
    "# How to remove a key from dictionary\n",
    "a.pop('tuple') # Removes the key and return value associated with it\n",
    "print(a)\n",
    "# If key does not exists in a dictionary and we try to delete that key then it will give error"
   ]
  },
  {
   "cell_type": "code",
   "execution_count": 40,
   "metadata": {},
   "outputs": [
    {
     "name": "stdout",
     "output_type": "stream",
     "text": [
      "{1: 10, 'dict': {'str': 10}, 'li': [3, 4, 5]}\n"
     ]
    }
   ],
   "source": [
    "del a['list']\n",
    "print(a)"
   ]
  },
  {
   "cell_type": "code",
   "execution_count": 41,
   "metadata": {},
   "outputs": [
    {
     "name": "stdout",
     "output_type": "stream",
     "text": [
      "{}\n"
     ]
    }
   ],
   "source": [
    "# Clear dictionary\n",
    "a.clear()\n",
    "print(a)"
   ]
  },
  {
   "cell_type": "code",
   "execution_count": 42,
   "metadata": {},
   "outputs": [
    {
     "name": "stdout",
     "output_type": "stream",
     "text": [
      "abc abc def ghi ghi jk jkl jkl\n",
      "2\n",
      "abc\n",
      "ghi\n",
      "jkl\n"
     ]
    }
   ],
   "source": [
    "# Print all the words with frequency k\n",
    "str=input()\n",
    "k=int(input())\n",
    "\n",
    "words=str.split()\n",
    "d={}\n",
    "for i in words:\n",
    "    d[i]=d.get(i,0)+1\n",
    "\n",
    "for i in d:\n",
    "    if d[i]==k:\n",
    "        print(i)"
   ]
  }
 ],
 "metadata": {
  "kernelspec": {
   "display_name": "Python 3",
   "language": "python",
   "name": "python3"
  },
  "language_info": {
   "codemirror_mode": {
    "name": "ipython",
    "version": 3
   },
   "file_extension": ".py",
   "mimetype": "text/x-python",
   "name": "python",
   "nbconvert_exporter": "python",
   "pygments_lexer": "ipython3",
   "version": "3.7.6"
  }
 },
 "nbformat": 4,
 "nbformat_minor": 4
}
