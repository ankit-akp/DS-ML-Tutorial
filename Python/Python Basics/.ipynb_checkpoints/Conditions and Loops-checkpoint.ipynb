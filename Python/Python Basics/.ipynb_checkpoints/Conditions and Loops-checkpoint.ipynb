{
 "cells": [
  {
   "cell_type": "markdown",
   "metadata": {},
   "source": [
    "## BOOLEAN"
   ]
  },
  {
   "cell_type": "code",
   "execution_count": 7,
   "metadata": {},
   "outputs": [
    {
     "name": "stdout",
     "output_type": "stream",
     "text": [
      "True False\n",
      "<class 'bool'>\n"
     ]
    }
   ],
   "source": [
    "a=True # Boolean variable\n",
    "b=False\n",
    "\n",
    "print(a,b)\n",
    "print(type(b))"
   ]
  },
  {
   "cell_type": "markdown",
   "metadata": {},
   "source": [
    "## Relational Operators"
   ]
  },
  {
   "cell_type": "code",
   "execution_count": 8,
   "metadata": {},
   "outputs": [
    {
     "name": "stdout",
     "output_type": "stream",
     "text": [
      "False\n",
      "True\n",
      "False\n",
      "True\n",
      "False\n",
      "True\n"
     ]
    }
   ],
   "source": [
    "a=10\n",
    "b=20\n",
    "print(a>b)\n",
    "print(a<b)\n",
    "print(a>=b)\n",
    "print(a<=b)\n",
    "print(a==b)\n",
    "print(a!=b)"
   ]
  },
  {
   "cell_type": "markdown",
   "metadata": {},
   "source": [
    "## Logical Operators"
   ]
  },
  {
   "cell_type": "code",
   "execution_count": 13,
   "metadata": {},
   "outputs": [
    {
     "name": "stdout",
     "output_type": "stream",
     "text": [
      "False\n",
      "True\n",
      "True\n"
     ]
    }
   ],
   "source": [
    "c1=a>b\n",
    "c2=a<b\n",
    "print(c1 and c2)\n",
    "print(c1 or c2)\n",
    "print(not(c1))"
   ]
  },
  {
   "cell_type": "markdown",
   "metadata": {},
   "source": [
    "## if-else and if-elif"
   ]
  },
  {
   "cell_type": "code",
   "execution_count": 23,
   "metadata": {},
   "outputs": [
    {
     "name": "stdout",
     "output_type": "stream",
     "text": [
      "Value is False\n"
     ]
    }
   ],
   "source": [
    "Val = False\n",
    "if Val == True:\n",
    "    print(\"Value is True\") # Statement 1\n",
    "print(\"Value is False\") # Statement 2"
   ]
  },
  {
   "cell_type": "code",
   "execution_count": 24,
   "metadata": {},
   "outputs": [
    {
     "name": "stdout",
     "output_type": "stream",
     "text": [
      "Odd Number\n"
     ]
    }
   ],
   "source": [
    "num = 23\n",
    "if num%2 == 0:\n",
    "    print(\"Even Number\")\n",
    "else:\n",
    "    print(\"Odd Number\")"
   ]
  },
  {
   "cell_type": "code",
   "execution_count": 25,
   "metadata": {},
   "outputs": [
    {
     "name": "stdout",
     "output_type": "stream",
     "text": [
      "30\n"
     ]
    }
   ],
   "source": [
    "A = 10\n",
    "B = 20\n",
    "C = 30\n",
    "if A>=B and A>= C:\n",
    "    print(A)\n",
    "elif B>=C and B>=A:\n",
    "    print(B)\n",
    "else:\n",
    "    print(C)"
   ]
  },
  {
   "cell_type": "markdown",
   "metadata": {},
   "source": [
    "## While Loop"
   ]
  },
  {
   "cell_type": "code",
   "execution_count": 26,
   "metadata": {},
   "outputs": [
    {
     "name": "stdout",
     "output_type": "stream",
     "text": [
      "10\n"
     ]
    }
   ],
   "source": [
    "# Given an Integer n, Find the Sum of first n Natural numbers.\n",
    "\n",
    "n = 4\n",
    "sum = 0\n",
    "i = 1 #Initialising the looping variable to 1\n",
    "while (i<=n): #The loop will continue till the value of i<number\n",
    "    sum = sum + i\n",
    "    i = i+1 #Value of i is updated at the end of every iteration\n",
    "print(sum)"
   ]
  },
  {
   "cell_type": "code",
   "execution_count": 29,
   "metadata": {},
   "outputs": [
    {
     "name": "stdout",
     "output_type": "stream",
     "text": [
      "10\n",
      "2\n",
      "3\n",
      "5\n",
      "7\n"
     ]
    }
   ],
   "source": [
    "# Given an Integer, Print all the Prime Numbers between 0 and that Integer.\n",
    "\n",
    "n=int(input()) # Taking User Input\n",
    "k=2 # Looping variable starting from 2\n",
    "while k<=n:# Loop will check all numbers till n\n",
    "    d=2 # The inner loop also checks all numbers starting from 2\n",
    "    isPrime = False\n",
    "    while d<k:\n",
    "        if(k%d==0):\n",
    "            isPrime = True\n",
    "        d=d+1\n",
    "    if(not(isPrime)):\n",
    "        print(k)\n",
    "    k=k+1"
   ]
  }
 ],
 "metadata": {
  "kernelspec": {
   "display_name": "Python 3",
   "language": "python",
   "name": "python3"
  },
  "language_info": {
   "codemirror_mode": {
    "name": "ipython",
    "version": 3
   },
   "file_extension": ".py",
   "mimetype": "text/x-python",
   "name": "python",
   "nbconvert_exporter": "python",
   "pygments_lexer": "ipython3",
   "version": "3.7.6"
  }
 },
 "nbformat": 4,
 "nbformat_minor": 4
}
