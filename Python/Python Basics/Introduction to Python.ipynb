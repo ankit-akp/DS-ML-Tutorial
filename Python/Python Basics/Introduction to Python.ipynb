{
 "cells": [
  {
   "cell_type": "markdown",
   "metadata": {},
   "source": [
    "## print function\n",
    "\n",
    "syntax: print(objects)  \n",
    "● objects means that it can be one or more comma-separated 'Objects' to be printed.  \n",
    "● objects must be enclosed within parentheses.  \n",
    "\n",
    "Note: By default print function insert new line character in the end.  \n"
   ]
  },
  {
   "cell_type": "code",
   "execution_count": 2,
   "metadata": {},
   "outputs": [
    {
     "name": "stdout",
     "output_type": "stream",
     "text": [
      "hello world\n"
     ]
    }
   ],
   "source": [
    "print(\"hello world\")"
   ]
  },
  {
   "cell_type": "code",
   "execution_count": 3,
   "metadata": {},
   "outputs": [
    {
     "name": "stdout",
     "output_type": "stream",
     "text": [
      "hello world\n"
     ]
    }
   ],
   "source": [
    "print('hello world')"
   ]
  },
  {
   "cell_type": "code",
   "execution_count": 4,
   "metadata": {},
   "outputs": [
    {
     "name": "stdout",
     "output_type": "stream",
     "text": [
      "hey\n",
      "there\n"
     ]
    }
   ],
   "source": [
    "print(\"hey\")\n",
    "print(\"there\")"
   ]
  },
  {
   "cell_type": "markdown",
   "metadata": {},
   "source": [
    "## Variables\n",
    "You can start variable name with a digit"
   ]
  },
  {
   "cell_type": "code",
   "execution_count": 6,
   "metadata": {},
   "outputs": [
    {
     "name": "stdout",
     "output_type": "stream",
     "text": [
      "30\n"
     ]
    }
   ],
   "source": [
    "a=10\n",
    "b=20\n",
    "sum=a+b\n",
    "print(sum)\n",
    "# This is a comment"
   ]
  },
  {
   "cell_type": "markdown",
   "metadata": {},
   "source": [
    "## Assigning values to a variable\n"
   ]
  },
  {
   "cell_type": "code",
   "execution_count": 8,
   "metadata": {},
   "outputs": [
    {
     "name": "stdout",
     "output_type": "stream",
     "text": [
      "<class 'int'>\n",
      "<class 'str'>\n"
     ]
    }
   ],
   "source": [
    "a= \"Raw\" # String Data Type\n",
    "a= 10 # Integer Data Type\n",
    "a= 5.6 # Floating Point Number Data Type\n",
    "a= 1+8j # Complex Number\n",
    "a= True # Boolean Value\n",
    "\n",
    "a=10\n",
    "print(type(a))\n",
    "a=\"abc\"\n",
    "print(type(a))\n"
   ]
  },
  {
   "cell_type": "markdown",
   "metadata": {},
   "source": [
    "## type() and isinstance()\n",
    "\n",
    "We can use the type() function to know which class a variable or a value belongs to.  \n",
    "Similarly, the isinstance() function is used to check if an object belongs to a particular\n",
    "class.\n"
   ]
  },
  {
   "cell_type": "code",
   "execution_count": 9,
   "metadata": {},
   "outputs": [
    {
     "name": "stdout",
     "output_type": "stream",
     "text": [
      "5 is of type <class 'int'>\n",
      "2.0 is of type <class 'float'>\n",
      "(1+2j) is complex number? True\n"
     ]
    }
   ],
   "source": [
    "b = 5\n",
    "print(b, \"is of type\", type(b))\n",
    "b = 2.0\n",
    "print(b, \"is of type\", type(b))\n",
    "b = 1+2j\n",
    "print(b, \"is complex number?\", isinstance(b,complex))"
   ]
  },
  {
   "cell_type": "markdown",
   "metadata": {},
   "source": [
    "## Operators"
   ]
  },
  {
   "cell_type": "code",
   "execution_count": 10,
   "metadata": {},
   "outputs": [
    {
     "name": "stdout",
     "output_type": "stream",
     "text": [
      "7\n",
      "3\n",
      "10\n",
      "2.5\n",
      "2\n",
      "25\n",
      "1\n"
     ]
    }
   ],
   "source": [
    "print(5 + 2) # Addition\n",
    "\n",
    "print(5 - 2) # Subtraction\n",
    "\n",
    "print(5 * 2) # Multiplication\n",
    "\n",
    "print(5 / 2) # Floating Point Division\n",
    "# Out[] : 2.5\n",
    "\n",
    "print(5 // 2) # Floor Division\n",
    "# Out[] : 2 # 5 divided by 2 gives 2.5 and value of floor(2.5) is 2\n",
    "\n",
    "print(5 ** 2) # Calculate Exponent\n",
    "# Out[] : 25 # 5 raised to the power of 2 is 25\n",
    "\n",
    "print(5 % 2) # Modulus\n",
    "# Out[] : 1 # Remainder 1 is left after dividing 5 by 2"
   ]
  },
  {
   "cell_type": "markdown",
   "metadata": {},
   "source": [
    "## Taking input from user\n",
    "To get the input from the user interactively, we can use the built-in function, input(). This function is used in the following manner:  \n",
    "syntax: variable_to_hold_the_input_value = input(Prompt to be displayed)  \n",
    "Note: By default input() returns string"
   ]
  },
  {
   "cell_type": "code",
   "execution_count": 17,
   "metadata": {},
   "outputs": [
    {
     "name": "stdout",
     "output_type": "stream",
     "text": [
      "What is your age? 22\n",
      "22 <class 'str'>\n"
     ]
    }
   ],
   "source": [
    "age = input(\"What is your age? \")\n",
    "print(age,type(age))"
   ]
  },
  {
   "cell_type": "code",
   "execution_count": 19,
   "metadata": {},
   "outputs": [
    {
     "name": "stdout",
     "output_type": "stream",
     "text": [
      "22\n",
      "2.2\n"
     ]
    }
   ],
   "source": [
    "# Type conversion\n",
    "a=\"22\"\n",
    "b=int(a) # Now b will have integer 22\n",
    "print(b)\n",
    "# a=\"22b\"\n",
    "# b=int(a) # This will give error as variable a is not a valid integer string\n",
    "a=\"2.2\"\n",
    "b=float(a)\n",
    "print(b)"
   ]
  }
 ],
 "metadata": {
  "kernelspec": {
   "display_name": "Python 3",
   "language": "python",
   "name": "python3"
  },
  "language_info": {
   "codemirror_mode": {
    "name": "ipython",
    "version": 3
   },
   "file_extension": ".py",
   "mimetype": "text/x-python",
   "name": "python",
   "nbconvert_exporter": "python",
   "pygments_lexer": "ipython3",
   "version": "3.7.6"
  }
 },
 "nbformat": 4,
 "nbformat_minor": 4
}
