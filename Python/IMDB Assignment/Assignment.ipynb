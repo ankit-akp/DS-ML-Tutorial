{
 "cells": [
  {
   "cell_type": "markdown",
   "metadata": {},
   "source": [
    "# TMDb 1.1\n",
    "Find the 'id' of the movie \"Andhadhun\" using TMDb API.  "
   ]
  },
  {
   "cell_type": "code",
   "execution_count": 2,
   "metadata": {},
   "outputs": [
    {
     "name": "stdout",
     "output_type": "stream",
     "text": [
      "534780\n"
     ]
    }
   ],
   "source": [
    "import requests as req\n",
    "import json\n",
    "total_pages=35564\n",
    "BASE='https://api.themoviedb.org/3'\n",
    "IMDB_API_KEY='ffafe1f2b141d9a9fcae15771fe46db1'\n",
    "def printData(data):\n",
    "    print(json.dumps(data,indent=2))\n",
    "\n",
    "id=-1\n",
    "\n",
    "for i in range(1,10+1):\n",
    "    res=req.get(BASE+'/discover/movie',params={'api_key':IMDB_API_KEY,'page':i,'region':'IN','year':2018})\n",
    "    data=res.json()\n",
    "    \n",
    "    for x in data['results']:\n",
    "        if 'Andhadhun' in x['title']:\n",
    "            id=x['id']\n",
    "            break\n",
    "    if id!=-1:\n",
    "        break\n",
    "print(id)\n"
   ]
  },
  {
   "cell_type": "markdown",
   "metadata": {},
   "source": [
    "# TMDb 1.2\n",
    "Fetch the company id company 'Marvel Studios' using TMDb. Print the id.  "
   ]
  },
  {
   "cell_type": "code",
   "execution_count": 4,
   "metadata": {},
   "outputs": [
    {
     "name": "stdout",
     "output_type": "stream",
     "text": [
      "420\n"
     ]
    }
   ],
   "source": [
    "import requests as req\n",
    "import json\n",
    "total_pages=35564\n",
    "BASE='https://api.themoviedb.org/3'\n",
    "IMDB_API_KEY='ffafe1f2b141d9a9fcae15771fe46db1'\n",
    "def printData(data):\n",
    "    print(json.dumps(data,indent=2))\n",
    "    \n",
    "    \n",
    "p={'api_key':IMDB_API_KEY,'query':'Marvel Studios'}\n",
    "res=req.get(BASE+'/search/company',params=p)\n",
    "# print(res.status_code)\n",
    "data=res.json()\n",
    "print(data['results'][0]['id'])\n",
    "# printData(data)"
   ]
  },
  {
   "cell_type": "markdown",
   "metadata": {},
   "source": [
    "# TMDb 1.3\n",
    "Find the vote count and vote average of the movie \"3 Idiots\" using the TMDb API  "
   ]
  },
  {
   "cell_type": "code",
   "execution_count": 6,
   "metadata": {},
   "outputs": [
    {
     "name": "stdout",
     "output_type": "stream",
     "text": [
      "1922 8\n"
     ]
    }
   ],
   "source": [
    "import requests as req\n",
    "import json\n",
    "total_pages=35564\n",
    "BASE='https://api.themoviedb.org/3'\n",
    "IMDB_API_KEY='ffafe1f2b141d9a9fcae15771fe46db1'\n",
    "def printData(data):\n",
    "    print(json.dumps(data,indent=2))\n",
    "    \n",
    "\n",
    "for i in range(1,10):\n",
    "    p={'api_key':IMDB_API_KEY,'page':i,'region':'IN','year':2009}\n",
    "    res=req.get(BASE+'/discover/movie',params=p)\n",
    "    data=res.json()\n",
    "    flag=False\n",
    "    for x in data['results']:\n",
    "        if '3 Idiots' in x['title']:\n",
    "            flag=True\n",
    "            print(x['vote_count'],x['vote_average'])\n",
    "            break\n",
    "    if flag:\n",
    "        break\n",
    "\n",
    "\n",
    "# printData(data)"
   ]
  },
  {
   "cell_type": "markdown",
   "metadata": {},
   "source": [
    "# TMDb 1.4\n",
    "Fetch the names of top 5 similar movies to 'Inception' from the TMDb API.  "
   ]
  },
  {
   "cell_type": "code",
   "execution_count": 7,
   "metadata": {},
   "outputs": [
    {
     "name": "stdout",
     "output_type": "stream",
     "text": [
      "Inception\n",
      "Joe Dirt\n",
      "A Night to Remember\n",
      "The Lover\n",
      "Farewell My Concubine\n"
     ]
    }
   ],
   "source": [
    "import requests as req\n",
    "import json\n",
    "total_pages=35564\n",
    "BASE='https://api.themoviedb.org/3'\n",
    "IMDB_API_KEY='ffafe1f2b141d9a9fcae15771fe46db1'\n",
    "\n",
    "# Functions\n",
    "def printData(data):\n",
    "    print(json.dumps(data,indent=2))\n",
    "    \n",
    "def getMovieId(movie_name):\n",
    "    p={'api_key':IMDB_API_KEY,'query':movie_name}\n",
    "    res=req.get(BASE+'/search/movie',params=p)\n",
    "    data=res.json()\n",
    "    for i in data['results']:\n",
    "        if i['title']==movie_name:\n",
    "            return i['id']\n",
    "\n",
    "        \n",
    "\n",
    "# Code\n",
    "\n",
    "movieId=getMovieId('Inception')\n",
    "# print(movieId)\n",
    "# There are two id for inception 27205,846190 out of 846190 gives correct ans\n",
    "p={'api_key':IMDB_API_KEY}\n",
    "res=req.get(f'{BASE}/movie/{846190}/similar',params=p)\n",
    "\n",
    "data=res.json()\n",
    "\n",
    "for i in data['results'][:5]:\n",
    "    print(i['title'])\n",
    "# printData(data)"
   ]
  },
  {
   "cell_type": "markdown",
   "metadata": {},
   "source": [
    "# TMDb 1.5\n",
    "Fetch the top rated english movies in the US region using the TMDb API. From the result, print the first 10 movies which have original language as english. Also print their genres.  "
   ]
  },
  {
   "cell_type": "code",
   "execution_count": 8,
   "metadata": {},
   "outputs": [
    {
     "name": "stdout",
     "output_type": "stream",
     "text": [
      "The Godfather - Drama, Crime, \n",
      "The Shawshank Redemption - Drama, Crime, \n",
      "The Godfather Part II - Drama, Crime, \n",
      "Schindler's List - Drama, History, War, \n",
      "12 Angry Men - Drama, \n",
      "Gabriel's Inferno: Part II - Romance, \n",
      "The Green Mile - Fantasy, Drama, Crime, \n",
      "Gabriel's Inferno - Romance, \n",
      "The Dark Knight - Drama, Action, Crime, Thriller, \n",
      "Pulp Fiction - Thriller, Crime, \n"
     ]
    }
   ],
   "source": [
    "import requests as req\n",
    "import json\n",
    "total_pages=35564\n",
    "BASE='https://api.themoviedb.org/3'\n",
    "IMDB_API_KEY='ffafe1f2b141d9a9fcae15771fe46db1'\n",
    "\n",
    "# Functions\n",
    "def printData(data):\n",
    "    print(json.dumps(data,indent=2))\n",
    "\n",
    "def getGenreDict():\n",
    "    p={'api_key':IMDB_API_KEY}\n",
    "    res=req.get(BASE+'/genre/movie/list',params=p)\n",
    "    # print(res.status_code)\n",
    "    data=res.json()\n",
    "    genre={}\n",
    "    for i in data['genres']:\n",
    "        genre[i['id']]=i['name']\n",
    "    return genre\n",
    "# Code\n",
    "\n",
    "genre=getGenreDict()\n",
    "# print(genre)\n",
    "\n",
    "p={'api_key':IMDB_API_KEY,'region':'US'}\n",
    "res=req.get(BASE+'/movie/top_rated',params=p)\n",
    "# print(res.status_code)\n",
    "data=res.json()\n",
    "\n",
    "cnt=0\n",
    "for i in data['results']:\n",
    "    if i['original_language']=='en':\n",
    "        cnt+=1\n",
    "        print(i['title'],end=' - ')\n",
    "        for x in i['genre_ids']:\n",
    "            print(genre[x],end=', ')\n",
    "        print()\n",
    "        if cnt==10:\n",
    "            break\n"
   ]
  },
  {
   "cell_type": "markdown",
   "metadata": {},
   "source": [
    "# TMDb 2.1\n",
    "Find the name and birthplace of the present most popular person according to TMDb API."
   ]
  },
  {
   "cell_type": "code",
   "execution_count": 9,
   "metadata": {},
   "outputs": [
    {
     "name": "stdout",
     "output_type": "stream",
     "text": [
      "2473962\n",
      "Jo Tae-ho - None\n"
     ]
    }
   ],
   "source": [
    "import requests as req\n",
    "import json\n",
    "total_pages=35564\n",
    "BASE='https://api.themoviedb.org/3'\n",
    "IMDB_API_KEY='ffafe1f2b141d9a9fcae15771fe46db1'\n",
    "\n",
    "# Functions\n",
    "def printData(data):\n",
    "    print(json.dumps(data,indent=2))\n",
    "\n",
    "# Code\n",
    "\n",
    "p={'api_key':IMDB_API_KEY}\n",
    "res=req.get(BASE+'/person/popular', params=p)\n",
    "# print(res.status_code)\n",
    "data=res.json()\n",
    "print(data['results'][0]['id'])\n",
    "id=data['results'][0]['id']\n",
    "res = req.get(f'https://api.themoviedb.org/3/person/{id}',params={'api_key':IMDB_API_KEY}) \n",
    "data=res.json()\n",
    "print(data['name'],'-',data['place_of_birth'])"
   ]
  },
  {
   "cell_type": "markdown",
   "metadata": {},
   "source": [
    "# TMDb 2.2\n",
    "Fetch the Instagram and Twitter handle of Indian Actress \"Alia Bhatt\" from the TMDb API.  "
   ]
  },
  {
   "cell_type": "code",
   "execution_count": 10,
   "metadata": {},
   "outputs": [
    {
     "name": "stdout",
     "output_type": "stream",
     "text": [
      "aliaabhatt Aliaa08\n"
     ]
    }
   ],
   "source": [
    "import requests as req\n",
    "import json\n",
    "total_pages=35564\n",
    "BASE='https://api.themoviedb.org/3'\n",
    "IMDB_API_KEY='ffafe1f2b141d9a9fcae15771fe46db1'\n",
    "\n",
    "# Functions\n",
    "def printData(data):\n",
    "    print(json.dumps(data,indent=2))\n",
    "\n",
    "# Code\n",
    "\n",
    "p1={'api_key':IMDB_API_KEY,'query':'Alia Bhatt'}\n",
    "res=req.get(BASE+'/search/person', params=p1)\n",
    "# print(res.status_code)\n",
    "data=res.json()\n",
    "person_id=data['results'][0]['id']\n",
    "# print(person_id)\n",
    "\n",
    "p2={'api_key':IMDB_API_KEY}\n",
    "res=req.get(f'{BASE}/person/{person_id}/external_ids',params=p2)\n",
    "data=res.json()\n",
    "print(data['instagram_id'],data['twitter_id'])\n",
    "# printData(data)"
   ]
  },
  {
   "cell_type": "markdown",
   "metadata": {},
   "source": [
    "# TMDb 2.3\n",
    "Fetch the names of the character played by Tom Cruise in the movies:  \n",
    "Top Gun  \n",
    "Mission: Impossible - Fallout  \n",
    "Minority Report  \n",
    "Edge of Tomorrow  "
   ]
  },
  {
   "cell_type": "code",
   "execution_count": 11,
   "metadata": {},
   "outputs": [
    {
     "name": "stdout",
     "output_type": "stream",
     "text": [
      "Lt. Pete 'Maverick' Mitchell\n",
      "Ethan Hunt\n",
      "Chief John Anderton\n",
      "Maj. William 'Bill' Cage\n"
     ]
    }
   ],
   "source": [
    "import requests as req\n",
    "import json\n",
    "total_pages=35564\n",
    "BASE='https://api.themoviedb.org/3'\n",
    "IMDB_API_KEY='ffafe1f2b141d9a9fcae15771fe46db1'\n",
    "\n",
    "# Functions\n",
    "def printData(data):\n",
    "    print(json.dumps(data,indent=2))\n",
    "\n",
    "def characterName(movie,data):\n",
    "    for i in data['cast']:\n",
    "        if i['title']==movie:\n",
    "            return i['character']\n",
    "# Code\n",
    "\n",
    "p1={'api_key':IMDB_API_KEY,'query':'Tom Cruise'}\n",
    "res=req.get(BASE+'/search/person', params=p1)\n",
    "data=res.json()\n",
    "person_id=data['results'][0]['id']\n",
    "# printData(person_id)\n",
    "\n",
    "p2={'api_key':IMDB_API_KEY}\n",
    "res=req.get(f'{BASE}/person/{person_id}/movie_credits',params=p2)\n",
    "data=res.json()\n",
    "\n",
    "listOfMovies=['Top Gun','Mission: Impossible - Fallout','Minority Report','Edge of Tomorrow']\n",
    "\n",
    "for i in listOfMovies:\n",
    "    print(characterName(i,data))\n",
    "# printData(data)"
   ]
  },
  {
   "cell_type": "markdown",
   "metadata": {},
   "source": [
    "# TMDb 2.4\n",
    "Did James McAvoy play a role in the movie Deadpool 2. Print Yes or No  "
   ]
  },
  {
   "cell_type": "code",
   "execution_count": 20,
   "metadata": {},
   "outputs": [
    {
     "name": "stdout",
     "output_type": "stream",
     "text": [
      "Yes\n"
     ]
    }
   ],
   "source": [
    "import requests as req\n",
    "import json\n",
    "total_pages=35564\n",
    "BASE='https://api.themoviedb.org/3'\n",
    "IMDB_API_KEY='ffafe1f2b141d9a9fcae15771fe46db1'\n",
    "\n",
    "# Functions\n",
    "def printData(data):\n",
    "    print(json.dumps(data,indent=2))\n",
    "\n",
    "# Code\n",
    "\n",
    "p1={'api_key':IMDB_API_KEY,'query':'James McAvoy '}\n",
    "res=req.get(BASE+'/search/person', params=p1)\n",
    "data=res.json()\n",
    "person_id=data['results'][0]['id']\n",
    "# printData(person_id)\n",
    "\n",
    "p2={'api_key':IMDB_API_KEY}\n",
    "res=req.get(f'{BASE}/person/{person_id}/movie_credits',params=p2)\n",
    "data=res.json()\n",
    "\n",
    "flag=False\n",
    "for i in data['cast']:\n",
    "    if i['title']=='Deadpool 2':\n",
    "        flag=True\n",
    "if flag:\n",
    "    print('Yes')\n",
    "else:\n",
    "    print('No')\n",
    "# printData(data)"
   ]
  },
  {
   "cell_type": "markdown",
   "metadata": {},
   "source": [
    "# TMDb 2.5\n",
    "Using the result obtained in previous question, find out if James McAvoy was credited for his role in movie Deadpool 2. Print Yes or No.  "
   ]
  },
  {
   "cell_type": "code",
   "execution_count": 21,
   "metadata": {},
   "outputs": [
    {
     "name": "stdout",
     "output_type": "stream",
     "text": [
      "No\n"
     ]
    }
   ],
   "source": [
    "import requests as req\n",
    "import json\n",
    "total_pages=35564\n",
    "BASE='https://api.themoviedb.org/3'\n",
    "IMDB_API_KEY='ffafe1f2b141d9a9fcae15771fe46db1'\n",
    "\n",
    "# Functions\n",
    "def printData(data):\n",
    "    print(json.dumps(data,indent=2))\n",
    "\n",
    "# Code\n",
    "\n",
    "p1={'api_key':IMDB_API_KEY,'query':'James McAvoy '}\n",
    "res=req.get(BASE+'/search/person', params=p1)\n",
    "data=res.json()\n",
    "person_id=data['results'][0]['id']\n",
    "# printData(person_id)\n",
    "\n",
    "p2={'api_key':IMDB_API_KEY}\n",
    "res=req.get(f'{BASE}/person/{person_id}/movie_credits',params=p2)\n",
    "data=res.json()\n",
    "\n",
    "flag=False\n",
    "for i in data['cast']:\n",
    "    if i['credit_id']=='Deadpool 2':\n",
    "        flag=True\n",
    "if flag:\n",
    "    print('Yes')\n",
    "else:\n",
    "    print('No')\n",
    "# printData(data)"
   ]
  },
  {
   "cell_type": "code",
   "execution_count": null,
   "metadata": {},
   "outputs": [],
   "source": []
  }
 ],
 "metadata": {
  "kernelspec": {
   "display_name": "Python 3",
   "language": "python",
   "name": "python3"
  },
  "language_info": {
   "codemirror_mode": {
    "name": "ipython",
    "version": 3
   },
   "file_extension": ".py",
   "mimetype": "text/x-python",
   "name": "python",
   "nbconvert_exporter": "python",
   "pygments_lexer": "ipython3",
   "version": "3.7.6"
  }
 },
 "nbformat": 4,
 "nbformat_minor": 4
}
