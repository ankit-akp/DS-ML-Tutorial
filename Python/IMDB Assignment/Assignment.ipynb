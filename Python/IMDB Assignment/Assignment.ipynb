{
 "cells": [
  {
   "cell_type": "markdown",
   "metadata": {},
   "source": [
    "# TMDb 1.1\n",
    "Find the 'id' of the movie \"Andhadhun\" using TMDb API.  "
   ]
  },
  {
   "cell_type": "code",
   "execution_count": 2,
   "metadata": {},
   "outputs": [
    {
     "name": "stdout",
     "output_type": "stream",
     "text": [
      "534780\n"
     ]
    }
   ],
   "source": [
    "import requests as req\n",
    "import json\n",
    "total_pages=35564\n",
    "BASE='https://api.themoviedb.org/3'\n",
    "IMDB_API_KEY='ffafe1f2b141d9a9fcae15771fe46db1'\n",
    "def printData(data):\n",
    "    print(json.dumps(data,indent=2))\n",
    "\n",
    "id=-1\n",
    "\n",
    "for i in range(1,10+1):\n",
    "    res=req.get(BASE+'/discover/movie',params={'api_key':IMDB_API_KEY,'page':i,'region':'IN','year':2018})\n",
    "    data=res.json()\n",
    "    \n",
    "    for x in data['results']:\n",
    "        if 'Andhadhun' in x['title']:\n",
    "            id=x['id']\n",
    "            break\n",
    "    if id!=-1:\n",
    "        break\n",
    "print(id)\n"
   ]
  },
  {
   "cell_type": "markdown",
   "metadata": {},
   "source": [
    "# TMDb 1.2\n",
    "Fetch the company id company 'Marvel Studios' using TMDb. Print the id.  "
   ]
  },
  {
   "cell_type": "code",
   "execution_count": 4,
   "metadata": {},
   "outputs": [
    {
     "name": "stdout",
     "output_type": "stream",
     "text": [
      "420\n"
     ]
    }
   ],
   "source": [
    "import requests as req\n",
    "import json\n",
    "total_pages=35564\n",
    "BASE='https://api.themoviedb.org/3'\n",
    "IMDB_API_KEY='ffafe1f2b141d9a9fcae15771fe46db1'\n",
    "def printData(data):\n",
    "    print(json.dumps(data,indent=2))\n",
    "    \n",
    "    \n",
    "p={'api_key':IMDB_API_KEY,'query':'Marvel Studios'}\n",
    "res=req.get(BASE+'/search/company',params=p)\n",
    "# print(res.status_code)\n",
    "data=res.json()\n",
    "print(data['results'][0]['id'])\n",
    "# printData(data)"
   ]
  },
  {
   "cell_type": "markdown",
   "metadata": {},
   "source": [
    "# TMDb 1.3\n",
    "Find the vote count and vote average of the movie \"3 Idiots\" using the TMDb API  "
   ]
  },
  {
   "cell_type": "code",
   "execution_count": 6,
   "metadata": {},
   "outputs": [
    {
     "name": "stdout",
     "output_type": "stream",
     "text": [
      "1922 8\n"
     ]
    }
   ],
   "source": [
    "import requests as req\n",
    "import json\n",
    "total_pages=35564\n",
    "BASE='https://api.themoviedb.org/3'\n",
    "IMDB_API_KEY='ffafe1f2b141d9a9fcae15771fe46db1'\n",
    "def printData(data):\n",
    "    print(json.dumps(data,indent=2))\n",
    "    \n",
    "\n",
    "for i in range(1,10):\n",
    "    p={'api_key':IMDB_API_KEY,'page':i,'region':'IN','year':2009}\n",
    "    res=req.get(BASE+'/discover/movie',params=p)\n",
    "    data=res.json()\n",
    "    flag=False\n",
    "    for x in data['results']:\n",
    "        if '3 Idiots' in x['title']:\n",
    "            flag=True\n",
    "            print(x['vote_count'],x['vote_average'])\n",
    "            break\n",
    "    if flag:\n",
    "        break\n",
    "\n",
    "\n",
    "# printData(data)"
   ]
  },
  {
   "cell_type": "markdown",
   "metadata": {},
   "source": [
    "# TMDb 1.4\n",
    "Fetch the names of top 5 similar movies to 'Inception' from the TMDb API.  "
   ]
  },
  {
   "cell_type": "code",
   "execution_count": 7,
   "metadata": {},
   "outputs": [
    {
     "name": "stdout",
     "output_type": "stream",
     "text": [
      "Inception\n",
      "Joe Dirt\n",
      "A Night to Remember\n",
      "The Lover\n",
      "Farewell My Concubine\n"
     ]
    }
   ],
   "source": [
    "import requests as req\n",
    "import json\n",
    "total_pages=35564\n",
    "BASE='https://api.themoviedb.org/3'\n",
    "IMDB_API_KEY='ffafe1f2b141d9a9fcae15771fe46db1'\n",
    "\n",
    "# Functions\n",
    "def printData(data):\n",
    "    print(json.dumps(data,indent=2))\n",
    "    \n",
    "def getMovieId(movie_name):\n",
    "    p={'api_key':IMDB_API_KEY,'query':movie_name}\n",
    "    res=req.get(BASE+'/search/movie',params=p)\n",
    "    data=res.json()\n",
    "    for i in data['results']:\n",
    "        if i['title']==movie_name:\n",
    "            return i['id']\n",
    "\n",
    "        \n",
    "\n",
    "# Code\n",
    "\n",
    "movieId=getMovieId('Inception')\n",
    "# print(movieId)\n",
    "# There are two id for inception 27205,846190 out of 846190 gives correct ans\n",
    "p={'api_key':IMDB_API_KEY}\n",
    "res=req.get(f'{BASE}/movie/{846190}/similar',params=p)\n",
    "\n",
    "data=res.json()\n",
    "\n",
    "for i in data['results'][:5]:\n",
    "    print(i['title'])\n",
    "# printData(data)"
   ]
  },
  {
   "cell_type": "markdown",
   "metadata": {},
   "source": [
    "# TMDb 1.5\n",
    "Fetch the top rated english movies in the US region using the TMDb API. From the result, print the first 10 movies which have original language as english. Also print their genres.  "
   ]
  },
  {
   "cell_type": "code",
   "execution_count": 8,
   "metadata": {},
   "outputs": [
    {
     "name": "stdout",
     "output_type": "stream",
     "text": [
      "The Godfather - Drama, Crime, \n",
      "The Shawshank Redemption - Drama, Crime, \n",
      "The Godfather Part II - Drama, Crime, \n",
      "Schindler's List - Drama, History, War, \n",
      "12 Angry Men - Drama, \n",
      "Gabriel's Inferno: Part II - Romance, \n",
      "The Green Mile - Fantasy, Drama, Crime, \n",
      "Gabriel's Inferno - Romance, \n",
      "The Dark Knight - Drama, Action, Crime, Thriller, \n",
      "Pulp Fiction - Thriller, Crime, \n"
     ]
    }
   ],
   "source": [
    "import requests as req\n",
    "import json\n",
    "total_pages=35564\n",
    "BASE='https://api.themoviedb.org/3'\n",
    "IMDB_API_KEY='ffafe1f2b141d9a9fcae15771fe46db1'\n",
    "\n",
    "# Functions\n",
    "def printData(data):\n",
    "    print(json.dumps(data,indent=2))\n",
    "\n",
    "def getGenreDict():\n",
    "    p={'api_key':IMDB_API_KEY}\n",
    "    res=req.get(BASE+'/genre/movie/list',params=p)\n",
    "    # print(res.status_code)\n",
    "    data=res.json()\n",
    "    genre={}\n",
    "    for i in data['genres']:\n",
    "        genre[i['id']]=i['name']\n",
    "    return genre\n",
    "# Code\n",
    "\n",
    "genre=getGenreDict()\n",
    "# print(genre)\n",
    "\n",
    "p={'api_key':IMDB_API_KEY,'region':'US'}\n",
    "res=req.get(BASE+'/movie/top_rated',params=p)\n",
    "# print(res.status_code)\n",
    "data=res.json()\n",
    "\n",
    "cnt=0\n",
    "for i in data['results']:\n",
    "    if i['original_language']=='en':\n",
    "        cnt+=1\n",
    "        print(i['title'],end=' - ')\n",
    "        for x in i['genre_ids']:\n",
    "            print(genre[x],end=', ')\n",
    "        print()\n",
    "        if cnt==10:\n",
    "            break\n"
   ]
  },
  {
   "cell_type": "markdown",
   "metadata": {},
   "source": [
    "# TMDb 2.1\n",
    "Find the name and birthplace of the present most popular person according to TMDb API."
   ]
  },
  {
   "cell_type": "code",
   "execution_count": 9,
   "metadata": {},
   "outputs": [
    {
     "name": "stdout",
     "output_type": "stream",
     "text": [
      "2473962\n",
      "Jo Tae-ho - None\n"
     ]
    }
   ],
   "source": [
    "import requests as req\n",
    "import json\n",
    "total_pages=35564\n",
    "BASE='https://api.themoviedb.org/3'\n",
    "IMDB_API_KEY='ffafe1f2b141d9a9fcae15771fe46db1'\n",
    "\n",
    "# Functions\n",
    "def printData(data):\n",
    "    print(json.dumps(data,indent=2))\n",
    "\n",
    "# Code\n",
    "\n",
    "p={'api_key':IMDB_API_KEY}\n",
    "res=req.get(BASE+'/person/popular', params=p)\n",
    "# print(res.status_code)\n",
    "data=res.json()\n",
    "print(data['results'][0]['id'])\n",
    "id=data['results'][0]['id']\n",
    "res = req.get(f'https://api.themoviedb.org/3/person/{id}',params={'api_key':IMDB_API_KEY}) \n",
    "data=res.json()\n",
    "print(data['name'],'-',data['place_of_birth'])"
   ]
  },
  {
   "cell_type": "markdown",
   "metadata": {},
   "source": [
    "# TMDb 2.2\n",
    "Fetch the Instagram and Twitter handle of Indian Actress \"Alia Bhatt\" from the TMDb API.  "
   ]
  },
  {
   "cell_type": "code",
   "execution_count": 10,
   "metadata": {},
   "outputs": [
    {
     "name": "stdout",
     "output_type": "stream",
     "text": [
      "aliaabhatt Aliaa08\n"
     ]
    }
   ],
   "source": [
    "import requests as req\n",
    "import json\n",
    "total_pages=35564\n",
    "BASE='https://api.themoviedb.org/3'\n",
    "IMDB_API_KEY='ffafe1f2b141d9a9fcae15771fe46db1'\n",
    "\n",
    "# Functions\n",
    "def printData(data):\n",
    "    print(json.dumps(data,indent=2))\n",
    "\n",
    "# Code\n",
    "\n",
    "p1={'api_key':IMDB_API_KEY,'query':'Alia Bhatt'}\n",
    "res=req.get(BASE+'/search/person', params=p1)\n",
    "# print(res.status_code)\n",
    "data=res.json()\n",
    "person_id=data['results'][0]['id']\n",
    "# print(person_id)\n",
    "\n",
    "p2={'api_key':IMDB_API_KEY}\n",
    "res=req.get(f'{BASE}/person/{person_id}/external_ids',params=p2)\n",
    "data=res.json()\n",
    "print(data['instagram_id'],data['twitter_id'])\n",
    "# printData(data)"
   ]
  },
  {
   "cell_type": "markdown",
   "metadata": {},
   "source": [
    "# TMDb 2.3\n",
    "Fetch the names of the character played by Tom Cruise in the movies:  \n",
    "Top Gun  \n",
    "Mission: Impossible - Fallout  \n",
    "Minority Report  \n",
    "Edge of Tomorrow  "
   ]
  },
  {
   "cell_type": "code",
   "execution_count": 11,
   "metadata": {},
   "outputs": [
    {
     "name": "stdout",
     "output_type": "stream",
     "text": [
      "Lt. Pete 'Maverick' Mitchell\n",
      "Ethan Hunt\n",
      "Chief John Anderton\n",
      "Maj. William 'Bill' Cage\n"
     ]
    }
   ],
   "source": [
    "import requests as req\n",
    "import json\n",
    "total_pages=35564\n",
    "BASE='https://api.themoviedb.org/3'\n",
    "IMDB_API_KEY='ffafe1f2b141d9a9fcae15771fe46db1'\n",
    "\n",
    "# Functions\n",
    "def printData(data):\n",
    "    print(json.dumps(data,indent=2))\n",
    "\n",
    "def characterName(movie,data):\n",
    "    for i in data['cast']:\n",
    "        if i['title']==movie:\n",
    "            return i['character']\n",
    "# Code\n",
    "\n",
    "p1={'api_key':IMDB_API_KEY,'query':'Tom Cruise'}\n",
    "res=req.get(BASE+'/search/person', params=p1)\n",
    "data=res.json()\n",
    "person_id=data['results'][0]['id']\n",
    "# printData(person_id)\n",
    "\n",
    "p2={'api_key':IMDB_API_KEY}\n",
    "res=req.get(f'{BASE}/person/{person_id}/movie_credits',params=p2)\n",
    "data=res.json()\n",
    "\n",
    "listOfMovies=['Top Gun','Mission: Impossible - Fallout','Minority Report','Edge of Tomorrow']\n",
    "\n",
    "for i in listOfMovies:\n",
    "    print(characterName(i,data))\n",
    "# printData(data)"
   ]
  },
  {
   "cell_type": "markdown",
   "metadata": {},
   "source": [
    "# TMDb 2.4\n",
    "Did James McAvoy play a role in the movie Deadpool 2. Print Yes or No  "
   ]
  },
  {
   "cell_type": "code",
   "execution_count": 20,
   "metadata": {},
   "outputs": [
    {
     "name": "stdout",
     "output_type": "stream",
     "text": [
      "Yes\n"
     ]
    }
   ],
   "source": [
    "import requests as req\n",
    "import json\n",
    "total_pages=35564\n",
    "BASE='https://api.themoviedb.org/3'\n",
    "IMDB_API_KEY='ffafe1f2b141d9a9fcae15771fe46db1'\n",
    "\n",
    "# Functions\n",
    "def printData(data):\n",
    "    print(json.dumps(data,indent=2))\n",
    "\n",
    "# Code\n",
    "\n",
    "p1={'api_key':IMDB_API_KEY,'query':'James McAvoy '}\n",
    "res=req.get(BASE+'/search/person', params=p1)\n",
    "data=res.json()\n",
    "person_id=data['results'][0]['id']\n",
    "# printData(person_id)\n",
    "\n",
    "p2={'api_key':IMDB_API_KEY}\n",
    "res=req.get(f'{BASE}/person/{person_id}/movie_credits',params=p2)\n",
    "data=res.json()\n",
    "\n",
    "flag=False\n",
    "for i in data['cast']:\n",
    "    if i['title']=='Deadpool 2':\n",
    "        flag=True\n",
    "if flag:\n",
    "    print('Yes')\n",
    "else:\n",
    "    print('No')\n",
    "# printData(data)"
   ]
  },
  {
   "cell_type": "markdown",
   "metadata": {},
   "source": [
    "# TMDb 2.5\n",
    "Using the result obtained in previous question, find out if James McAvoy was credited for his role in movie Deadpool 2. Print Yes or No.  "
   ]
  },
  {
   "cell_type": "code",
   "execution_count": 21,
   "metadata": {},
   "outputs": [
    {
     "name": "stdout",
     "output_type": "stream",
     "text": [
      "No\n"
     ]
    }
   ],
   "source": [
    "import requests as req\n",
    "import json\n",
    "total_pages=35564\n",
    "BASE='https://api.themoviedb.org/3'\n",
    "IMDB_API_KEY='ffafe1f2b141d9a9fcae15771fe46db1'\n",
    "\n",
    "# Functions\n",
    "def printData(data):\n",
    "    print(json.dumps(data,indent=2))\n",
    "\n",
    "# Code\n",
    "\n",
    "p1={'api_key':IMDB_API_KEY,'query':'James McAvoy '}\n",
    "res=req.get(BASE+'/search/person', params=p1)\n",
    "data=res.json()\n",
    "person_id=data['results'][0]['id']\n",
    "# printData(person_id)\n",
    "\n",
    "p2={'api_key':IMDB_API_KEY}\n",
    "res=req.get(f'{BASE}/person/{person_id}/movie_credits',params=p2)\n",
    "data=res.json()\n",
    "\n",
    "flag=False\n",
    "for i in data['cast']:\n",
    "    if i['credit_id']=='Deadpool 2':\n",
    "        flag=True\n",
    "if flag:\n",
    "    print('Yes')\n",
    "else:\n",
    "    print('No')\n",
    "# printData(data)"
   ]
  },
  {
   "cell_type": "markdown",
   "metadata": {},
   "source": [
    "# TMDb 3.1\n",
    "Fetch the overview of the TV Show \"FRIENDS\" using TMDb API."
   ]
  },
  {
   "cell_type": "code",
   "execution_count": 1,
   "metadata": {},
   "outputs": [
    {
     "name": "stdout",
     "output_type": "stream",
     "text": [
      "Six young people from New York City, on their own and struggling to survive in the real world, find the companionship, comfort and support they get from each other to be the perfect antidote to the pressures of life.\n"
     ]
    }
   ],
   "source": [
    "import requests as req\n",
    "import json\n",
    "total_pages=35564\n",
    "BASE='https://api.themoviedb.org/3'\n",
    "IMDB_API_KEY='ffafe1f2b141d9a9fcae15771fe46db1'\n",
    "\n",
    "# Functions\n",
    "def printData(data):\n",
    "    print(json.dumps(data,indent=2))\n",
    "    \n",
    "p={'api_key':IMDB_API_KEY,'query':'FRIENDS'}\n",
    "res=req.get(BASE+'/search/tv',params=p)\n",
    "# print(res.json())\n",
    "data=res.json()['results']\n",
    "# printData(data)\n",
    "\n",
    "for i in data:\n",
    "    if i['original_name']=='Friends':\n",
    "        print(i['overview'])"
   ]
  },
  {
   "cell_type": "markdown",
   "metadata": {},
   "source": [
    "# TMDb 3.2\n",
    "Fetch the name and air date of S06E05 of the TV Show 'The Big Bang Theory' from TMDb API."
   ]
  },
  {
   "cell_type": "code",
   "execution_count": 2,
   "metadata": {},
   "outputs": [
    {
     "name": "stdout",
     "output_type": "stream",
     "text": [
      "The Holographic Excitation - 2012-10-25\n"
     ]
    }
   ],
   "source": [
    "import requests as req\n",
    "import json\n",
    "total_pages=35564\n",
    "BASE='https://api.themoviedb.org/3'\n",
    "IMDB_API_KEY='ffafe1f2b141d9a9fcae15771fe46db1'\n",
    "\n",
    "# Functions\n",
    "def printData(data):\n",
    "    print(json.dumps(data,indent=2))\n",
    "    \n",
    "p1={'api_key':IMDB_API_KEY,'query':'The Big Bang Theory'}\n",
    "res=req.get(BASE+'/search/tv',params=p1)\n",
    "\n",
    "data=res.json()['results']\n",
    "# printData(data)\n",
    "\n",
    "tv_id=data[0]['id']\n",
    "p2={'api_key':IMDB_API_KEY}\n",
    "url=f'/tv/{tv_id}/season/{6}/episode/{5}'\n",
    "res=req.get(BASE+url,params=p2)\n",
    "# print(res.json())\n",
    "data=res.json()\n",
    "print(data['name']+' - '+data['air_date'])"
   ]
  },
  {
   "cell_type": "markdown",
   "metadata": {},
   "source": [
    "# TMDb 3.3\n",
    "Fetch the trending TV Shows for the week from the TMDb API and print the taglines of the top 5 shows. If there is no tagline, print 'Empty' instead"
   ]
  },
  {
   "cell_type": "code",
   "execution_count": 3,
   "metadata": {},
   "outputs": [
    {
     "name": "stdout",
     "output_type": "stream",
     "text": [
      "Fire and blood.\n",
      "Open your mind to fear.\n",
      "Empty\n",
      "Journey to Middle-earth.\n",
      "The Rebellion begins.\n"
     ]
    }
   ],
   "source": [
    "import requests as req\n",
    "import json\n",
    "total_pages=35564\n",
    "BASE='https://api.themoviedb.org/3'\n",
    "IMDB_API_KEY='ffafe1f2b141d9a9fcae15771fe46db1'\n",
    "\n",
    "# Functions\n",
    "def printData(data):\n",
    "    print(json.dumps(data,indent=2))\n",
    "    \n",
    "p1={'api_key':IMDB_API_KEY,'query':'The Big Bang Theory'}\n",
    "res=req.get(BASE+'/search/tv',params=p1)\n",
    "\n",
    "data=res.json()['results']\n",
    "# printData(data)\n",
    "\n",
    "tv_id=data[0]['id']\n",
    "p2={'api_key':IMDB_API_KEY}\n",
    "url='/trending/tv/week'\n",
    "\n",
    "res=req.get(BASE+url,params=p2)\n",
    "# print(res.json())\n",
    "data=res.json()\n",
    "data=data['results']\n",
    "# printData(data)\n",
    "list_id=[]\n",
    "\n",
    "for i in data[:5]:\n",
    "    list_id.append(i['id'])\n",
    "    \n",
    "for i in list_id:\n",
    "    p={'api_key':IMDB_API_KEY}\n",
    "    res=req.get(BASE+f'/tv/{i}',params=p)\n",
    "\n",
    "    tagline=res.json()['tagline']\n",
    "    if tagline=='':\n",
    "        tagline='Empty'\n",
    "    print(tagline)"
   ]
  },
  {
   "cell_type": "markdown",
   "metadata": {},
   "source": [
    "# TMDb 3.4\n",
    "Print the names of all the TV shows to be aired today whose original language is english."
   ]
  },
  {
   "cell_type": "code",
   "execution_count": 5,
   "metadata": {},
   "outputs": [
    {
     "name": "stdout",
     "output_type": "stream",
     "text": [
      "Strictly Come Dancing: It Takes Two\n",
      "Saturday Night Live\n",
      "Naked News\n",
      "Match of the Day\n",
      "PBS News Weekend\n",
      "Imlie y Cheeni\n",
      "Rugby League World Cup\n",
      "LEGO City Adventures\n",
      "WWE's The Bump\n",
      "Austin City Limits\n",
      "On Patrol: First Shift\n",
      "Pit Bulls and Parolees\n",
      "The Kitchen\n",
      "Woodsmith Shop\n",
      "English Football League Highlights\n",
      "On Patrol: Live\n",
      "Strictly Come Dancing\n",
      "Cook's Country\n",
      "Celebrity Lingo\n",
      "WOW - Women of Wrestling\n",
      "Michael McIntyre's The Wheel\n",
      "Who The (Bleep) Did I Marry?\n",
      "Rick Steves' Art of Europe\n",
      "Critter Fixers: Country Vets\n",
      "I Can See Your Voice\n",
      "Louisiana Law\n",
      "My Sassy Princess : Snow White (2022)\n",
      "Ghost Hunters: TAPS Returns\n",
      "Saturday Kitchen\n",
      "Oh My Korona\n",
      "Floga kai Anemos\n",
      "Tols\n",
      "Hunter: The Reckoning - Garage\n",
      "Socially Acceptable\n",
      "Honey Moon\n",
      "Criss Angel's Magic with the Stars\n",
      "Blankety Blank\n",
      "Skal vi danse?\n",
      "Hidden London Hangouts\n",
      "Charles: Our New King\n",
      "Lipgloss Spy ( 2022)\n",
      "Chef Swap at the Beach\n",
      "Deadly Affairs: Betrayed by Love\n",
      "Faltu\n"
     ]
    }
   ],
   "source": [
    "import requests as req\n",
    "import json\n",
    "BASE='https://api.themoviedb.org/3'\n",
    "IMDB_API_KEY='ffafe1f2b141d9a9fcae15771fe46db1'\n",
    "\n",
    "# Functions\n",
    "def printData(data):\n",
    "    print(json.dumps(data,indent=2))\n",
    "    \n",
    "p={'api_key':IMDB_API_KEY}\n",
    "res=req.get(BASE+'/tv/airing_today',params=p)\n",
    "\n",
    "data=res.json()\n",
    "# printData(data)\n",
    "total_pages=data['total_pages']\n",
    "\n",
    "for i in range(1,total_pages+1):\n",
    "    p={'api_key':IMDB_API_KEY,'page':i}\n",
    "    res=req.get(BASE+'/tv/airing_today',params=p)\n",
    "    \n",
    "    for j in res.json()['results']:\n",
    "        if j['original_language']=='en':\n",
    "            print(j['name'])"
   ]
  },
  {
   "cell_type": "markdown",
   "metadata": {},
   "source": [
    "# TMDb 3.5\n",
    "Count the number of males and females in the cast of \"Money Heist\" using the TMDb API."
   ]
  },
  {
   "cell_type": "code",
   "execution_count": null,
   "metadata": {},
   "outputs": [],
   "source": []
  }
 ],
 "metadata": {
  "kernelspec": {
   "display_name": "Python 3",
   "language": "python",
   "name": "python3"
  },
  "language_info": {
   "codemirror_mode": {
    "name": "ipython",
    "version": 3
   },
   "file_extension": ".py",
   "mimetype": "text/x-python",
   "name": "python",
   "nbconvert_exporter": "python",
   "pygments_lexer": "ipython3",
   "version": "3.7.6"
  }
 },
 "nbformat": 4,
 "nbformat_minor": 4
}
