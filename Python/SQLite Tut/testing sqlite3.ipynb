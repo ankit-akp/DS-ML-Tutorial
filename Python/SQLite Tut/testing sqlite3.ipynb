{
 "cells": [
  {
   "cell_type": "code",
   "execution_count": 24,
   "metadata": {},
   "outputs": [
    {
     "name": "stdout",
     "output_type": "stream",
     "text": [
      "99 min\n"
     ]
    }
   ],
   "source": [
    "# IMDB,earning\n",
    "import sqlite3\n",
    "db=sqlite3.connect('IMDB.sqlite')\n",
    "cur=db.cursor()\n",
    "cur.execute('select max(Runtime) from IMDB')\n",
    "# cur.fetchone()\n",
    "data=cur.fetchall()\n",
    "# print(data)\n",
    "for i in data:\n",
    "    print(*i)"
   ]
  },
  {
   "cell_type": "code",
   "execution_count": 42,
   "metadata": {},
   "outputs": [
    {
     "name": "stdout",
     "output_type": "stream",
     "text": [
      "The Wolf of Wall Street (2013)\n",
      "180\n"
     ]
    }
   ],
   "source": [
    "import sqlite3\n",
    "import pandas as pd\n",
    "db=sqlite3.connect('IMDB.sqlite')\n",
    "\n",
    "data=pd.read_sql_query('select * from IMDB',db)\n",
    "# print(data)\n",
    "cnt=0\n",
    "for i in range(len(data['Runtime'])):\n",
    "#     print(data.iloc[i]['Runtime'])\n",
    "    if data.iloc[i]['Runtime']!='':\n",
    "        cnt=max(cnt,int(data.iloc[i]['Runtime'][:-4]))\n",
    "for i in range(len(data['Runtime'])):\n",
    "    if data.iloc[i]['Runtime']!='':\n",
    "        if int(data.iloc[i]['Runtime'][:-4])==cnt:\n",
    "            print(data.iloc[i]['Title'])\n",
    "# print(cnt)"
   ]
  }
 ],
 "metadata": {
  "kernelspec": {
   "display_name": "Python 3",
   "language": "python",
   "name": "python3"
  },
  "language_info": {
   "codemirror_mode": {
    "name": "ipython",
    "version": 3
   },
   "file_extension": ".py",
   "mimetype": "text/x-python",
   "name": "python",
   "nbconvert_exporter": "python",
   "pygments_lexer": "ipython3",
   "version": "3.7.6"
  }
 },
 "nbformat": 4,
 "nbformat_minor": 4
}
