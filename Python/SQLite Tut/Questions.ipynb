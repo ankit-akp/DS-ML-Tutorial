{
 "cells": [
  {
   "cell_type": "code",
   "execution_count": null,
   "metadata": {},
   "outputs": [],
   "source": [
    "import sqlite3\n",
    "db=sqlite3.connect('Employee.sqlite')\n",
    "cur=db.cursor()"
   ]
  },
  {
   "cell_type": "code",
   "execution_count": null,
   "metadata": {},
   "outputs": [],
   "source": [
    "cur.execute('create table Employee_Detail(employee_id int,name text,age int,department text,salary int)')\n",
    "db.commit()"
   ]
  },
  {
   "cell_type": "markdown",
   "metadata": {},
   "source": [
    "A given data of 12 Employees working in an investment firm. So add the Employee Data in Employee SQLite Database of Employee_Detail Table which was created by you.  \n",
    "employee_id=[101,102,103,104,105,106,107,108,109,110,111,112]  \n",
    "name=['Aadarsh','Aarti','Siddharth','Aman','Amit','Shivansh','Vaibhav','Himanshu','Raman','Kunal','Adhira','Tanya']  \n",
    "age=[25,27,25,24,30,26,23,26,25,26,29,24]  \n",
    "department=['Marketing','Operations','Finance','Human Resource','Marketing','IT','Finance','IT','Operations','Marketing','Human Resource','Marketing']  \n",
    "salary=[50000,60000,85000,75000,50000,90000,85000,90000,60000,50000,75000,50000]  \n"
   ]
  },
  {
   "cell_type": "code",
   "execution_count": null,
   "metadata": {},
   "outputs": [],
   "source": [
    "employee_id=[101,102,103,104,105,106,107,108,109,110,111,112]\n",
    "name=['Aadarsh','Aarti','Siddharth','Aman','Amit','Shivansh','Vaibhav','Himanshu','Raman','Kunal','Adhira','Tanya']\n",
    "age=[25,27,25,24,30,26,23,26,25,26,29,24]\n",
    "department=['Marketing','Operations','Finance','Human Resource','Marketing','IT','Finance','IT','Operations','Marketing','Human Resource','Marketing']\n",
    "salary=[50000,60000,85000,75000,50000,90000,85000,90000,60000,50000,75000,50000]\n",
    "\n",
    "data=[]\n",
    "for i in range(12):\n",
    "    data.append((employee_id[i],str(name[i]),age[i],str(department[i]),salary[i]))\n",
    "\n",
    "for i in range(12):\n",
    "    print(data[i])"
   ]
  },
  {
   "cell_type": "code",
   "execution_count": null,
   "metadata": {},
   "outputs": [],
   "source": [
    "cur.executemany(\"insert into Employee_Detail values(?,?,?,?,?)\",(data))\n",
    "db.commit()"
   ]
  },
  {
   "cell_type": "markdown",
   "metadata": {},
   "source": [
    "Find the employee_id of employee whose is working in Finance Department in Investment firm from Employee SQLite Database.  \n",
    "Print the employee_id as integer value.  "
   ]
  },
  {
   "cell_type": "code",
   "execution_count": null,
   "metadata": {},
   "outputs": [],
   "source": [
    "cur.execute('select employee_id from Employee_Detail where department in (\"Finance\")')\n",
    "print(cur.fetchall())"
   ]
  },
  {
   "cell_type": "markdown",
   "metadata": {},
   "source": [
    "Find the number of employee working in different department in an investment firm from Employee SQLite Database.  \n",
    "Print the department and number of employee.  "
   ]
  },
  {
   "cell_type": "code",
   "execution_count": null,
   "metadata": {},
   "outputs": [],
   "source": [
    "cur.execute('select department, count(department) from Employee_Detail group by department')\n",
    "print(cur.fetchall())"
   ]
  }
 ],
 "metadata": {
  "kernelspec": {
   "display_name": "Python 3",
   "language": "python",
   "name": "python3"
  },
  "language_info": {
   "codemirror_mode": {
    "name": "ipython",
    "version": 3
   },
   "file_extension": ".py",
   "mimetype": "text/x-python",
   "name": "python",
   "nbconvert_exporter": "python",
   "pygments_lexer": "ipython3",
   "version": "3.7.6"
  }
 },
 "nbformat": 4,
 "nbformat_minor": 4
}
