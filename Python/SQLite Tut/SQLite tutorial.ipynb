{
 "cells": [
  {
   "cell_type": "code",
   "execution_count": 1,
   "metadata": {},
   "outputs": [],
   "source": [
    "# Import sqlite3\n",
    "import sqlite3\n"
   ]
  },
  {
   "cell_type": "code",
   "execution_count": 2,
   "metadata": {},
   "outputs": [],
   "source": [
    "# How to connect with sqlite database\n",
    "\n",
    "# create a connection to the database IMDB.sqlite in the current working directory, \n",
    "# implicitly creating it if it does not exist.\n",
    "\n",
    "db=sqlite3.connect('IMDB.sqlite') # connect(pathOfDatabase)\n"
   ]
  },
  {
   "cell_type": "code",
   "execution_count": 4,
   "metadata": {},
   "outputs": [
    {
     "name": "stdout",
     "output_type": "stream",
     "text": [
      "<sqlite3.Connection object at 0x7fc931ecd2d0>\n"
     ]
    }
   ],
   "source": [
    "# Create new database\n",
    "db=sqlite3.connect('School.sqlite')\n",
    "print(db)"
   ]
  },
  {
   "cell_type": "code",
   "execution_count": 5,
   "metadata": {},
   "outputs": [],
   "source": [
    "# In order to execute SQL statements and fetch results from SQL queries, we will need to use a database cursor. \n",
    "# Call db.cursor() to create the Cursor. db is connection object.\n",
    "cur=db.cursor()"
   ]
  },
  {
   "cell_type": "code",
   "execution_count": 10,
   "metadata": {},
   "outputs": [
    {
     "data": {
      "text/plain": [
       "<sqlite3.Cursor at 0x7f1df0510d50>"
      ]
     },
     "execution_count": 10,
     "metadata": {},
     "output_type": "execute_result"
    }
   ],
   "source": [
    "# How to execute a query\n",
    "\n",
    "# This routine executes an SQL statement. The SQL statement may be parameterized \n",
    "# (i. e. placeholders instead of SQL literals). The sqlite3 module supports two kinds of placeholders: \n",
    "# question marks and named placeholders (named style).\n",
    "\n",
    "# Syntax: cursor.execute(sql [, optional parameters])\n",
    "\n",
    "sqlQuery='create table Student(RollNumber int Primary key, Name text, Age int)'\n",
    "cur.execute(sqlQuery)"
   ]
  },
  {
   "cell_type": "code",
   "execution_count": 11,
   "metadata": {},
   "outputs": [
    {
     "data": {
      "text/plain": [
       "<sqlite3.Cursor at 0x7f1df0510d50>"
      ]
     },
     "execution_count": 11,
     "metadata": {},
     "output_type": "execute_result"
    }
   ],
   "source": [
    "cur.execute('insert into Student values(101,\"Aman\",20)')"
   ]
  },
  {
   "cell_type": "code",
   "execution_count": 12,
   "metadata": {},
   "outputs": [],
   "source": [
    "# To reflect all the queries in database we need to call commit()\n",
    "db.commit() # db is connection object"
   ]
  },
  {
   "cell_type": "code",
   "execution_count": 14,
   "metadata": {},
   "outputs": [],
   "source": [
    "cur.execute('insert into Student values(102,\"Amit\",21)')\n",
    "db.commit()"
   ]
  },
  {
   "cell_type": "code",
   "execution_count": 15,
   "metadata": {},
   "outputs": [],
   "source": [
    "# Close the connection\n",
    "db.close()"
   ]
  },
  {
   "cell_type": "code",
   "execution_count": 6,
   "metadata": {},
   "outputs": [],
   "source": [
    "cur.execute('insert into Student values(103,\"Mohit\",24)')\n",
    "db.commit()"
   ]
  },
  {
   "cell_type": "code",
   "execution_count": 7,
   "metadata": {},
   "outputs": [],
   "source": [
    "# Passing parameter in sql query\n",
    "rollNumber=104\n",
    "Name=\"Nikhil\"\n",
    "Age=34\n",
    "cur.execute('insert into Student values(?,?,?)',(rollNumber,Name,Age))\n",
    "db.commit()"
   ]
  },
  {
   "cell_type": "code",
   "execution_count": 8,
   "metadata": {},
   "outputs": [],
   "source": [
    "# Add multiple rows in a table\n",
    "values=[(105,\"Nidhi\",20),(106,\"Manisha\",21),(107,\"Ankush\",22)]\n",
    "cur.executemany('insert into Student values(?,?,?)',values)\n",
    "db.commit()"
   ]
  },
  {
   "cell_type": "code",
   "execution_count": 10,
   "metadata": {},
   "outputs": [],
   "source": [
    "new_age=50\n",
    "# Only in case of cur.execute() not in cur.executemany()\n",
    "cur.execute('Update Student set Age=? where RollNumber=103',(new_age,))\n",
    "db.commit()"
   ]
  },
  {
   "cell_type": "code",
   "execution_count": 11,
   "metadata": {},
   "outputs": [
    {
     "name": "stdout",
     "output_type": "stream",
     "text": [
      "(101, 'Aman', 20)\n",
      "(102, 'Amit', 21)\n",
      "(103, 'Mohit', 50)\n",
      "(104, 'Nikhil', 34)\n",
      "(105, 'Nidhi', 20)\n",
      "(106, 'Manisha', 21)\n",
      "(107, 'Ankush', 22)\n"
     ]
    }
   ],
   "source": [
    "# How to fetch result \n",
    "cur.execute('select * from Student') # After executing this we can iterate over cur to get data\n",
    "\n",
    "for row in cur:\n",
    "    print(row)"
   ]
  },
  {
   "cell_type": "code",
   "execution_count": 13,
   "metadata": {},
   "outputs": [
    {
     "name": "stdout",
     "output_type": "stream",
     "text": [
      "(101, 'Aman', 20)\n",
      "(102, 'Amit', 21)\n"
     ]
    }
   ],
   "source": [
    "# fetchone(), fetchmany(), fetchall()\n",
    "\n",
    "# fetchone() gives first row\n",
    "cur.execute('select * from Student')\n",
    "print(cur.fetchone()) # after this cur will points to second row\n",
    "print(cur.fetchone())"
   ]
  },
  {
   "cell_type": "code",
   "execution_count": 14,
   "metadata": {},
   "outputs": [
    {
     "name": "stdout",
     "output_type": "stream",
     "text": [
      "[(101, 'Aman', 20), (102, 'Amit', 21), (103, 'Mohit', 50), (104, 'Nikhil', 34)]\n"
     ]
    }
   ],
   "source": [
    "# fetchmany(n) gives n rows\n",
    "cur.execute('select * from Student')\n",
    "print(cur.fetchmany(4))\n",
    "# If we dont pass n then we will get only one row"
   ]
  },
  {
   "cell_type": "code",
   "execution_count": 16,
   "metadata": {},
   "outputs": [
    {
     "name": "stdout",
     "output_type": "stream",
     "text": [
      "[(101, 'Aman', 20), (102, 'Amit', 21), (103, 'Mohit', 50), (104, 'Nikhil', 34), (105, 'Nidhi', 20), (106, 'Manisha', 21), (107, 'Ankush', 22)]\n"
     ]
    }
   ],
   "source": [
    "# fetchall() gives all the rows\n",
    "cur.execute('select * from Student')\n",
    "print(cur.fetchall())"
   ]
  },
  {
   "cell_type": "code",
   "execution_count": 1,
   "metadata": {},
   "outputs": [],
   "source": [
    "# sqlite + pandas"
   ]
  },
  {
   "cell_type": "code",
   "execution_count": 5,
   "metadata": {},
   "outputs": [],
   "source": [
    "import sqlite3\n",
    "import pandas as pd\n",
    "db=sqlite3.connect('School.sqlite')\n"
   ]
  },
  {
   "cell_type": "code",
   "execution_count": 6,
   "metadata": {},
   "outputs": [
    {
     "name": "stdout",
     "output_type": "stream",
     "text": [
      "   RollNumber     Name  Age\n",
      "0         101     Aman   20\n",
      "1         102     Amit   21\n",
      "2         103    Mohit   50\n",
      "3         104   Nikhil   34\n",
      "4         105    Nidhi   20\n",
      "5         106  Manisha   21\n",
      "6         107   Ankush   22\n",
      "<class 'pandas.core.frame.DataFrame'>\n"
     ]
    }
   ],
   "source": [
    "# data=pd.read_sql_query(queryString,connectionObject)\n",
    "data=pd.read_sql_query('select * from Student',db)\n",
    "print(data)\n",
    "print(type(data))"
   ]
  },
  {
   "cell_type": "code",
   "execution_count": 7,
   "metadata": {},
   "outputs": [
    {
     "name": "stdout",
     "output_type": "stream",
     "text": [
      "   RollNumber    Name  Age\n",
      "2         103   Mohit   50\n",
      "3         104  Nikhil   34\n"
     ]
    }
   ],
   "source": [
    "print(data[data['Age']>30])"
   ]
  },
  {
   "cell_type": "code",
   "execution_count": 8,
   "metadata": {},
   "outputs": [
    {
     "name": "stdout",
     "output_type": "stream",
     "text": [
      "    ID    Name   Course  Salary\n",
      "0  201    Aman  English   20000\n",
      "1  202   Komal    Maths   22000\n",
      "2  203  Mahesh  Science   23000\n"
     ]
    }
   ],
   "source": [
    "# Create a data frame\n",
    "data=pd.DataFrame([[201,\"Aman\",\"English\",20000],[202,\"Komal\",\"Maths\",22000],[203,\"Mahesh\",\"Science\",23000]],\n",
    "                 columns=[\"ID\",\"Name\",\"Course\",\"Salary\"])\n",
    "print(data)"
   ]
  },
  {
   "cell_type": "code",
   "execution_count": 9,
   "metadata": {},
   "outputs": [],
   "source": [
    "# How to convert dataframe into sql table\n",
    "data.to_sql(\"Faculty\",db)"
   ]
  },
  {
   "cell_type": "code",
   "execution_count": 12,
   "metadata": {},
   "outputs": [],
   "source": [
    "# Add column to Student table\n",
    "data=pd.read_sql_query('select * from Student',db)\n",
    "data[\"Address\"]=\"Test\"\n",
    "data.to_sql('Student',db,if_exists=\"replace\")\n",
    "# This line will replace Student table if exists with dataframe named \"data\" "
   ]
  }
 ],
 "metadata": {
  "kernelspec": {
   "display_name": "Python 3",
   "language": "python",
   "name": "python3"
  },
  "language_info": {
   "codemirror_mode": {
    "name": "ipython",
    "version": 3
   },
   "file_extension": ".py",
   "mimetype": "text/x-python",
   "name": "python",
   "nbconvert_exporter": "python",
   "pygments_lexer": "ipython3",
   "version": "3.7.6"
  }
 },
 "nbformat": 4,
 "nbformat_minor": 4
}
