{
 "cells": [
  {
   "cell_type": "code",
   "execution_count": 2,
   "metadata": {},
   "outputs": [
    {
     "name": "stdout",
     "output_type": "stream",
     "text": [
      "[1 2 3]\n",
      "<class 'numpy.ndarray'>\n",
      "[1, 2, 3]\n"
     ]
    }
   ],
   "source": [
    "# Numpy means Numerical Python\n",
    "\n",
    "# Import numpy\n",
    "\n",
    "import numpy as np\n",
    "\n",
    "# Creating numpy array\n",
    "\n",
    "a=[1,2,3]\n",
    "b=np.array(a)\n",
    "print(b)\n",
    "print(type(b))\n",
    "print(a)"
   ]
  },
  {
   "cell_type": "code",
   "execution_count": 6,
   "metadata": {},
   "outputs": [
    {
     "name": "stdout",
     "output_type": "stream",
     "text": [
      "['1' '2' '3' '5' '4.5']\n",
      "[1 2 3 5 4]\n"
     ]
    }
   ],
   "source": [
    "# Numpy array does not contains elements with different types\n",
    "a=[1,2,3,'5',4.5]\n",
    "b=np.array(a)\n",
    "print(b)\n",
    "\n",
    "# If we want to make each element as integer then we can use dtype\n",
    "b=np.array(a,dtype=int)\n",
    "print(b)"
   ]
  },
  {
   "cell_type": "code",
   "execution_count": 9,
   "metadata": {},
   "outputs": [
    {
     "name": "stdout",
     "output_type": "stream",
     "text": [
      "[1. 1. 1.]\n",
      "[1 1 1]\n"
     ]
    }
   ],
   "source": [
    "# np.ones()\n",
    "\n",
    "# The numpy.ones() function returns a new array of given shape and type, with ones.\n",
    "\n",
    "b=np.ones(3) # By default return type is float\n",
    "print(b)\n",
    "\n",
    "b=np.ones(3,dtype=int)\n",
    "print(b)"
   ]
  },
  {
   "cell_type": "code",
   "execution_count": 11,
   "metadata": {},
   "outputs": [
    {
     "name": "stdout",
     "output_type": "stream",
     "text": [
      "[0. 0. 0.]\n"
     ]
    }
   ],
   "source": [
    "# np.zeros()\n",
    "\n",
    "b=np.zeros(3)\n",
    "print(b)"
   ]
  },
  {
   "cell_type": "code",
   "execution_count": 13,
   "metadata": {},
   "outputs": [
    {
     "name": "stdout",
     "output_type": "stream",
     "text": [
      "[[1 1 1]\n",
      " [1 1 1]]\n"
     ]
    }
   ],
   "source": [
    "# Create 2d array with 2X3 dimension\n",
    "b=np.ones((2,3),dtype=int)\n",
    "print(b)"
   ]
  },
  {
   "cell_type": "code",
   "execution_count": 16,
   "metadata": {},
   "outputs": [
    {
     "name": "stdout",
     "output_type": "stream",
     "text": [
      "[5 5 5]\n",
      "[[4 4 4]\n",
      " [4 4 4]]\n"
     ]
    }
   ],
   "source": [
    "# np.full()\n",
    "\n",
    "# full() function is used to return a new array of a given shape and data type filled with fill_value .\n",
    "# Datatype is by default integer\n",
    "b=np.full(3,5) # 1d array with 3 elements each equal to 5\n",
    "print(b)\n",
    "\n",
    "b=np.full((2,3),4)\n",
    "print(b)"
   ]
  },
  {
   "cell_type": "code",
   "execution_count": 21,
   "metadata": {},
   "outputs": [
    {
     "name": "stdout",
     "output_type": "stream",
     "text": [
      "[5.e-324 0.e+000]\n",
      "[[94406064367532              0              0              0]\n",
      " [             0              0              0              0]\n",
      " [             0              0              0              0]\n",
      " [             0              0              0              0]]\n"
     ]
    }
   ],
   "source": [
    "# np.empty()\n",
    "\n",
    "# numpy.empty(shape, dtype = float, order = ‘C’) : Return a new array of given shape and type, with random values.\n",
    "# Default datatype is float\n",
    "\n",
    "b=np.empty(2)\n",
    "print(b)\n",
    "\n",
    "b=np.empty((4,4),dtype=int)\n",
    "print(b)"
   ]
  },
  {
   "cell_type": "code",
   "execution_count": 24,
   "metadata": {},
   "outputs": [
    {
     "name": "stdout",
     "output_type": "stream",
     "text": [
      "[0 1 2 3 4 5 6 7 8 9]\n",
      "[2 3 4 5 6 7 8 9]\n",
      "[2 4 6 8]\n"
     ]
    }
   ],
   "source": [
    "# arange()\n",
    "\n",
    "# numpy.arange([start, ]stop, [step, ]dtype=None, *, like=None)\n",
    "\n",
    "# arange(stop): Values are generated within the half-open interval [0, stop)\n",
    "# (in other words, the interval including start but excluding stop).\n",
    "\n",
    "# arange(start, stop): Values are generated within the half-open interval [start, stop).\n",
    "\n",
    "# arange(start, stop, step) Values are generated within the half-open interval [start, stop), \n",
    "# with spacing between values given by step.\n",
    "\n",
    "# For integer arguments the function is roughly equivalent to the Python built-in range, \n",
    "# but returns an ndarray rather than a range instance.\n",
    "\n",
    "# Default step size is 1\n",
    "\n",
    "# When using a non-integer step, such as 0.1, it is often better to use numpy.linspace.\n",
    "\n",
    "# For more details check out: https://numpy.org/doc/stable/reference/generated/numpy.arange.html\n",
    "\n",
    "a=np.arange(10)\n",
    "print(a)\n",
    "\n",
    "a=np.arange(2,10)\n",
    "print(a)\n",
    "\n",
    "a=np.arange(2,10,2)\n",
    "print(a)"
   ]
  },
  {
   "cell_type": "code",
   "execution_count": 31,
   "metadata": {},
   "outputs": [
    {
     "name": "stdout",
     "output_type": "stream",
     "text": [
      "[ 2.          2.16326531  2.32653061  2.48979592  2.65306122  2.81632653\n",
      "  2.97959184  3.14285714  3.30612245  3.46938776  3.63265306  3.79591837\n",
      "  3.95918367  4.12244898  4.28571429  4.44897959  4.6122449   4.7755102\n",
      "  4.93877551  5.10204082  5.26530612  5.42857143  5.59183673  5.75510204\n",
      "  5.91836735  6.08163265  6.24489796  6.40816327  6.57142857  6.73469388\n",
      "  6.89795918  7.06122449  7.2244898   7.3877551   7.55102041  7.71428571\n",
      "  7.87755102  8.04081633  8.20408163  8.36734694  8.53061224  8.69387755\n",
      "  8.85714286  9.02040816  9.18367347  9.34693878  9.51020408  9.67346939\n",
      "  9.83673469 10.        ]\n",
      "0.16326530612244916\n",
      "[ 2  4  6  8 10]\n",
      "[2 3 5 6 8]\n"
     ]
    }
   ],
   "source": [
    "# linspace()\n",
    "\n",
    "# numpy.linspace(start, stop, num=50, endpoint=True, retstep=False, dtype=None, axis=0)\n",
    "\n",
    "# start: The starting value of the sequence.\n",
    "\n",
    "# stop : The end value of the sequence, unless endpoint is set to False.\n",
    "# In that case, the sequence consists of all but the last of num + 1 evenly spaced samples, \n",
    "# so that stop is excluded. Note that the step size changes when endpoint is False.\n",
    "\n",
    "# num:(int, optional) Number of samples to generate. Default is 50. Must be non-negative.\n",
    "\n",
    "# endpoint:(bool, optional) If True, stop is the last sample. Otherwise, it is not included. Default is True.\n",
    "\n",
    "# retstep: (bool, optional) If True, return (samples, step), where step is the spacing between samples.\n",
    "\n",
    "a=np.linspace(2,10) # By default end value is also included\n",
    "print(a) # default dtype is float\n",
    "\n",
    "# Calculate step value\n",
    "print(a[1]-a[0])\n",
    "\n",
    "a=np.linspace(2,10, num=5,dtype=int)\n",
    "print(a)\n",
    "\n",
    "# Exclude end value\n",
    "a=np.linspace(2,10,num=5, endpoint=False,dtype=int)\n",
    "print(a)"
   ]
  },
  {
   "cell_type": "code",
   "execution_count": 36,
   "metadata": {},
   "outputs": [
    {
     "name": "stdout",
     "output_type": "stream",
     "text": [
      "[[1. 0. 0.]\n",
      " [0. 1. 0.]\n",
      " [0. 0. 1.]]\n",
      "[[1. 0. 0.]\n",
      " [0. 1. 0.]\n",
      " [0. 0. 1.]]\n",
      "[[1. 0. 0. 0.]\n",
      " [0. 1. 0. 0.]\n",
      " [0. 0. 1. 0.]]\n"
     ]
    }
   ],
   "source": [
    "# identity()\n",
    "\n",
    "a=np.identity(3)\n",
    "print(a) # identity matrix of size 3x3 with dtype=float (default value)\n",
    "\n",
    "a=np.eye(3)\n",
    "print(a) # identity matrix of size 3x3 with dtype=float (default value)\n",
    "\n",
    "# Using np.eye() we can get matrix of dimension mxn\n",
    "# Using np.identity() we can get matrix of dimension nxn only\n",
    "\n",
    "a=np.eye(3,4)\n",
    "print(a)"
   ]
  },
  {
   "cell_type": "code",
   "execution_count": 49,
   "metadata": {},
   "outputs": [
    {
     "name": "stdout",
     "output_type": "stream",
     "text": [
      "0.5486697253827747\n",
      "[0.79280704 0.11008151 0.42554453]\n",
      "[[0.90020758 0.17236707 0.07814412 0.82885873 0.19088639]\n",
      " [0.71268358 0.84016802 0.05631387 0.65453393 0.68385355]\n",
      " [0.17901181 0.14301434 0.78939203 0.53181544 0.5043459 ]\n",
      " [0.05778705 0.79285535 0.46785344 0.42925644 0.47113854]]\n"
     ]
    }
   ],
   "source": [
    "# np.random.rand()\n",
    "\n",
    "print(np.random.rand())\n",
    "\n",
    "a=np.random.rand(3) # list of random values ranging from 0 to 1\n",
    "print(a)\n",
    "\n",
    "# 2d array of random values of size 4x5\n",
    "a=np.random.rand(4,5)\n",
    "print(a)"
   ]
  },
  {
   "cell_type": "code",
   "execution_count": 41,
   "metadata": {},
   "outputs": [
    {
     "name": "stdout",
     "output_type": "stream",
     "text": [
      "[7.63923942 4.05523395 7.31367994 7.13095245 3.63935307 5.17726999\n",
      " 5.24981515 0.51560236 7.50273009 5.22854778]\n"
     ]
    }
   ],
   "source": [
    "# How to get 10 random elements from range 0 to 10\n",
    "\n",
    "a=np.random.rand(10)*10\n",
    "print(a)"
   ]
  },
  {
   "cell_type": "code",
   "execution_count": 46,
   "metadata": {},
   "outputs": [
    {
     "name": "stdout",
     "output_type": "stream",
     "text": [
      "2\n",
      "[[0 1 1 4]\n",
      " [1 0 0 3]]\n",
      "[0 1 0 3 3 1 1 0 3 2]\n"
     ]
    }
   ],
   "source": [
    "# np.random.randint()\n",
    "\n",
    "# random.randint(low, high=None, size=None, dtype=int)\n",
    "\n",
    "# Default dtype is int\n",
    "\n",
    "# Return random integers from the “discrete uniform” distribution of the specified dtype in the “half-open” \n",
    "# interval [low, high). If high is None (the default), then results are from [0, low).\n",
    "\n",
    "a=np.random.randint(2,8)\n",
    "print(a)\n",
    "\n",
    "# Generate a 2 x 4 array of ints between 0 and 4, inclusive:\n",
    "a=np.random.randint(5, size=(2, 4))\n",
    "print(a)\n",
    "\n",
    "a=np.random.randint(4, size=10)\n",
    "print(a)"
   ]
  },
  {
   "cell_type": "code",
   "execution_count": 52,
   "metadata": {},
   "outputs": [
    {
     "name": "stdout",
     "output_type": "stream",
     "text": [
      "<memory at 0x7fedb0783d50>\n",
      "(5,)\n",
      "int64\n",
      "(8,)\n"
     ]
    }
   ],
   "source": [
    "# More about numpy\n",
    "\n",
    "# 1D array\n",
    "li=[1,2,3,4,5]\n",
    "a=np.array(li)\n",
    "\n",
    "print(a.data) # Reference to first element\n",
    "print(a.shape) # Dimensions in form of tuple\n",
    "print(a.dtype) # Type of data\n",
    "print(a.strides) # Bytes to skip to get next element"
   ]
  },
  {
   "cell_type": "code",
   "execution_count": 56,
   "metadata": {},
   "outputs": [
    {
     "name": "stdout",
     "output_type": "stream",
     "text": [
      "<memory at 0x7fed971c19f0>\n",
      "(4, 4)\n",
      "int64\n",
      "(32, 8)\n",
      "11\n",
      "11\n"
     ]
    }
   ],
   "source": [
    "# 2D array\n",
    "li=[[1,2,3,4],[5,6,7,8],[9,10,11,12],[13,14,15,16]]\n",
    "a=np.array(li)\n",
    "\n",
    "print(a.data) \n",
    "print(a.shape)\n",
    "print(a.dtype) \n",
    "print(a.strides) # In this first value represents no. of bytes skip to get to next row\n",
    "# Second value of strides represent no. of bytes skip to get next element in same row\n",
    "print(a[2,2]) # Another way to access element in numpy 2D array\n",
    "print(a[2][2])"
   ]
  },
  {
   "cell_type": "code",
   "execution_count": 61,
   "metadata": {},
   "outputs": [
    {
     "name": "stdout",
     "output_type": "stream",
     "text": [
      "[[ 1  2  3  4]\n",
      " [ 5  6  7  8]\n",
      " [ 9 10 11 12]\n",
      " [13 14 15 16]]\n",
      "7\n",
      "[5 6 7]\n",
      "[ 4  8 12]\n",
      "[ 9 10 11 12]\n",
      "[[10 11]\n",
      " [14 15]]\n"
     ]
    }
   ],
   "source": [
    "# Slicing in 2D numpy array\n",
    "\n",
    "li=[[1,2,3,4],[5,6,7,8],[9,10,11,12],[13,14,15,16]]\n",
    "a=np.array(li)\n",
    "print(a)\n",
    "\n",
    "print(a[1,2])\n",
    "print(a[1,:3])\n",
    "print(a[:3,3])\n",
    "print(a[:3][2])\n",
    "print(a[2:,1:3])\n",
    "# Slicing works different in 2d numpy array and 2d list"
   ]
  },
  {
   "cell_type": "code",
   "execution_count": 102,
   "metadata": {},
   "outputs": [
    {
     "name": "stdout",
     "output_type": "stream",
     "text": [
      "[1, 2, 3, 4, 5]\n",
      "[2, 3, 4, 5, 6]\n",
      "[16 12 12 15 10]\n",
      "[17 13 13 16 11]\n"
     ]
    }
   ],
   "source": [
    "# Mathematical Operations\n",
    "li=[1,2,3,4,5]\n",
    "a=np.random.randint(1,20,5)\n",
    "b=np.random.randint(1,20,5)\n",
    "\n",
    "# Add 1 to each element in li\n",
    "print(li)\n",
    "li=[i+1 for i in li]\n",
    "print(li)\n",
    "\n",
    "# Add 1 to each element in numpy array\n",
    "print(a)\n",
    "a=a+1\n",
    "print(a)"
   ]
  },
  {
   "cell_type": "code",
   "execution_count": 103,
   "metadata": {},
   "outputs": [
    {
     "name": "stdout",
     "output_type": "stream",
     "text": [
      "[17 13 13 16 11]\n",
      "[11 13 18 14 12]\n",
      "[28 26 31 30 23]\n",
      "[ 6  0 -5  2 -1]\n",
      "[187 169 234 224 132]\n",
      "[1.54545455 1.         0.72222222 1.14285714 0.91666667]\n",
      "[1 1 0 1 0]\n",
      "[     34271896307633     302875106592253 1774942509700083433\n",
      "   72057594037927936       3138428376721]\n"
     ]
    }
   ],
   "source": [
    "# Make an array c such that ci=ai+bi\n",
    "\n",
    "print(a)\n",
    "print(b)\n",
    "c=a+b\n",
    "print(c)\n",
    "c=a-b\n",
    "print(c)\n",
    "c=a*b\n",
    "print(c)\n",
    "c=a/b\n",
    "print(c)\n",
    "c=a//b\n",
    "print(c)\n",
    "c=a**b\n",
    "print(c)"
   ]
  },
  {
   "cell_type": "code",
   "execution_count": 104,
   "metadata": {},
   "outputs": [
    {
     "name": "stdout",
     "output_type": "stream",
     "text": [
      "[17 13 13 16 11]\n",
      "70\n",
      "14.0\n",
      "11\n",
      "4\n",
      "17\n",
      "0\n"
     ]
    }
   ],
   "source": [
    "print(a)\n",
    "print(a.sum())\n",
    "print(a.mean())\n",
    "print(a.min())\n",
    "print(a.argmin()) # Index of min element\n",
    "print(a.max())\n",
    "print(a.argmax())"
   ]
  },
  {
   "cell_type": "code",
   "execution_count": 105,
   "metadata": {},
   "outputs": [
    {
     "name": "stdout",
     "output_type": "stream",
     "text": [
      "[17 13 13 16 11]\n",
      "[11 13 18 14 12]\n",
      "[ True False False  True False]\n",
      "[False False  True False  True]\n",
      "[False  True False False False]\n"
     ]
    }
   ],
   "source": [
    "print(a)\n",
    "print(b)\n",
    "print(a>b)\n",
    "print(a<b)\n",
    "print(a==b)"
   ]
  },
  {
   "cell_type": "code",
   "execution_count": 106,
   "metadata": {},
   "outputs": [
    {
     "name": "stdout",
     "output_type": "stream",
     "text": [
      "[17 13 13 16 11]\n",
      "[11 13 18 14 12]\n",
      "[ True  True  True  True  True]\n",
      "[ True  True  True  True  True]\n",
      "[False False False False False]\n"
     ]
    }
   ],
   "source": [
    "print(a)\n",
    "print(b)\n",
    "print(np.logical_or(a,b))\n",
    "print(np.logical_and(a,b))\n",
    "print(np.logical_not(a))"
   ]
  },
  {
   "cell_type": "code",
   "execution_count": 108,
   "metadata": {},
   "outputs": [
    {
     "name": "stdout",
     "output_type": "stream",
     "text": [
      "[10 10 13 10 11]\n",
      "[False False  True False  True]\n",
      "[13 11]\n",
      "[13 11]\n",
      "[20 20 13 10 11]\n",
      "[10 10 13 10 11]\n"
     ]
    }
   ],
   "source": [
    "# Boolean Indexing\n",
    "print(a)\n",
    "c=a\n",
    "boolArr=a>10\n",
    "print(boolArr)\n",
    "newArr=a[boolArr]\n",
    "print(newArr)\n",
    "print(a[(a>10) & (a<18)])\n",
    "\n",
    "# Assign values using slicing\n",
    "c[:2]=20 # assign value 20 to index less than 2\n",
    "print(c)\n",
    "\n",
    "c[a>15]=10\n",
    "print(c)"
   ]
  },
  {
   "cell_type": "code",
   "execution_count": 111,
   "metadata": {},
   "outputs": [
    {
     "name": "stdout",
     "output_type": "stream",
     "text": [
      "[10 10 13 10 11]\n",
      "(array([2, 4]),)\n",
      "[11 13 18 14 12]\n",
      "[18 12]\n"
     ]
    }
   ],
   "source": [
    "# Find index where given conditions satisfy\n",
    "print(a)\n",
    "idx=np.where(a>10)\n",
    "print(idx)\n",
    "print(b)\n",
    "print(b[idx])"
   ]
  },
  {
   "cell_type": "code",
   "execution_count": null,
   "metadata": {},
   "outputs": [],
   "source": []
  }
 ],
 "metadata": {
  "kernelspec": {
   "display_name": "Python 3",
   "language": "python",
   "name": "python3"
  },
  "language_info": {
   "codemirror_mode": {
    "name": "ipython",
    "version": 3
   },
   "file_extension": ".py",
   "mimetype": "text/x-python",
   "name": "python",
   "nbconvert_exporter": "python",
   "pygments_lexer": "ipython3",
   "version": "3.7.6"
  }
 },
 "nbformat": 4,
 "nbformat_minor": 4
}
