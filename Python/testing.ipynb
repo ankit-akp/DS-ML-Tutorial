{
 "cells": [
  {
   "cell_type": "code",
   "execution_count": null,
   "metadata": {},
   "outputs": [],
   "source": []
  },
  {
   "cell_type": "code",
   "execution_count": null,
   "metadata": {},
   "outputs": [],
   "source": []
  },
  {
   "cell_type": "code",
   "execution_count": 155,
   "metadata": {},
   "outputs": [
    {
     "data": {
      "text/plain": [
       "Index(['Unnamed: 0', 'Title', 'location', 'Posting_date', 'DESCRIPTION',\n",
       "       'BASIC QUALIFICATIONS', 'PREFERRED QUALIFICATIONS'],\n",
       "      dtype='object')"
      ]
     },
     "execution_count": 155,
     "metadata": {},
     "output_type": "execute_result"
    }
   ],
   "source": [
    "import csv\n",
    "import numpy as np\n",
    "import pandas as pd\n",
    "import matplotlib.pyplot as plt\n",
    "fileObj=pd.read_csv('https://raw.githubusercontent.com/nirupma2208/Data-Science-and-Machine-Learning-Coding-ninjas/master/13.%20Plotting%20Graphs/amazon_jobs_dataset.csv')\n",
    "# print(fileObj)\n",
    "\n",
    "df=fileObj.copy()\n",
    "df.columns"
   ]
  },
  {
   "cell_type": "code",
   "execution_count": 178,
   "metadata": {},
   "outputs": [
    {
     "name": "stdout",
     "output_type": "stream",
     "text": [
      "False\n"
     ]
    }
   ],
   "source": [
    "# year=[]\n",
    "\n",
    "# for i in range(len(df.location)):\n",
    "    \n",
    "#     print(df.iloc[i]['BASIC QUALIFICATIONS'][:5],i)\n",
    "#     if ('Java' in df.iloc[i]['BASIC QUALIFICATIONS']) | ('java' in df.iloc[i]['BASIC QUALIFICATIONS']):\n",
    "#         y=df.iloc[i]['Posting_date'].split()[2]\n",
    "#         year.append(y)\n",
    "\n",
    "# year=np.array(year)\n",
    "# D={}\n",
    "\n",
    "# for i in year:\n",
    "#     D[i]=D.get(i,0)+1\n",
    "\n",
    "\n",
    "# D = dict(reversed(list(D.items())))\n",
    "# for i in D:\n",
    "#     print(i,D[i])\n",
    "# plt.plot(list(D.keys()),list(D.values()),'bo')\n",
    "# plt.show()\n",
    "df.iloc[921]['BASIC QUALIFICATIONS']\n",
    "print(type(df.iloc[921]['BASIC QUALIFICATIONS'])==type(\"str\"))\n"
   ]
  }
 ],
 "metadata": {
  "kernelspec": {
   "display_name": "Python 3",
   "language": "python",
   "name": "python3"
  },
  "language_info": {
   "codemirror_mode": {
    "name": "ipython",
    "version": 3
   },
   "file_extension": ".py",
   "mimetype": "text/x-python",
   "name": "python",
   "nbconvert_exporter": "python",
   "pygments_lexer": "ipython3",
   "version": "3.7.6"
  }
 },
 "nbformat": 4,
 "nbformat_minor": 4
}
