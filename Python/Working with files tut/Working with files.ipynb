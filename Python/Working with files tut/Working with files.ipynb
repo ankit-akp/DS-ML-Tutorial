{
 "cells": [
  {
   "cell_type": "code",
   "execution_count": 10,
   "metadata": {},
   "outputs": [
    {
     "name": "stdout",
     "output_type": "stream",
     "text": [
      "<_io.TextIOWrapper name='Dataset/sample.txt' mode='r' encoding='UTF-8'>\n"
     ]
    }
   ],
   "source": [
    "# How to open a file\n",
    "\n",
    "# Syntax: open(fileName,accessMode)\n",
    "# fileName: This can be name of file or relative path wrt current folder\n",
    "# accessMode: This is an optional parameter and default value is 'r'\n",
    "# 'r': Read\n",
    "# 'w' : Write but in this mode current data will be deleted and new content get added from top left side\n",
    "# 'a' : Append\n",
    "\n",
    "# open() return files object\n",
    "# fileObj=open(fileName)\n",
    "\n",
    "fileObj=open('Dataset/sample.txt') # Open file\n",
    "print(fileObj)"
   ]
  },
  {
   "cell_type": "code",
   "execution_count": 14,
   "metadata": {},
   "outputs": [
    {
     "name": "stdout",
     "output_type": "stream",
     "text": [
      "<class 'str'>\n",
      "Lorem Ipsum is simply dummy text of the printing and typesetting industry. Lorem Ipsum has been the industry's standard dummy text ever since the 1500s, when an unknown printer took a galley of type and scrambled it to make a type specimen book. It has survived not only five centuries, but also the leap into electronic typesetting, remaining essentially unchanged. It was popularised in the 1960s with the release of Letraset sheets containing Lorem Ipsum passages, and more recently with desktop publishing software like Aldus PageMaker including versions of Lorem Ipsum.\n",
      "Lorem Ipsum is simply dummy text of the printing and typesetting industry. Lorem Ipsum has been the industry's standard dummy text ever since the 1500s, when an unknown printer took a galley of type and scrambled it to make a type specimen book. It has survived not only five centuries, but also the leap into electronic typesetting, remaining essentially unchanged. It was popularised in the 1960s with the release of Letraset sheets containing Lorem Ipsum passages, and more recently with desktop publishing software like Aldus PageMaker including versions of Lorem Ipsum.\n",
      "Lorem Ipsum is simply dummy text of the printing and typesetting industry. Lorem Ipsum has been the industry's standard dummy text ever since the 1500s, when an unknown printer took a galley of type and scrambled it to make a type specimen book. It has survived not only five centuries, but also the leap into electronic typesetting, remaining essentially unchanged. It was popularised in the 1960s with the release of Letraset sheets containing Lorem Ipsum passages, and more recently with desktop publishing software like Aldus PageMaker including versions of Lorem Ipsum.\n",
      "Lorem Ipsum is simply dummy text of the printing and typesetting industry. Lorem Ipsum has been the industry's standard dummy text ever since the 1500s, when an unknown printer took a galley of type and scrambled it to make a type specimen book. It has survived not only five centuries, but also the leap into electronic typesetting, remaining essentially unchanged. It was popularised in the 1960s with the release of Letraset sheets containing Lorem Ipsum passages, and more recently with desktop publishing software like Aldus PageMaker including versions of Lorem Ipsum.\n",
      "Lorem Ipsum is simply dummy text of the printing and typesetting industry. Lorem Ipsum has been the industry's standard dummy text ever since the 1500s, when an unknown printer took a galley of type and scrambled it to make a type specimen book. It has survived not only five centuries, but also the leap into electronic typesetting, remaining essentially unchanged. It was popularised in the 1960s with the release of Letraset sheets containing Lorem Ipsum passages, and more recently with desktop publishing software like Aldus PageMaker including versions of Lorem Ipsum.\n",
      "\n"
     ]
    }
   ],
   "source": [
    "# Read a file\n",
    "# Call read() method on the file object. read() returns a string.\n",
    "fileObj=open('Dataset/sample.txt')\n",
    "fileData=fileObj.read()\n",
    "print(type(fileData))\n",
    "print(fileData)"
   ]
  },
  {
   "cell_type": "code",
   "execution_count": 16,
   "metadata": {},
   "outputs": [
    {
     "name": "stdout",
     "output_type": "stream",
     "text": [
      "Lorem Ipsum is simpl\n"
     ]
    }
   ],
   "source": [
    "# Read only Some Characters in the Text File\n",
    "# If you need to read only specific number of characters, say N number of characters, \n",
    "# present at the starting of the file, pass N (number) as argument to read() function.\n",
    "\n",
    "fileObj=open('Dataset/sample.txt')\n",
    "fileData=fileObj.read(20) # we will read first 20 characters in the file.\n",
    "print(fileData)"
   ]
  },
  {
   "cell_type": "code",
   "execution_count": 18,
   "metadata": {},
   "outputs": [
    {
     "name": "stdout",
     "output_type": "stream",
     "text": [
      "Lorem Ipsum is simply dummy text of the printing and typesetting industry. Lorem Ipsum has been the industry's standard dummy text ever since the 1500s, when an unknown printer took a galley of type and scrambled it to make a type specimen book. It has survived not only five centuries, but also the leap into electronic typesetting, remaining essentially unchanged. It was popularised in the 1960s with the release of Letraset sheets containing Lorem Ipsum passages, and more recently with desktop publishing software like Aldus PageMaker including versions of Lorem Ipsum.\n",
      "Lorem Ipsum is simply dummy text of the printing and typesetting industry. Lorem Ipsum has been the industry's standard dummy text ever since the 1500s, when an unknown printer took a galley of type and scrambled it to make a type specimen book. It has survived not only five centuries, but also the leap into electronic typesetting, remaining essentially unchanged. It was popularised in the 1960s with the release of Letraset sheets containing Lorem Ipsum passages, and more recently with desktop publishing software like Aldus PageMaker including versions of Lorem Ipsum.\n",
      "Lorem Ipsum is simply dummy text of the printing and typesetting industry. Lorem Ipsum has been the industry's standard dummy text ever since the 1500s, when an unknown printer took a galley of type and scrambled it to make a type specimen book. It has survived not only five centuries, but also the leap into electronic typesetting, remaining essentially unchanged. It was popularised in the 1960s with the release of Letraset sheets containing Lorem Ipsum passages, and more recently with desktop publishing software like Aldus PageMaker including versions of Lorem Ipsum.\n",
      "Lorem Ipsum is simply dummy text of the printing and typesetting industry. Lorem Ipsum has been the industry's standard dummy text ever since the 1500s, when an unknown printer took a galley of type and scrambled it to make a type specimen book. It has survived not only five centuries, but also the leap into electronic typesetting, remaining essentially unchanged. It was popularised in the 1960s with the release of Letraset sheets containing Lorem Ipsum passages, and more recently with desktop publishing software like Aldus PageMaker including versions of Lorem Ipsum.\n",
      "Lorem Ipsum is simply dummy text of the printing and typesetting industry. Lorem Ipsum has been the industry's standard dummy text ever since the 1500s, when an unknown printer took a galley of type and scrambled it to make a type specimen book. It has survived not only five centuries, but also the leap into electronic typesetting, remaining essentially unchanged. It was popularised in the 1960s with the release of Letraset sheets containing Lorem Ipsum passages, and more recently with desktop publishing software like Aldus PageMaker including versions of Lorem Ipsum.\n"
     ]
    }
   ],
   "source": [
    "# Read text file line by line\n",
    "\n",
    "\n",
    "# To read text line by line from a file, use File.readline() function. \n",
    "# File.readline() returns the current line and updates its pointer to the next line. \n",
    "# So, when you call readline() function for the next time, the next line is returned.\n",
    "\n",
    "# Remember that readline() returns the line along with the new line character at the end of the line, \n",
    "# except for the last line. So, if you do not require the new line character, you may use strip() function. \n",
    "# There is a catch here. If your line contains white space characters at the start and end, \n",
    "# and if you use strip(), you will loose those white space characters in the line.\n",
    "\n",
    "fileObj=open('Dataset/sample.txt')\n",
    "while(True):\n",
    "    #read next line\n",
    "    line = fileObj.readline()\n",
    "    #if line is empty, you are done with all lines in the file\n",
    "    if not line:\n",
    "        break\n",
    "    #you can access the line\n",
    "    print(line.strip())"
   ]
  },
  {
   "cell_type": "code",
   "execution_count": 21,
   "metadata": {},
   "outputs": [
    {
     "name": "stdout",
     "output_type": "stream",
     "text": [
      "Lorem Ipsu\n"
     ]
    }
   ],
   "source": [
    "fileObj=open('Dataset/sample.txt')\n",
    "print(fileObj.readline(10)) # print 10 characters of current line"
   ]
  },
  {
   "cell_type": "code",
   "execution_count": 28,
   "metadata": {},
   "outputs": [
    {
     "name": "stdout",
     "output_type": "stream",
     "text": [
      "<class 'list'>\n",
      "5\n",
      "Lorem Ipsum is simply dummy text of the printing and typesetting industry. Lorem Ipsum has been the industry's standard dummy text ever since the 1500s, when an unknown printer took a galley of type and scrambled it to make a type specimen book. It has survived not only five centuries, but also the leap into electronic typesetting, remaining essentially unchanged. It was popularised in the 1960s with the release of Letraset sheets containing Lorem Ipsum passages, and more recently with desktop publishing software like Aldus PageMaker including versions of Lorem Ipsum.\n",
      "\n"
     ]
    }
   ],
   "source": [
    "# readlines(): This function return list of strings and each value is content of a line.\n",
    "\n",
    "fileObj=open('Dataset/sample.txt')\n",
    "fileData=fileObj.readlines()\n",
    "print(type(fileData))\n",
    "print(len(fileData))\n",
    "print(fileData[2]) # Line present at index 2"
   ]
  },
  {
   "cell_type": "code",
   "execution_count": 30,
   "metadata": {},
   "outputs": [],
   "source": [
    "# Close the file\n",
    "\n",
    "# Syntax: fileObj.close()\n",
    "fileObj.close()"
   ]
  },
  {
   "cell_type": "code",
   "execution_count": 37,
   "metadata": {},
   "outputs": [],
   "source": [
    "# How to open file so that there is no need to close the file\n",
    "with open('Dataset/sample.txt') as fileObj:\n",
    "    pass\n",
    "# As soon as we exit from this block file will get close automatically\n"
   ]
  },
  {
   "cell_type": "code",
   "execution_count": 38,
   "metadata": {},
   "outputs": [
    {
     "name": "stdout",
     "output_type": "stream",
     "text": [
      "['0', '-1.5571814571211158', '0.3734159235916714', '1.0406850622674464', '-0.6485128170133698']\n",
      "['1', '-0.8358716125741477', '-0.005259078664677811', '0.5020989639290331', '-0.9568385744797189']\n",
      "['2', '-0.2571527193479308', '2.63822766017704', '-0.5357309327345694', '-1.0694426562444748']\n",
      "['3', '-0.5055017925910413', '-0.33926032991565347', '0.6026217512700134', '-1.4209954395964053']\n",
      "['4', '1.3663975949858094', '-0.36829566288694954', '0.6420914520249591', '1.6096801673901033']\n",
      "['5', '-1.350101417622602', '0.21009650642005204', '-0.7432801467394108', '0.03572920797270954']\n",
      "['6', '-0.6213053962392212', '-0.620733446391398', '0.14142858875307132', '-1.831874920605254']\n",
      "['7', '-0.6703699981632979', '-0.3792296415468157', '1.9502282009682155', '-0.48720178095765715']\n",
      "['8', '-1.3605769215869024', '0.04467539242744912', '-0.5762887447975146', '0.9986863871312452']\n",
      "['9', '-0.12030247932749291', '-0.1464906409064107', '-0.42095590713075554', '1.4127857867638378']\n",
      "['10', '0.21693612170413187', '0.39826713433163036', '0.3425194930791935', '0.38726334507538074']\n",
      "['11', '0.5678322854877813', '-2.0236675391620427', '-0.3153179440217869', '-0.06434931573522486']\n",
      "['12', '-0.1611477979523298', '-0.11892433695199395', '-1.2266790575081459', '-0.9325402093748408']\n",
      "['13', '-1.0636201353080117', '0.04130386330335621', '-1.0376945928417691', '0.6285202600616072']\n",
      "['14', '0.9129311797025244', '0.8487449288823722', '-1.2152762613083312', '-0.02420246746967095']\n",
      "['15', '-0.6614892618387955', '-1.5439943197605557', '-0.45275382866951736', '-1.5895212750405596']\n",
      "['16', '-0.27206323541101474', '-1.0120839439130207', '0.41414659707611773', '-0.021170722249506196']\n",
      "['17', '0.46814552562775946', '0.23237820230818243', '-1.8902890864551338', '0.8276218665433585']\n",
      "['18', '1.7446936329726808', '0.052281881019582185', '0.8904617892907192', '-0.1555401598663185']\n",
      "['19', '0.381029300899357', '0.6666659385796617', '0.9578318218266317', '1.4760934217196506']\n",
      "['20', '0.5039697161825342', '0.567257626629267', '1.578918892612338', '1.041838750876068']\n",
      "['21', '-0.5619371595777116', '0.5342427319333001', '0.24623200112264387', '0.7630209499095567']\n",
      "['22', '0.06444626447762243', '-0.4834060726871028', '-0.5848691092972306', '-1.0667674328563104']\n",
      "['23', '2.762884610979079', '0.06004676561745642', '-0.7090698127421619', '-1.350153800350482']\n",
      "['24', '-0.3999124659514683', '0.7557135706440841', '-0.13809845484064168', '0.7718593707041544']\n",
      "['25', '2.289131741350697', '-0.178022714217474', '0.39202998673291983', '-1.6388842409586322']\n",
      "['26', '-1.6677991215692594', '-0.723244594054026', '-0.298492060956422', '-0.46440558694472134']\n",
      "['27', '0.8714730089945192', '-0.8759100159843385', '1.6934284077350992', '-0.12027816431812159']\n",
      "['28', '2.0358921569554345', '-0.44280352914584414', '1.7109988501823075', '-0.16489593971386715']\n",
      "['29', '2.646330898772321', '0.006441335539200426', '-0.8191432170073263', '-0.14065693805565896']\n",
      "['30', '-1.6450217844643216', '1.841754106983004', '-0.3902583200307118', '-0.11884215103373222']\n",
      "['31', '-2.085251227162264', '0.04344402966396258', '-0.18357831123235405', '0.5482976712377838']\n",
      "['32', '1.4276345146462173', '-0.3499814456922523', '1.0388141243609788', '-0.9551782382809649']\n",
      "['33', '-0.680209886622805', '0.5661797600068106', '-0.3256379571624729', '0.24438300825324408']\n",
      "['34', '-0.026501846602914166', '0.7580210918191779', '0.4664269250748621', '-0.19814622157164147']\n",
      "['35', '0.4333094194204037', '0.6230188241375945', '-0.201788961433495', '1.9830366281607978']\n",
      "['36', '0.6466727912991076', '-0.71542144944508', '-0.3220565052044285', '0.6450010577171144']\n",
      "['37', '0.048680964383578704', '-1.2031453779517745', '0.4600257069307617', '0.19264374010318172']\n",
      "['38', '0.09871809417680451', '-0.6729153264175118', '-0.2298316808311614', '-0.18713261873250722']\n",
      "['39', '-0.0599295893737432', '-1.4723000473446783', '-1.2812502578724272', '-0.6662138832626934']\n",
      "['40', '1.5157237206696343', '0.20799312547060134', '-1.0370671603825163', '-0.3933626782320448']\n",
      "['41', '-0.94986842749129', '-1.1156036371338034', '-0.5547894321473423', '1.324990752442757']\n",
      "['42', '-1.4523164615169306', '-0.5724135249590819', '-0.8087901732995021', '1.6151904816662288']\n",
      "['43', '-1.1175416567876535', '0.0839517835355563', '-0.8747605366047323', '0.884389275529105']\n",
      "['44', '0.8341175621149528', '0.42350889632888294', '-0.5655750008029404', '-0.16984294037379438']\n",
      "['45', '-0.38231206223398634', '0.17599386528172353', '-0.820539122849935', '-0.5427827731596006']\n",
      "['46', '-0.9823928786653096', '-0.3964636768456382', '0.5506120017820199', '1.5849364340123826']\n",
      "['47', '0.5818457111158737', '-0.994097524545491', '0.519327385101966', '1.2867649498497398']\n",
      "['48', '-0.4122822355845725', '-1.8898737133836128', '-0.04734785960965244', '-0.7676687261141197']\n",
      "['49', '0.446291734246744', '0.32624216839849834', '0.23050018566631836', '0.8416550695583955']\n",
      "['', 'A', 'B', 'C', 'D']\n"
     ]
    }
   ],
   "source": [
    "# CSV files\n",
    "\n",
    "# CSV (Comma Separated Values) is a simple file format used to store tabular data,\n",
    "# such as a spreadsheet or database. A CSV file stores tabular data (numbers and text) in plain text. \n",
    "# Each line of the file is a data record. Each record consists of one or more fields, separated by commas. \n",
    "# The use of the comma as a field separator is the source of the name for this file format.\n",
    "\n",
    "import csv\n",
    "\n",
    "fields=[]\n",
    "\n",
    "with open('Dataset/data.csv') as fileObj:\n",
    "    fileData=csv.reader(fileObj) # The file object is converted to csv.reader object. \n",
    "    \n",
    "    # csv.reader() has an option parameter called delimiter='|'\n",
    "    # csv.reader() has an option parameter called skipinitialspace=True. This will remove initial space for each\n",
    "    # value\n",
    "    \n",
    "    \n",
    "    # fileData is an iterable object\n",
    "    \n",
    "    fields=next(fileData) # returns the current row and advances the iterator to the next row. \n",
    "    #Since the first row of our csv file contains the headers (or field names), \n",
    "    # we save them in a list called fields.\n",
    "    \n",
    "    for row in fileData:\n",
    "        print(row)\n",
    "        \n",
    "print(fields)"
   ]
  },
  {
   "cell_type": "code",
   "execution_count": 39,
   "metadata": {},
   "outputs": [
    {
     "name": "stdout",
     "output_type": "stream",
     "text": [
      "[['', 'A', 'B', 'C', 'D'], ['0', '-1.5571814571211158', '0.3734159235916714', '1.0406850622674464', '-0.6485128170133698'], ['1', '-0.8358716125741477', '-0.005259078664677811', '0.5020989639290331', '-0.9568385744797189'], ['2', '-0.2571527193479308', '2.63822766017704', '-0.5357309327345694', '-1.0694426562444748'], ['3', '-0.5055017925910413', '-0.33926032991565347', '0.6026217512700134', '-1.4209954395964053'], ['4', '1.3663975949858094', '-0.36829566288694954', '0.6420914520249591', '1.6096801673901033'], ['5', '-1.350101417622602', '0.21009650642005204', '-0.7432801467394108', '0.03572920797270954'], ['6', '-0.6213053962392212', '-0.620733446391398', '0.14142858875307132', '-1.831874920605254'], ['7', '-0.6703699981632979', '-0.3792296415468157', '1.9502282009682155', '-0.48720178095765715'], ['8', '-1.3605769215869024', '0.04467539242744912', '-0.5762887447975146', '0.9986863871312452'], ['9', '-0.12030247932749291', '-0.1464906409064107', '-0.42095590713075554', '1.4127857867638378'], ['10', '0.21693612170413187', '0.39826713433163036', '0.3425194930791935', '0.38726334507538074'], ['11', '0.5678322854877813', '-2.0236675391620427', '-0.3153179440217869', '-0.06434931573522486'], ['12', '-0.1611477979523298', '-0.11892433695199395', '-1.2266790575081459', '-0.9325402093748408'], ['13', '-1.0636201353080117', '0.04130386330335621', '-1.0376945928417691', '0.6285202600616072'], ['14', '0.9129311797025244', '0.8487449288823722', '-1.2152762613083312', '-0.02420246746967095'], ['15', '-0.6614892618387955', '-1.5439943197605557', '-0.45275382866951736', '-1.5895212750405596'], ['16', '-0.27206323541101474', '-1.0120839439130207', '0.41414659707611773', '-0.021170722249506196'], ['17', '0.46814552562775946', '0.23237820230818243', '-1.8902890864551338', '0.8276218665433585'], ['18', '1.7446936329726808', '0.052281881019582185', '0.8904617892907192', '-0.1555401598663185'], ['19', '0.381029300899357', '0.6666659385796617', '0.9578318218266317', '1.4760934217196506'], ['20', '0.5039697161825342', '0.567257626629267', '1.578918892612338', '1.041838750876068'], ['21', '-0.5619371595777116', '0.5342427319333001', '0.24623200112264387', '0.7630209499095567'], ['22', '0.06444626447762243', '-0.4834060726871028', '-0.5848691092972306', '-1.0667674328563104'], ['23', '2.762884610979079', '0.06004676561745642', '-0.7090698127421619', '-1.350153800350482'], ['24', '-0.3999124659514683', '0.7557135706440841', '-0.13809845484064168', '0.7718593707041544'], ['25', '2.289131741350697', '-0.178022714217474', '0.39202998673291983', '-1.6388842409586322'], ['26', '-1.6677991215692594', '-0.723244594054026', '-0.298492060956422', '-0.46440558694472134'], ['27', '0.8714730089945192', '-0.8759100159843385', '1.6934284077350992', '-0.12027816431812159'], ['28', '2.0358921569554345', '-0.44280352914584414', '1.7109988501823075', '-0.16489593971386715'], ['29', '2.646330898772321', '0.006441335539200426', '-0.8191432170073263', '-0.14065693805565896'], ['30', '-1.6450217844643216', '1.841754106983004', '-0.3902583200307118', '-0.11884215103373222'], ['31', '-2.085251227162264', '0.04344402966396258', '-0.18357831123235405', '0.5482976712377838'], ['32', '1.4276345146462173', '-0.3499814456922523', '1.0388141243609788', '-0.9551782382809649'], ['33', '-0.680209886622805', '0.5661797600068106', '-0.3256379571624729', '0.24438300825324408'], ['34', '-0.026501846602914166', '0.7580210918191779', '0.4664269250748621', '-0.19814622157164147'], ['35', '0.4333094194204037', '0.6230188241375945', '-0.201788961433495', '1.9830366281607978'], ['36', '0.6466727912991076', '-0.71542144944508', '-0.3220565052044285', '0.6450010577171144'], ['37', '0.048680964383578704', '-1.2031453779517745', '0.4600257069307617', '0.19264374010318172'], ['38', '0.09871809417680451', '-0.6729153264175118', '-0.2298316808311614', '-0.18713261873250722'], ['39', '-0.0599295893737432', '-1.4723000473446783', '-1.2812502578724272', '-0.6662138832626934'], ['40', '1.5157237206696343', '0.20799312547060134', '-1.0370671603825163', '-0.3933626782320448'], ['41', '-0.94986842749129', '-1.1156036371338034', '-0.5547894321473423', '1.324990752442757'], ['42', '-1.4523164615169306', '-0.5724135249590819', '-0.8087901732995021', '1.6151904816662288'], ['43', '-1.1175416567876535', '0.0839517835355563', '-0.8747605366047323', '0.884389275529105'], ['44', '0.8341175621149528', '0.42350889632888294', '-0.5655750008029404', '-0.16984294037379438'], ['45', '-0.38231206223398634', '0.17599386528172353', '-0.820539122849935', '-0.5427827731596006'], ['46', '-0.9823928786653096', '-0.3964636768456382', '0.5506120017820199', '1.5849364340123826'], ['47', '0.5818457111158737', '-0.994097524545491', '0.519327385101966', '1.2867649498497398'], ['48', '-0.4122822355845725', '-1.8898737133836128', '-0.04734785960965244', '-0.7676687261141197'], ['49', '0.446291734246744', '0.32624216839849834', '0.23050018566631836', '0.8416550695583955']]\n"
     ]
    }
   ],
   "source": [
    "# How to club all this list into 2d List\n",
    "\n",
    "import csv\n",
    "\n",
    "with open('Dataset/data.csv') as fileObj:\n",
    "    fileData=csv.reader(fileObj)\n",
    "    fileList=list(fileData)\n",
    "print(fileList)"
   ]
  },
  {
   "cell_type": "code",
   "execution_count": 43,
   "metadata": {},
   "outputs": [
    {
     "name": "stdout",
     "output_type": "stream",
     "text": [
      "OrderedDict([('', '0'), ('A', '-1.5571814571211158'), ('B', '0.3734159235916714'), ('C', '1.0406850622674464'), ('D', '-0.6485128170133698')])\n",
      "OrderedDict([('', '1'), ('A', '-0.8358716125741477'), ('B', '-0.005259078664677811'), ('C', '0.5020989639290331'), ('D', '-0.9568385744797189')])\n",
      "OrderedDict([('', '2'), ('A', '-0.2571527193479308'), ('B', '2.63822766017704'), ('C', '-0.5357309327345694'), ('D', '-1.0694426562444748')])\n",
      "OrderedDict([('', '3'), ('A', '-0.5055017925910413'), ('B', '-0.33926032991565347'), ('C', '0.6026217512700134'), ('D', '-1.4209954395964053')])\n",
      "OrderedDict([('', '4'), ('A', '1.3663975949858094'), ('B', '-0.36829566288694954'), ('C', '0.6420914520249591'), ('D', '1.6096801673901033')])\n",
      "OrderedDict([('', '5'), ('A', '-1.350101417622602'), ('B', '0.21009650642005204'), ('C', '-0.7432801467394108'), ('D', '0.03572920797270954')])\n",
      "OrderedDict([('', '6'), ('A', '-0.6213053962392212'), ('B', '-0.620733446391398'), ('C', '0.14142858875307132'), ('D', '-1.831874920605254')])\n",
      "OrderedDict([('', '7'), ('A', '-0.6703699981632979'), ('B', '-0.3792296415468157'), ('C', '1.9502282009682155'), ('D', '-0.48720178095765715')])\n",
      "OrderedDict([('', '8'), ('A', '-1.3605769215869024'), ('B', '0.04467539242744912'), ('C', '-0.5762887447975146'), ('D', '0.9986863871312452')])\n",
      "OrderedDict([('', '9'), ('A', '-0.12030247932749291'), ('B', '-0.1464906409064107'), ('C', '-0.42095590713075554'), ('D', '1.4127857867638378')])\n",
      "OrderedDict([('', '10'), ('A', '0.21693612170413187'), ('B', '0.39826713433163036'), ('C', '0.3425194930791935'), ('D', '0.38726334507538074')])\n",
      "OrderedDict([('', '11'), ('A', '0.5678322854877813'), ('B', '-2.0236675391620427'), ('C', '-0.3153179440217869'), ('D', '-0.06434931573522486')])\n",
      "OrderedDict([('', '12'), ('A', '-0.1611477979523298'), ('B', '-0.11892433695199395'), ('C', '-1.2266790575081459'), ('D', '-0.9325402093748408')])\n",
      "OrderedDict([('', '13'), ('A', '-1.0636201353080117'), ('B', '0.04130386330335621'), ('C', '-1.0376945928417691'), ('D', '0.6285202600616072')])\n",
      "OrderedDict([('', '14'), ('A', '0.9129311797025244'), ('B', '0.8487449288823722'), ('C', '-1.2152762613083312'), ('D', '-0.02420246746967095')])\n",
      "OrderedDict([('', '15'), ('A', '-0.6614892618387955'), ('B', '-1.5439943197605557'), ('C', '-0.45275382866951736'), ('D', '-1.5895212750405596')])\n",
      "OrderedDict([('', '16'), ('A', '-0.27206323541101474'), ('B', '-1.0120839439130207'), ('C', '0.41414659707611773'), ('D', '-0.021170722249506196')])\n",
      "OrderedDict([('', '17'), ('A', '0.46814552562775946'), ('B', '0.23237820230818243'), ('C', '-1.8902890864551338'), ('D', '0.8276218665433585')])\n",
      "OrderedDict([('', '18'), ('A', '1.7446936329726808'), ('B', '0.052281881019582185'), ('C', '0.8904617892907192'), ('D', '-0.1555401598663185')])\n",
      "OrderedDict([('', '19'), ('A', '0.381029300899357'), ('B', '0.6666659385796617'), ('C', '0.9578318218266317'), ('D', '1.4760934217196506')])\n",
      "OrderedDict([('', '20'), ('A', '0.5039697161825342'), ('B', '0.567257626629267'), ('C', '1.578918892612338'), ('D', '1.041838750876068')])\n",
      "OrderedDict([('', '21'), ('A', '-0.5619371595777116'), ('B', '0.5342427319333001'), ('C', '0.24623200112264387'), ('D', '0.7630209499095567')])\n",
      "OrderedDict([('', '22'), ('A', '0.06444626447762243'), ('B', '-0.4834060726871028'), ('C', '-0.5848691092972306'), ('D', '-1.0667674328563104')])\n",
      "OrderedDict([('', '23'), ('A', '2.762884610979079'), ('B', '0.06004676561745642'), ('C', '-0.7090698127421619'), ('D', '-1.350153800350482')])\n",
      "OrderedDict([('', '24'), ('A', '-0.3999124659514683'), ('B', '0.7557135706440841'), ('C', '-0.13809845484064168'), ('D', '0.7718593707041544')])\n",
      "OrderedDict([('', '25'), ('A', '2.289131741350697'), ('B', '-0.178022714217474'), ('C', '0.39202998673291983'), ('D', '-1.6388842409586322')])\n",
      "OrderedDict([('', '26'), ('A', '-1.6677991215692594'), ('B', '-0.723244594054026'), ('C', '-0.298492060956422'), ('D', '-0.46440558694472134')])\n",
      "OrderedDict([('', '27'), ('A', '0.8714730089945192'), ('B', '-0.8759100159843385'), ('C', '1.6934284077350992'), ('D', '-0.12027816431812159')])\n",
      "OrderedDict([('', '28'), ('A', '2.0358921569554345'), ('B', '-0.44280352914584414'), ('C', '1.7109988501823075'), ('D', '-0.16489593971386715')])\n",
      "OrderedDict([('', '29'), ('A', '2.646330898772321'), ('B', '0.006441335539200426'), ('C', '-0.8191432170073263'), ('D', '-0.14065693805565896')])\n",
      "OrderedDict([('', '30'), ('A', '-1.6450217844643216'), ('B', '1.841754106983004'), ('C', '-0.3902583200307118'), ('D', '-0.11884215103373222')])\n",
      "OrderedDict([('', '31'), ('A', '-2.085251227162264'), ('B', '0.04344402966396258'), ('C', '-0.18357831123235405'), ('D', '0.5482976712377838')])\n",
      "OrderedDict([('', '32'), ('A', '1.4276345146462173'), ('B', '-0.3499814456922523'), ('C', '1.0388141243609788'), ('D', '-0.9551782382809649')])\n",
      "OrderedDict([('', '33'), ('A', '-0.680209886622805'), ('B', '0.5661797600068106'), ('C', '-0.3256379571624729'), ('D', '0.24438300825324408')])\n",
      "OrderedDict([('', '34'), ('A', '-0.026501846602914166'), ('B', '0.7580210918191779'), ('C', '0.4664269250748621'), ('D', '-0.19814622157164147')])\n",
      "OrderedDict([('', '35'), ('A', '0.4333094194204037'), ('B', '0.6230188241375945'), ('C', '-0.201788961433495'), ('D', '1.9830366281607978')])\n",
      "OrderedDict([('', '36'), ('A', '0.6466727912991076'), ('B', '-0.71542144944508'), ('C', '-0.3220565052044285'), ('D', '0.6450010577171144')])\n",
      "OrderedDict([('', '37'), ('A', '0.048680964383578704'), ('B', '-1.2031453779517745'), ('C', '0.4600257069307617'), ('D', '0.19264374010318172')])\n",
      "OrderedDict([('', '38'), ('A', '0.09871809417680451'), ('B', '-0.6729153264175118'), ('C', '-0.2298316808311614'), ('D', '-0.18713261873250722')])\n",
      "OrderedDict([('', '39'), ('A', '-0.0599295893737432'), ('B', '-1.4723000473446783'), ('C', '-1.2812502578724272'), ('D', '-0.6662138832626934')])\n",
      "OrderedDict([('', '40'), ('A', '1.5157237206696343'), ('B', '0.20799312547060134'), ('C', '-1.0370671603825163'), ('D', '-0.3933626782320448')])\n",
      "OrderedDict([('', '41'), ('A', '-0.94986842749129'), ('B', '-1.1156036371338034'), ('C', '-0.5547894321473423'), ('D', '1.324990752442757')])\n",
      "OrderedDict([('', '42'), ('A', '-1.4523164615169306'), ('B', '-0.5724135249590819'), ('C', '-0.8087901732995021'), ('D', '1.6151904816662288')])\n",
      "OrderedDict([('', '43'), ('A', '-1.1175416567876535'), ('B', '0.0839517835355563'), ('C', '-0.8747605366047323'), ('D', '0.884389275529105')])\n",
      "OrderedDict([('', '44'), ('A', '0.8341175621149528'), ('B', '0.42350889632888294'), ('C', '-0.5655750008029404'), ('D', '-0.16984294037379438')])\n",
      "OrderedDict([('', '45'), ('A', '-0.38231206223398634'), ('B', '0.17599386528172353'), ('C', '-0.820539122849935'), ('D', '-0.5427827731596006')])\n",
      "OrderedDict([('', '46'), ('A', '-0.9823928786653096'), ('B', '-0.3964636768456382'), ('C', '0.5506120017820199'), ('D', '1.5849364340123826')])\n",
      "OrderedDict([('', '47'), ('A', '0.5818457111158737'), ('B', '-0.994097524545491'), ('C', '0.519327385101966'), ('D', '1.2867649498497398')])\n",
      "OrderedDict([('', '48'), ('A', '-0.4122822355845725'), ('B', '-1.8898737133836128'), ('C', '-0.04734785960965244'), ('D', '-0.7676687261141197')])\n",
      "OrderedDict([('', '49'), ('A', '0.446291734246744'), ('B', '0.32624216839849834'), ('C', '0.23050018566631836'), ('D', '0.8416550695583955')])\n"
     ]
    }
   ],
   "source": [
    "# Csv DictReader\n",
    "# DictReader class operates like a regular reader but maps the information read into a dictionary. \n",
    "# The keys for the dictionary can be passed in with the fieldnames parameter or inferred from the first row of \n",
    "# the CSV file.\n",
    "\n",
    "\n",
    "import csv\n",
    "\n",
    "with open('Dataset/data.csv') as fileObj:\n",
    "    fileData=csv.DictReader(fileObj,skipinitialspace=True)\n",
    "    for row in fileData:\n",
    "        print(row)\n"
   ]
  },
  {
   "cell_type": "code",
   "execution_count": null,
   "metadata": {},
   "outputs": [],
   "source": []
  }
 ],
 "metadata": {
  "kernelspec": {
   "display_name": "Python 3",
   "language": "python",
   "name": "python3"
  },
  "language_info": {
   "codemirror_mode": {
    "name": "ipython",
    "version": 3
   },
   "file_extension": ".py",
   "mimetype": "text/x-python",
   "name": "python",
   "nbconvert_exporter": "python",
   "pygments_lexer": "ipython3",
   "version": "3.7.6"
  }
 },
 "nbformat": 4,
 "nbformat_minor": 4
}
