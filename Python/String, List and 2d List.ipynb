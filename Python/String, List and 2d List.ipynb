{
 "cells": [
  {
   "cell_type": "code",
   "execution_count": 1,
   "metadata": {},
   "outputs": [
    {
     "name": "stdout",
     "output_type": "stream",
     "text": [
      "<class 'str'> <class 'str'>\n"
     ]
    }
   ],
   "source": [
    "# Pyhton does not have character data type\n",
    "str1='a'\n",
    "str2='abc'\n",
    "print(type(str1),type(str2))"
   ]
  },
  {
   "cell_type": "code",
   "execution_count": 2,
   "metadata": {},
   "outputs": [
    {
     "name": "stdout",
     "output_type": "stream",
     "text": [
      "b\n"
     ]
    }
   ],
   "source": [
    "# Accessing ith character in string\n",
    "str='abcd'\n",
    "print(str[1])"
   ]
  },
  {
   "cell_type": "code",
   "execution_count": 8,
   "metadata": {},
   "outputs": [
    {
     "ename": "TypeError",
     "evalue": "'str' object does not support item assignment",
     "output_type": "error",
     "traceback": [
      "\u001b[0;31m---------------------------------------------------------------------------\u001b[0m",
      "\u001b[0;31mTypeError\u001b[0m                                 Traceback (most recent call last)",
      "\u001b[0;32m<ipython-input-8-3c907d162286>\u001b[0m in \u001b[0;36m<module>\u001b[0;34m\u001b[0m\n\u001b[1;32m      1\u001b[0m \u001b[0;31m# Strings are immutable\u001b[0m\u001b[0;34m\u001b[0m\u001b[0;34m\u001b[0m\u001b[0;34m\u001b[0m\u001b[0m\n\u001b[1;32m      2\u001b[0m \u001b[0mstr\u001b[0m\u001b[0;34m=\u001b[0m\u001b[0;34m'abcdef'\u001b[0m\u001b[0;34m\u001b[0m\u001b[0;34m\u001b[0m\u001b[0m\n\u001b[0;32m----> 3\u001b[0;31m \u001b[0mstr\u001b[0m\u001b[0;34m[\u001b[0m\u001b[0;36m1\u001b[0m\u001b[0;34m]\u001b[0m\u001b[0;34m=\u001b[0m\u001b[0;34m'a'\u001b[0m \u001b[0;31m# This will give error\u001b[0m\u001b[0;34m\u001b[0m\u001b[0;34m\u001b[0m\u001b[0m\n\u001b[0m\u001b[1;32m      4\u001b[0m \u001b[0mstr\u001b[0m\u001b[0;34m=\u001b[0m\u001b[0;34m'xyz'\u001b[0m \u001b[0;31m# This is fine. Here we are not changing any string here we change the value of variable\u001b[0m\u001b[0;34m\u001b[0m\u001b[0;34m\u001b[0m\u001b[0m\n\u001b[1;32m      5\u001b[0m \u001b[0mprint\u001b[0m\u001b[0;34m(\u001b[0m\u001b[0mstr\u001b[0m\u001b[0;34m)\u001b[0m\u001b[0;34m\u001b[0m\u001b[0;34m\u001b[0m\u001b[0m\n",
      "\u001b[0;31mTypeError\u001b[0m: 'str' object does not support item assignment"
     ]
    }
   ],
   "source": [
    "# Strings are immutable\n",
    "str='abcdef'\n",
    "str[1]='a' # This will give error\n",
    "str='xyz' # This is fine. Here we are not changing any string here we change the value of variable\n",
    "print(str)"
   ]
  },
  {
   "cell_type": "code",
   "execution_count": 9,
   "metadata": {},
   "outputs": [
    {
     "name": "stdout",
     "output_type": "stream",
     "text": [
      "a\n",
      "b\n",
      "c\n",
      "d\n",
      " \n",
      "e\n",
      "f\n",
      "g\n",
      "h\n"
     ]
    }
   ],
   "source": [
    "# Iterating over string\n",
    "str=\"abcd efgh\"\n",
    "for i in str:\n",
    "    print(i)"
   ]
  },
  {
   "cell_type": "code",
   "execution_count": 13,
   "metadata": {},
   "outputs": [
    {
     "name": "stdout",
     "output_type": "stream",
     "text": [
      "this is Ankit's pen\n"
     ]
    }
   ],
   "source": [
    "# Escaping character\n",
    "str='this is Ankit\\'s pen' # This will work fine\n",
    "print(str)\n",
    "# str='this is Ankit's pen' #This will give error\n",
    "# print(str)"
   ]
  },
  {
   "cell_type": "code",
   "execution_count": 21,
   "metadata": {},
   "outputs": [
    {
     "name": "stdout",
     "output_type": "stream",
     "text": [
      "['abc', 'def', 'ghi']\n",
      "['xyz', 'def', 'ghi']\n",
      "['xyz', 'lmn', 'pqr']\n",
      "xyzablmnabpqr\n"
     ]
    }
   ],
   "source": [
    "# split function\n",
    "# By default split happens on white space\n",
    "str=\"abc def ghi\"\n",
    "print(str.split())\n",
    "\n",
    "# Split around particular string\n",
    "str='xyz,def,ghi'\n",
    "print(str.split(','))\n",
    "\n",
    "str='xyzablmnabpqr'\n",
    "print(str.split('ab'))\n",
    "\n",
    "print(str) # Split function does not change original string"
   ]
  },
  {
   "cell_type": "code",
   "execution_count": 23,
   "metadata": {},
   "outputs": [
    {
     "name": "stdout",
     "output_type": "stream",
     "text": [
      "xyz*abc*def\n"
     ]
    }
   ],
   "source": [
    "# replace function\n",
    "# replace ',' with '*'\n",
    "str='xyz,abc,def'\n",
    "print(str.replace(',','*'))\n",
    "# Replace does not change the original string. It returns new string"
   ]
  },
  {
   "cell_type": "code",
   "execution_count": 27,
   "metadata": {},
   "outputs": [
    {
     "name": "stdout",
     "output_type": "stream",
     "text": [
      "3\n",
      "-1\n"
     ]
    }
   ],
   "source": [
    "# find function\n",
    "print(str.find(',')) # Returns first occurence index\n",
    "\n",
    "# If it does not find anything it will return -1\n",
    "print(str.find('axy'))"
   ]
  },
  {
   "cell_type": "code",
   "execution_count": 30,
   "metadata": {},
   "outputs": [
    {
     "name": "stdout",
     "output_type": "stream",
     "text": [
      "ABCD\n",
      "True\n",
      "xyz abc def\n",
      "True\n",
      "True\n"
     ]
    }
   ],
   "source": [
    "# Change case of string using lower and upper\n",
    "str='abcd'\n",
    "print(str.upper())\n",
    "print(str.islower())\n",
    "\n",
    "str='XyZ abc Def'\n",
    "print(str.lower())\n",
    "\n",
    "print(str.startswith('XyZ'))\n",
    "print(str.startswith('Xy'))\n"
   ]
  },
  {
   "cell_type": "code",
   "execution_count": 36,
   "metadata": {},
   "outputs": [
    {
     "name": "stdout",
     "output_type": "stream",
     "text": [
      "13\n",
      "4\n",
      "2\n",
      "5\n"
     ]
    }
   ],
   "source": [
    "# len function\n",
    "string = \"Geeksforgeeks\"\n",
    "print(len(string))\n",
    "\n",
    "l = [1,2,3,4]\n",
    "print(len(l))\n",
    "\n",
    "dic = {'a':1, 'b': 2}\n",
    "print(len(dic))\n",
    "  \n",
    "s = { 1, 2, 3, 4,5}\n",
    "print(len(s))"
   ]
  },
  {
   "cell_type": "code",
   "execution_count": 45,
   "metadata": {},
   "outputs": [
    {
     "name": "stdout",
     "output_type": "stream",
     "text": [
      "1\n",
      "234\n",
      "12345678\n",
      "01234\n",
      "012345678\n",
      "02468\n",
      "87654321\n",
      "8\n"
     ]
    }
   ],
   "source": [
    "# Slicing\n",
    "# str[si:ei:skip] --> This will give substring from si to ei-1 by increment of skip\n",
    "# By default skip value is 1\n",
    "str=\"012345678\"\n",
    "print(str[1])\n",
    "print(str[2:5])\n",
    "print(str[1:]) # By default end index is end of string\n",
    "print(str[:5]) # This will print from start to 4\n",
    "print(str[:]) # This will print complete string\n",
    "print(str[0:10:2])\n",
    "print(str[9:0:-1]) # Reverse substring\n",
    "print(str[-1:])"
   ]
  },
  {
   "cell_type": "code",
   "execution_count": 50,
   "metadata": {},
   "outputs": [
    {
     "name": "stdout",
     "output_type": "stream",
     "text": [
      "3\n",
      "[10, 2, 3, 4]\n",
      "[0, 0, 0, 0, 0, 0, 0, 0, 0, 0]\n",
      "[0, 1, 2, 3, 4, 5, 6, 7, 8, 9]\n",
      "[0, 1, 4, 9, 16, 25, 36, 49, 64, 81]\n"
     ]
    }
   ],
   "source": [
    "# List is Collection of elements\n",
    "\n",
    "a=[1,2,3,4]\n",
    "\n",
    "# Print ith element\n",
    "print(a[2])\n",
    "\n",
    "# List is multable\n",
    "a[0]=10\n",
    "print(a)\n",
    "\n",
    "# List creation with range\n",
    "\n",
    "a=[0 for i in range(0,10)] # This will create list of 10 zeros\n",
    "print(a)\n",
    "\n",
    "a=[i for i in range(0,10)] # This will create list containing 0-9 elements\n",
    "print(a)\n",
    "\n",
    "a=[i*i for i in range(0,10)]\n",
    "print(a)"
   ]
  },
  {
   "cell_type": "code",
   "execution_count": 55,
   "metadata": {},
   "outputs": [
    {
     "name": "stdout",
     "output_type": "stream",
     "text": [
      "[1, 2, 3, 4, 5, 6]\n",
      "[1, 2, 3, 1, 2, 3, 1, 2, 3]\n",
      "[1, 2, 3, 6]\n"
     ]
    }
   ],
   "source": [
    "# List functions\n",
    "\n",
    "# Concatination of Lists\n",
    "a=[1,2,3]\n",
    "b=[4,5,6]\n",
    "print(a+b)\n",
    "\n",
    "print(a*3) # This will concatinate a with itself 3 times and return a new list. It does not change original list.\n",
    "\n",
    "# Add data in the end of list\n",
    "a.append(6)\n",
    "print(a)"
   ]
  },
  {
   "cell_type": "code",
   "execution_count": 64,
   "metadata": {},
   "outputs": [
    {
     "name": "stdout",
     "output_type": "stream",
     "text": [
      "[1, 2, 5, 3, 6]\n",
      "[1, 2, 3, 6, 1, 2, 5, 3, 6, 1, 2, 5, 3, 6]\n"
     ]
    }
   ],
   "source": [
    "# Add data to specific index\n",
    "# listName.insert(index,element)\n",
    "b=[1,2,3,6]\n",
    "b.insert(2,5)\n",
    "print(b)\n",
    "\n",
    "a.extend(b) # This will concat b to a and now original a will be changed\n",
    "print(a)"
   ]
  },
  {
   "cell_type": "code",
   "execution_count": 67,
   "metadata": {},
   "outputs": [
    {
     "name": "stdout",
     "output_type": "stream",
     "text": [
      "[1, 2, 3, 1, 2, 3, 6, 1, 2, 3, 6]\n"
     ]
    }
   ],
   "source": [
    "# How to remove element from list\n",
    "a.remove(6) # This will remove first occurance of 6 from the list\n",
    "print(a)"
   ]
  },
  {
   "cell_type": "code",
   "execution_count": 70,
   "metadata": {},
   "outputs": [
    {
     "name": "stdout",
     "output_type": "stream",
     "text": [
      "[3, 1, 2, 6, 1, 2, 3, 6]\n"
     ]
    },
    {
     "data": {
      "text/plain": [
       "6"
      ]
     },
     "execution_count": 70,
     "metadata": {},
     "output_type": "execute_result"
    }
   ],
   "source": [
    "# pop function: remove element from given index and return that element\n",
    "# By default pop removes element from end\n",
    "a.pop(0) # Remove first element and return that element\n",
    "print(a)\n"
   ]
  },
  {
   "cell_type": "code",
   "execution_count": 69,
   "metadata": {},
   "outputs": [
    {
     "name": "stdout",
     "output_type": "stream",
     "text": [
      "[2, 3, 1, 2, 6, 1, 2, 3, 6]\n"
     ]
    }
   ],
   "source": [
    "# Generic way to delete anything\n",
    "del a[4] # This will delete element at index 4\n",
    "print(a)\n"
   ]
  },
  {
   "cell_type": "code",
   "execution_count": 72,
   "metadata": {},
   "outputs": [
    {
     "name": "stdout",
     "output_type": "stream",
     "text": [
      "[1, 1, 2, 2, 3, 3, 6]\n",
      "6\n"
     ]
    }
   ],
   "source": [
    "# sort a list\n",
    "a.sort() # This will sort original list.This will works on homogenious list.\n",
    "print(a)\n",
    "\n",
    "# Maximum element in list\n",
    "print(max(a)) # This will works on homogenious list"
   ]
  },
  {
   "cell_type": "code",
   "execution_count": 76,
   "metadata": {},
   "outputs": [
    {
     "name": "stdout",
     "output_type": "stream",
     "text": [
      "4\n",
      "True\n"
     ]
    }
   ],
   "source": [
    "# Find index of particular element\n",
    "print(a.index(3))\n",
    "# print(a.index(9)) # This will give error as element is not present in the list\n",
    "\n",
    "# To check particular element is in my list or not\n",
    "print(3 in a)"
   ]
  },
  {
   "cell_type": "markdown",
   "metadata": {},
   "source": [
    "## Ways to take input\n",
    "### First type\n",
    "n is given and then n numbers  \n",
    "5  \n",
    "1  \n",
    "2  \n",
    "3  \n",
    "4  \n",
    "5  \n",
    "\n"
   ]
  },
  {
   "cell_type": "code",
   "execution_count": 78,
   "metadata": {},
   "outputs": [
    {
     "name": "stdout",
     "output_type": "stream",
     "text": [
      "5\n",
      "1\n",
      "2\n",
      "3\n",
      "4\n",
      "5\n",
      "[1, 2, 3, 4, 5]\n"
     ]
    }
   ],
   "source": [
    "n=int(input())\n",
    "a=[]\n",
    "for i in range(n):\n",
    "    x=int(input())\n",
    "    a.append(x)\n",
    "print(a)"
   ]
  },
  {
   "cell_type": "markdown",
   "metadata": {},
   "source": [
    "### Second type\n",
    "1 2 3 4 5  \n"
   ]
  },
  {
   "cell_type": "code",
   "execution_count": 83,
   "metadata": {},
   "outputs": [
    {
     "name": "stdout",
     "output_type": "stream",
     "text": [
      "1 2 3 4 5\n",
      "[1, 2, 3, 4, 5]\n"
     ]
    }
   ],
   "source": [
    "a=[int(i) for i in input().split()]\n",
    "print(a)"
   ]
  }
 ],
 "metadata": {
  "kernelspec": {
   "display_name": "Python 3",
   "language": "python",
   "name": "python3"
  },
  "language_info": {
   "codemirror_mode": {
    "name": "ipython",
    "version": 3
   },
   "file_extension": ".py",
   "mimetype": "text/x-python",
   "name": "python",
   "nbconvert_exporter": "python",
   "pygments_lexer": "ipython3",
   "version": "3.7.6"
  }
 },
 "nbformat": 4,
 "nbformat_minor": 4
}
