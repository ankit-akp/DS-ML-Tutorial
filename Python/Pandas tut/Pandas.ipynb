{
 "cells": [
  {
   "cell_type": "code",
   "execution_count": 3,
   "metadata": {},
   "outputs": [],
   "source": [
    "# How to import pandas\n",
    "\n",
    "import pandas as pd\n",
    "\n",
    "# Pandas is a Python package providing fast, flexible, and expressive data structures designed \n",
    "# to make working with “relational” or “labelled” data both easy and intuitive. \n",
    "# Also, it aims to be the fundamental high-level building block for doing practical, \n",
    "# real-world data analysis in Python. "
   ]
  },
  {
   "cell_type": "code",
   "execution_count": 9,
   "metadata": {},
   "outputs": [
    {
     "name": "stdout",
     "output_type": "stream",
     "text": [
      "<class 'pandas.core.frame.DataFrame'>\n",
      "     5.1  3.5  1.4  0.2     Iris-setosa\n",
      "0    4.9  3.0  1.4  0.2     Iris-setosa\n",
      "1    4.7  3.2  1.3  0.2     Iris-setosa\n",
      "2    4.6  3.1  1.5  0.2     Iris-setosa\n",
      "3    5.0  3.6  1.4  0.2     Iris-setosa\n",
      "4    5.4  3.9  1.7  0.4     Iris-setosa\n",
      "..   ...  ...  ...  ...             ...\n",
      "144  6.7  3.0  5.2  2.3  Iris-virginica\n",
      "145  6.3  2.5  5.0  1.9  Iris-virginica\n",
      "146  6.5  3.0  5.2  2.0  Iris-virginica\n",
      "147  6.2  3.4  5.4  2.3  Iris-virginica\n",
      "148  5.9  3.0  5.1  1.8  Iris-virginica\n",
      "\n",
      "[149 rows x 5 columns]\n",
      "     5.1  3.5  1.4  0.2     Iris-setosa\n",
      "0    4.9  3.0  1.4  0.2     Iris-setosa\n",
      "1    4.7  3.2  1.3  0.2     Iris-setosa\n",
      "2    4.6  3.1  1.5  0.2     Iris-setosa\n",
      "3    5.0  3.6  1.4  0.2     Iris-setosa\n",
      "4    5.4  3.9  1.7  0.4     Iris-setosa\n",
      "..   ...  ...  ...  ...             ...\n",
      "144  6.7  3.0  5.2  2.3  Iris-virginica\n",
      "145  6.3  2.5  5.0  1.9  Iris-virginica\n",
      "146  6.5  3.0  5.2  2.0  Iris-virginica\n",
      "147  6.2  3.4  5.4  2.3  Iris-virginica\n",
      "148  5.9  3.0  5.1  1.8  Iris-virginica\n",
      "\n",
      "[149 rows x 5 columns]\n"
     ]
    }
   ],
   "source": [
    "# How to load data\n",
    "\n",
    "fileObj=pd.read_csv('https://archive.ics.uci.edu/ml/machine-learning-databases/iris/iris.data')\n",
    "\n",
    "print(type(fileObj))\n",
    "print(fileObj) # Here pandas treating first row as column header\n",
    "\n",
    "# How to make copy of fileObj so that any change you do in copy does not reflects on fileObj\n",
    "df=fileObj.copy()\n",
    "print(df)"
   ]
  },
  {
   "cell_type": "code",
   "execution_count": 31,
   "metadata": {},
   "outputs": [
    {
     "name": "stdout",
     "output_type": "stream",
     "text": [
      "   5.1  3.5  1.4  0.2  Iris-setosa\n",
      "0  4.9  3.0  1.4  0.2  Iris-setosa\n",
      "1  4.7  3.2  1.3  0.2  Iris-setosa\n",
      "2  4.6  3.1  1.5  0.2  Iris-setosa\n",
      "3  5.0  3.6  1.4  0.2  Iris-setosa\n",
      "4  5.4  3.9  1.7  0.4  Iris-setosa\n",
      "   5.1  3.5  1.4  0.2  Iris-setosa\n",
      "0  4.9  3.0  1.4  0.2  Iris-setosa\n",
      "1  4.7  3.2  1.3  0.2  Iris-setosa\n",
      "2  4.6  3.1  1.5  0.2  Iris-setosa\n",
      "3  5.0  3.6  1.4  0.2  Iris-setosa\n",
      "4  5.4  3.9  1.7  0.4  Iris-setosa\n",
      "5  4.6  3.4  1.4  0.3  Iris-setosa\n",
      "6  5.0  3.4  1.5  0.2  Iris-setosa\n",
      "7  4.4  2.9  1.4  0.2  Iris-setosa\n",
      "8  4.9  3.1  1.5  0.1  Iris-setosa\n",
      "9  5.4  3.7  1.5  0.2  Iris-setosa\n"
     ]
    }
   ],
   "source": [
    "# df.head()\n",
    "\n",
    "# To see some initial entries\n",
    "\n",
    "print(df.head())\n",
    "\n",
    "# To see specific number of enteries(lets say 10 entries)\n",
    "print(df.head(10))"
   ]
  },
  {
   "cell_type": "code",
   "execution_count": 14,
   "metadata": {},
   "outputs": [
    {
     "name": "stdout",
     "output_type": "stream",
     "text": [
      "Index(['5.1', '3.5', '1.4', '0.2', 'Iris-setosa'], dtype='object')\n"
     ]
    }
   ],
   "source": [
    "# To see column headers\n",
    "print(df.columns)\n",
    "\n",
    "# Change column headers\n",
    "df.columns=['sl','sw','pl','pw','flower_type']"
   ]
  },
  {
   "cell_type": "code",
   "execution_count": 34,
   "metadata": {},
   "outputs": [
    {
     "name": "stdout",
     "output_type": "stream",
     "text": [
      "(149, 5)\n",
      "sl             float64\n",
      "sw             float64\n",
      "pl             float64\n",
      "pw             float64\n",
      "flower_type     object\n",
      "dtype: object\n"
     ]
    }
   ],
   "source": [
    "# Find shape of data frame\n",
    "print(df.shape) # Dimensions of data frame\n",
    "print(df.dtypes) # Data type of each column"
   ]
  },
  {
   "cell_type": "code",
   "execution_count": 35,
   "metadata": {},
   "outputs": [
    {
     "name": "stdout",
     "output_type": "stream",
     "text": [
      "               sl          sw          pl          pw\n",
      "count  149.000000  149.000000  149.000000  149.000000\n",
      "mean     5.848322    3.051007    3.774497    1.205369\n",
      "std      0.828594    0.433499    1.759651    0.761292\n",
      "min      4.300000    2.000000    1.000000    0.100000\n",
      "25%      5.100000    2.800000    1.600000    0.300000\n",
      "50%      5.800000    3.000000    4.400000    1.300000\n",
      "75%      6.400000    3.300000    5.100000    1.800000\n",
      "max      7.900000    4.400000    6.900000    2.500000\n"
     ]
    }
   ],
   "source": [
    "# Basic info of table/data frame\n",
    "print(df.describe())"
   ]
  },
  {
   "cell_type": "code",
   "execution_count": 22,
   "metadata": {},
   "outputs": [
    {
     "name": "stdout",
     "output_type": "stream",
     "text": [
      "0      4.9\n",
      "1      4.7\n",
      "2      4.6\n",
      "3      5.0\n",
      "4      5.4\n",
      "      ... \n",
      "144    6.7\n",
      "145    6.3\n",
      "146    6.5\n",
      "147    6.2\n",
      "148    5.9\n",
      "Name: sl, Length: 149, dtype: float64\n",
      "0      4.9\n",
      "1      4.7\n",
      "2      4.6\n",
      "3      5.0\n",
      "4      5.4\n",
      "      ... \n",
      "144    6.7\n",
      "145    6.3\n",
      "146    6.5\n",
      "147    6.2\n",
      "148    5.9\n",
      "Name: sl, Length: 149, dtype: float64\n",
      "<class 'pandas.core.series.Series'>\n"
     ]
    }
   ],
   "source": [
    "# How to access particular column\n",
    "\n",
    "# df.column_name or df[\"column_name\"]\n",
    "print(df.sl)\n",
    "print(df['sl'])\n",
    "print(type(df.sl))"
   ]
  },
  {
   "cell_type": "code",
   "execution_count": 24,
   "metadata": {},
   "outputs": [
    {
     "name": "stdout",
     "output_type": "stream",
     "text": [
      "        sl     sw     pl     pw  flower_type\n",
      "0    False  False  False  False        False\n",
      "1    False  False  False  False        False\n",
      "2    False  False  False  False        False\n",
      "3    False  False  False  False        False\n",
      "4    False  False  False  False        False\n",
      "..     ...    ...    ...    ...          ...\n",
      "144  False  False  False  False        False\n",
      "145  False  False  False  False        False\n",
      "146  False  False  False  False        False\n",
      "147  False  False  False  False        False\n",
      "148  False  False  False  False        False\n",
      "\n",
      "[149 rows x 5 columns]\n",
      "sl             0\n",
      "sw             0\n",
      "pl             0\n",
      "pw             0\n",
      "flower_type    0\n",
      "dtype: int64\n"
     ]
    }
   ],
   "source": [
    "# Check for null entries\n",
    "print(df.isnull())\n",
    "print(df.isnull().sum()) # This will show which column has how many null entries"
   ]
  },
  {
   "cell_type": "code",
   "execution_count": 26,
   "metadata": {},
   "outputs": [
    {
     "name": "stdout",
     "output_type": "stream",
     "text": [
      "    pl   pw\n",
      "1  1.3  0.2\n",
      "2  1.5  0.2\n",
      "3  1.4  0.2\n"
     ]
    }
   ],
   "source": [
    "# How to get some part of data from data frame\n",
    "# iloc is used for this\n",
    "print(df.iloc[1:4,2:4])"
   ]
  },
  {
   "cell_type": "code",
   "execution_count": 27,
   "metadata": {},
   "outputs": [
    {
     "name": "stdout",
     "output_type": "stream",
     "text": [
      "    sl   sw   pl   pw  flower_type\n",
      "0  4.9  3.0  1.4  0.2  Iris-setosa\n",
      "1  4.7  3.2  1.3  0.2  Iris-setosa\n",
      "2  4.6  3.1  1.5  0.2  Iris-setosa\n",
      "3  5.0  3.6  1.4  0.2  Iris-setosa\n",
      "4  5.4  3.9  1.7  0.4  Iris-setosa\n"
     ]
    }
   ],
   "source": [
    "print(df.head())"
   ]
  },
  {
   "cell_type": "code",
   "execution_count": 10,
   "metadata": {},
   "outputs": [
    {
     "name": "stdout",
     "output_type": "stream",
     "text": [
      "   5.1  3.5  1.4  0.2  Iris-setosa\n",
      "0  4.9  3.0  1.4  0.2  Iris-setosa\n",
      "1  4.7  3.2  1.3  0.2  Iris-setosa\n",
      "2  4.6  3.1  1.5  0.2  Iris-setosa\n",
      "3  5.0  3.6  1.4  0.2  Iris-setosa\n",
      "4  5.4  3.9  1.7  0.4  Iris-setosa\n",
      "   5.1  3.5  1.4  0.2  Iris-setosa\n",
      "1  4.7  3.2  1.3  0.2  Iris-setosa\n",
      "2  4.6  3.1  1.5  0.2  Iris-setosa\n",
      "3  5.0  3.6  1.4  0.2  Iris-setosa\n",
      "4  5.4  3.9  1.7  0.4  Iris-setosa\n",
      "5  4.6  3.4  1.4  0.3  Iris-setosa\n"
     ]
    }
   ],
   "source": [
    "# Remove particular row\n",
    "a=df.drop(0) # Remove 0th row and return update data frame\n",
    "# It does not change in original data frame\n",
    "print(df.head())\n",
    "print(a.head())\n",
    "\n",
    "df.drop(0,inplace=True) # This will make change in original data frame\n",
    "# drop function takes label as parameter"
   ]
  },
  {
   "cell_type": "code",
   "execution_count": 11,
   "metadata": {},
   "outputs": [
    {
     "name": "stdout",
     "output_type": "stream",
     "text": [
      "Int64Index([  1,   2,   3,   4,   5,   6,   7,   8,   9,  10,\n",
      "            ...\n",
      "            139, 140, 141, 142, 143, 144, 145, 146, 147, 148],\n",
      "           dtype='int64', length=148)\n"
     ]
    }
   ],
   "source": [
    "# Check all labels\n",
    "print(df.index)"
   ]
  },
  {
   "cell_type": "code",
   "execution_count": 12,
   "metadata": {},
   "outputs": [
    {
     "name": "stdout",
     "output_type": "stream",
     "text": [
      "   5.1  3.5  1.4  0.2  Iris-setosa\n",
      "1  4.7  3.2  1.3  0.2  Iris-setosa\n",
      "2  4.6  3.1  1.5  0.2  Iris-setosa\n",
      "4  5.4  3.9  1.7  0.4  Iris-setosa\n",
      "5  4.6  3.4  1.4  0.3  Iris-setosa\n",
      "6  5.0  3.4  1.5  0.2  Iris-setosa\n"
     ]
    }
   ],
   "source": [
    "# Drop by position\n",
    "df.drop(df.index[2],inplace=True)\n",
    "print(df.head())\n",
    "\n",
    "# How to delete on multiple position\n",
    "# df.drop(df.index[[idx1,idx2]],inplace=True)"
   ]
  },
  {
   "cell_type": "code",
   "execution_count": 17,
   "metadata": {},
   "outputs": [
    {
     "data": {
      "text/html": [
       "<div>\n",
       "<style scoped>\n",
       "    .dataframe tbody tr th:only-of-type {\n",
       "        vertical-align: middle;\n",
       "    }\n",
       "\n",
       "    .dataframe tbody tr th {\n",
       "        vertical-align: top;\n",
       "    }\n",
       "\n",
       "    .dataframe thead th {\n",
       "        text-align: right;\n",
       "    }\n",
       "</style>\n",
       "<table border=\"1\" class=\"dataframe\">\n",
       "  <thead>\n",
       "    <tr style=\"text-align: right;\">\n",
       "      <th></th>\n",
       "      <th>sl</th>\n",
       "      <th>sw</th>\n",
       "      <th>pl</th>\n",
       "      <th>pw</th>\n",
       "      <th>flower_type</th>\n",
       "    </tr>\n",
       "  </thead>\n",
       "  <tbody>\n",
       "    <tr>\n",
       "      <th>4</th>\n",
       "      <td>5.4</td>\n",
       "      <td>3.9</td>\n",
       "      <td>1.7</td>\n",
       "      <td>0.4</td>\n",
       "      <td>Iris-setosa</td>\n",
       "    </tr>\n",
       "    <tr>\n",
       "      <th>9</th>\n",
       "      <td>5.4</td>\n",
       "      <td>3.7</td>\n",
       "      <td>1.5</td>\n",
       "      <td>0.2</td>\n",
       "      <td>Iris-setosa</td>\n",
       "    </tr>\n",
       "    <tr>\n",
       "      <th>13</th>\n",
       "      <td>5.8</td>\n",
       "      <td>4.0</td>\n",
       "      <td>1.2</td>\n",
       "      <td>0.2</td>\n",
       "      <td>Iris-setosa</td>\n",
       "    </tr>\n",
       "    <tr>\n",
       "      <th>14</th>\n",
       "      <td>5.7</td>\n",
       "      <td>4.4</td>\n",
       "      <td>1.5</td>\n",
       "      <td>0.4</td>\n",
       "      <td>Iris-setosa</td>\n",
       "    </tr>\n",
       "    <tr>\n",
       "      <th>15</th>\n",
       "      <td>5.4</td>\n",
       "      <td>3.9</td>\n",
       "      <td>1.3</td>\n",
       "      <td>0.4</td>\n",
       "      <td>Iris-setosa</td>\n",
       "    </tr>\n",
       "    <tr>\n",
       "      <th>...</th>\n",
       "      <td>...</td>\n",
       "      <td>...</td>\n",
       "      <td>...</td>\n",
       "      <td>...</td>\n",
       "      <td>...</td>\n",
       "    </tr>\n",
       "    <tr>\n",
       "      <th>144</th>\n",
       "      <td>6.7</td>\n",
       "      <td>3.0</td>\n",
       "      <td>5.2</td>\n",
       "      <td>2.3</td>\n",
       "      <td>Iris-virginica</td>\n",
       "    </tr>\n",
       "    <tr>\n",
       "      <th>145</th>\n",
       "      <td>6.3</td>\n",
       "      <td>2.5</td>\n",
       "      <td>5.0</td>\n",
       "      <td>1.9</td>\n",
       "      <td>Iris-virginica</td>\n",
       "    </tr>\n",
       "    <tr>\n",
       "      <th>146</th>\n",
       "      <td>6.5</td>\n",
       "      <td>3.0</td>\n",
       "      <td>5.2</td>\n",
       "      <td>2.0</td>\n",
       "      <td>Iris-virginica</td>\n",
       "    </tr>\n",
       "    <tr>\n",
       "      <th>147</th>\n",
       "      <td>6.2</td>\n",
       "      <td>3.4</td>\n",
       "      <td>5.4</td>\n",
       "      <td>2.3</td>\n",
       "      <td>Iris-virginica</td>\n",
       "    </tr>\n",
       "    <tr>\n",
       "      <th>148</th>\n",
       "      <td>5.9</td>\n",
       "      <td>3.0</td>\n",
       "      <td>5.1</td>\n",
       "      <td>1.8</td>\n",
       "      <td>Iris-virginica</td>\n",
       "    </tr>\n",
       "  </tbody>\n",
       "</table>\n",
       "<p>117 rows × 5 columns</p>\n",
       "</div>"
      ],
      "text/plain": [
       "      sl   sw   pl   pw     flower_type\n",
       "4    5.4  3.9  1.7  0.4     Iris-setosa\n",
       "9    5.4  3.7  1.5  0.2     Iris-setosa\n",
       "13   5.8  4.0  1.2  0.2     Iris-setosa\n",
       "14   5.7  4.4  1.5  0.4     Iris-setosa\n",
       "15   5.4  3.9  1.3  0.4     Iris-setosa\n",
       "..   ...  ...  ...  ...             ...\n",
       "144  6.7  3.0  5.2  2.3  Iris-virginica\n",
       "145  6.3  2.5  5.0  1.9  Iris-virginica\n",
       "146  6.5  3.0  5.2  2.0  Iris-virginica\n",
       "147  6.2  3.4  5.4  2.3  Iris-virginica\n",
       "148  5.9  3.0  5.1  1.8  Iris-virginica\n",
       "\n",
       "[117 rows x 5 columns]"
      ]
     },
     "execution_count": 17,
     "metadata": {},
     "output_type": "execute_result"
    }
   ],
   "source": [
    "df.sl>5\n",
    "df[df.sl>5]"
   ]
  },
  {
   "cell_type": "code",
   "execution_count": 25,
   "metadata": {},
   "outputs": [
    {
     "name": "stdout",
     "output_type": "stream",
     "text": [
      "    sl   sw   pl   pw  flower_type\n",
      "1  4.7  3.2  1.3  0.2  Iris-setosa\n",
      "2  4.6  3.1  1.5  0.2  Iris-setosa\n",
      "4  5.4  3.9  1.7  0.4  Iris-setosa\n",
      "5  4.6  3.4  1.4  0.3  Iris-setosa\n",
      "6  5.0  3.4  1.5  0.2  Iris-setosa\n",
      "sl                     4.6\n",
      "sw                     3.1\n",
      "pl                     1.5\n",
      "pw                     0.2\n",
      "flower_type    Iris-setosa\n",
      "Name: 2, dtype: object\n",
      "    sl   sw   pl   pw  flower_type\n",
      "1  4.7  3.2  1.3  0.2  Iris-setosa\n",
      "2  4.6  3.1  1.5  0.2  Iris-setosa\n",
      "4  5.4  3.9  1.7  0.4  Iris-setosa\n",
      "5  4.6  3.4  1.4  0.3  Iris-setosa\n",
      "6  5.0  3.4  1.5  0.2  Iris-setosa\n",
      "sl                       1\n",
      "sw                       2\n",
      "pl                       3\n",
      "pw                       4\n",
      "flower_type    Iris-setosa\n",
      "Name: 0, dtype: object\n"
     ]
    }
   ],
   "source": [
    "# df.loc[label]\n",
    "print(df.head())\n",
    "print(df.loc[2])\n",
    "\n",
    "# How to add row\n",
    "# df.loc[label]=[list of values]\n",
    "df.loc[0]=[1,2,3,4,'Iris-setosa']\n",
    "print(df.head())\n",
    "print(df.loc[0])"
   ]
  },
  {
   "cell_type": "code",
   "execution_count": 27,
   "metadata": {},
   "outputs": [
    {
     "data": {
      "text/html": [
       "<div>\n",
       "<style scoped>\n",
       "    .dataframe tbody tr th:only-of-type {\n",
       "        vertical-align: middle;\n",
       "    }\n",
       "\n",
       "    .dataframe tbody tr th {\n",
       "        vertical-align: top;\n",
       "    }\n",
       "\n",
       "    .dataframe thead th {\n",
       "        text-align: right;\n",
       "    }\n",
       "</style>\n",
       "<table border=\"1\" class=\"dataframe\">\n",
       "  <thead>\n",
       "    <tr style=\"text-align: right;\">\n",
       "      <th></th>\n",
       "      <th>sl</th>\n",
       "      <th>sw</th>\n",
       "      <th>pl</th>\n",
       "      <th>pw</th>\n",
       "      <th>flower_type</th>\n",
       "    </tr>\n",
       "  </thead>\n",
       "  <tbody>\n",
       "    <tr>\n",
       "      <th>145</th>\n",
       "      <td>6.3</td>\n",
       "      <td>2.5</td>\n",
       "      <td>5.0</td>\n",
       "      <td>1.9</td>\n",
       "      <td>Iris-virginica</td>\n",
       "    </tr>\n",
       "    <tr>\n",
       "      <th>146</th>\n",
       "      <td>6.5</td>\n",
       "      <td>3.0</td>\n",
       "      <td>5.2</td>\n",
       "      <td>2.0</td>\n",
       "      <td>Iris-virginica</td>\n",
       "    </tr>\n",
       "    <tr>\n",
       "      <th>147</th>\n",
       "      <td>6.2</td>\n",
       "      <td>3.4</td>\n",
       "      <td>5.4</td>\n",
       "      <td>2.3</td>\n",
       "      <td>Iris-virginica</td>\n",
       "    </tr>\n",
       "    <tr>\n",
       "      <th>148</th>\n",
       "      <td>5.9</td>\n",
       "      <td>3.0</td>\n",
       "      <td>5.1</td>\n",
       "      <td>1.8</td>\n",
       "      <td>Iris-virginica</td>\n",
       "    </tr>\n",
       "    <tr>\n",
       "      <th>0</th>\n",
       "      <td>1.0</td>\n",
       "      <td>2.0</td>\n",
       "      <td>3.0</td>\n",
       "      <td>4.0</td>\n",
       "      <td>Iris-setosa</td>\n",
       "    </tr>\n",
       "  </tbody>\n",
       "</table>\n",
       "</div>"
      ],
      "text/plain": [
       "      sl   sw   pl   pw     flower_type\n",
       "145  6.3  2.5  5.0  1.9  Iris-virginica\n",
       "146  6.5  3.0  5.2  2.0  Iris-virginica\n",
       "147  6.2  3.4  5.4  2.3  Iris-virginica\n",
       "148  5.9  3.0  5.1  1.8  Iris-virginica\n",
       "0    1.0  2.0  3.0  4.0     Iris-setosa"
      ]
     },
     "execution_count": 27,
     "metadata": {},
     "output_type": "execute_result"
    }
   ],
   "source": [
    "df.tail()"
   ]
  },
  {
   "cell_type": "code",
   "execution_count": 29,
   "metadata": {},
   "outputs": [
    {
     "name": "stdout",
     "output_type": "stream",
     "text": [
      "[[4.7 3.2 1.3 0.2 'Iris-setosa']\n",
      " [4.6 3.1 1.5 0.2 'Iris-setosa']\n",
      " [5.4 3.9 1.7 0.4 'Iris-setosa']\n",
      " [4.6 3.4 1.4 0.3 'Iris-setosa']\n",
      " [5.0 3.4 1.5 0.2 'Iris-setosa']\n",
      " [4.4 2.9 1.4 0.2 'Iris-setosa']\n",
      " [4.9 3.1 1.5 0.1 'Iris-setosa']\n",
      " [5.4 3.7 1.5 0.2 'Iris-setosa']\n",
      " [4.8 3.4 1.6 0.2 'Iris-setosa']\n",
      " [4.8 3.0 1.4 0.1 'Iris-setosa']\n",
      " [4.3 3.0 1.1 0.1 'Iris-setosa']\n",
      " [5.8 4.0 1.2 0.2 'Iris-setosa']\n",
      " [5.7 4.4 1.5 0.4 'Iris-setosa']\n",
      " [5.4 3.9 1.3 0.4 'Iris-setosa']\n",
      " [5.1 3.5 1.4 0.3 'Iris-setosa']\n",
      " [5.7 3.8 1.7 0.3 'Iris-setosa']\n",
      " [5.1 3.8 1.5 0.3 'Iris-setosa']\n",
      " [5.4 3.4 1.7 0.2 'Iris-setosa']\n",
      " [5.1 3.7 1.5 0.4 'Iris-setosa']\n",
      " [4.6 3.6 1.0 0.2 'Iris-setosa']\n",
      " [5.1 3.3 1.7 0.5 'Iris-setosa']\n",
      " [4.8 3.4 1.9 0.2 'Iris-setosa']\n",
      " [5.0 3.0 1.6 0.2 'Iris-setosa']\n",
      " [5.0 3.4 1.6 0.4 'Iris-setosa']\n",
      " [5.2 3.5 1.5 0.2 'Iris-setosa']\n",
      " [5.2 3.4 1.4 0.2 'Iris-setosa']\n",
      " [4.7 3.2 1.6 0.2 'Iris-setosa']\n",
      " [4.8 3.1 1.6 0.2 'Iris-setosa']\n",
      " [5.4 3.4 1.5 0.4 'Iris-setosa']\n",
      " [5.2 4.1 1.5 0.1 'Iris-setosa']\n",
      " [5.5 4.2 1.4 0.2 'Iris-setosa']\n",
      " [4.9 3.1 1.5 0.1 'Iris-setosa']\n",
      " [5.0 3.2 1.2 0.2 'Iris-setosa']\n",
      " [5.5 3.5 1.3 0.2 'Iris-setosa']\n",
      " [4.9 3.1 1.5 0.1 'Iris-setosa']\n",
      " [4.4 3.0 1.3 0.2 'Iris-setosa']\n",
      " [5.1 3.4 1.5 0.2 'Iris-setosa']\n",
      " [5.0 3.5 1.3 0.3 'Iris-setosa']\n",
      " [4.5 2.3 1.3 0.3 'Iris-setosa']\n",
      " [4.4 3.2 1.3 0.2 'Iris-setosa']\n",
      " [5.0 3.5 1.6 0.6 'Iris-setosa']\n",
      " [5.1 3.8 1.9 0.4 'Iris-setosa']\n",
      " [4.8 3.0 1.4 0.3 'Iris-setosa']\n",
      " [5.1 3.8 1.6 0.2 'Iris-setosa']\n",
      " [4.6 3.2 1.4 0.2 'Iris-setosa']\n",
      " [5.3 3.7 1.5 0.2 'Iris-setosa']\n",
      " [5.0 3.3 1.4 0.2 'Iris-setosa']\n",
      " [7.0 3.2 4.7 1.4 'Iris-versicolor']\n",
      " [6.4 3.2 4.5 1.5 'Iris-versicolor']\n",
      " [6.9 3.1 4.9 1.5 'Iris-versicolor']\n",
      " [5.5 2.3 4.0 1.3 'Iris-versicolor']\n",
      " [6.5 2.8 4.6 1.5 'Iris-versicolor']\n",
      " [5.7 2.8 4.5 1.3 'Iris-versicolor']\n",
      " [6.3 3.3 4.7 1.6 'Iris-versicolor']\n",
      " [4.9 2.4 3.3 1.0 'Iris-versicolor']\n",
      " [6.6 2.9 4.6 1.3 'Iris-versicolor']\n",
      " [5.2 2.7 3.9 1.4 'Iris-versicolor']\n",
      " [5.0 2.0 3.5 1.0 'Iris-versicolor']\n",
      " [5.9 3.0 4.2 1.5 'Iris-versicolor']\n",
      " [6.0 2.2 4.0 1.0 'Iris-versicolor']\n",
      " [6.1 2.9 4.7 1.4 'Iris-versicolor']\n",
      " [5.6 2.9 3.6 1.3 'Iris-versicolor']\n",
      " [6.7 3.1 4.4 1.4 'Iris-versicolor']\n",
      " [5.6 3.0 4.5 1.5 'Iris-versicolor']\n",
      " [5.8 2.7 4.1 1.0 'Iris-versicolor']\n",
      " [6.2 2.2 4.5 1.5 'Iris-versicolor']\n",
      " [5.6 2.5 3.9 1.1 'Iris-versicolor']\n",
      " [5.9 3.2 4.8 1.8 'Iris-versicolor']\n",
      " [6.1 2.8 4.0 1.3 'Iris-versicolor']\n",
      " [6.3 2.5 4.9 1.5 'Iris-versicolor']\n",
      " [6.1 2.8 4.7 1.2 'Iris-versicolor']\n",
      " [6.4 2.9 4.3 1.3 'Iris-versicolor']\n",
      " [6.6 3.0 4.4 1.4 'Iris-versicolor']\n",
      " [6.8 2.8 4.8 1.4 'Iris-versicolor']\n",
      " [6.7 3.0 5.0 1.7 'Iris-versicolor']\n",
      " [6.0 2.9 4.5 1.5 'Iris-versicolor']\n",
      " [5.7 2.6 3.5 1.0 'Iris-versicolor']\n",
      " [5.5 2.4 3.8 1.1 'Iris-versicolor']\n",
      " [5.5 2.4 3.7 1.0 'Iris-versicolor']\n",
      " [5.8 2.7 3.9 1.2 'Iris-versicolor']\n",
      " [6.0 2.7 5.1 1.6 'Iris-versicolor']\n",
      " [5.4 3.0 4.5 1.5 'Iris-versicolor']\n",
      " [6.0 3.4 4.5 1.6 'Iris-versicolor']\n",
      " [6.7 3.1 4.7 1.5 'Iris-versicolor']\n",
      " [6.3 2.3 4.4 1.3 'Iris-versicolor']\n",
      " [5.6 3.0 4.1 1.3 'Iris-versicolor']\n",
      " [5.5 2.5 4.0 1.3 'Iris-versicolor']\n",
      " [5.5 2.6 4.4 1.2 'Iris-versicolor']\n",
      " [6.1 3.0 4.6 1.4 'Iris-versicolor']\n",
      " [5.8 2.6 4.0 1.2 'Iris-versicolor']\n",
      " [5.0 2.3 3.3 1.0 'Iris-versicolor']\n",
      " [5.6 2.7 4.2 1.3 'Iris-versicolor']\n",
      " [5.7 3.0 4.2 1.2 'Iris-versicolor']\n",
      " [5.7 2.9 4.2 1.3 'Iris-versicolor']\n",
      " [6.2 2.9 4.3 1.3 'Iris-versicolor']\n",
      " [5.1 2.5 3.0 1.1 'Iris-versicolor']\n",
      " [5.7 2.8 4.1 1.3 'Iris-versicolor']\n",
      " [6.3 3.3 6.0 2.5 'Iris-virginica']\n",
      " [5.8 2.7 5.1 1.9 'Iris-virginica']\n",
      " [7.1 3.0 5.9 2.1 'Iris-virginica']\n",
      " [6.3 2.9 5.6 1.8 'Iris-virginica']\n",
      " [6.5 3.0 5.8 2.2 'Iris-virginica']\n",
      " [7.6 3.0 6.6 2.1 'Iris-virginica']\n",
      " [4.9 2.5 4.5 1.7 'Iris-virginica']\n",
      " [7.3 2.9 6.3 1.8 'Iris-virginica']\n",
      " [6.7 2.5 5.8 1.8 'Iris-virginica']\n",
      " [7.2 3.6 6.1 2.5 'Iris-virginica']\n",
      " [6.5 3.2 5.1 2.0 'Iris-virginica']\n",
      " [6.4 2.7 5.3 1.9 'Iris-virginica']\n",
      " [6.8 3.0 5.5 2.1 'Iris-virginica']\n",
      " [5.7 2.5 5.0 2.0 'Iris-virginica']\n",
      " [5.8 2.8 5.1 2.4 'Iris-virginica']\n",
      " [6.4 3.2 5.3 2.3 'Iris-virginica']\n",
      " [6.5 3.0 5.5 1.8 'Iris-virginica']\n",
      " [7.7 3.8 6.7 2.2 'Iris-virginica']\n",
      " [7.7 2.6 6.9 2.3 'Iris-virginica']\n",
      " [6.0 2.2 5.0 1.5 'Iris-virginica']\n",
      " [6.9 3.2 5.7 2.3 'Iris-virginica']\n",
      " [5.6 2.8 4.9 2.0 'Iris-virginica']\n",
      " [7.7 2.8 6.7 2.0 'Iris-virginica']\n",
      " [6.3 2.7 4.9 1.8 'Iris-virginica']\n",
      " [6.7 3.3 5.7 2.1 'Iris-virginica']\n",
      " [7.2 3.2 6.0 1.8 'Iris-virginica']\n",
      " [6.2 2.8 4.8 1.8 'Iris-virginica']\n",
      " [6.1 3.0 4.9 1.8 'Iris-virginica']\n",
      " [6.4 2.8 5.6 2.1 'Iris-virginica']\n",
      " [7.2 3.0 5.8 1.6 'Iris-virginica']\n",
      " [7.4 2.8 6.1 1.9 'Iris-virginica']\n",
      " [7.9 3.8 6.4 2.0 'Iris-virginica']\n",
      " [6.4 2.8 5.6 2.2 'Iris-virginica']\n",
      " [6.3 2.8 5.1 1.5 'Iris-virginica']\n",
      " [6.1 2.6 5.6 1.4 'Iris-virginica']\n",
      " [7.7 3.0 6.1 2.3 'Iris-virginica']\n",
      " [6.3 3.4 5.6 2.4 'Iris-virginica']\n",
      " [6.4 3.1 5.5 1.8 'Iris-virginica']\n",
      " [6.0 3.0 4.8 1.8 'Iris-virginica']\n",
      " [6.9 3.1 5.4 2.1 'Iris-virginica']\n",
      " [6.7 3.1 5.6 2.4 'Iris-virginica']\n",
      " [6.9 3.1 5.1 2.3 'Iris-virginica']\n",
      " [5.8 2.7 5.1 1.9 'Iris-virginica']\n",
      " [6.8 3.2 5.9 2.3 'Iris-virginica']\n",
      " [6.7 3.3 5.7 2.5 'Iris-virginica']\n",
      " [6.7 3.0 5.2 2.3 'Iris-virginica']\n",
      " [6.3 2.5 5.0 1.9 'Iris-virginica']\n",
      " [6.5 3.0 5.2 2.0 'Iris-virginica']\n",
      " [6.2 3.4 5.4 2.3 'Iris-virginica']\n",
      " [5.9 3.0 5.1 1.8 'Iris-virginica']\n",
      " [1.0 2.0 3.0 4.0 'Iris-setosa']]\n"
     ]
    }
   ],
   "source": [
    "# To get list all rows except header(list of rows)\n",
    "print(df.values)"
   ]
  },
  {
   "cell_type": "code",
   "execution_count": 33,
   "metadata": {},
   "outputs": [
    {
     "data": {
      "text/plain": [
       "48"
      ]
     },
     "execution_count": 33,
     "metadata": {},
     "output_type": "execute_result"
    }
   ],
   "source": [
    "# Count of particular value from particular column\n",
    "# In this case colum is flower_type and value id Iris-setosa\n",
    "df['flower_type'].value_counts()['Iris-setosa']"
   ]
  },
  {
   "cell_type": "code",
   "execution_count": 44,
   "metadata": {},
   "outputs": [
    {
     "data": {
      "text/plain": [
       "Iris-versicolor    50\n",
       "Iris-virginica     50\n",
       "Iris-setosa        48\n",
       "Name: flower_type, dtype: int64"
      ]
     },
     "execution_count": 44,
     "metadata": {},
     "output_type": "execute_result"
    }
   ],
   "source": [
    "df['flower_type'].value_counts()"
   ]
  },
  {
   "cell_type": "code",
   "execution_count": 45,
   "metadata": {},
   "outputs": [
    {
     "name": "stdout",
     "output_type": "stream",
     "text": [
      "      sl   sw   pl   pw     flower_type\n",
      "1    4.7  3.2  1.3  0.2     Iris-setosa\n",
      "2    4.6  3.1  1.5  0.2     Iris-setosa\n",
      "4    5.4  3.9  1.7  0.4     Iris-setosa\n",
      "5    4.6  3.4  1.4  0.3     Iris-setosa\n",
      "6    5.0  3.4  1.5  0.2     Iris-setosa\n",
      "..   ...  ...  ...  ...             ...\n",
      "145  6.3  2.5  5.0  1.9  Iris-virginica\n",
      "146  6.5  3.0  5.2  2.0  Iris-virginica\n",
      "147  6.2  3.4  5.4  2.3  Iris-virginica\n",
      "148  5.9  3.0  5.1  1.8  Iris-virginica\n",
      "0    1.0  2.0  3.0  4.0     Iris-setosa\n",
      "\n",
      "[148 rows x 5 columns]\n",
      "      sl   sw   pl   pw     flower_type\n",
      "0    4.7  3.2  1.3  0.2     Iris-setosa\n",
      "1    4.6  3.1  1.5  0.2     Iris-setosa\n",
      "2    5.4  3.9  1.7  0.4     Iris-setosa\n",
      "3    4.6  3.4  1.4  0.3     Iris-setosa\n",
      "4    5.0  3.4  1.5  0.2     Iris-setosa\n",
      "..   ...  ...  ...  ...             ...\n",
      "143  6.3  2.5  5.0  1.9  Iris-virginica\n",
      "144  6.5  3.0  5.2  2.0  Iris-virginica\n",
      "145  6.2  3.4  5.4  2.3  Iris-virginica\n",
      "146  5.9  3.0  5.1  1.8  Iris-virginica\n",
      "147  1.0  2.0  3.0  4.0     Iris-setosa\n",
      "\n",
      "[148 rows x 5 columns]\n"
     ]
    }
   ],
   "source": [
    "# How to reset indexes\n",
    "print(df)\n",
    "df.reset_index(drop=True,inplace=True)\n",
    "print(df)"
   ]
  },
  {
   "cell_type": "code",
   "execution_count": 46,
   "metadata": {},
   "outputs": [
    {
     "name": "stdout",
     "output_type": "stream",
     "text": [
      "      sl   sw   pl   pw     flower_type\n",
      "0    4.7  3.2  1.3  0.2     Iris-setosa\n",
      "1    4.6  3.1  1.5  0.2     Iris-setosa\n",
      "2    5.4  3.9  1.7  0.4     Iris-setosa\n",
      "3    4.6  3.4  1.4  0.3     Iris-setosa\n",
      "4    5.0  3.4  1.5  0.2     Iris-setosa\n",
      "..   ...  ...  ...  ...             ...\n",
      "143  6.3  2.5  5.0  1.9  Iris-virginica\n",
      "144  6.5  3.0  5.2  2.0  Iris-virginica\n",
      "145  6.2  3.4  5.4  2.3  Iris-virginica\n",
      "146  5.9  3.0  5.1  1.8  Iris-virginica\n",
      "147  1.0  2.0  3.0  4.0     Iris-setosa\n",
      "\n",
      "[148 rows x 5 columns]\n",
      "      sw   pl   pw     flower_type\n",
      "0    3.2  1.3  0.2     Iris-setosa\n",
      "1    3.1  1.5  0.2     Iris-setosa\n",
      "2    3.9  1.7  0.4     Iris-setosa\n",
      "3    3.4  1.4  0.3     Iris-setosa\n",
      "4    3.4  1.5  0.2     Iris-setosa\n",
      "..   ...  ...  ...             ...\n",
      "143  2.5  5.0  1.9  Iris-virginica\n",
      "144  3.0  5.2  2.0  Iris-virginica\n",
      "145  3.4  5.4  2.3  Iris-virginica\n",
      "146  3.0  5.1  1.8  Iris-virginica\n",
      "147  2.0  3.0  4.0     Iris-setosa\n",
      "\n",
      "[148 rows x 4 columns]\n"
     ]
    }
   ],
   "source": [
    "# How to delete column\n",
    "print(df)\n",
    "df.drop('sl',axis=1,inplace=True)\n",
    "print(df)"
   ]
  },
  {
   "cell_type": "code",
   "execution_count": 47,
   "metadata": {},
   "outputs": [
    {
     "name": "stdout",
     "output_type": "stream",
     "text": [
      "               sw          pl          pw\n",
      "count  148.000000  148.000000  148.000000\n",
      "mean     3.040541    3.801351    1.237838\n",
      "std      0.441062    1.744729    0.788558\n",
      "min      2.000000    1.000000    0.100000\n",
      "25%      2.800000    1.600000    0.300000\n",
      "50%      3.000000    4.400000    1.300000\n",
      "75%      3.300000    5.100000    1.800000\n",
      "max      4.400000    6.900000    4.000000\n",
      "               pl          pw\n",
      "count  148.000000  148.000000\n",
      "mean     3.801351    1.237838\n",
      "std      1.744729    0.788558\n",
      "min      1.000000    0.100000\n",
      "25%      1.600000    0.300000\n",
      "50%      4.400000    1.300000\n",
      "75%      5.100000    1.800000\n",
      "max      6.900000    4.000000\n"
     ]
    }
   ],
   "source": [
    "# Another way to delete column\n",
    "print(df.describe())\n",
    "del df['sw']\n",
    "print(df.describe())"
   ]
  },
  {
   "cell_type": "code",
   "execution_count": 58,
   "metadata": {},
   "outputs": [],
   "source": [
    "df=fileObj.copy()\n",
    "df.columns=['sl','sw','pl','pw','flower_type']"
   ]
  },
  {
   "cell_type": "code",
   "execution_count": 59,
   "metadata": {},
   "outputs": [
    {
     "name": "stdout",
     "output_type": "stream",
     "text": [
      "    sl   sw   pl   pw  flower_type\n",
      "0  4.9  3.0  1.4  0.2  Iris-setosa\n",
      "1  4.7  3.2  1.3  0.2  Iris-setosa\n",
      "2  4.6  3.1  1.5  0.2  Iris-setosa\n",
      "3  5.0  3.6  1.4  0.2  Iris-setosa\n",
      "4  5.4  3.9  1.7  0.4  Iris-setosa\n",
      "    sl   sw   pl   pw  flower_type  new_coluumn\n",
      "0  4.9  3.0  1.4  0.2  Iris-setosa          1.2\n",
      "1  4.7  3.2  1.3  0.2  Iris-setosa          1.1\n",
      "2  4.6  3.1  1.5  0.2  Iris-setosa          1.3\n",
      "3  5.0  3.6  1.4  0.2  Iris-setosa          1.2\n",
      "4  5.4  3.9  1.7  0.4  Iris-setosa          1.3\n",
      "    sl   sw   pl   pw  flower_type  new_coluumn  new\n",
      "0  4.9  3.0  1.4  0.2  Iris-setosa          1.2    1\n",
      "1  4.7  3.2  1.3  0.2  Iris-setosa          1.1    1\n",
      "2  4.6  3.1  1.5  0.2  Iris-setosa          1.3    1\n",
      "3  5.0  3.6  1.4  0.2  Iris-setosa          1.2    1\n",
      "4  5.4  3.9  1.7  0.4  Iris-setosa          1.3    1\n"
     ]
    }
   ],
   "source": [
    "# How to add new column\n",
    "print(df.head())\n",
    "df['new_coluumn']=df['pl']-df['pw']\n",
    "print(df.head())\n",
    "df[\"new\"]=1\n",
    "print(df.head())"
   ]
  },
  {
   "cell_type": "code",
   "execution_count": 60,
   "metadata": {},
   "outputs": [
    {
     "name": "stdout",
     "output_type": "stream",
     "text": [
      "               sl          sw          pl          pw  new_coluumn    new\n",
      "count  149.000000  149.000000  146.000000  149.000000   149.000000  149.0\n",
      "mean     5.848322    3.051007    3.823288    1.205369     2.569128    1.0\n",
      "std      0.828594    0.433499    1.743917    0.761292     1.047707    0.0\n",
      "min      4.300000    2.000000    1.000000    0.100000     0.800000    1.0\n",
      "25%      5.100000    2.800000    1.600000    0.300000     1.400000    1.0\n",
      "50%      5.800000    3.000000    4.400000    1.300000     2.900000    1.0\n",
      "75%      6.400000    3.300000    5.100000    1.800000     3.300000    1.0\n",
      "max      7.900000    4.400000    6.900000    2.500000     4.700000    1.0\n",
      "    sl   sw   pl   pw  flower_type  new_coluumn  new\n",
      "0  4.9  3.0  1.4  0.2  Iris-setosa          1.2    1\n",
      "4  5.4  3.9  1.7  0.4  Iris-setosa          1.3    1\n",
      "5  4.6  3.4  1.4  0.3  Iris-setosa          1.1    1\n",
      "6  5.0  3.4  1.5  0.2  Iris-setosa          1.3    1\n",
      "7  4.4  2.9  1.4  0.2  Iris-setosa          1.2    1\n"
     ]
    }
   ],
   "source": [
    "# Handle Nan\n",
    "import numpy as np\n",
    "\n",
    "df.iloc[1:4,2:3]=np.nan\n",
    "print(df.describe())\n",
    "\n",
    "# df.dropna() deletes row having nan values and return modified data frame\n",
    "# To change in existing data frame: df.dropna(inplace=True)\n",
    "df.dropna(inplace=True)\n",
    "print(df.head())\n",
    "df.reset_index(drop=True,inplace=True)"
   ]
  },
  {
   "cell_type": "code",
   "execution_count": 63,
   "metadata": {},
   "outputs": [
    {
     "name": "stdout",
     "output_type": "stream",
     "text": [
      "    sl   sw   pl   pw  flower_type  new_coluumn  new\n",
      "0  4.9  3.0  1.4  0.2  Iris-setosa          1.2    1\n",
      "1  5.4  3.9  NaN  0.4  Iris-setosa          1.3    1\n",
      "2  4.6  3.4  NaN  0.3  Iris-setosa          1.1    1\n",
      "3  5.0  3.4  NaN  0.2  Iris-setosa          1.3    1\n",
      "4  4.4  2.9  1.4  0.2  Iris-setosa          1.2    1\n",
      "    sl   sw        pl   pw  flower_type  new_coluumn  new\n",
      "0  4.9  3.0  1.400000  0.2  Iris-setosa          1.2    1\n",
      "1  5.4  3.9  3.871329  0.4  Iris-setosa          1.3    1\n",
      "2  4.6  3.4  3.871329  0.3  Iris-setosa          1.1    1\n",
      "3  5.0  3.4  3.871329  0.2  Iris-setosa          1.3    1\n",
      "4  4.4  2.9  1.400000  0.2  Iris-setosa          1.2    1\n"
     ]
    }
   ],
   "source": [
    "# Fill nan with mean values\n",
    "df.iloc[1:4,2:3]=np.nan\n",
    "print(df.head())\n",
    "df.pl.fillna(df.pl.mean(),inplace=True)\n",
    "print(df.head())"
   ]
  },
  {
   "cell_type": "code",
   "execution_count": 65,
   "metadata": {},
   "outputs": [
    {
     "name": "stdout",
     "output_type": "stream",
     "text": [
      "    sl   sw        pl   pw  flower_type  new_coluumn  new Gender\n",
      "0  4.9  3.0  1.400000  0.2  Iris-setosa          1.2    1   Male\n",
      "1  5.4  3.9  3.871329  0.4  Iris-setosa          1.3    1   Male\n",
      "2  4.6  3.4  3.871329  0.3  Iris-setosa          1.1    1   Male\n",
      "3  5.0  3.4  3.871329  0.2  Iris-setosa          1.3    1   Male\n",
      "4  4.4  2.9  1.400000  0.2  Iris-setosa          1.2    1   Male\n",
      "      sl   sw   pl   pw     flower_type  new_coluumn  new  Gender\n",
      "141  6.7  3.0  5.2  2.3  Iris-virginica          2.9    1  Female\n",
      "142  6.3  2.5  5.0  1.9  Iris-virginica          3.1    1  Female\n",
      "143  6.5  3.0  5.2  2.0  Iris-virginica          3.2    1  Female\n",
      "144  6.2  3.4  5.4  2.3  Iris-virginica          3.1    1  Female\n",
      "145  5.9  3.0  5.1  1.8  Iris-virginica          3.3    1  Female\n",
      "    sl   sw        pl   pw  flower_type  new_coluumn  new Gender  Sex\n",
      "0  4.9  3.0  1.400000  0.2  Iris-setosa          1.2    1   Male    0\n",
      "1  5.4  3.9  3.871329  0.4  Iris-setosa          1.3    1   Male    0\n",
      "2  4.6  3.4  3.871329  0.3  Iris-setosa          1.1    1   Male    0\n",
      "3  5.0  3.4  3.871329  0.2  Iris-setosa          1.3    1   Male    0\n",
      "4  4.4  2.9  1.400000  0.2  Iris-setosa          1.2    1   Male    0\n",
      "      sl   sw   pl   pw     flower_type  new_coluumn  new  Gender  Sex\n",
      "141  6.7  3.0  5.2  2.3  Iris-virginica          2.9    1  Female    1\n",
      "142  6.3  2.5  5.0  1.9  Iris-virginica          3.1    1  Female    1\n",
      "143  6.5  3.0  5.2  2.0  Iris-virginica          3.2    1  Female    1\n",
      "144  6.2  3.4  5.4  2.3  Iris-virginica          3.1    1  Female    1\n",
      "145  5.9  3.0  5.1  1.8  Iris-virginica          3.3    1  Female    1\n"
     ]
    }
   ],
   "source": [
    "# Handle String based data\n",
    "df['Gender']='Female'\n",
    "df.iloc[0:10,7]='Male'\n",
    "print(df.head())\n",
    "print(df.tail())\n",
    "\n",
    "def f(str):\n",
    "    if str=='Male':\n",
    "        return 0;\n",
    "    else:\n",
    "        return 1\n",
    "    \n",
    "df['Sex']=df.Gender.apply(f) # function f will be called for each entry of column Gender\n",
    "print(df.head())\n",
    "print(df.tail())\n"
   ]
  }
 ],
 "metadata": {
  "kernelspec": {
   "display_name": "Python 3",
   "language": "python",
   "name": "python3"
  },
  "language_info": {
   "codemirror_mode": {
    "name": "ipython",
    "version": 3
   },
   "file_extension": ".py",
   "mimetype": "text/x-python",
   "name": "python",
   "nbconvert_exporter": "python",
   "pygments_lexer": "ipython3",
   "version": "3.7.6"
  }
 },
 "nbformat": 4,
 "nbformat_minor": 4
}
