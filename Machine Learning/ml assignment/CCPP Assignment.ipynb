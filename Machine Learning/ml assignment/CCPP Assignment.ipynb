{
 "cells": [
  {
   "cell_type": "code",
   "execution_count": 39,
   "metadata": {},
   "outputs": [
    {
     "name": "stdout",
     "output_type": "stream",
     "text": [
      "(7176, 5) (7176, 4) (7176,)\n"
     ]
    }
   ],
   "source": [
    "import numpy as np\n",
    "import pandas as pd\n",
    "from sklearn import preprocessing\n",
    "data = np.loadtxt(\"training_ccpp_x_y_train.csv\", delimiter=\",\")\n",
    "x_train=data[:,:4]\n",
    "y_train=data[:,4]\n",
    "print(data.shape,x_train.shape,y_train.shape)"
   ]
  },
  {
   "cell_type": "code",
   "execution_count": 34,
   "metadata": {},
   "outputs": [],
   "source": [
    "def step_gradient(points, learning_rate, m , c):\n",
    "    m_slope = 0\n",
    "    c_slope = 0\n",
    "    M = len(points)\n",
    "    for i in range(M):\n",
    "        x = points[i, 0]\n",
    "        y = points[i, 1]\n",
    "        m_slope += (-2/M)* (y - m * x - c)*x\n",
    "        c_slope += (-2/M)* (y - m * x - c)\n",
    "    new_m = m - learning_rate * m_slope\n",
    "    new_c = c - learning_rate * c_slope\n",
    "    return new_m, new_c"
   ]
  },
  {
   "cell_type": "code",
   "execution_count": 35,
   "metadata": {},
   "outputs": [],
   "source": [
    "# The Gradient Descent Function\n",
    "def gd(points, learning_rate, num_iterations):\n",
    "    m = 0       # Intial random value taken as 0\n",
    "    c = 0       # Intial random value taken as 0\n",
    "    for i in range(num_iterations):\n",
    "        m, c = step_gradient(points, learning_rate, m , c)\n",
    "        print(i, \" Cost: \", cost(points, m, c))\n",
    "    return m, c"
   ]
  },
  {
   "cell_type": "code",
   "execution_count": 36,
   "metadata": {},
   "outputs": [],
   "source": [
    "# This function finds the new cost after each optimisation.\n",
    "def cost(points, m, c):\n",
    "    total_cost = 0\n",
    "    M = len(points)\n",
    "    for i in range(M):\n",
    "        x = points[i, 0]\n",
    "        y = points[i, 1]\n",
    "        total_cost += (1/M)*((y - m*x - c)**2)\n",
    "    return total_cost"
   ]
  },
  {
   "cell_type": "code",
   "execution_count": 38,
   "metadata": {},
   "outputs": [],
   "source": [
    "\n",
    "def predict(final_m, final_c, testing_data):\n",
    "    y_pred = []\n",
    "    for i in range(len(testing_data)):\n",
    "        ans = m*testing_data[i][0] + c\n",
    "        y_pred.append(ans)\n",
    "    return y_pred"
   ]
  },
  {
   "cell_type": "code",
   "execution_count": 41,
   "metadata": {},
   "outputs": [],
   "source": [
    "def run(data):\n",
    "    learning_rate = 0.0001\n",
    "    num_iterations = 100\n",
    "    m, c = gd(data, learning_rate, num_iterations)\n",
    "    print(\"Final m :\", m)\n",
    "    print(\"Final c :\", c)\n",
    "    return m,c\n"
   ]
  },
  {
   "cell_type": "code",
   "execution_count": 4,
   "metadata": {},
   "outputs": [
    {
     "name": "stdout",
     "output_type": "stream",
     "text": [
      "(7176, 5) (7176, 4) (7176,)\n"
     ]
    }
   ],
   "source": [
    "## training_ccpp_x_y_train.csv\n"
   ]
  },
  {
   "cell_type": "code",
   "execution_count": 5,
   "metadata": {},
   "outputs": [
    {
     "data": {
      "text/html": [
       "<div>\n",
       "<style scoped>\n",
       "    .dataframe tbody tr th:only-of-type {\n",
       "        vertical-align: middle;\n",
       "    }\n",
       "\n",
       "    .dataframe tbody tr th {\n",
       "        vertical-align: top;\n",
       "    }\n",
       "\n",
       "    .dataframe thead th {\n",
       "        text-align: right;\n",
       "    }\n",
       "</style>\n",
       "<table border=\"1\" class=\"dataframe\">\n",
       "  <thead>\n",
       "    <tr style=\"text-align: right;\">\n",
       "      <th></th>\n",
       "      <th>x1</th>\n",
       "      <th>x2</th>\n",
       "      <th>x3</th>\n",
       "      <th>x4</th>\n",
       "    </tr>\n",
       "  </thead>\n",
       "  <tbody>\n",
       "    <tr>\n",
       "      <th>0</th>\n",
       "      <td>8.58</td>\n",
       "      <td>38.38</td>\n",
       "      <td>1021.03</td>\n",
       "      <td>84.37</td>\n",
       "    </tr>\n",
       "    <tr>\n",
       "      <th>1</th>\n",
       "      <td>21.79</td>\n",
       "      <td>58.20</td>\n",
       "      <td>1017.21</td>\n",
       "      <td>66.74</td>\n",
       "    </tr>\n",
       "    <tr>\n",
       "      <th>2</th>\n",
       "      <td>16.64</td>\n",
       "      <td>48.92</td>\n",
       "      <td>1011.55</td>\n",
       "      <td>78.76</td>\n",
       "    </tr>\n",
       "    <tr>\n",
       "      <th>3</th>\n",
       "      <td>31.38</td>\n",
       "      <td>71.32</td>\n",
       "      <td>1009.17</td>\n",
       "      <td>60.42</td>\n",
       "    </tr>\n",
       "    <tr>\n",
       "      <th>4</th>\n",
       "      <td>9.20</td>\n",
       "      <td>40.03</td>\n",
       "      <td>1017.05</td>\n",
       "      <td>92.46</td>\n",
       "    </tr>\n",
       "    <tr>\n",
       "      <th>...</th>\n",
       "      <td>...</td>\n",
       "      <td>...</td>\n",
       "      <td>...</td>\n",
       "      <td>...</td>\n",
       "    </tr>\n",
       "    <tr>\n",
       "      <th>7171</th>\n",
       "      <td>9.32</td>\n",
       "      <td>37.73</td>\n",
       "      <td>1022.14</td>\n",
       "      <td>79.49</td>\n",
       "    </tr>\n",
       "    <tr>\n",
       "      <th>7172</th>\n",
       "      <td>11.20</td>\n",
       "      <td>41.38</td>\n",
       "      <td>1021.65</td>\n",
       "      <td>61.89</td>\n",
       "    </tr>\n",
       "    <tr>\n",
       "      <th>7173</th>\n",
       "      <td>29.80</td>\n",
       "      <td>69.34</td>\n",
       "      <td>1009.36</td>\n",
       "      <td>64.74</td>\n",
       "    </tr>\n",
       "    <tr>\n",
       "      <th>7174</th>\n",
       "      <td>16.37</td>\n",
       "      <td>54.30</td>\n",
       "      <td>1017.94</td>\n",
       "      <td>63.63</td>\n",
       "    </tr>\n",
       "    <tr>\n",
       "      <th>7175</th>\n",
       "      <td>30.11</td>\n",
       "      <td>62.04</td>\n",
       "      <td>1010.69</td>\n",
       "      <td>47.96</td>\n",
       "    </tr>\n",
       "  </tbody>\n",
       "</table>\n",
       "<p>7176 rows × 4 columns</p>\n",
       "</div>"
      ],
      "text/plain": [
       "         x1     x2       x3     x4\n",
       "0      8.58  38.38  1021.03  84.37\n",
       "1     21.79  58.20  1017.21  66.74\n",
       "2     16.64  48.92  1011.55  78.76\n",
       "3     31.38  71.32  1009.17  60.42\n",
       "4      9.20  40.03  1017.05  92.46\n",
       "...     ...    ...      ...    ...\n",
       "7171   9.32  37.73  1022.14  79.49\n",
       "7172  11.20  41.38  1021.65  61.89\n",
       "7173  29.80  69.34  1009.36  64.74\n",
       "7174  16.37  54.30  1017.94  63.63\n",
       "7175  30.11  62.04  1010.69  47.96\n",
       "\n",
       "[7176 rows x 4 columns]"
      ]
     },
     "execution_count": 5,
     "metadata": {},
     "output_type": "execute_result"
    }
   ],
   "source": [
    "li = ['x1','x2','x3','x4']\n",
    "df = pd.DataFrame(x_train)\n",
    "df.columns = li\n",
    "df"
   ]
  },
  {
   "cell_type": "code",
   "execution_count": 7,
   "metadata": {},
   "outputs": [
    {
     "data": {
      "text/plain": [
       "(7176, 14)"
      ]
     },
     "execution_count": 7,
     "metadata": {},
     "output_type": "execute_result"
    }
   ],
   "source": [
    "for i in range(4):\n",
    "    for j in range(i, 4):\n",
    "        ele = li[i] + \"_\" + li[j]\n",
    "        df[ele] = df[li[i]]*df[li[j]]\n",
    "df.shape"
   ]
  },
  {
   "cell_type": "code",
   "execution_count": 8,
   "metadata": {},
   "outputs": [],
   "source": [
    "standard_scaler_object = preprocessing.StandardScaler()\n"
   ]
  },
  {
   "cell_type": "code",
   "execution_count": 9,
   "metadata": {},
   "outputs": [
    {
     "data": {
      "text/plain": [
       "StandardScaler(copy=True, with_mean=True, with_std=True)"
      ]
     },
     "execution_count": 9,
     "metadata": {},
     "output_type": "execute_result"
    }
   ],
   "source": [
    "x_train=df.iloc[:,:]\n",
    "standard_scaler_object.fit(x_train)"
   ]
  },
  {
   "cell_type": "code",
   "execution_count": 10,
   "metadata": {},
   "outputs": [],
   "source": [
    "x_train = standard_scaler_object.transform(x_train)"
   ]
  },
  {
   "cell_type": "code",
   "execution_count": 11,
   "metadata": {},
   "outputs": [
    {
     "data": {
      "text/plain": [
       "array([[-1.47827466e+00, -1.24764165e+00,  1.30221067e+00, ...,\n",
       "         1.30316372e+00,  8.00076438e-01,  7.41910359e-01],\n",
       "       [ 2.89012041e-01,  3.06797549e-01,  6.61749044e-01, ...,\n",
       "         6.59540682e-01, -4.28576655e-01, -5.45638492e-01],\n",
       "       [-3.99975582e-01, -4.21012529e-01, -2.87207194e-01, ...,\n",
       "        -2.89664279e-01,  3.64318663e-01,  2.99612441e-01],\n",
       "       ...,\n",
       "       [ 1.36062192e+00,  1.18048335e+00, -6.54382840e-01, ...,\n",
       "        -6.55515056e-01, -5.99701729e-01, -6.72727470e-01],\n",
       "       [-4.36097263e-01,  9.29089763e-04,  7.84140927e-01, ...,\n",
       "         7.82350243e-01, -6.38363211e-01, -7.41593448e-01],\n",
       "       [ 1.40209496e+00,  6.07960340e-01, -4.31394890e-01, ...,\n",
       "        -4.33426258e-01, -1.73531383e+00, -1.58670195e+00]])"
      ]
     },
     "execution_count": 11,
     "metadata": {},
     "output_type": "execute_result"
    }
   ],
   "source": [
    "x_train"
   ]
  },
  {
   "cell_type": "code",
   "execution_count": 27,
   "metadata": {},
   "outputs": [
    {
     "data": {
      "text/plain": [
       "GradientBoostingRegressor(alpha=0.9, ccp_alpha=0.0, criterion='friedman_mse',\n",
       "                          init=None, learning_rate=0.1, loss='ls', max_depth=3,\n",
       "                          max_features=None, max_leaf_nodes=None,\n",
       "                          min_impurity_decrease=0.0, min_impurity_split=None,\n",
       "                          min_samples_leaf=1, min_samples_split=2,\n",
       "                          min_weight_fraction_leaf=0.0, n_estimators=100,\n",
       "                          n_iter_no_change=None, presort='deprecated',\n",
       "                          random_state=None, subsample=1.0, tol=0.0001,\n",
       "                          validation_fraction=0.1, verbose=0, warm_start=False)"
      ]
     },
     "execution_count": 27,
     "metadata": {},
     "output_type": "execute_result"
    }
   ],
   "source": [
    "from sklearn.ensemble import GradientBoostingRegressor\n",
    "model = GradientBoostingRegressor()\n",
    "\n",
    "model.fit(x_train,y_train)"
   ]
  },
  {
   "cell_type": "code",
   "execution_count": 28,
   "metadata": {},
   "outputs": [
    {
     "data": {
      "text/plain": [
       "0.9536580230609866"
      ]
     },
     "execution_count": 28,
     "metadata": {},
     "output_type": "execute_result"
    }
   ],
   "source": [
    "score_test=model.score(x_train,y_train)\n",
    "score_test"
   ]
  },
  {
   "cell_type": "code",
   "execution_count": 29,
   "metadata": {},
   "outputs": [
    {
     "data": {
      "text/plain": [
       "(2392, 4)"
      ]
     },
     "execution_count": 29,
     "metadata": {},
     "output_type": "execute_result"
    }
   ],
   "source": [
    "# test_ccpp_x_test.csv\n",
    "data = np.loadtxt(\"test_ccpp_x_test.csv\", delimiter=\",\")\n",
    "x_test=data[:,:]\n",
    "\n",
    "x_test.shape"
   ]
  },
  {
   "cell_type": "code",
   "execution_count": 30,
   "metadata": {},
   "outputs": [
    {
     "data": {
      "text/html": [
       "<div>\n",
       "<style scoped>\n",
       "    .dataframe tbody tr th:only-of-type {\n",
       "        vertical-align: middle;\n",
       "    }\n",
       "\n",
       "    .dataframe tbody tr th {\n",
       "        vertical-align: top;\n",
       "    }\n",
       "\n",
       "    .dataframe thead th {\n",
       "        text-align: right;\n",
       "    }\n",
       "</style>\n",
       "<table border=\"1\" class=\"dataframe\">\n",
       "  <thead>\n",
       "    <tr style=\"text-align: right;\">\n",
       "      <th></th>\n",
       "      <th>x1</th>\n",
       "      <th>x2</th>\n",
       "      <th>x3</th>\n",
       "      <th>x4</th>\n",
       "    </tr>\n",
       "  </thead>\n",
       "  <tbody>\n",
       "    <tr>\n",
       "      <th>0</th>\n",
       "      <td>11.95</td>\n",
       "      <td>42.03</td>\n",
       "      <td>1017.58</td>\n",
       "      <td>90.89</td>\n",
       "    </tr>\n",
       "    <tr>\n",
       "      <th>1</th>\n",
       "      <td>12.07</td>\n",
       "      <td>38.25</td>\n",
       "      <td>1012.67</td>\n",
       "      <td>81.66</td>\n",
       "    </tr>\n",
       "    <tr>\n",
       "      <th>2</th>\n",
       "      <td>26.91</td>\n",
       "      <td>74.99</td>\n",
       "      <td>1005.64</td>\n",
       "      <td>78.98</td>\n",
       "    </tr>\n",
       "    <tr>\n",
       "      <th>3</th>\n",
       "      <td>20.58</td>\n",
       "      <td>39.53</td>\n",
       "      <td>1005.68</td>\n",
       "      <td>62.09</td>\n",
       "    </tr>\n",
       "    <tr>\n",
       "      <th>4</th>\n",
       "      <td>16.78</td>\n",
       "      <td>37.20</td>\n",
       "      <td>1011.97</td>\n",
       "      <td>68.94</td>\n",
       "    </tr>\n",
       "    <tr>\n",
       "      <th>...</th>\n",
       "      <td>...</td>\n",
       "      <td>...</td>\n",
       "      <td>...</td>\n",
       "      <td>...</td>\n",
       "    </tr>\n",
       "    <tr>\n",
       "      <th>2387</th>\n",
       "      <td>29.49</td>\n",
       "      <td>69.71</td>\n",
       "      <td>1009.34</td>\n",
       "      <td>56.35</td>\n",
       "    </tr>\n",
       "    <tr>\n",
       "      <th>2388</th>\n",
       "      <td>27.69</td>\n",
       "      <td>65.34</td>\n",
       "      <td>1014.31</td>\n",
       "      <td>46.59</td>\n",
       "    </tr>\n",
       "    <tr>\n",
       "      <th>2389</th>\n",
       "      <td>24.32</td>\n",
       "      <td>66.25</td>\n",
       "      <td>1009.09</td>\n",
       "      <td>91.89</td>\n",
       "    </tr>\n",
       "    <tr>\n",
       "      <th>2390</th>\n",
       "      <td>23.49</td>\n",
       "      <td>42.80</td>\n",
       "      <td>1013.96</td>\n",
       "      <td>65.31</td>\n",
       "    </tr>\n",
       "    <tr>\n",
       "      <th>2391</th>\n",
       "      <td>21.76</td>\n",
       "      <td>60.27</td>\n",
       "      <td>1018.96</td>\n",
       "      <td>85.06</td>\n",
       "    </tr>\n",
       "  </tbody>\n",
       "</table>\n",
       "<p>2392 rows × 4 columns</p>\n",
       "</div>"
      ],
      "text/plain": [
       "         x1     x2       x3     x4\n",
       "0     11.95  42.03  1017.58  90.89\n",
       "1     12.07  38.25  1012.67  81.66\n",
       "2     26.91  74.99  1005.64  78.98\n",
       "3     20.58  39.53  1005.68  62.09\n",
       "4     16.78  37.20  1011.97  68.94\n",
       "...     ...    ...      ...    ...\n",
       "2387  29.49  69.71  1009.34  56.35\n",
       "2388  27.69  65.34  1014.31  46.59\n",
       "2389  24.32  66.25  1009.09  91.89\n",
       "2390  23.49  42.80  1013.96  65.31\n",
       "2391  21.76  60.27  1018.96  85.06\n",
       "\n",
       "[2392 rows x 4 columns]"
      ]
     },
     "execution_count": 30,
     "metadata": {},
     "output_type": "execute_result"
    }
   ],
   "source": [
    "li = ['x1','x2','x3','x4']\n",
    "df = pd.DataFrame(x_test)\n",
    "df.columns = li\n",
    "df"
   ]
  },
  {
   "cell_type": "code",
   "execution_count": 31,
   "metadata": {},
   "outputs": [
    {
     "data": {
      "text/plain": [
       "(2392, 14)"
      ]
     },
     "execution_count": 31,
     "metadata": {},
     "output_type": "execute_result"
    }
   ],
   "source": [
    "for i in range(4):\n",
    "    for j in range(i, 4):\n",
    "        ele = li[i] + \"_\" + li[j]\n",
    "        df[ele] = df[li[i]]*df[li[j]]\n",
    "df.shape"
   ]
  },
  {
   "cell_type": "code",
   "execution_count": 42,
   "metadata": {},
   "outputs": [
    {
     "data": {
      "text/plain": [
       "array([471.5113349 , 473.02452462, 434.83112734, ..., 438.03699448,\n",
       "       452.29047246, 445.06491369])"
      ]
     },
     "execution_count": 42,
     "metadata": {},
     "output_type": "execute_result"
    }
   ],
   "source": [
    "x_test=df.iloc[:,:]\n",
    "standard_scaler_object.fit(x_test)\n",
    "x_test=standard_scaler_object.transform(x_test)\n",
    "y_test_pred = model.predict(x_test)\n",
    "y_test_pred"
   ]
  },
  {
   "cell_type": "code",
   "execution_count": 43,
   "metadata": {},
   "outputs": [],
   "source": [
    "np.savetxt('ccpp_gradient_results.csv', y_test_pred,fmt='%.5f', delimiter =', ')"
   ]
  }
 ],
 "metadata": {
  "kernelspec": {
   "display_name": "Python 3",
   "language": "python",
   "name": "python3"
  },
  "language_info": {
   "codemirror_mode": {
    "name": "ipython",
    "version": 3
   },
   "file_extension": ".py",
   "mimetype": "text/x-python",
   "name": "python",
   "nbconvert_exporter": "python",
   "pygments_lexer": "ipython3",
   "version": "3.7.6"
  }
 },
 "nbformat": 4,
 "nbformat_minor": 4
}
